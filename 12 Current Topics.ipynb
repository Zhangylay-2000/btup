{
 "cells": [
  {
   "cell_type": "markdown",
   "metadata": {},
   "source": [
    "# Replacing LIBOR with Risk-Free Rates\n",
    " \n",
    "What is LIBOR ?<br/>\n",
    "https://www.investopedia.com/terms/l/libor.asp\n",
    "\n",
    "General description of the transition. Note that SOFR is the USD RFR.<br/>\n",
    "https://www.morganstanley.com/ideas/libor-its-end-transition-to-sofr \n",
    "\n",
    "https://voxeu.org/article/replacing-libor\n",
    "\n",
    "Schrimpf, Sushko. Beyond LIBOR: a primer on the new benchmark rates<br/>\n",
    "BIS Quarterly Review, March 2019<br/>\n",
    "https://www.bis.org/publ/qtrpdf/r_qt1903e.htm"
   ]
  },
  {
   "cell_type": "markdown",
   "metadata": {},
   "source": [
    "# Climate Change\n",
    "\n",
    "J Romm - Climate Change, What Everyone Needs to Know<br/>\n",
    "Chapter 7. Climate Change and You.<br/>\n",
    "Focus on (i) coastal property value and (ii) quality of life by geographical location.\n",
    "\n",
    "Global Financial Stability Report: Markets in the Time of COVID-19<br/>\n",
    "Chapter 5: Climate Change: Physical Risk and Equity Prices<br/>\n",
    "https://www.imf.org/en/Publications/GFSR/Issues/2020/04/14/global-financial-stability-report-april-2020#Chapter5"
   ]
  }
 ],
 "metadata": {
  "kernelspec": {
   "display_name": "Python 3",
   "language": "python",
   "name": "python3"
  },
  "language_info": {
   "codemirror_mode": {
    "name": "ipython",
    "version": 3
   },
   "file_extension": ".py",
   "mimetype": "text/x-python",
   "name": "python",
   "nbconvert_exporter": "python",
   "pygments_lexer": "ipython3",
   "version": "3.8.5"
  },
  "toc": {
   "base_numbering": 1,
   "nav_menu": {},
   "number_sections": true,
   "sideBar": true,
   "skip_h1_title": false,
   "title_cell": "Table of Contents",
   "title_sidebar": "Contents",
   "toc_cell": false,
   "toc_position": {},
   "toc_section_display": true,
   "toc_window_display": false
  }
 },
 "nbformat": 4,
 "nbformat_minor": 4
}
