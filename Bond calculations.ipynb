{
 "cells": [
  {
   "cell_type": "markdown",
   "id": "76bd6d4d",
   "metadata": {},
   "source": [
    "### Bond value"
   ]
  },
  {
   "cell_type": "markdown",
   "id": "70330609",
   "metadata": {},
   "source": [
    "#### Constant simple rate"
   ]
  },
  {
   "cell_type": "markdown",
   "id": "95059da0",
   "metadata": {},
   "source": [
    "**Question**\n",
    "\n",
    "A 2-year bond has a $4\\%$ coupon rate.\n",
    "\n",
    "The simple rate is constant $3\\%$.\n",
    "\n",
    "What is the current Fair Value of the bond ?"
   ]
  },
  {
   "cell_type": "markdown",
   "id": "a8f9e881",
   "metadata": {},
   "source": [
    "**Answer**\n",
    "\n",
    "Conventions: notional is 100, coupon payment is semi-annual.\n",
    "\n",
    "Sum of the PVs of all future cash flows: \n",
    "\n",
    "$$\\frac{2}{1+0.5*0.03}+\\frac{2}{1+0.03}+\\frac{2}{1+1.5*0.03}+\\frac{102}{1+2*0.03}$$"
   ]
  },
  {
   "cell_type": "code",
   "execution_count": 36,
   "id": "52130ccf",
   "metadata": {},
   "outputs": [
    {
     "name": "stdout",
     "output_type": "stream",
     "text": [
      "102.052\n"
     ]
    }
   ],
   "source": [
    "pv = 2 / (1 + 0.5 * 0.03) + 2 / (1 + 0.03) + 2 / (1 + 1.5 * 0.03) + 102 / (1 + 2 * 0.03)\n",
    "print(f'{pv:.3f}')"
   ]
  },
  {
   "cell_type": "markdown",
   "id": "b9306add",
   "metadata": {},
   "source": [
    "#### Varying simple rate"
   ]
  },
  {
   "cell_type": "markdown",
   "id": "60282b05",
   "metadata": {},
   "source": [
    "**Question**\n",
    "\n",
    "A 2-year bond has a $6\\%$ coupon rate.\n",
    "\n",
    "The simple rate is 6M: $5\\%$, 1Y: $5.5\\%$, 18M: $5.8\\%$, 2Y: $6.1\\%$.\n",
    "\n",
    "What is the current Fair Value of the bond ?"
   ]
  },
  {
   "cell_type": "markdown",
   "id": "220f9370",
   "metadata": {},
   "source": [
    "**Answer**\n",
    "\n",
    "Conventions: notional is 100, coupon payment is semi-annual.\n",
    "\n",
    "Sum of the PVs of all future cash flows: \n",
    "\n",
    "$$\\frac{3}{1+0.5*0.05}+\\frac{3}{1+0.055}+\\frac{3}{1+1.5*0.058}+\\frac{103}{1+2*0.061}$$"
   ]
  },
  {
   "cell_type": "code",
   "execution_count": 56,
   "id": "ce8ec78e",
   "metadata": {},
   "outputs": [
    {
     "name": "stdout",
     "output_type": "stream",
     "text": [
      "Bond price: 100.331\n"
     ]
    }
   ],
   "source": [
    "NOTIONAL = 100\n",
    "PRECISION_DIGITS = 3\n",
    "\n",
    "\n",
    "def two_year_bond_price(yearly_coupon_percent, simple_rate):\n",
    "    \"\"\"\n",
    "    Coupon is semi-annual\n",
    "    \"\"\"\n",
    "    assert isinstance(yearly_coupon_percent, (int, float)), 'yearly_coupon_percent must be an int or float'\n",
    "    assert isinstance(simple_rate, dict), 'simple_rate must be a dict'\n",
    "    coupon = 0.5 * NOTIONAL * yearly_coupon_percent\n",
    "    \n",
    "    value = (coupon /              (1 + 0.5 * simple_rate['6m'] ) +\n",
    "             coupon /              (1 + 1.0 * simple_rate['1y'] ) +\n",
    "             coupon /              (1 + 1.5 * simple_rate['18m']) +\n",
    "             (NOTIONAL + coupon) / (1 + 2.0 * simple_rate['2y'] )\n",
    "            )\n",
    "\n",
    "    return value\n",
    "\n",
    "\n",
    "simple_rate = {'6m': 0.05, '1y': 0.055, '18m': 0.058, '2y': 0.061}\n",
    "price = two_year_bond_price(0.06, simple_rate)\n",
    "print(f'Bond price: {price:.{PRECISION_DIGITS}f}')"
   ]
  },
  {
   "cell_type": "markdown",
   "id": "a41b5736",
   "metadata": {},
   "source": [
    "### Bond yield\n",
    "\n",
    "<span style=\"color:red;background-color:yellow;font-weight:bold;\">TODO</span>"
   ]
  },
  {
   "cell_type": "code",
   "execution_count": 58,
   "id": "e7fd387f",
   "metadata": {},
   "outputs": [
    {
     "data": {
      "text/plain": [
       "100.33048875938705"
      ]
     },
     "execution_count": 58,
     "metadata": {},
     "output_type": "execute_result"
    }
   ],
   "source": [
    "def bond_price(x):\n",
    "    return 3/(1+0.5*x)+3/(1+x)+3/(1+1.5*x)+103/(1+2*x)\n",
    "\n",
    "bond_price(0.06075)"
   ]
  },
  {
   "cell_type": "markdown",
   "id": "cbed467f",
   "metadata": {},
   "source": [
    "The bond's yield is $6.075\\%$\n"
   ]
  },
  {
   "cell_type": "markdown",
   "id": "45e3fc3e",
   "metadata": {},
   "source": [
    "### Par yield\n",
    "<span style=\"color:red;background-color:yellow;font-weight:bold;\">TODO</span>\n",
    "\n",
    "Define par value (face value)\n"
   ]
  },
  {
   "cell_type": "markdown",
   "id": "4dd16622",
   "metadata": {},
   "source": [
    "### Bootstrapping\n",
    "\n",
    "<span style=\"color:red;background-color:yellow;font-weight:bold;\">TODO</span>"
   ]
  },
  {
   "cell_type": "markdown",
   "id": "67f0cc13",
   "metadata": {},
   "source": [
    "**Question**\n",
    "\n",
    "A half-year bond has a $6\\%$ coupon rate.\n",
    "\n",
    "The current market price of the bond is 96.\n",
    "\n",
    "What is the simple rate for $T=0.5$ ?"
   ]
  },
  {
   "cell_type": "markdown",
   "id": "a2a76e39",
   "metadata": {},
   "source": [
    "$$96 = \\rm{FV} = \\frac{103}{1+0.5*L\\left(0.5\\right)} $$ \n",
    "\n",
    "$$ L\\left(0.5\\right) = 2 \\left(\\frac{103}{96}-1\\right)$$"
   ]
  },
  {
   "cell_type": "code",
   "execution_count": 30,
   "id": "e7e3ca02",
   "metadata": {},
   "outputs": [
    {
     "data": {
      "text/plain": [
       "0.14583333333333348"
      ]
     },
     "execution_count": 30,
     "metadata": {},
     "output_type": "execute_result"
    }
   ],
   "source": [
    "2*(103/96-1)"
   ]
  }
 ],
 "metadata": {
  "kernelspec": {
   "display_name": "Python 3 (ipykernel)",
   "language": "python",
   "name": "python3"
  },
  "language_info": {
   "codemirror_mode": {
    "name": "ipython",
    "version": 3
   },
   "file_extension": ".py",
   "mimetype": "text/x-python",
   "name": "python",
   "nbconvert_exporter": "python",
   "pygments_lexer": "ipython3",
   "version": "3.10.4"
  },
  "toc": {
   "base_numbering": 1,
   "nav_menu": {},
   "number_sections": true,
   "sideBar": true,
   "skip_h1_title": false,
   "title_cell": "Table of Contents",
   "title_sidebar": "Contents",
   "toc_cell": false,
   "toc_position": {},
   "toc_section_display": true,
   "toc_window_display": true
  }
 },
 "nbformat": 4,
 "nbformat_minor": 5
}
