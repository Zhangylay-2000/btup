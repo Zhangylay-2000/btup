{
 "cells": [
  {
   "cell_type": "markdown",
   "id": "f594b53c",
   "metadata": {},
   "source": [
    "## Spring 2022"
   ]
  },
  {
   "cell_type": "markdown",
   "id": "eede49b3",
   "metadata": {},
   "source": [
    "### Mar-28\n",
    "\n",
    "* If the annualized rate with monthly compounding is $\\,6\\%\\,$, then what is the annualized percent yield ?\n",
    "\n",
    "* With a constant forward rate $\\,f\\left(\\,t\\,\\right)=f_0\\,$ what is the 1-year discount factor ?\n",
    "\n",
    "* With a constant hazard function $\\,h\\left(\\,t\\,\\right)=h_0\\,$ what is the 1-year probability of survival ?\n",
    "\n",
    "* Knowing $\\,f_0\\,$ and $\\,h_0\\,$, what is the expectation value of the amount you receive at 6M for 1 unit invested now ?\n",
    "\n",
    "* What is the key difference between the MPT and the CAPM ?"
   ]
  },
  {
   "cell_type": "markdown",
   "id": "fecefd28",
   "metadata": {},
   "source": [
    "### Mar-21\n",
    "\n",
    "* If you know the 1M$\\rightarrow$2M forward rate and the 2M$\\rightarrow$3M forward rate, and the simple rate for 3M, then what is the 1M discount factor ?\n",
    "\n",
    "* What is the functional form of the efficient frontier of risky assets on the expected return vs. variance plane ?\n",
    "\n",
    "* What is the difference between the instantaneous spot rate and the short rate ?\n",
    "\n",
    "* Define the instantaneous forward rate using the discount factor.\n",
    "\n",
    "* If the quoted rate (with semi-annual compounding) is $\\,11\\%\\,$, then what is the annualized percent yield ?"
   ]
  },
  {
   "cell_type": "markdown",
   "id": "60c24235",
   "metadata": {},
   "source": [
    "### Mar-07\n",
    "\n",
    "* What is the difference between the conditional and the (unconditional) probability of default ?\n",
    "\n",
    "* What is the $\\,\\Delta t\\to 0\\,$ limiting case of the conditional rate of default ?\n",
    "\n",
    "* Which assumptions is the Efficient Markets Hypothesis (EMH) built on ?\n",
    "\n",
    "* Which two quantities are connected by the Modern Portfolio Theory (MPT) ?\n",
    "\n",
    "* On the plane of these two quantities what is the shape of the Efficient Frontier of risky assets ?"
   ]
  },
  {
   "cell_type": "markdown",
   "id": "75632c66",
   "metadata": {},
   "source": [
    "### Feb-28\n",
    "\n",
    "* Write down the **definition of the forward rate** compactly using both text and mathematical symbols.\n",
    "\n",
    "* What is the difference between `short rate` and `spot rate` ?\n",
    "\n",
    "* If the **constant short rate** is $\\,r\\,$ then what is the equivalent **quarterly compounded 1 year** rate ?"
   ]
  },
  {
   "cell_type": "markdown",
   "id": "0ecc759e",
   "metadata": {},
   "source": [
    "### Feb-20\n",
    "\n",
    "* Please write down the **definition of the discount factor** in 1 or 2 sentences using both text (human words) and mathematical symbols.\n",
    "\n",
    "* What is the difference between `spot` and `instantaneous` ?\n",
    "\n",
    "* If you know the 3M$\\rightarrow$6M and the 6M$\\rightarrow$1Y forward rates, and the simple rate for 1Y, then what is the 3M discount factor ?"
   ]
  }
 ],
 "metadata": {
  "kernelspec": {
   "display_name": "Python 3 (ipykernel)",
   "language": "python",
   "name": "python3"
  },
  "language_info": {
   "codemirror_mode": {
    "name": "ipython",
    "version": 3
   },
   "file_extension": ".py",
   "mimetype": "text/x-python",
   "name": "python",
   "nbconvert_exporter": "python",
   "pygments_lexer": "ipython3",
   "version": "3.9.7"
  },
  "toc": {
   "base_numbering": 1,
   "nav_menu": {},
   "number_sections": true,
   "sideBar": true,
   "skip_h1_title": false,
   "title_cell": "Table of Contents",
   "title_sidebar": "Contents",
   "toc_cell": false,
   "toc_position": {},
   "toc_section_display": true,
   "toc_window_display": true
  }
 },
 "nbformat": 4,
 "nbformat_minor": 5
}
