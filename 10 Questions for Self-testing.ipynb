{
 "cells": [
  {
   "cell_type": "markdown",
   "id": "0ecc759e",
   "metadata": {},
   "source": [
    "## Spring 2022\n",
    "\n",
    "### Feb-20\n",
    "\n",
    "* Write down the **definition of the discount factor** in 1 or 2 sentences using both text (human words) and mathematical symbols.\n",
    "\n",
    "\n",
    "* What is the difference between `spot` and `instantaneous` ?\n",
    "\n",
    "\n",
    "* If you know the 3M$\\rightarrow$6M and the 6M$\\rightarrow$1Y forward rates, and the simple rate for 1Y, then what is the 3M discount factor ?\n"
   ]
  }
 ],
 "metadata": {
  "kernelspec": {
   "display_name": "Python 3 (ipykernel)",
   "language": "python",
   "name": "python3"
  },
  "language_info": {
   "codemirror_mode": {
    "name": "ipython",
    "version": 3
   },
   "file_extension": ".py",
   "mimetype": "text/x-python",
   "name": "python",
   "nbconvert_exporter": "python",
   "pygments_lexer": "ipython3",
   "version": "3.9.7"
  },
  "toc": {
   "base_numbering": 1,
   "nav_menu": {},
   "number_sections": true,
   "sideBar": true,
   "skip_h1_title": false,
   "title_cell": "Table of Contents",
   "title_sidebar": "Contents",
   "toc_cell": false,
   "toc_position": {},
   "toc_section_display": true,
   "toc_window_display": true
  }
 },
 "nbformat": 4,
 "nbformat_minor": 5
}
