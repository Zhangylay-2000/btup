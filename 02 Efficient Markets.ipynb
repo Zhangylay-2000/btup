{
 "cells": [
  {
   "cell_type": "markdown",
   "metadata": {},
   "source": [
    "## Arbitrage"
   ]
  },
  {
   "cell_type": "markdown",
   "metadata": {},
   "source": [
    "### Definition\n",
    "<b>Simple practical case</b><br/>\n",
    "Making profit by buying and selling the same thing.\n",
    "\n",
    "<b>Generalized theoretical definition</b><br/>\n",
    "Making profit by changing your portfolio one full circle along a closed directed path of portfolio change steps."
   ]
  },
  {
   "cell_type": "markdown",
   "metadata": {},
   "source": [
    "#### Question on Arbitrage\n",
    "Without fees and expenses, what is the expected relative amount one can make by exchanging three currencies in a row ?\n",
    "\n",
    "Let's denote the BTC vs USD exchange rate by $\\,\\mathrm{BTC}\\,/\\,\\mathrm{USD}\\,$.\n",
    "\n",
    "With the minute-resolution exchange rate data that you downloaded plot the time series \n",
    "$\\,\\log A\\,(\\,t\\,)=\\displaystyle{\\frac{\\mathrm{ETH}\\,/\\,\\mathrm{BTC} \\cdot \\mathrm{BTC}\\,/\\,\\mathrm{USD}}{\\mathrm{ETH}\\,/\\,\\mathrm{USD}}}\\,$.\n",
    "\n",
    "1. In a perfect world what would you expect this number to be ?\n",
    "\n",
    "2. Let's calculate and plot $\\,\\log A\\,(\\,t\\,)\\,$."
   ]
  },
  {
   "cell_type": "markdown",
   "metadata": {},
   "source": [
    "###### Download cryptocurrency exchange rates\n",
    "1. Please go to https://www.kaggle.com/tencars/392-crypto-currency-pairs-at-minute-resolution.\n",
    "2. Download into the current directory (the same directory as this .ipynb notebook file) the data files for ethbtc, btcusd and ethusd.<br/>Save these zipped files with the following names: ethbtc.csv.zip, btcusd.csv.zip and ethusd.csv.zip. "
   ]
  },
  {
   "cell_type": "markdown",
   "metadata": {},
   "source": [
    "###### Read data and Calculate A ( t )"
   ]
  },
  {
   "cell_type": "code",
   "execution_count": 1,
   "metadata": {},
   "outputs": [],
   "source": [
    "import pandas as pd\n",
    "import numpy as np\n",
    "\n",
    "# --- data: reading and transformations ---\n",
    "# FX (exchange rates): read three dataframes\n",
    "fx = {pair: pd.read_csv(pair + '.csv.zip') for pair in ('ethbtc', 'btcusd', 'ethusd')}\n",
    "\n",
    "# tag each data column name with the name of the currency pair\n",
    "def column_name_mapping(columns, tag):\n",
    "    return {col: col if col == 'time' else tag + '_' + col for col in columns}\n",
    "\n",
    "[df.rename(columns = column_name_mapping(df.columns, pair), inplace=True) for pair, df in fx.items()]\n",
    "\n",
    "# fxm (fx merged): merge dataframes based on the 'time' column\n",
    "fxm = fx['ethbtc'].merge(fx['btcusd'], on='time').merge(fx['ethusd'], on='time')\n",
    "\n",
    "# arbitrage opportunity testing\n",
    "log_A = np.log( fxm['ethbtc_close'] * fxm['btcusd_close'] / fxm['ethusd_close'] )"
   ]
  },
  {
   "cell_type": "markdown",
   "metadata": {},
   "source": [
    "###### Plot A ( t )"
   ]
  },
  {
   "cell_type": "code",
   "execution_count": 2,
   "metadata": {},
   "outputs": [
    {
     "data": {
      "image/png": "[encoded data removed]",
      "text/plain": [
       "<Figure size 504x360 with 1 Axes>"
      ]
     },
     "metadata": {
      "needs_background": "light"
     },
     "output_type": "display_data"
    }
   ],
   "source": [
    "import matplotlib.pyplot as plt\n",
    "\n",
    "fontsize = 14  # font size for the text of the current plot\n",
    "yticks = [-0.2, -0.1 ,0, 0.1]\n",
    "\n",
    "plt.plot(log_A, 'g.', markersize=3)\n",
    "plt.title(\"Log10 return of the BTC > ETH > USD > BTC\\nexchange steps based on minute close rates\", fontsize=fontsize)\n",
    "plt.xlabel('Time', fontsize=fontsize)\n",
    "ax = plt.gca()\n",
    "ax.set_xticks([0, len(fxm['time'])])\n",
    "ax.set_xticklabels(['2016-03-12','2020-06-07'], fontsize=fontsize)\n",
    "ax.set_yticks(yticks)\n",
    "ax.set_yticklabels([str(_).replace('-', '- ') for _ in yticks], fontsize=fontsize)\n",
    "plt.axhline(0, c='r', ls='dotted')  # horizontal zero axis, dotted\n",
    "\n",
    "fig = plt.gcf()\n",
    "fig.set_size_inches([7, 5])\n",
    "plt.show()"
   ]
  },
  {
   "cell_type": "markdown",
   "metadata": {},
   "source": [
    "## Efficient market hypothesis (EMH)\n",
    "<b>Theoretical definition</b><br/>\n",
    "All information is instantaneously available to everyone, and from this information everyone makes the same conclusions.<br/>Therefore, in the long time limit there is no active trading strategy that has positive expected profit above the risk-free rate.\n",
    "\n",
    "<b>Practical definition</b><br/>\n",
    "Arbitrage opportunities are removed quickly, because the market has many well-informed participants who act quite rationally."
   ]
  },
  {
   "cell_type": "markdown",
   "metadata": {},
   "source": [
    "## Modern Portfolio Theory (MPT)\n",
    "\n",
    "The MPT is also called Markowitz Portfolio Theory after the 1952 publication of Harry Markowitz: https://www.jstor.org/stable/2975974.\n",
    "\n",
    "A `portfolio` is a collection of financial assets, for example, 10 shares of stock A and 30 shares of stock B.\n",
    "\n",
    "In this example stock A and stock B are called the `constituents` of the portfolio.\n",
    "\n",
    "For theoretical work the sum of the weights is normalized to 1. In the example, we have 0.25 shares of stock A and 0.75 of B.\n",
    "\n",
    "### Outline\n",
    "\n",
    "The MPT connects the risk of a portfolio with its expected return based on the following assumptions:\n",
    "\n",
    "1. Market participants optimize the weights of portfolio constituents for minimal risk and maximal expected return of the portfolio.\n",
    "2. For all constituents the expected returns, volatilities and correlations \n",
    "  * are known and\n",
    "  * they are constants, in other words, they do not change in time.\n",
    "3. Portfolio risk is quantified as the yearly volatility of the portfolio.\n",
    "\n",
    "### Pricing based on the MPT\n",
    "\n",
    "With the MPT it is also assumed that from the expected return we can calcuate the fair price with discounting."
   ]
  },
  {
   "cell_type": "markdown",
   "metadata": {},
   "source": [
    "### Efficient Frontier"
   ]
  },
  {
   "cell_type": "markdown",
   "metadata": {},
   "source": [
    "#### Definitions\n",
    "\n",
    "###### Finance Definitions\n",
    "\n",
    "* Consider a `portfolio` with $\\,N\\,$ assets.\n",
    "\n",
    "* The `weights` of the assets are $\\,\\mathbf{w}=\\left(\\,w_{\\,1},\\,w_{\\,2},\\,\\dots,\\,w_{\\,N}\\,\\right)\\,$.\n",
    "\n",
    "* The prices of the assets at time $\\,t\\,$ are $\\,\\mathbf{x}\\left(\\,t\\,\\right)=\\big(\\,x_{\\,1}\\left(\\,t\\,\\right),\\,x_{\\,2}\\left(\\,t\\,\\right),\\,\\dots,\\,x_{\\,N}\\left(\\,t\\,\\right)\\,\\big)\\,$.\n",
    "\n",
    "* The yearly expected `returns` of the asset prices are $\\,\\mathbf{e}=\\left(\\,e_{\\,1},\\,e_{\\,2},\\,\\dots,\\,e_{\\,N}\\,\\right)\\,$.\n",
    "\n",
    "* The `volatilities` (yearly standard deviations) of the assets are $\\,\\boldsymbol{\\sigma}=\\left(\\,\\sigma_{\\,1},\\,\\sigma_{\\,2},\\,\\dots,\\,\\sigma_{\\,N}\\,\\right)\\,$.\n",
    "\n",
    "* The Pearson correlation of the $\\,j$th and $\\,k$th assets is $\\,\\rho_{\\,j\\,k}\\,$, \n",
    "and the entire `correlation matrix` is $\\,\\boldsymbol{\\rho}\\,$.\n",
    "\n",
    "\n",
    "###### Vector Algebra Refresher\n",
    "\n",
    "* A `tensor` is a variable with indexes, for example:\n",
    "  * the vector $\\,\\left(\\,w_{\\,1},\\,w_{\\,2},\\,\\dots,\\,w_{\\,N}\\,\\right)\\,$ has one `index`: the index $\\,i\\,$ has the possible values $\\,1,\\,2,\\,\\dots,\\,N\\,$,\n",
    "  * the correlation matrix $\\,\\boldsymbol{\\rho}\\,$ has two indexes, in the above example they are called $\\,j$ and $\\,k$.\n",
    "\n",
    "* A `scalar` is a variable with _no_ indexes, for example, \n",
    "$\\,f\\left(\\,x_{\\,1},\\,x_{\\,2}\\,\\right) = x_{\\,1} + x_{\\,2}\\,$ \n",
    "is a scalar function of the vector $\\,\\left(\\,x_{\\,1},\\,x_{\\,2}\\,\\right)\\,$.\n",
    "\n",
    "\n",
    "* If the $\\,k$th index of tensor $\\,\\mathbf{a}\\,$ has the possible values $\\,1,\\,2,\\,\\dots,\\,N\\,$, then the $\\,k$th `dimension` of that tensor is $\\,N\\,$.\n",
    "\n",
    "* If the last index of tensor $\\,\\mathbf{a}\\,$ and the first index of tensor $\\,\\mathbf{b}\\,$ have the same dimension, then $\\,\\mathbf{a}\\,\\cdot\\,\\mathbf{b}\\,$ is their `dot product`.\n",
    "  * The dot product can be also written without the $\\,\\cdot\\,$ sign, for example, $\\,\\mathbf{a}\\,\\mathbf{b}\\,$.\n",
    "\n",
    "\n",
    "* If $\\,\\mathbf{a}\\,$ is a vector or a matrix, then $\\,\\mathbf{a}^\\mathrm{\\,T}\\,$ is the `transposition` of $\\,\\mathbf{a}\\,$.\n",
    "\n",
    "* If $\\,\\mathbf{a}\\,$ and $\\,\\mathbf{b}\\,$ are two tensors, then $\\,\\mathbf{a}\\,\\mathbf{b}^\\mathrm{\\,T}\\,$ is their `dyadic product`.\n",
    "\n",
    "* If $\\,\\mathbf{a}\\,$ and $\\,\\mathbf{b}\\,$ are two tensors with the same `shape`, then $\\,\\mathbf{a}\\,\\circ\\,\\mathbf{b}\\,$ is their `element-wise multiplication`.\n",
    "\n",
    "* Let $\\,\\mathbf{1}\\,$ denote the $\\,N$-dimensional vector with all $\\,1\\,$ values: $\\,\\mathbf{1}=\\left(\\,1,\\,1,\\,\\dots,\\,1\\,\\right)\\,$ . \n",
    "\n",
    "\n",
    "\n",
    "###### Further Finance Quantities\n",
    "\n",
    "\n",
    "* The covariance of the $\\,j$th and $\\,k$th assets is $\\,c_{\\,j\\,k}=\\rho_{\\,j\\,k}\\,\\sigma_{\\,j}\\,\\sigma_{\\,k}$, and the entire `covariance matrix` is $\\,\\mathbf{c}=\\boldsymbol{\\rho}\\,\\circ\\,\\left(\\,\\boldsymbol{\\sigma}\\,\\boldsymbol{\\sigma}^\\mathrm{\\,T}\\,\\right)\\,$.\n",
    "  * Note that the covariance matrix is symmetric.\n",
    "\n",
    "\n",
    "* The `portfolio's yearly expected return` is $\\,\\mathbf{w}\\,\\mathbf{e}\\,$. \n",
    "\n",
    "* The `portfolio's volatility` is $\\,\\mathbf{w}\\,\\mathbf{c}\\,\\mathbf{w}^\\mathrm{\\,T}$.\n",
    "\n",
    "* By definition, the sum of the asset weights is $\\,\\mathbf{w}\\,\\mathbf{1}=1\\,$.\n",
    "\n",
    "\n",
    "###### Vector Analysis Refresher\n",
    "\n",
    "* If $\\,f\\left(\\,\\mathbf{x}\\,\\right)\\,$ is a scalar function of the vector \n",
    "$\\,\\mathbf{x}=\\left(\\,x_{\\,1},\\,\\dots,\\,x_{\\,N}\\,\\right)$, \n",
    "then $\\,\\displaystyle{\\frac{\\partial\\,f}{\\partial\\,\\mathbf{x}}}\\,$ denotes the vector \n",
    "$\\,\\displaystyle{\\left(\\frac{\\partial\\,f}{\\partial\\,x_{\\,1}},\\,\\dots,\\,\\frac{\\partial\\,f}{\\partial\\,x_{\\,N}}\\right)}\\,$.\n",
    "\n",
    "\n",
    "\n",
    "* <span style='background-color:yellow;color:red;font-weight:bold'>^^^ Lagrange multiplier</span>"
   ]
  },
  {
   "cell_type": "markdown",
   "metadata": {},
   "source": [
    "#### Definition of the Efficient Frontier\n",
    "\n",
    "###### Compact form\n",
    "\n",
    "With fixed portfolio return minimize volatility.\n",
    "\n",
    "###### Detailed form\n",
    "\n",
    "1. Assume that the asset returns and covariances ($\\,\\mathbf{e}\\,$ and $\\,\\mathbf{c}\\,$) are all known and constant.\n",
    "\n",
    "2. Select a constant $\\,E\\,$ yearly expected return of the portfolio.\n",
    "\n",
    "3. Find the non-negative asset weights $\\,\\mathbf{w}\\,$ that minimize $\\,\\mathbf{w}\\,\\mathbf{c}\\,\\mathbf{w}^\\mathrm{\\,T}$ under the conditions $\\,\\mathbf{w}\\,\\mathbf{1}-1=0\\,$ and $\\,\\mathbf{w}\\,\\mathbf{e}-E=0\\,$.\n",
    "\n",
    "4. For all cases when a solution exists, plot $\\,\\mathbf{w}\\,\\mathbf{c}\\,\\mathbf{w}^\\mathrm{\\,T}\\,$ as a function of $\\,\\mathbf{w}\\,\\mathbf{e}\\,$.\n",
    "\n",
    "###### Alternative form\n",
    "\n",
    "With fixed volatility maximize portfolio return."
   ]
  },
  {
   "cell_type": "markdown",
   "metadata": {},
   "source": [
    "#### Derivation of the efficient frontier\n",
    "\n",
    "###### Lagrangian approach \n",
    "Following the detailed form of the Efficient Frontier's definition, select two additional variables,\n",
    "$\\,\\lambda_{\\,\\mathrm{1}}\\,$ and $\\,\\lambda_{\\,\\mathrm{2}}\\,$,\n",
    "<br/>\n",
    "and `minimize the Lagrangian` \n",
    "$\\,\\mathcal{L}\\,\\left(\\,\\mathbf{w},\\,\\lambda_{\\,\\mathrm{1}},\\,\\lambda_{\\,\\mathrm{2}}\\,\\right)\n",
    "= \\mathbf{w}\\,\\mathbf{c}\\,\\mathbf{w}^\\mathrm{\\,T} \n",
    "- \\lambda_{\\,\\mathrm{1}}\\,\\left(\\,\\mathbf{w}\\,\\mathbf{1}-1\\,\\right)\\,\n",
    "- \\lambda_{\\,\\mathrm{2}}\\,\\left(\\,\\mathbf{w}\\,\\mathbf{e}-E\\,\\right)\\,$.\n",
    "\n",
    "Let us denote by $\\,\\boldsymbol{\\nabla}\\,$ the partial derivative with respect to the vector $\\,\\left(\\,\\mathbf{w},\\,\\lambda_{\\,\\mathrm{1}},\\,\\lambda_{\\,\\mathrm{2}}\\,\\right)\\,$.\n",
    "<br/>\n",
    "For a `local minimum` location of $\\,\\mathcal{L}\\,$ a necessary condition is \n",
    "$\\,\\displaystyle{\\mathbf{0}=\\,\\boldsymbol{\\nabla}\\,\\mathcal{L}}\\,$, \n",
    "and a sufficient condition is $\\,\\boldsymbol{\\nabla}^{\\,2}\\,\\mathcal{L}> 0\\,$.\n",
    "<br/>\n",
    "To find the global minimum, one needs to compare all local minima."
   ]
  },
  {
   "cell_type": "markdown",
   "metadata": {},
   "source": [
    "## Capital Asset Pricing Model (CAPM)\n",
    "\n",
    "* definitions\n",
    "* compare to MPT\n",
    "\n",
    "* compare to data"
   ]
  },
  {
   "cell_type": "markdown",
   "metadata": {},
   "source": [
    "## Suggested further items\n",
    "* Efficient Market Hypothesis on Investopedia - https://www.investopedia.com/terms/e/efficientmarkethypothesis.asp\n",
    "* Modern Portfolio Theory on Wikipedia - https://en.wikipedia.org/wiki/Modern_portfolio_theory"
   ]
  }
 ],
 "metadata": {
  "kernelspec": {
   "display_name": "Python 3",
   "language": "python",
   "name": "python3"
  },
  "language_info": {
   "codemirror_mode": {
    "name": "ipython",
    "version": 3
   },
   "file_extension": ".py",
   "mimetype": "text/x-python",
   "name": "python",
   "nbconvert_exporter": "python",
   "pygments_lexer": "ipython3",
   "version": "3.8.3"
  },
  "toc": {
   "base_numbering": 1,
   "nav_menu": {},
   "number_sections": true,
   "sideBar": true,
   "skip_h1_title": false,
   "title_cell": "Table of Contents",
   "title_sidebar": "Contents",
   "toc_cell": false,
   "toc_position": {},
   "toc_section_display": true,
   "toc_window_display": true
  }
 },
 "nbformat": 4,
 "nbformat_minor": 4
}
