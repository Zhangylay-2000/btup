{
 "cells": [
  {
   "cell_type": "markdown",
   "metadata": {},
   "source": [
    "## Arbitrage"
   ]
  },
  {
   "cell_type": "markdown",
   "metadata": {},
   "source": [
    "### Definition\n",
    "<b>Simple practical case</b><br/>\n",
    "Making profit by buying and selling the same thing.\n",
    "\n",
    "<b>Generalized theoretical definition</b><br/>\n",
    "Making profit by changing your portfolio one full circle along a closed directed path of portfolio change steps."
   ]
  },
  {
   "cell_type": "markdown",
   "metadata": {},
   "source": [
    "#### Question on Arbitrage\n",
    "Without fees and expenses, what is the expected relative amount one can make by exchanging three currencies in a row ?\n",
    "\n",
    "Let's denote the BTC vs USD exchange rate by $\\,\\mathrm{BTC}\\,/\\,\\mathrm{USD}\\,$.\n",
    "\n",
    "With the minute-resolution exchange rate data that you downloaded plot the time series \n",
    "$\\,\\log A\\,(\\,t\\,)=\\displaystyle{\\frac{\\mathrm{ETH}\\,/\\,\\mathrm{BTC} \\cdot \\mathrm{BTC}\\,/\\,\\mathrm{USD}}{\\mathrm{ETH}\\,/\\,\\mathrm{USD}}}\\,$.\n",
    "\n",
    "1. In a perfect world what would you expect this number to be ?\n",
    "\n",
    "2. Let's calculate and plot $\\,\\log A\\,(\\,t\\,)\\,$."
   ]
  },
  {
   "cell_type": "markdown",
   "metadata": {},
   "source": [
    "###### Download cryptocurrency exchange rates\n",
    "1. Please go to https://www.kaggle.com/tencars/392-crypto-currency-pairs-at-minute-resolution.\n",
    "2. Download into the current directory (the same directory as this .ipynb notebook file) the data files for ethbtc, btcusd and ethusd.<br/>Save these zipped files with the following names: ethbtc.csv.zip, btcusd.csv.zip and ethusd.csv.zip. "
   ]
  },
  {
   "cell_type": "markdown",
   "metadata": {},
   "source": [
    "###### Read data and Calculate A ( t )"
   ]
  },
  {
   "cell_type": "code",
   "execution_count": 1,
   "metadata": {},
   "outputs": [],
   "source": [
    "import pandas as pd\n",
    "import numpy as np\n",
    "\n",
    "# --- data: reading and transformations ---\n",
    "# FX (exchange rates): read three dataframes\n",
    "fx = {pair: pd.read_csv(pair + '.csv.zip') for pair in ('ethbtc', 'btcusd', 'ethusd')}\n",
    "\n",
    "# tag each data column name with the name of the currency pair\n",
    "def column_name_mapping(columns, tag):\n",
    "    return {col: col if col == 'time' else tag + '_' + col for col in columns}\n",
    "\n",
    "[df.rename(columns = column_name_mapping(df.columns, pair), inplace=True) for pair, df in fx.items()]\n",
    "\n",
    "# fxm (fx merged): merge dataframes based on the 'time' column\n",
    "fxm = fx['ethbtc'].merge(fx['btcusd'], on='time').merge(fx['ethusd'], on='time')\n",
    "\n",
    "# arbitrage opportunity testing\n",
    "log_A = np.log( fxm['ethbtc_close'] * fxm['btcusd_close'] / fxm['ethusd_close'] )"
   ]
  },
  {
   "cell_type": "markdown",
   "metadata": {},
   "source": [
    "###### Plot A ( t )"
   ]
  },
  {
   "cell_type": "code",
   "execution_count": 274,
   "metadata": {},
   "outputs": [
    {
     "data": {
      "image/png": "[encoded data removed]",
      "text/plain": [
       "<Figure size 504x360 with 1 Axes>"
      ]
     },
     "metadata": {
      "needs_background": "light"
     },
     "output_type": "display_data"
    }
   ],
   "source": [
    "import matplotlib.pyplot as plt\n",
    "\n",
    "fontsize = 14\n",
    "yticks = [-0.2, -0.1 ,0, 0.1]\n",
    "\n",
    "plt.plot(log_A, 'g.', markersize=3)\n",
    "plt.title(\"Log10 return of the BTC > ETH > USD > BTC\\nexchange steps based on minute close rates\", fontsize=fontsize)\n",
    "plt.xlabel('Time', fontsize=fontsize)\n",
    "ax = plt.gca()\n",
    "ax.set_xticks([0, len(fxm['time'])])\n",
    "ax.set_xticklabels(['2016-03-12','2020-06-07'], fontsize=fontsize)\n",
    "ax.set_yticks(yticks)\n",
    "ax.set_yticklabels([str(_).replace('-', '- ') for _ in yticks], fontsize=fontsize)\n",
    "plt.axhline(0, c='r', ls='dotted')\n",
    "\n",
    "fig = plt.gcf()\n",
    "fig.set_size_inches([7, 5])\n",
    "plt.show()"
   ]
  },
  {
   "cell_type": "markdown",
   "metadata": {},
   "source": [
    "## Efficient market hypothesis (EMH)\n",
    "<b>Theoretical definition</b><br/>\n",
    "All information is instantaneously available to everyone, and from this information everyone makes the same conclusions.<br/>Therefore, in the long time limit there is no active trading strategy that has positive expected profit above the risk-free rate.\n",
    "\n",
    "<b>Practical definition</b><br/>\n",
    "Arbitrage opportunities are removed quickly, because the market has many well-informed participants who act quite rationally."
   ]
  },
  {
   "cell_type": "markdown",
   "metadata": {},
   "source": [
    "## Modern Portfolio Theory (MPT)\n",
    "\n",
    "The MPT is also called Markowitz Portfolio Theory after [the 1952 paper](https://www.jstor.org/stable/2975974) of Harry Markowitz.<br/>\n",
    "The MPT is also called `mean-variance` analysis.\n",
    "\n",
    "\n",
    "A `portfolio` is a collection of financial assets, for example, 10 shares of stock A and 90 shares of stock B.\n",
    "<br/>\n",
    "In this example stock A and stock B are called the `constituent assets` of the portfolio.\n",
    "\n",
    "For theoretical work the sum of the weights is normalized to 1. In the example, we have 0.1 stock A and 0.9 stock B.\n",
    "\n",
    "### Outline\n",
    "\n",
    "The MPT connects the risk of a portfolio with its expected return based on the following assumptions:\n",
    "\n",
    "1. Market participants optimize the weights of portfolio constituents for minimal risk and maximal expected return of the portfolio.\n",
    "2. For all constituents the expected returns and the covariances\n",
    "  * are known and\n",
    "  * they are constants, in other words, they do not change in time.\n",
    "3. Portfolio risk is quantified as the yearly variance of the portfolio.\n",
    "\n",
    "#### Comments\n",
    "\n",
    "* The MPT is a two-moment decision model. It uses the first two moments: the means and the covariance matrix.\n",
    "\n",
    "* The variance of the $\\,k$th asset is the $\\,k$th number in the main diagonal of the covariance matrix.\n",
    "\n",
    "* The `volatility` is the square root of the `variance`. The volatility is also called `standard deviation`.\n",
    "\n",
    "\n",
    "* If you compare return to volatility instead of variance, then the Capital Allocation Line (CAL) will not be a line.\n",
    "\n",
    "* With the MPT it is also assumed that from the expected return we can calcuate the fair price with discounting."
   ]
  },
  {
   "cell_type": "markdown",
   "metadata": {},
   "source": [
    "### Efficient Frontier"
   ]
  },
  {
   "cell_type": "markdown",
   "metadata": {},
   "source": [
    "#### Tools for the mean-variance analysis"
   ]
  },
  {
   "cell_type": "markdown",
   "metadata": {},
   "source": [
    "###### Linear algebra refresher -- Notations for scalars, vectors and matrices\n",
    "\n",
    "* A `tensor` is a variable with indexes:\n",
    "  * a vector has one `index`, for example, the vector $\\,\\mathbf{w}\\,$ has the index $\\,i\\,$ with the possible values $\\,1,\\,2,\\,\\dots,\\,N\\,$,\n",
    "  * a matrix has two indexes, for example, the correlation matrix $\\,\\boldsymbol{\\rho}\\,$ has the indexes $\\,j\\,$ and $\\,k\\,$, both with possible values $\\,1,\\,2,\\,\\dots,\\,N\\,$.\n",
    "\n",
    "* A `scalar` is a variable with _no_ indexes, for example, \n",
    "$\\,f\\left(\\,x_{\\,1},\\,x_{\\,2}\\,\\right) = x_{\\,1} + x_{\\,2}\\,$ \n",
    "is a scalar function of the vector $\\,\\left(\\,x_{\\,1},\\,x_{\\,2}\\,\\right)\\,$.\n",
    "\n",
    "\n",
    "* If the $\\,k$th index of tensor $\\,\\mathbf{a}\\,$ has the possible values $\\,1,\\,2,\\,\\dots,\\,N\\,$, then the $\\,k$th `dimension` of that tensor is $\\,N\\,$.\n",
    "\n",
    "* If $\\,\\mathbf{a}\\,$ is a vector or a matrix, then $\\,\\mathbf{a}^\\mathrm{\\,T}\\,$ is the `transposition` of $\\,\\mathbf{a}\\,$. \n",
    "  * If $\\,\\mathbf{a}\\,$ is a row vector, then $\\,\\mathbf{a}^\\mathrm{\\,T}\\,$ is a column vector.\n",
    "\n",
    "\n",
    "* If $\\,\\mathbf{a}\\,$ and $\\,\\mathbf{b}\\,$ are both row vectors, then $\\,\\mathbf{a} \\cdot \\mathbf{b}^\\mathrm{\\,T}\\,$ is their `dot product`, which is a number.\n",
    "  * The dot product can be also written without the $\\,\\cdot\\,$ sign, for example, $\\,\\mathbf{a} \\, \\mathbf{b}^\\mathrm{\\,T}\\,$.\n",
    "* If $\\,\\mathbf{a}\\,$ and $\\,\\mathbf{b}\\,$ are both row vectors, then $\\,\\mathbf{a}^\\mathrm{\\,T} \\circ\\, \\mathbf{b}\\,$ is their `dyadic product`, which is a matrix.\n",
    "\n",
    "\n",
    "* Let $\\,\\mathbf{1}\\,$ denote the $\\,N$-dimensional row vector with all $\\,1\\,$ values: $\\,\\mathbf{1}=\\left(\\,1,\\,1,\\,\\dots,\\,1\\,\\right)\\,$ . "
   ]
  },
  {
   "cell_type": "markdown",
   "metadata": {},
   "source": [
    "###### Finance terms\n",
    "\n",
    "* Consider a `portfolio` with $\\,N\\,$ assets.\n",
    "\n",
    "* The `weights` of the assets are $\\,\\mathbf{w}=\\left(\\,w_{\\,1},\\,w_{\\,2},\\,\\dots,\\,w_{\\,N}\\,\\right)\\,$, and\n",
    "the sum of asset weights is $\\,\\mathbf{w}\\,\\mathbf{1}^\\mathrm{\\,T}=1\\,$.\n",
    "\n",
    "* The yearly expected `returns` of the asset prices are $\\,\\mathbf{r}=\\left(\\,r_{\\,1},\\,r_{\\,2},\\,\\dots,\\,r_{\\,N}\\,\\right)\\,$.\n",
    "\n",
    "\n",
    "\n",
    "* The covariance is usually calculated between the daily log returns of the asset prices, not the asset prices.\n",
    "\n",
    "* The covariance of the $\\,j$th and $\\,k$th assets is $\\,c_{\\,j\\,k}=c_{\\,k\\,j}\\,$, and the entire `covariance matrix` is $\\,\\mathbf{c}\\,$.\n",
    "\n",
    "* The variance of the $\\,k$th asset is $\\,c_{\\,k\\,k}\\,$.\n",
    "\n",
    "\n",
    "\n",
    "* The `portfolio's yearly expected return` is $\\,\\mathbf{w}\\,\\mathbf{r}^\\mathrm{\\,T}\\,$. \n",
    "\n",
    "* The `portfolio's yearly variance` is $\\,\\sigma^\\mathrm{\\,2}=\\mathbf{w}\\,\\mathbf{c}\\,\\mathbf{w}^\\mathrm{\\,T}$."
   ]
  },
  {
   "cell_type": "markdown",
   "metadata": {},
   "source": [
    "###### Linear algebra refresher -- About inverting the covariance matrix\n",
    "\n",
    "* The covariance matrix $\\,\\mathbf{c}\\,$ is a square matrix, so in the following $\\,\\mathbf{c}\\,$ will be a square matrix.\n",
    "\n",
    "* The $\\,k$th eigenvalue and eigenvector of an $\\,N \\times N\\,$ matrix are denoted by \n",
    "$\\,\\lambda_k\\,$ and $\\,\\mathbf{e}^{\\,(k)}=\\left(\\,e^{\\,(k)}_{\\,1},\\,\\dots,\\,e^{\\,(k)}_{\\,N}\\,\\right)\\,$.\n",
    "  * Set the length of each eigenvector to 1.\n",
    "\n",
    "\n",
    "* A real-valued, symmetric matrix $\\,\\mathbf{c}\\,$ always does have a full orthonormal basis of eigenvectors.<br/>\n",
    "In other words, the $\\,\\mathbf{e}^{\\,(k)}\\,$ eigenvectors of $\\,\\mathbf{c}\\,$ can always be selected to be orthogonal.<br/>\n",
    "For a detailed explanation please see https://math.stackexchange.com/questions/82467.\n",
    "\n",
    "\n",
    "\n",
    "* The matrix $\\,\\boldsymbol{\\mathcal{P}}^{(k)}=\\left(\\mathbf{e}^{\\,(k)}\\right)^\\mathrm{\\,T} \\circ \\, \\mathbf{e}^{\\,(k)}\\,$ is a `projector` to the direction (subspace) defined by $\\,\\mathbf{e}^{\\,(k)}\\,$:\n",
    "  * If $\\,\\mathbf{a}^\\mathrm{\\,T}\\,$ is a column vector, then  $\\,\\boldsymbol{\\mathcal{P}}^{(k)} \\,\\, \\mathbf{a}^\\mathrm{\\,T}\\,$ is the component of $\\, \\mathbf{a}^\\mathrm{\\,T}\\,$ parallel to $\\,\\mathbf{e}^{\\,(k)}\\,$. \n",
    "  * In other words, $\\,\\boldsymbol{\\mathcal{P}}^{(k)}\\,$ removes all components of $\\, \\mathbf{a}^\\mathrm{\\,T}\\,$ that are not parallel to $\\,\\mathbf{e}^{\\,(k)}\\,$.\n",
    "\n",
    "* The `projector decomposition` of a real-valued symmetric $\\,\\mathbf{c}\\,$ matrix is \n",
    "$\\,\\displaystyle{\\mathbf{c}=\\sum_{k=1}^{N} \\lambda_k \\, \\boldsymbol{\\mathcal{P}}^{(k)}  }\\,$.\n",
    "\n",
    "* If  $\\,\\lambda_k=0\\,$, then the projector decomposition of $\\,\\mathbf{c}\\,$ shows that $\\,\\mathbf{c}\\,$ itself is projector as well,<br/>\n",
    "because the component of $\\,\\mathbf{a}^\\mathrm{\\,T}\\,$ that is parallel to $\\,\\mathbf{e}^{\\,(k)}\\,$\n",
    "is multiplied by $\\,\\lambda_k=0\\,$ in the dot product $\\, \\mathbf{c} \\,\\, \\mathbf{a}^\\mathrm{\\,T}\\,$. <br/>\n",
    "In other words, a matrix with a zero eigenvalue removes a vector's component parallel to the corresponding eigenvector.\n",
    "\n",
    "\n",
    "* In summary, `if the covariance matrix does have a zero eigenvalue, then it cannot be converted`.\n"
   ]
  },
  {
   "cell_type": "markdown",
   "metadata": {},
   "source": [
    "###### Vector analysis refresher\n",
    "\n",
    "* The $\\,\\boldsymbol{\\nabla}\\,$ operator is called `nabla`.\n",
    "\n",
    "* If $\\,f\\left(\\,\\mathbf{x}\\,\\right)\\,$ is a scalar function of the vector \n",
    "$\\,\\mathbf{x}=\\left(\\,x_{\\,1},\\,\\dots,\\,x_{\\,N}\\,\\right)\\,$, \n",
    "then $\\,\\boldsymbol{\\nabla}\\,f\\,$ denotes the vector \n",
    "$\\,\\displaystyle{\\left(\\frac{\\partial\\,f}{\\partial\\,x_{\\,1}},\\,\\dots,\\,\\frac{\\partial\\,f}{\\partial\\,x_{\\,N}}\\right)^\\mathrm{T}}\\,$.\n",
    "    \n",
    "\n",
    "* If $\\,f\\left(\\,\\mathbf{x}\\,\\right)\\,$ and $\\,g\\left(\\,\\mathbf{x}\\,\\right)\\,$ are both scalar functions of the \n",
    "vector $\\,\\mathbf{x}\\,$,<br/>\n",
    "and we are searching for the global minimum of $\\,f\\left(\\,\\mathbf{x}\\,\\right)\\,$ with the constraint $\\,g\\left(\\,\\mathbf{x}\\,\\right)=0\\,$,<br/>\n",
    "then with a new scalar variable $\\,\\lambda\\,$ and the scalar `Lagrange function` \n",
    "$\\,\\mathcal{L}\\,\\left(\\,\\mathbf{x},\\,\\lambda\\,\\right) = \n",
    "f\\left(\\,\\mathbf{x}\\,\\right) - \\lambda\\,g\\left(\\,\\mathbf{x}\\,\\right)\\,$<br/>\n",
    "a necessary condition for a local minimum of $\\,f\\left(\\,\\lambda\\,\\right)\\,$ is\n",
    "$\\,\\mathbf{0}=\\,\\boldsymbol{\\nabla}\\,\\mathcal{L}\\,\\left(\\,\\mathbf{x},\\,\\lambda\\,\\right)\\,$.\n",
    "\n",
    "\n",
    "* Note that $\\,\\mathcal{L}\\,$ is a function of $\\,\\left(\\,\\mathbf{x},\\,\\lambda\\,\\right)\\,$, not only $\\,\\mathbf{x}\\,$,\n",
    "<br/>\n",
    "therefore, $\\,\\boldsymbol{\\nabla}\\,$ differentiates with respect to the entire variable vector $\\,\\left(\\,\\mathbf{x},\\,\\lambda\\,\\right)\\,$ of $\\,\\mathcal{L}\\,$, not only $\\,\\mathbf{x}\\,$."
   ]
  },
  {
   "cell_type": "markdown",
   "metadata": {},
   "source": [
    "#### Definition of the Efficient Frontier\n",
    "\n",
    "###### Compact form\n",
    "\n",
    "With fixed portfolio return minimize portfolio variance.\n",
    "\n",
    "###### Detailed form\n",
    "\n",
    "1. Assume that the asset returns and covariances ($\\,\\mathbf{r}\\,$ and $\\,\\mathbf{c}\\,$) are all known and constant.\n",
    "\n",
    "2. Select a constant $\\,q\\,$ yearly expected return of the portfolio.\n",
    "\n",
    "3. Find the non-negative asset weights $\\,\\mathbf{w}\\,$ that minimize \n",
    "$\\,\\mathbf{w}\\,\\mathbf{c}\\,\\mathbf{w}^\\mathrm{\\,T}$ \n",
    "with the conditions\n",
    "$\\,\\mathbf{w}\\,\\mathbf{1}^\\mathrm{\\,T}-1=0\\,$ \n",
    "and $\\,\\mathbf{w}\\,\\mathbf{r}^\\mathrm{\\,T}-q=0\\,$.\n",
    "\n",
    "4. For all cases when a solution exists, and plot the function connecting $\\,q\\,$ with \n",
    "$\\,\\sigma^{\\,2}=\\mathbf{w}\\,\\mathbf{c}\\,\\mathbf{w}^\\mathrm{\\,T}\\,$.\n",
    "\n",
    "###### Alternative form\n",
    "\n",
    "With fixed portfolio variance maximize portfolio return."
   ]
  },
  {
   "cell_type": "markdown",
   "metadata": {},
   "source": [
    "#### Derivation of the efficient frontier with the Lagrange method\n",
    "\n",
    "###### The fine print\n",
    "* Below is an analysis of the necessary condition for the global minimum.\n",
    "* Generalized sufficient conditions for the local minimum are not analyzed here.\n",
    "* One local minimum will be selected for the $\\,q\\left(\\,\\sigma^{\\,2}\\,\\right)\\,$ function.\n",
    "\n",
    "##### Equations for the necessary condition of the local minimum\n",
    "\n",
    "Following the detailed definition of the Efficient Frontier, use two additional variables,\n",
    "$\\,\\lambda_{\\,\\mathrm{1}}\\,$ and $\\,\\lambda_{\\,\\mathrm{q}}\\,$,\n",
    "<br/>\n",
    "and `minimize the Lagrange function` \n",
    "$\\,\\mathcal{L}\\,\\left(\\,\\mathbf{w},\\,\\lambda_{\\,\\mathrm{1}},\\,\\lambda_{\\,\\mathrm{q}}\\,\\right)\n",
    "= \\mathbf{w}\\,\\mathbf{c}\\,\\mathbf{w}^\\mathrm{\\,T} \n",
    "- \\lambda_{\\,\\mathrm{1}}\\left(\\,\\mathbf{w}\\,\\mathbf{1}^\\mathrm{\\,T}-1\\,\\right)\n",
    "- \\lambda_{\\,\\mathrm{q}}\\left(\\,\\mathbf{w}\\,\\mathbf{r}^\\mathrm{\\,T}-q\\,\\right)\\,$.\n",
    "\n",
    "The necessary $\\,\\mathbf{0}=\\,\\boldsymbol{\\nabla}\\,\\mathcal{L}\\,$ \n",
    "condition for a $\\,\\left(\\,\\mathbf{w},\\,\\lambda_{\\,\\mathrm{1}},\\,\\lambda_{\\,\\mathrm{q}}\\,\\right)\\,$ \n",
    "vector to be a local minimum location can be written in three parts:\n",
    "\n",
    "$(1)$ $\\,\\,\\,$ \n",
    "$\n",
    "\\mathbf{0} = \\displaystyle{\\frac{\\partial\\,\\mathcal{L}}{\\partial\\,\\mathbf{w}}} = \n",
    "\\mathbf{c}\\,\\mathbf{w}^\\mathrm{\\,T} - \n",
    "\\lambda_{\\,\\mathrm{1}}\\,\\mathbf{1}^\\mathrm{\\,T} - \n",
    "\\lambda_{\\,\\mathrm{q}}\\,\\mathbf{r}^\\mathrm{\\,T} \n",
    "$\n",
    "\n",
    "$(2)$ $\\,\\,\\,$ \n",
    "$\n",
    "0 = \\displaystyle{\\frac{\\partial\\,\\mathcal{L}}{\\partial\\,\\lambda_{\\,\\mathrm{1}}}} = \\mathbf{w}\\,\\mathbf{1}^\\mathrm{\\,T}-1\n",
    "\\,\\,\\,\\,\\,\\,\\,\\,\\,\\,\\,\\,\\,\\,\\,\\,\\,\\,\\,\\,\\,\\,\\,\\,\\,\\,\n",
    "$\n",
    "\n",
    "$(3)$ $\\,\\,\\,$ \n",
    "$\n",
    "0 = \\displaystyle{\\frac{\\partial\\,\\mathcal{L}}{\\partial\\,\\lambda_{\\,\\mathrm{q}}}} = \n",
    "\\mathbf{w}\\,\\mathbf{r}^\\mathrm{\\,T}-q\n",
    "\\,\\,\\,\\,\\,\\,\\,\\,\\,\\,\\,\\,\\,\\,\\,\\,\\,\\,\\,\\,\\,\\,\\,\\,\\,\\,\n",
    "$\n",
    "\n",
    "In $\\,(1)\\,$, $\\,(2)\\,$ and $\\,(3)\\,$ there are $\\,N+2\\,$ equations and $\\,N+2\\,$ unknowns:\n",
    "$\\,\\lambda_{\\,\\mathrm{1}}\\,$, $\\,\\lambda_{\\,\\mathrm{q}}\\,$, and the $\\,\\mathbf{w}\\,$ weights."
   ]
  },
  {
   "cell_type": "markdown",
   "metadata": {},
   "source": [
    "##### Solving the equations\n",
    "\n",
    "###### If the Covariance matrix is big or has at least one eigenvalue close to zero\n",
    "\n",
    "If $\\,N > 10\\,$ or the covariance matrix has at least one eigenvalue that is close to zero, \n",
    "then do not try to invert it. In this case\n",
    "1. select from the $\\,\\mathbf{r}\\,$ vector the lowest and the highest of the yearly asset returns,\n",
    "2. between this minimum and maximum select 100 (or 200, as you prefer) linearly spaced $\\,q\\,$ values \n",
    "3. with each $\\,q\\,$ value as a parameter, numerically solve for $\\,\\left(\\,\\mathbf{w},\\,\\lambda_{\\,\\mathrm{1}},\\,\\lambda_{\\,\\mathrm{q}}\\,\\right)\\,$ the equation set $\\,\\left(\\,1,\\,2,\\,3\\,\\right)\\,$,\n",
    "4. for each $\\,q\\,$ use the obtained $\\,\\mathbf{w}\\,$ to calculate the variance $\\,\\sigma^{\\,2}=\\mathbf{w}\\,\\mathbf{c}\\,\\mathbf{w}^\\mathrm{\\,T}\\,$,\n",
    "5. fit to these numerically calculated $\\,\\sigma^{\\,2}\\,$ values the parameters of the $\\,\\sigma^{\\,2}\\left(\\,q\\,\\right)\\,$ curve shown in equation $\\,(18)\\,$,\n",
    "6. with the same parameters plot the $\\,q\\left(\\,\\sigma^{\\,2}\\,\\right)\\,$ efficient frontier shown in equation $\\,(19)\\,$."
   ]
  },
  {
   "cell_type": "markdown",
   "metadata": {},
   "source": [
    "###### Small Invertible Covariance matrix\n",
    "\n",
    "If the covariance matrix is small and its eigenvalues are all far from zero,<br/>\n",
    "then the efficient frontier can be analytically derived in the following way.<br/>\n",
    "For the result, please see equation $\\,(19)\\,$ below.\n",
    "\n",
    "\n",
    "_--- Calculation of Asset Weights ---_\n",
    "\n",
    "To solve for $\\,\\mathbf{w}\\,$, first multiply $\\,(1)\\,$ with the inverse of $\\,\\mathbf{c}\\,$ from the left:\n",
    "\n",
    "$(4)$ $\\,\\,\\,$  $\\mathbf{w}^\\mathrm{\\,T} = \n",
    "\\lambda_{\\,\\mathrm{1}}\\,\\,\\mathbf{c}^\\mathrm{\\,-1}\\,\\mathbf{1}^\\mathrm{\\,T} +\n",
    "\\lambda_{\\,\\mathrm{q}}\\,\\,\\mathbf{c}^\\mathrm{\\,-1}\\,\\mathbf{r}^\\mathrm{\\,T}\\,$ ,\n",
    "\n",
    "and then transpose both sides of $\\,(4)\\,$. \n",
    "Since $\\,c\\,$ is symmetric, $\\,\\mathbf{c}^\\mathrm{\\,-1}\\,$ is also symmetric:\n",
    "\n",
    "$(5)$ $\\,\\,\\,$  $\\mathbf{w} =\n",
    "\\lambda_{\\,\\mathrm{1}}\\,\\,\\mathbf{1}\\,\\,\\mathbf{c}^\\mathrm{\\,-1} +\n",
    "\\lambda_{\\,\\mathrm{q}}\\,\\,\\mathbf{r}\\,\\,\\mathbf{c}^\\mathrm{\\,-1}\\,$  .\n",
    "\n",
    "<br/>\n",
    "\n",
    "Next, multiply $\\,(5)\\,$ with $\\,\\mathbf{1}^\\mathrm{\\,T}\\,$ from the right and apply $\\,(2)\\,$ to obtain\n",
    "\n",
    "$(6)$ $\\,\\,\\,$ $1 = \n",
    "\\lambda_{\\,\\mathrm{1}}\n",
    "\\left(\\,\\mathbf{1}\\,\\,\\mathbf{c}^\\mathrm{\\,-1}\\,\\mathbf{1}^\\mathrm{\\,T}\\,\\right) +\n",
    "\\lambda_{\\,\\mathrm{q}}\n",
    "\\left(\\,\\mathbf{r}\\,\\,\\mathbf{c}^\\mathrm{\\,-1}\\,\\mathbf{1}^\\mathrm{\\,T}\\,\\right)\\,$,\n",
    "\n",
    "and multiply $\\,(5)\\,$ with $\\,\\mathbf{r}^\\mathrm{\\,T}\\,$ from the right and apply $\\,(3)\\,$ to obtain\n",
    "\n",
    "$(7)$ $\\,\\,\\,$ $q = \n",
    "\\lambda_{\\,\\mathrm{1}}\n",
    "\\left(\\,\\mathbf{1}\\,\\,\\mathbf{c}^\\mathrm{\\,-1}\\,\\mathbf{r}^\\mathrm{\\,T}\\,\\right) +\n",
    "\\lambda_{\\,\\mathrm{q}}\n",
    "\\left(\\,\\mathbf{r}\\,\\,\\mathbf{c}^\\mathrm{\\,-1}\\,\\mathbf{r}^\\mathrm{\\,T}\\,\\right)\\,$.\n",
    "\n",
    "Since $\\,\\mathbf{c}^\\mathrm{\\,-1}\\,$ is symmetric, the first coefficient on the r.h.s. of $\\,(7)\\,$ is $\\,\\mathbf{1}\\,\\,\\mathbf{c}^\\mathrm{\\,-1}\\,\\mathbf{r}^\\mathrm{\\,T} =\n",
    "\\mathbf{r}\\,\\,\\mathbf{c}^\\mathrm{\\,-1}\\,\\mathbf{1}^\\mathrm{\\,T}\\,$.\n",
    "\n",
    "<br/>\n",
    "\n",
    "Combining $\\,(6)\\,$ and $\\,(7)\\,$ gives this more compact equation:\n",
    "\n",
    "$(8)$ $\\,\\,\\,$ \n",
    "$\n",
    "\\begin{pmatrix}\n",
    "1 \\\\ \n",
    "q\n",
    "\\end{pmatrix}\n",
    "=\n",
    "\\begin{pmatrix}\n",
    "\\,\n",
    "\\mathbf{1}\\,\\,\\mathbf{c}^\\mathrm{\\,-1}\\,\\mathbf{1}^\\mathrm{\\,T}\n",
    "\\,\\,\\,\\,\\,\\, \n",
    "\\mathbf{r}\\,\\,\\mathbf{c}^\\mathrm{\\,-1}\\,\\mathbf{1}^\\mathrm{\\,T}\n",
    "\\,\n",
    "\\\\\n",
    "\\,\n",
    "\\mathbf{r}\\,\\,\\mathbf{c}^\\mathrm{\\,-1}\\,\\mathbf{1}^\\mathrm{\\,T}\n",
    "\\,\\,\\,\\,\\,\\,\n",
    "\\mathbf{r}\\,\\,\\mathbf{c}^\\mathrm{\\,-1}\\,\\mathbf{r}^\\mathrm{\\,T}\n",
    "\\,\n",
    "\\end{pmatrix}\n",
    "\\begin{pmatrix} \n",
    "\\lambda_{\\,\\mathrm{1}} \\\\\n",
    "\\lambda_{\\,\\mathrm{q}}\n",
    "\\end{pmatrix}\n",
    "$\n",
    "\n",
    "To simplify $\\,(8)\\,$, denote by $\\,\\mathbf{A}\\,$ the matrix on the right hand side, \n",
    "and abbreviate the two vectors as\n",
    "$\\,\\mathbf{h}=\\left(\\,\\lambda_{\\,\\mathrm{1}},\\,\\lambda_{\\,\\mathrm{q}}\\,\\right)\\,$\n",
    "and $\\,\\mathbf{q}=\\left(\\,1,\\,q\\,\\right)\\,$.\n",
    "\n",
    "\n",
    "With these notations, multiply $\\,(8)\\,$ by $\\,\\mathbf{A}^{\\,-1}\\,$ from the left:\n",
    "\n",
    "$(9)$ $\\,\\,\\,$ \n",
    "$\\,\\mathbf{A}^{\\,-1}\\,\\mathbf{q}^\\mathrm{\\,T}=\\mathbf{h}^\\mathrm{\\,T}\\,$.\n",
    "\n",
    "Since $\\,\\mathbf{A}\\,$ is symmetric, $\\,\\mathbf{A}^{\\,-1}\\,$ is also symmetric, and $\\,(9)\\,$ is equivalent to\n",
    "\n",
    "$(10)$ $\\,\\,\\,$ \n",
    "$\\,\\mathbf{h}=\\mathbf{q}\\,\\,\\mathbf{A}^{\\,-1}\\,$.\n",
    "\n",
    "Inserting this $\\,\\mathbf{h}\\,$ vector back into $\\,(5)\\,$ gives the asset weights."
   ]
  },
  {
   "cell_type": "markdown",
   "metadata": {},
   "source": [
    "_--- Calculation of Portfolio Variance ---_\n",
    "\n",
    "Multiply the right hand side of $\\,(5)\\,$ from the right with $\\,\\mathbf{c}\\,$, \n",
    "and then multiply the result from the right with the r.h.s. of $\\,(4)\\,$.<br/>\n",
    "This gives for the variance of the portfolio the following equation:\n",
    "\n",
    "$(11)$ $\\,\\,\\,$ $\\,\\mathbf{w}\\,\\mathbf{c}\\,\\mathbf{w}^\\mathrm{\\,T} \n",
    "=\n",
    "\\big(\\,\\lambda_{\\,\\mathrm{1}}\\,\\,\\mathbf{1} + \\lambda_{\\,\\mathrm{q}}\\,\\,\\mathbf{r}\\,\\big)\n",
    "\\,\n",
    "\\big(\\,\\lambda_{\\,\\mathrm{1}}\\,\\,\\mathbf{c}^\\mathrm{\\,-1}\\,\\mathbf{1}^\\mathrm{\\,T} +\n",
    "\\lambda_{\\,\\mathrm{q}}\\,\\,\\mathbf{c}^\\mathrm{\\,-1}\\,\\mathbf{r}^\\mathrm{\\,T}\\,\\big) \n",
    "\\,$.\n",
    "\n",
    "The right hand side can be simplified, because the same $\\,\\mathbf{A}\\,$ matrix and the same $\\,\\mathbf{h}\\,$ vector appear here that we defined after $\\,(8)\\,$:\n",
    "\n",
    "$(12)$ $\\,\\,\\,$ $\\,\\mathbf{w}\\,\\mathbf{c}\\,\\mathbf{w}^\\mathrm{\\,T} =\n",
    "\\mathbf{h}\\,\\,\\mathbf{A}\\,\\,\\mathbf{h}^\\mathrm{\\,T}\\,$\n",
    "\n",
    "On the right hand side of $\\,(12)\\,$ inserting $\\,\\mathbf{h}^\\mathrm{\\,T}\\,$ from $\\,(9)\\,$\n",
    "and $\\,\\mathbf{h}\\,$ from $\\,(10)\\,$ gives that \n",
    "\n",
    "$(13)$ $\\,\\,\\,$ the `portfolio's variance` is \n",
    "$\\,\\,\\,$ \n",
    "$\\sigma^\\mathrm{\\,2}=\\mathbf{q}\\,\\,\\mathbf{A}^{\\,-1}\\,\\mathbf{q}^\\mathrm{\\,T}\\,$."
   ]
  },
  {
   "cell_type": "markdown",
   "metadata": {},
   "source": [
    "_--- Calculation of the Expected Return of the Portfolio ---_\n",
    "\n",
    "The entries of the matrix $\\,\\mathbf{A}\\,$ are\n",
    "\n",
    "$(14)$ $\\,\\,\\,$ $\n",
    "A_{\\,11} = \\mathbf{1}\\,\\,\\mathbf{c}^\\mathrm{\\,-1}\\,\\mathbf{1}^\\mathrm{\\,T}\n",
    "\\,\\, , \\,\\,\\,\\,\\,\\,\n",
    "A_{\\,12} = A_{\\,21} = \\mathbf{r}\\,\\,\\mathbf{c}^\\mathrm{\\,-1}\\,\\mathbf{1}^\\mathrm{\\,T}\n",
    "\\,\\, , \\,\\,\\,\\,\\,\\,\n",
    "A_{\\,22} = \\mathbf{r}\\,\\,\\mathbf{c}^\\mathrm{\\,-1}\\,\\mathbf{r}^\\mathrm{\\,T}\n",
    "\\,\\, ,\n",
    "$\n",
    "\n",
    "and the inverse of $\\,\\mathbf{A}\\,$ is\n",
    "\n",
    "$(15)$ $\\,\\,\\,$ $\n",
    "\\mathbf{A}^{\\,-1} = \\displaystyle{\\frac{1}{A_{\\,11} A_{\\,22} - \\left(\\,A_{\\,12}\\,\\right)^{\\,2}}}\\,\n",
    "\\begin{pmatrix} \n",
    "A_{\\,22} \\,\\,\\,\\,\\, -\\!A_{\\,12} \\\\\n",
    "-A_{\\,12} \\,\\,\\,\\,\\, A_{\\,11} \\\\\n",
    "\\end{pmatrix}\\,$.\n",
    "\n",
    "<br/>\n",
    "\n",
    "Next, recall that $\\,\\mathbf{q}=\\left(\\,1,\\,q\\,\\right)\\,$, and use the notations of $\\,(14)\\,$ and $\\,(15)\\,$.<br/>\n",
    "With these the portfolio variance in $\\,(13)\\,$ is a second order polynomial of the expected return, $\\,q\\,$:\n",
    "\n",
    "$(16)$ $\\,\\,\\,$ $ \n",
    "\\sigma^\\mathrm{\\,2}\\left(\\,q\\,\\right)=\\displaystyle{\\frac{ q^{\\,2} \\,A_{\\,11} +\n",
    "q \\, \\left(\\,-2\\, A_{\\,12}\\,\\right) + A_{\\,22}\n",
    "}{A_{\\,11} A_{\\,22} - \\left(\\,A_{\\,12}\\,\\right)^{\\,2}}}\\,$.\n",
    "\n",
    "To simplify $\\,(16)\\,$, use the following notations: \n",
    "\n",
    "$(17)$ $\\,\\,\\,$ \n",
    "$\n",
    "\\displaystyle{\\frac{1}{K^{\\,2}}=\\frac{1}{A_{\\,22} - \\left(\\,A_{\\,12}\\,\\right)^{\\,2} \\, \\mathit{/} \\, A_{\\,11}}}\n",
    "\\,\\, , \\,\\,\\,\\,\\,\\,\n",
    "q_{\\,0}=\\displaystyle{\\frac{A_{\\,12}}{A_{\\,11}}}\n",
    "\\,\\, , \\,\\,\\,\\,\\,\\,\n",
    "\\sigma_{\\,0}^\\mathrm{\\,2}=\\displaystyle{\\frac{1}{A_{\\,11}}}\n",
    "\\,$.\n",
    "\n",
    "With the notations in $\\,(17)\\,$ the variance from $\\,(16)\\,$ is simplified to\n",
    "\n",
    "$(18)$ $\\,\\,\\,$ \n",
    "$\\displaystyle{\\sigma^\\mathrm{\\,2}\\left(\\,q\\,\\right)=\\frac{1}{K^{2}}\\,\\left(\\,q-q_{\\,0}\\,\\right)^{\\,2} + \\sigma_{\\,0}^\\mathrm{\\,2}}\\,$.\n",
    "\n",
    "<br/>\n",
    "\n",
    "In other words, the necessary condition for having a minimal variance as a function of the selected yearly return\n",
    "<br/>\n",
    "is that the variance lies on a parabolic curve as a function of the yearly return.\n",
    "\n",
    "In $\\,(18)\\,$ observe that the $\\,q\\left(\\,\\sigma^\\mathrm{\\,2}\\,\\right)\\,$ solutions are $\\,q_{\\,0} \\pm K\\,\\sqrt{\\sigma^\\mathrm{\\,2}-\\sigma_{\\,0}^\\mathrm{\\,2}\\,}\\,$, and the value with the $\\,+\\,$ sign is always higher.\n",
    "\n",
    "With a `fixed portfolio variance`, a `rational investor` selects the higher return, \n",
    "<br/>therefore, we keep only the higher $\\,q\\left(\\,\\sigma^\\mathrm{\\,2}\\,\\right)\\,$ value:\n",
    "\n",
    "<br/>\n",
    "\n",
    "$(19)$ $\\,\\,\\,$ \n",
    "the `portfolio's expected return` is $\\,\\,\\,$ \n",
    "$q\\left(\\,\\sigma^\\mathrm{\\,2}\\,\\right)=q_{\\,0} + K\\,\\sqrt{\\sigma^\\mathrm{\\,2}-\\sigma^\\mathrm{\\,2}_{\\,0}\\,}\\,$ $\\,\\,\\,$ with $\\,\\,\\,$ $\\sigma^\\mathrm{\\,2}\\ge\\sigma^\\mathrm{\\,2}_{\\,0}\\,$."
   ]
  },
  {
   "cell_type": "markdown",
   "metadata": {},
   "source": [
    "#### Single stocks vs their Efficient frontier\n",
    "\n",
    "Calculate the efficient frontier for a portfolio that contains `stocks only`, and exclude all other forms of investment."
   ]
  },
  {
   "cell_type": "markdown",
   "metadata": {},
   "source": [
    "##### Read and format a data set\n",
    "\n",
    "1. From [this kaggle page](https://www.kaggle.com/dgawlik/nyse) download the file [prices-split-adjusted.csv](https://www.kaggle.com/dgawlik/nyse?select=prices-split-adjusted.csv) to your current directory.\n",
    "2. Select a year and read data from the last business day of the previous year until the last business day of the selected year.\n",
    "3. Put the daily closing values of each ticker symbol (A, AAL, AAP, AAPL, ...) into a separate column."
   ]
  },
  {
   "cell_type": "code",
   "execution_count": 506,
   "metadata": {},
   "outputs": [],
   "source": [
    "import pandas as pd\n",
    "\n",
    "SELECTED_YEAR = 2011\n",
    "FILE_NAME = 'prices-split-adjusted.csv'  # data file\n",
    "\n",
    "\n",
    "def read_prices(file_name=None, selected_year=None):\n",
    "    \"\"\"Read prices for the selected year, and convert dataframe for further processing.\"\"\"\n",
    "\n",
    "    p = pd.read_csv(file_name)[['date', 'symbol', 'close']]\n",
    "    p.date = pd.to_datetime(p.date)\n",
    "    p['year'] = [_.year for _ in p.date]    \n",
    "    p_grouped = p.groupby(p.year)\n",
    "    last_day_prev_yr = p_grouped.get_group(selected_year-1).date.max() if selected_year-1 in p_grouped.groups else None\n",
    "    last_day_sel_yr = p_grouped.get_group(selected_year).date.max() if selected_year in p_grouped.groups else None\n",
    "    assert last_day_prev_yr is not None and last_day_sel_yr is not None, 'Please select a different year'\n",
    "        \n",
    "    p = p[(last_day_prev_yr <= p.date) & (p.date <= last_day_sel_yr)]\n",
    "    p = p.pivot(index='date', columns='symbol', values='close')\n",
    "    \n",
    "    return p  # p: prices\n",
    "\n",
    "\n",
    "prices = read_prices(file_name=FILE_NAME, selected_year=SELECTED_YEAR)\n",
    "# prices"
   ]
  },
  {
   "cell_type": "markdown",
   "metadata": {},
   "source": [
    "##### Returns and Covariance matrix\n",
    "\n",
    "1. Calculate the `percent return` of each stock over the entire available time period.\n",
    "\n",
    "\n",
    "2. Make the covariances independent from the returns:\n",
    "\n",
    "  * For each stock `remove the trend` from its values.<br/>\n",
    "Keep the first value and delete from each value the line connecting the first and the last value.\n",
    "\n",
    "  * From the detrended values calculate the `covariance matrix from the daily log returns`."
   ]
  },
  {
   "cell_type": "code",
   "execution_count": 527,
   "metadata": {},
   "outputs": [],
   "source": [
    "import numpy as np\n",
    "\n",
    "SELECTED_STOCKS = ['AAPL', 'MSFT', 'PEP', 'WFC', 'WMT']\n",
    "# SELECTED_STOCKS = prices.columns[10:22]\n",
    "\n",
    "\n",
    "def returns_covariances(prices=None, selected_stocks=None):\n",
    "    p = prices[selected_stocks].copy()\n",
    "    p.dropna(axis='columns', inplace=True)\n",
    "\n",
    "    percent_returns = np.array([100.0 * (p[symbol][-1] / p[symbol][0] - 1.0) for symbol in p.columns])\n",
    "\n",
    "    pt = p.copy()  # pt: prices transformed\n",
    "    for _, column in pt.iteritems():\n",
    "        column -= np.linspace(0.0, column[-1] - column[0], len(column))  # detrended prices\n",
    "        column = np.log(column) - np.log(column).shift()  # daily log returns\n",
    "    pt.dropna(axis='rows', inplace=True)\n",
    "    covariances = pt.cov().to_numpy()\n",
    "    \n",
    "    return {\"percent_returns\": percent_returns, \"covariances\": covariances}\n",
    "\n",
    "\n",
    "r, c = map(returns_covariances(prices=prices, selected_stocks=SELECTED_STOCKS).get, ['percent_returns', 'covariances'])\n",
    "# r, c"
   ]
  },
  {
   "cell_type": "markdown",
   "metadata": {},
   "source": [
    "##### Calculate and plot the Efficient Frontier\n",
    "\n",
    "_Follow the methods explained above_\n",
    "\n",
    "* If the covariance matrix is small and all of its eigenvalues are far from zero,<br/>\n",
    "then invert the covariance matrix and with the inverted matrix calculate the parameters of the efficient frontier.\n",
    "\n",
    "* Otherwise solve the equations $\\,(1),\\,(2),\\,(3)\\,$ numerically \n",
    "for $\\,\\mathbf{x}=\\left(\\,\\mathbf{w},\\,\\lambda_{\\,\\mathrm{1}},\\,\\lambda_{\\,\\mathrm{q}}\\,\\right)\\,$\n",
    "and fit the parameters of equation $\\,(18)\\,$.\n",
    " "
   ]
  },
  {
   "cell_type": "code",
   "execution_count": 528,
   "metadata": {},
   "outputs": [],
   "source": [
    "import numpy as np\n",
    "EIGVAL_THRESHOLD = 1.0e-3  # eigenvalues with absolute value below this threshold are close to zero \n",
    "N_MAX = 10  # invert the covariance matrix only if it is not above this size\n",
    "Q_STEP_NUM = 10  # number of q values when calculating the Efficient Frontier by directly solving the equations\n",
    "\n",
    "\n",
    "def ef_params(returns=None, covariance_matrix=None):\n",
    "    \"\"\"Parameters of the Efficient Frontier from Modern Portfolio Theory. Either directly or through parameter fit.\"\"\"\n",
    "\n",
    "    assert np.allclose(covariance_matrix, covariance_matrix.T), 'The covariance matrix has to be real symmetric'\n",
    "    assert len(returns) == covariance_matrix.shape[0], \\\n",
    "        'The length of the returns vector and the size of the covariance matrix have to be the same'\n",
    "\n",
    "    n = len(returns)\n",
    "    row_vector_of_ones = np.ones(n)\n",
    "    \n",
    "    # To avoid the zero imaginary parts of the numbers, use `eigh` instead of `eig`.\n",
    "    # Note that the first returned value of eigh is the list of eigenvalues.\n",
    "    # if False:\n",
    "    if n <= N_MAX or all([abs(x) >= EIGVAL_THRESHOLD for x in np.linalg.eigh(covariance_matrix)[0]]):\n",
    "        c_inv = np.linalg.inv(covariance_matrix)\n",
    "        A11 = np.matmul(row_vector_of_ones, np.matmul(c_inv, row_vector_of_ones.T))\n",
    "        A12 = np.matmul(returns, np.matmul(c_inv, row_vector_of_ones.T))\n",
    "        A22 = np.matmul(returns, np.matmul(c_inv, returns.T))\n",
    "\n",
    "        return {'K': np.sqrt(A22 - A12 ** 2.0 / A11), 'q_0': A12 / A11, 'sigma_0_sqr': 1.0 / A11}\n",
    "\n",
    "    else:\n",
    "        # the linear equation system to be solved is   M x^T = b^T \n",
    "        # the variable is x = ( w, lambda_1, lambda_q ) , and it is N + 1 + 1 dimensional        \n",
    "        # the M coefficient matrix of the linear equation system\n",
    "\n",
    "        m1 = np.hstack((covariance_matrix, (-1.0) * row_vector_of_ones[:,None], (-1.0) * returns[:,None])) \n",
    "        m2 = np.hstack((np.vstack(((-1.0) * row_vector_of_ones[None,:], (-1.0) * returns[None,:])), np.zeros((2, 2))))\n",
    "        m = np.vstack((m1, m2))\n",
    "        \n",
    "        q_list = np.linspace(min(returns), max(returns), Q_STEP_NUM)\n",
    "        sigma_sqr_list = []\n",
    "        for q in q_list:\n",
    "            b = np.hstack((np.zeros(n), (1.0, q)))  # vector b is the right-hand side of the linear equation system\n",
    "            x = np.linalg.solve(m, b)\n",
    "            w = np.array(x[:-2])\n",
    "            sigma_sqr_list.append( np.matmul(w, np.matmul(covariance_matrix, w.T)) )\n",
    "\n",
    "        p = np.polyfit(q_list, sigma_sqr_list, 2)\n",
    "        K = 1.0 / np.sqrt(p[0])\n",
    "        q_0 = (-0.5) * p[1] / p[0]\n",
    "        sigma_0_sqr = p[2] - q_0 ** 2.0 / K ** 2.0\n",
    "        \n",
    "        return {'K': K, 'q_0': q_0, 'sigma_0_sqr': sigma_0_sqr}\n",
    "\n",
    "\n",
    "# --- calculate the parameters of the Efficient Frontier ---\n",
    "K, q_0, sigma_0_sqr = map(ef_params(returns=r, covariance_matrix=c).get, ['K', 'q_0', 'sigma_0_sqr'])\n",
    "# K, q_0, sigma_0_sqr"
   ]
  },
  {
   "cell_type": "markdown",
   "metadata": {},
   "source": [
    "###### Plot the Selected Stocks and their Efficient Frontier"
   ]
  },
  {
   "cell_type": "code",
   "execution_count": 547,
   "metadata": {},
   "outputs": [],
   "source": [
    "import matplotlib.pyplot as plt\n",
    "import numpy as np\n",
    "import pandas as pd\n",
    "\n",
    "FILE_NAME = 'prices-split-adjusted.csv'  # data file\n",
    "CURVE_STEP_NUM = 1000  # number of steps for plotting the Efficient Frontier numerically\n",
    "FONTSIZE = 14\n",
    "\n",
    "\n",
    "def read_data_plot_stocks_and_their_efficient_frontier(selected_year=None, selected_stocks=None):\n",
    "    prices = read_prices(file_name=FILE_NAME, selected_year=selected_year)\n",
    "    r, c = map(returns_covariances(prices=prices, selected_stocks=selected_stocks).get, \n",
    "               ['percent_returns', 'covariances'])\n",
    "    K, q_0, sigma_0_sqr = map(ef_params(returns=r, covariance_matrix=c).get, ['K', 'q_0', 'sigma_0_sqr'])\n",
    "    \n",
    "    stock_variances = np.diag(c)\n",
    "    EF_variances = np.linspace(sigma_0_sqr, np.amax(stock_variances), CURVE_STEP_NUM)\n",
    "    EF_returns = [q_0 + K * np.sqrt(max(0.0, sigma_sqr - sigma_0_sqr)) for sigma_sqr in EF_variances]\n",
    "\n",
    "    plt.plot(stock_variances, r, c='b', marker='o', linewidth=0)\n",
    "    plt.plot(EF_variances, EF_returns, 'r-', label='MPT Efficient Frontier\\nof the selected stocks')\n",
    "    plt.ylabel('Percent return in ' + str(selected_year), fontsize=FONTSIZE)\n",
    "    plt.xlabel('Variance of detrended daily log returns in ' + str(selected_year), fontsize=FONTSIZE)\n",
    "    plt.legend(bbox_to_anchor=(.04, .96), loc=2, borderaxespad=0., fontsize=FONTSIZE)\n",
    "    plt.axhline(0, c='gray', ls='dotted')\n",
    "    plt.axvline(0, c='gray', ls='dotted')\n",
    "\n",
    "    for x, y, stock_ticker in zip(stock_variances, r, selected_stocks):\n",
    "        plt.annotate(stock_ticker, (x, y), textcoords=\"offset points\", xytext=(0,7), ha='center', fontsize=FONTSIZE)\n",
    "\n",
    "    fig = plt.gcf()\n",
    "    fig.set_size_inches([7, 5])\n",
    "    plt.show()"
   ]
  },
  {
   "cell_type": "code",
   "execution_count": 550,
   "metadata": {},
   "outputs": [
    {
     "data": {
      "image/png": "[encoded data removed]",
      "text/plain": [
       "<Figure size 504x360 with 1 Axes>"
      ]
     },
     "metadata": {
      "needs_background": "light"
     },
     "output_type": "display_data"
    },
    {
     "data": {
      "image/png": "[encoded data removed]",
      "text/plain": [
       "<Figure size 504x360 with 1 Axes>"
      ]
     },
     "metadata": {
      "needs_background": "light"
     },
     "output_type": "display_data"
    },
    {
     "data": {
      "image/png": "[encoded data removed]",
      "text/plain": [
       "<Figure size 504x360 with 1 Axes>"
      ]
     },
     "metadata": {
      "needs_background": "light"
     },
     "output_type": "display_data"
    }
   ],
   "source": [
    "selected_stocks = ['AAPL', 'MSFT', 'PEP', 'WFC', 'WMT']\n",
    "for selected_year in [2011, 2012, 2015]:\n",
    "    read_data_plot_stocks_and_their_efficient_frontier(selected_year=selected_year, selected_stocks=selected_stocks)"
   ]
  },
  {
   "cell_type": "markdown",
   "metadata": {},
   "source": [
    "\n",
    "<span style='background-color:yellow;color:red;font-weight:bold'>^^^ merge three processing steps, display meaningful results with meaningful EF, and with not meaningful</span>\n"
   ]
  },
  {
   "cell_type": "markdown",
   "metadata": {},
   "source": [
    "### Capital Allocation Line (CAL)\n",
    "\n",
    "<span style='background-color:yellow;color:red;font-weight:bold'>^^^ derivation, compare with data, explain result</span>\n",
    "\n",
    "#### Outline\n",
    "In addition to the $\\,N\\,$ risky assets, you can invest in `the risk-free assset` as well.\n",
    "\n",
    "Minimization problem similarly to the previous case.\n",
    "\n"
   ]
  },
  {
   "cell_type": "markdown",
   "metadata": {},
   "source": [
    "## Capital Asset Pricing Model (CAPM)\n",
    "\n",
    "* definitions\n",
    "* compare to MPT\n",
    "\n",
    "* compare to data\n",
    "\n",
    "### Security Market Line"
   ]
  },
  {
   "cell_type": "markdown",
   "metadata": {},
   "source": [
    "## Suggested Reading\n",
    "* Efficient Market Hypothesis on Investopedia - https://www.investopedia.com/terms/e/efficientmarkethypothesis.asp\n",
    "* Modern Portfolio Theory on Wikipedia - https://en.wikipedia.org/wiki/Modern_portfolio_theory\n",
    "* OCW course - https://ocw.mit.edu/courses/mathematics/18-s096-topics-in-mathematics-with-applications-in-finance-fall-2013/"
   ]
  }
 ],
 "metadata": {
  "kernelspec": {
   "display_name": "Python 3",
   "language": "python",
   "name": "python3"
  },
  "language_info": {
   "codemirror_mode": {
    "name": "ipython",
    "version": 3
   },
   "file_extension": ".py",
   "mimetype": "text/x-python",
   "name": "python",
   "nbconvert_exporter": "python",
   "pygments_lexer": "ipython3",
   "version": "3.8.3"
  },
  "toc": {
   "base_numbering": 1,
   "nav_menu": {},
   "number_sections": true,
   "sideBar": true,
   "skip_h1_title": false,
   "title_cell": "Table of Contents",
   "title_sidebar": "Contents",
   "toc_cell": false,
   "toc_position": {},
   "toc_section_display": true,
   "toc_window_display": true
  }
 },
 "nbformat": 4,
 "nbformat_minor": 4
}
