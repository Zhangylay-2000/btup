{
 "cells": [
  {
   "cell_type": "markdown",
   "metadata": {},
   "source": [
    "<span style='color:red;background-color:yellow;font-weight:bold;'>+ could start a notebook called \"Financial Markets\"</span>\n",
    "<br/>\n",
    "<span style='color:red;background-color:yellow;font-weight:bold;'>+ exchange-traded vs OTC, especially for derivatives</span>\n",
    "\n",
    "<span style='color:red;background-color:yellow;font-weight:bold;'>+ how does the order book work</span>\n",
    "\n",
    "<span style='color:red;background-color:yellow;font-weight:bold;'>+ for each asset class: (1) add example event (2) describe construction of the representative index, (3) analysis of index</span>\n",
    "\n",
    "<span style='color:red;background-color:yellow;font-weight:bold;'>+ for each asset class: daily volume, market structure</span>\n",
    "\n",
    "<span style='color:red;background-color:yellow;font-weight:bold;'>+ for derivatives: compare volume at exchanges w OTC</span>\n",
    "\n",
    "<span style='color:red;background-color:yellow;font-weight:bold;'>+ *BORs, RFRs</span>\n",
    "\n",
    "<span style='color:red;background-color:yellow;font-weight:bold;'>+ indexes at https://www.theice.com/market-data/indices</span>"
   ]
  },
  {
   "cell_type": "markdown",
   "metadata": {},
   "source": [
    "## Sizes at a glance\n",
    "\n",
    "To compare the sizes of the various types of wealth and financial asset classes, please see<br/>\n",
    "https://www.visualcapitalist.com/all-of-the-worlds-money-and-markets-in-one-visualization-2020/"
   ]
  },
  {
   "cell_type": "markdown",
   "metadata": {},
   "source": [
    "## Major asset classes of financial products"
   ]
  },
  {
   "cell_type": "markdown",
   "metadata": {},
   "source": [
    "### Equities (Stocks)"
   ]
  },
  {
   "cell_type": "markdown",
   "metadata": {},
   "source": [
    "#### Brief description\n",
    "A stock (equity investment) is a partial ownership of a commercial entity.\n",
    "\n",
    "Net income / expenses arise from: (1) change in value of the stock (2) dividends (payments to shareholders) (3) taxes.\n",
    "<br/>\n",
    "Here \"net\" means the sum of the listed items with their respective signs: plus sign for income, minus sign for expense."
   ]
  },
  {
   "cell_type": "markdown",
   "metadata": {},
   "source": [
    "#### Major venues and Volume\n",
    "\n",
    "Let us have a look together at the volumes of the largest stock exchanges at<br/>\n",
    "https://en.wikipedia.org/wiki/List_of_stock_exchanges#Major_stock_exchanges"
   ]
  },
  {
   "cell_type": "markdown",
   "metadata": {},
   "source": [
    "#### Example event: IBM 2020-10-08\n",
    "\n",
    "[Announcement of IBM's spin-off company](https://newsroom.ibm.com/2020-10-08-IBM-To-Accelerate-Hybrid-Cloud-Growth-Strategy-And-Execute-Spin-Off-Of-Market-Leading-Managed-Infrastructure-Services-Unit) --> IBM stock price jumped (image source: Google) ![IBM stock price jumped from Oct 07 to Oct 08](./img/IBM-stock-2020-Oct-05-to-09.PNG \"IBM stock price jumped from Oct 07 to Oct 08, 2020\")"
   ]
  },
  {
   "cell_type": "markdown",
   "metadata": {},
   "source": [
    "#### Example index: Standard & Poor's 500\n",
    "The SP500 is the weighted sum of the 500 largest market cap US stocks, and it is published every 15 seconds.\n",
    "\n",
    "Please read the `Index objective` section (in the Introduction) of [methodology-sp-us-indices.pdf](./pdf/methodology-sp-us-indices.pdf).\n",
    "\n",
    "For the `float-adjusted` value (also called: free-float methodology) please read the<br/>\n",
    "`Introduction` and the `Float adjustment rules` in [methodology-sp-float-adjustment.pdf](./pdf/methodology-sp-float-adjustment.pdf)\n",
    "\n",
    "Note: The S&P 500 is only one of the several S&P indices.\n",
    "\n",
    "\n",
    "###### Selection criteria\n",
    "Please see again [methodology-sp-us-indices.pdf](./pdf/methodology-sp-us-indices.pdf) :\n",
    "1. Market capitalization threshold based on float-adjusted capitalization.<br/>\n",
    "2. US company stock traded on one or more major US exchanges.\n",
    "3. Investable Weight Factor, Viability, Liquidity, and Exceptions\n",
    "\n",
    "\n",
    "###### Calculation details\n",
    "\n",
    "The S&P 500 index is a ratio.\n",
    "1. The enumerator is the sum (over the selected stocks) of the number of liquid shares * value of single share.\n",
    "2. The denominator ensures that the index is continuous in time (stock additions/deletions, company actions).\n",
    "\n",
    "For details let us have a look together at &nbsp; [methodology-index-math.pdf](./pdf/methodology-index-math.pdf) ."
   ]
  },
  {
   "cell_type": "markdown",
   "metadata": {},
   "source": [
    "#### Task: Weight distribution of SP500 at two time points\n",
    "\n",
    "###### How to download the data\n",
    "\n",
    "1. Go go https://web.archive.org/web/*/https://www.slickcharts.com/sp500 \n",
    "2. Select two snapshots, for example, the [Feb/25 2012 05:06:08 snapshot](https://web.archive.org/web/20120225050608/https://www.slickcharts.com/sp500) and the [Oct/03 2020 18:00:55 snapshot](https://web.archive.org/web/20201003180055/https://www.slickcharts.com/sp500).\n",
    "3. For both snapshots, first copy-paste the html tables of weights into Excel, then edit with Excel to have only the weight in each line,<br/>and finally, save the list of weights to a txt file: `SP500-weights-2012-02-25.txt` and `SP500-weights-2020-10-03.txt`.\n",
    "\n",
    "###### Tasks\n",
    "\n",
    "1. List the first ten stocks in both cases.\n",
    "2. Count how many companies have split stocks in the two cases, for example Alphabet A and C.\n",
    "3. What is common in the two (three) stocks that are the upper outliers in the 2020-10-03 data set ? "
   ]
  },
  {
   "cell_type": "code",
   "execution_count": 1,
   "metadata": {},
   "outputs": [
    {
     "data": {
      "image/png": "[encoded data removed]",
      "text/plain": [
       "<Figure size 432x360 with 1 Axes>"
      ]
     },
     "metadata": {
      "needs_background": "light"
     },
     "output_type": "display_data"
    }
   ],
   "source": [
    "import numpy as np\n",
    "from os.path import join\n",
    "import matplotlib.pyplot as plt\n",
    "\n",
    "DATA_DIR = 'data'\n",
    "FIRST_DATE = '2012-02-25'\n",
    "SECOND_DATE = '2020-10-03'\n",
    "FONTSIZE = 14\n",
    "TICKS_FONTSIZE = 12\n",
    "COLORS = '#00aa00', 'magenta'\n",
    "XTICS, YTICS = [1, 10, 100, 500], [1e-4, 0.001, 0.01, 0.1]\n",
    "\n",
    "\n",
    "def compare_sp500_weights(first_date=None, second_date=None, xtics=None, ytics=None, colors=None):\n",
    "    \"\"\"Compare the distribution of S&P500 weights at two time points.\n",
    "       It is assumed that the data files are available.\n",
    "       Read only first 500 items, even if SP500 contains more than 500 weights.\"\"\"\n",
    "    \n",
    "    for xtick_ytick in ['xtick', 'ytick']:\n",
    "        plt.rc(xtick_ytick, labelsize=TICKS_FONTSIZE)\n",
    "\n",
    "    plt.xscale('log')\n",
    "    plt.yscale('log')\n",
    "    for current_date, color in zip((first_date, second_date), colors):\n",
    "        with open(join(DATA_DIR, 'SP500-weights-' + current_date + '.txt')) as f:\n",
    "            weights = np.array([float(_) for _ in f.read().splitlines()[:500]])\n",
    "            plt.plot(weights, marker='o', linewidth=0, color=color,\n",
    "                     markerfacecolor='none', markeredgecolor=color, label=current_date)\n",
    "            \n",
    "    plt.legend(bbox_to_anchor=(0.02, 0.02), loc=3, borderaxespad=0., fontsize=FONTSIZE)\n",
    "    plt.xticks(xtics, [str(_) + '.' for _ in xtics])\n",
    "    plt.yticks(ytics, [str(_) for _ in ytics])\n",
    "\n",
    "    plt.xlabel('S&P 500 constituents sorted by weight', fontsize=FONTSIZE)\n",
    "    plt.ylabel('Weight of $\\,n^{th}\\,$ largest constituent', fontsize=FONTSIZE)\n",
    "\n",
    "    fig = plt.gcf()\n",
    "    fig.set_size_inches([6, 5])\n",
    "    plt.show()\n",
    "\n",
    "    \n",
    "compare_sp500_weights(first_date=FIRST_DATE, second_date=SECOND_DATE, xtics=XTICS, ytics=YTICS, colors=COLORS)"
   ]
  },
  {
   "cell_type": "markdown",
   "metadata": {},
   "source": [
    "### Fixed income (mainly Bonds)\n",
    "\n",
    "#### Brief description\n",
    "\n",
    "A `bond` is a debt instrument.\n",
    "The bond market is also called the [credit market](https://www.investopedia.com/terms/c/credit_market.asp).\n",
    "\n",
    "<br/>\n",
    "The investor pays an initial sum at the start, receives interest on it usually every 6 months,<br/>\n",
    "and receives also the initial payment (the capital) at maturity.\n",
    "\n",
    "Let us read together a description of bonds at<br/>\n",
    "https://www.investor.gov/introduction-investing/investing-basics/investment-products/bonds-or-fixed-income-products/bonds\n",
    "\n",
    "`Mortgage-Backed Securities` (MBS) are a type of debt security.\n",
    "<br/>\n",
    "A bank providing loans sells the loans' capitals and fixed interests bundled to investors.\n",
    "<br/>\n",
    "Please watch the video at https://www.investopedia.com/terms/m/mbs.asp .\n",
    "<br/>\n",
    "Note: an MBS is only as good as our knowledge of the underlying loans."
   ]
  },
  {
   "cell_type": "markdown",
   "metadata": {},
   "source": [
    "#### Volume and Instrument types\n",
    "\n",
    "US Fixed Income trading volume at https://www.sifma.org/resources/research/fixed-income-chart , see also https://www.sifma.org/about\n",
    "\n",
    "International: https://stats.bis.org/statx/srs/table/c1 , see also https://www.bis.org/about\n",
    "\n",
    "Please read the following to compare bonds to stocks:<br/>\n",
    "https://www.investopedia.com/ask/answers/09/bond-over-the-counter.asp"
   ]
  },
  {
   "cell_type": "markdown",
   "metadata": {},
   "source": [
    "#### Example event: US 10y Const Mat Rate 2020-March\n",
    "\n",
    "The US 10Y Constant Maturity Rate dropped in March 2020: https://fred.stlouisfed.org/series/DGS10"
   ]
  },
  {
   "cell_type": "markdown",
   "metadata": {},
   "source": [
    "#### Example index: VBMFX (Vanguard Total Bond Market Index)\n",
    "\n",
    "Let us read these together:\n",
    "<br/>\n",
    "1, The `Product summary` at https://investor.vanguard.com/mutual-funds/profile/overview/vbmfx\n",
    "<br/>\n",
    "2, The `Plain talk about risk` at https://investor.vanguard.com/mutual-funds/profile/portfolio/vbmfx"
   ]
  },
  {
   "cell_type": "markdown",
   "metadata": {},
   "source": [
    "#### Task: Tranche income and its volatility from uncorrelated payments\n",
    "\n",
    "Please watch the 1-minute video at https://www.investopedia.com/terms/t/tranches.asp.\n",
    "\n",
    "\n",
    "Next month you will have a `very large number` ($\\,N\\,$) of incoming `small payments`.\n",
    "<br/>\n",
    "The $i$. payment will be 1 with probability $\\,p_i\\,$ and 0 with probability $\\,1-p_i\\,$.\n",
    "<br/>\n",
    "The payments are `uncorrelated` and the $\\,p_i\\,$ values are `evenly distributed` in $\\,\\left(\\,0\\,,\\,1\\,\\right)\\,$.\n",
    "\n",
    "What will be the\n",
    "<br/>\n",
    "(A) expected value ($\\,E\\,$) and volatility ($\\,\\sigma\\,$) of your income ?\n",
    "<br/>\n",
    "(B) $\\,E\\,$ and $\\,\\sigma\\,$ of payments that have $\\,p_i\\,$ values between two fixed $\\,p_{\\,1} < p_{\\,2}\\,$ numbers ?\n",
    "<br/>\n",
    "(C) $\\,E\\,$ and $\\,\\sigma\\,$ of the payments with the following ten pairs of $\\,p_{\\,1}\\,$ and $\\,p_{\\,2}\\,$ values ?\n",
    "<br/>\n",
    "&nbsp;&nbsp;&nbsp;&nbsp;&nbsp;&nbsp; $\\,p_{\\,1}=0.9\\,,\\,p_{\\,2}=1\\,\\,\\,$ (top tranche) , \n",
    "<br/>\n",
    "&nbsp;&nbsp;&nbsp;&nbsp;&nbsp;&nbsp; $\\,\\dots\\,$\n",
    "<br/>\n",
    "&nbsp;&nbsp;&nbsp;&nbsp;&nbsp;&nbsp; $\\,p_{\\,1}=0\\,,\\,p_{\\,2}=0.1\\,\\,\\,$ (lowest quality tranche) ."
   ]
  },
  {
   "cell_type": "markdown",
   "metadata": {},
   "source": [
    "###### Answers\n",
    "\n",
    "(A) \n",
    "\n",
    "The expected income of the entire portfolio is $\\,\\displaystyle{E_{\\,\\mathrm{ALL}}=N\\int_0^1\\!\\!\\!dp\\,\\,p  = \\frac{N}{2}} \\,$.\n",
    "<br/>\n",
    "The standard deviation of the entire income is \n",
    "<br/>\n",
    "$\\,\\displaystyle{\\sigma_{\\,\\mathrm{ALL}}=\n",
    "\\sqrt{N\\!\\int_0^1\\!\\!\\!dp\\,\\,\\,p\\,\\left(\\,1-1\\,\\mathit{/}\\,2\\,\\right)^{\\,2}+\\left(\\,1-p\\,\\right)\\,\\left(\\,0-1\\,\\mathit{/}\\,2\\,\\right)^{\\,2}\\,} = \\frac{\\sqrt{N\\,}}{2}\n",
    "} \\,$.\n",
    "\n",
    "<br/>\n",
    "\n",
    "(B)\n",
    "\n",
    "The number of such payments is $\\,n=N\\,\\left(\\,p_{\\,2}-p_{\\,1}\\,\\right)\\,$.\n",
    "<br/>\n",
    "The expected income is \n",
    "$\\,\\displaystyle{E=n\\int_{p_{\\,1}}^{p_{\\,2}}\\!\\!dp\\,\\,p  = \n",
    "\\frac{n\\,\\left(\\,p_{\\,1}+p_{\\,2}\\,\\right)}{2} =\n",
    "E_{\\,\\mathrm{ALL}} \\,\\cdot\\, \\left(\\,p_{\\,2}^{\\,2}-p_{\\,1}^{\\,2}\\,\\right)\\,\n",
    "} \\,$.\n",
    "<br/>\n",
    "The standard deviation of the income from the $\\,\\left(\\,p_{\\,1},\\,p_{\\,2}\\,\\right)\\,$ tranche is\n",
    "<br/>\n",
    "$\\,\\displaystyle{\\sigma=\n",
    "\\sqrt{n\\int_{p_{\\,1}}^{p_{\\,2}}\\!\\!\\!dp\\,\\,\\,p\\,\\left(\\,1-\\frac{p_{\\,1}+p_{\\,2}}{2}\\,\\right)^2 +\n",
    "\\left(\\,1-p\\,\\right)\\,\\left(\\,0-\\frac{p_{\\,1}+p_{\\,2}}{2}\\,\\right)^2\\,} \n",
    "= \n",
    "\\sigma_{\\,\\mathrm{ALL}}\\,\\cdot\\,\\sqrt{\\left(\\,p_{\\,2}^{\\,2}-p_{\\,1}^{\\,2}\\,\\right)\\,\\left(\\,1-\\frac{p_{\\,1}+p_{\\,2}}{2}\\,\\right)\\,} \n",
    "}\\,$\n",
    "\n",
    "<br/>\n",
    "\n",
    "(C)\n",
    "\n",
    "For the 10 tranches mentioned above the expected income and the volatility of the income are the following.\n",
    "\n",
    "**Conclusions**\n",
    "\n",
    "According to the above simple model\n",
    "\n",
    "* volatility is highest in the tranches that have a payment probability around $1\\,\\mathit{/}\\,2\\,$.\n",
    "\n",
    "* overestimating the quality of a good tranche not only overestimates the income, but also underestimates risk."
   ]
  },
  {
   "cell_type": "code",
   "execution_count": 2,
   "metadata": {},
   "outputs": [
    {
     "data": {
      "text/html": [
       "<div>\n",
       "<style scoped>\n",
       "    .dataframe tbody tr th:only-of-type {\n",
       "        vertical-align: middle;\n",
       "    }\n",
       "\n",
       "    .dataframe tbody tr th {\n",
       "        vertical-align: top;\n",
       "    }\n",
       "\n",
       "    .dataframe thead th {\n",
       "        text-align: right;\n",
       "    }\n",
       "</style>\n",
       "<table border=\"1\" class=\"dataframe\">\n",
       "  <thead>\n",
       "    <tr style=\"text-align: right;\">\n",
       "      <th></th>\n",
       "      <th>$p_1$</th>\n",
       "      <th>$p_2$</th>\n",
       "      <th>E / $E_{\\,0}$</th>\n",
       "      <th>$\\sigma$ / $\\sigma_{\\,0}$</th>\n",
       "    </tr>\n",
       "    <tr>\n",
       "      <th>Tranche</th>\n",
       "      <th></th>\n",
       "      <th></th>\n",
       "      <th></th>\n",
       "      <th></th>\n",
       "    </tr>\n",
       "  </thead>\n",
       "  <tbody>\n",
       "    <tr>\n",
       "      <th>1</th>\n",
       "      <td>0.0</td>\n",
       "      <td>0.1</td>\n",
       "      <td>0.01</td>\n",
       "      <td>0.097</td>\n",
       "    </tr>\n",
       "    <tr>\n",
       "      <th>2</th>\n",
       "      <td>0.1</td>\n",
       "      <td>0.2</td>\n",
       "      <td>0.03</td>\n",
       "      <td>0.160</td>\n",
       "    </tr>\n",
       "    <tr>\n",
       "      <th>3</th>\n",
       "      <td>0.2</td>\n",
       "      <td>0.3</td>\n",
       "      <td>0.05</td>\n",
       "      <td>0.194</td>\n",
       "    </tr>\n",
       "    <tr>\n",
       "      <th>4</th>\n",
       "      <td>0.3</td>\n",
       "      <td>0.4</td>\n",
       "      <td>0.07</td>\n",
       "      <td>0.213</td>\n",
       "    </tr>\n",
       "    <tr>\n",
       "      <th>5</th>\n",
       "      <td>0.4</td>\n",
       "      <td>0.5</td>\n",
       "      <td>0.09</td>\n",
       "      <td>0.222</td>\n",
       "    </tr>\n",
       "    <tr>\n",
       "      <th>6</th>\n",
       "      <td>0.5</td>\n",
       "      <td>0.6</td>\n",
       "      <td>0.11</td>\n",
       "      <td>0.222</td>\n",
       "    </tr>\n",
       "    <tr>\n",
       "      <th>7</th>\n",
       "      <td>0.6</td>\n",
       "      <td>0.7</td>\n",
       "      <td>0.13</td>\n",
       "      <td>0.213</td>\n",
       "    </tr>\n",
       "    <tr>\n",
       "      <th>8</th>\n",
       "      <td>0.7</td>\n",
       "      <td>0.8</td>\n",
       "      <td>0.15</td>\n",
       "      <td>0.194</td>\n",
       "    </tr>\n",
       "    <tr>\n",
       "      <th>9</th>\n",
       "      <td>0.8</td>\n",
       "      <td>0.9</td>\n",
       "      <td>0.17</td>\n",
       "      <td>0.160</td>\n",
       "    </tr>\n",
       "    <tr>\n",
       "      <th>10</th>\n",
       "      <td>0.9</td>\n",
       "      <td>1.0</td>\n",
       "      <td>0.19</td>\n",
       "      <td>0.097</td>\n",
       "    </tr>\n",
       "  </tbody>\n",
       "</table>\n",
       "</div>"
      ],
      "text/plain": [
       "         $p_1$  $p_2$  E / $E_{\\,0}$  $\\sigma$ / $\\sigma_{\\,0}$\n",
       "Tranche                                                        \n",
       "1          0.0    0.1           0.01                      0.097\n",
       "2          0.1    0.2           0.03                      0.160\n",
       "3          0.2    0.3           0.05                      0.194\n",
       "4          0.3    0.4           0.07                      0.213\n",
       "5          0.4    0.5           0.09                      0.222\n",
       "6          0.5    0.6           0.11                      0.222\n",
       "7          0.6    0.7           0.13                      0.213\n",
       "8          0.7    0.8           0.15                      0.194\n",
       "9          0.8    0.9           0.17                      0.160\n",
       "10         0.9    1.0           0.19                      0.097"
      ]
     },
     "metadata": {},
     "output_type": "display_data"
    }
   ],
   "source": [
    "import pandas as pd\n",
    "import matplotlib.pyplot as plt\n",
    "import numpy as np\n",
    "\n",
    "ROUND_TO_DIGITS = 3\n",
    "\n",
    "\n",
    "def simple_tranches_E_and_sigma():\n",
    "    \"\"\"Expected next income and volatility of the income from a list of simplified tranches.\"\"\"\n",
    "    E_per_E_0 = []\n",
    "    sigma_per_sigma_0 = []\n",
    "    for p1 in np.arange(0, 1, 0.1):\n",
    "        p2 = p1 + 0.1\n",
    "        E_per_E_0.append(np.square(p2) - np.square(p1))\n",
    "        sigma_per_sigma_0.append(np.sqrt((np.square(p2) - np.square(p1)) * (1.0 - 0.5 * (p1 + p2))))\n",
    "\n",
    "    tranches = pd.DataFrame()\n",
    "    tranches['$p_1$'] = pd.Series(data=np.arange(0, 1, 0.1))\n",
    "    tranches['$p_2$'] = pd.Series(data=np.arange(0, 1, 0.1) + 0.1)\n",
    "    tranches['E / $E_{\\,0}$'] = pd.Series(data=np.round(E_per_E_0, ROUND_TO_DIGITS))\n",
    "    tranches['$\\sigma$ / $\\sigma_{\\,0}$'] = pd.Series(data=np.round(sigma_per_sigma_0, ROUND_TO_DIGITS))\n",
    "    tranches.index += 1  # start tranche indexes from 1\n",
    "    tranches.index.name = 'Tranche'\n",
    "\n",
    "    return tranches\n",
    "\n",
    "\n",
    "display(simple_tranches_E_and_sigma())"
   ]
  },
  {
   "cell_type": "markdown",
   "metadata": {},
   "source": [
    "### FX (Foreign Exchange)\n",
    "- The FX market is liquid and has the largest volume of all asset classes\n",
    "- It has no major venue, it is done mostly through intermediaries\n",
    "- FX trading happens 24 / 7"
   ]
  },
  {
   "cell_type": "markdown",
   "metadata": {},
   "source": [
    "#### Brief description\n",
    "Let us watch together and discuss the short video at https://www.investopedia.com/terms/f/forex.asp"
   ]
  },
  {
   "cell_type": "markdown",
   "metadata": {},
   "source": [
    "#### Volumes"
   ]
  },
  {
   "cell_type": "markdown",
   "metadata": {},
   "source": [
    "1. Please register at quandl.\n",
    "2. Have a look at https://www.quandl.com/databases/CLSRV/documentation.<br/>\n",
    "Note (a) the definition of a business day, (b) HUF is included (by EURHUF and USDHUF).\n",
    "3. From https://www.quandl.com/databases/CLSRV/documentation?anchor=sample-data<br/>\n",
    "please download the sample data to the file `IDHD.json` to the `data` subdirectory of the current directory.\n",
    "4. Plot the daily volume for a few selected currency pairs."
   ]
  },
  {
   "cell_type": "code",
   "execution_count": 3,
   "metadata": {},
   "outputs": [
    {
     "data": {
      "image/png": "[encoded data removed]",
      "text/plain": [
       "<Figure size 648x360 with 1 Axes>"
      ]
     },
     "metadata": {
      "needs_background": "light"
     },
     "output_type": "display_data"
    }
   ],
   "source": [
    "import matplotlib.pyplot as plt\n",
    "from os.path import join\n",
    "from json import load\n",
    "import pandas as pd\n",
    "\n",
    "DATA_FILE = join('data', 'IDHD.json')\n",
    "CURRENCY_PAIRS = ['USDJPY', 'EURUSD', 'EURHUF']\n",
    "FONTSIZE = 14\n",
    "TICKS_FONTSIZE = 12\n",
    "COLORS = 'magenta', 'blue', '#00aa00'\n",
    "MARKERS = '^', '.', 'o'\n",
    "\n",
    "\n",
    "def extract_currency_pair_fx_volumes():\n",
    "    \"\"\"\n",
    "    Extract fx volumes by currency pairs from the input file \n",
    "    \"\"\"\n",
    "    df = pd.DataFrame()\n",
    "    with open(DATA_FILE, 'r') as f:\n",
    "\n",
    "        # read data\n",
    "        js = load(f)\n",
    "        column_names = [column_description['name'] for column_description in js['datatable']['columns']]\n",
    "        values = {column_name: [] for column_name in column_names}\n",
    "        for row in js['datatable']['data']:\n",
    "            for column_name, value in zip(column_names, row):\n",
    "                values[column_name].append(value)\n",
    "        for column_name in column_names:\n",
    "            df[column_name] = pd.Series(values[column_name])\n",
    "\n",
    "        # transform\n",
    "        df['datetime'] = pd.Series([pd.to_datetime(day) +  pd.DateOffset(hours=hour)\n",
    "                                    for (day, hour) in zip(df['london_date'], df['hour'])])\n",
    "        df = df[['datetime', 'currency', 'volume']]\n",
    "        df = df.pivot(index='datetime', columns='currency', values=['volume'])\n",
    "        df.columns = df.columns.get_level_values(level=1)\n",
    "        \n",
    "    return df\n",
    "\n",
    "\n",
    "def plot_fx_hourly_volumes(df=None, currency_pairs=None, colors=None, markers=None):\n",
    "    \"\"\"\n",
    "    Plot hourly USD volumes of FX currency pairs\n",
    "    \"\"\"\n",
    "    plt.title('Hourly FX volumes by currency pair. Data source: CLS (via Quandl).', fontsize=FONTSIZE)\n",
    "    plt.xlabel('Time [day and hour]', fontsize=FONTSIZE)\n",
    "    plt.ylabel('Hourly FX volume [USD]', fontsize=FONTSIZE)\n",
    "    \n",
    "    for currency_pair, color, marker in zip(currency_pairs, colors, markers):\n",
    "        plt.plot(df[currency_pair], marker=marker, linewidth=0, color=color,\n",
    "                 markerfacecolor='none', markeredgecolor=color, label=currency_pair)\n",
    "            \n",
    "    plt.legend(bbox_to_anchor=(1.02, 1.0), loc=2, borderaxespad=0., fontsize=FONTSIZE)\n",
    "    xtics = df.index[0], df.index[-1]\n",
    "    plt.xticks(xtics, [str(_) for _ in xtics])\n",
    "    plt.yscale('log')\n",
    "\n",
    "    for xtick_ytick in ['xtick', 'ytick']:\n",
    "        plt.rc(xtick_ytick, labelsize=TICKS_FONTSIZE)\n",
    "    \n",
    "    fig = plt.gcf()\n",
    "    fig.set_size_inches([9, 5])\n",
    "    plt.show()\n",
    "    \n",
    "\n",
    "df = extract_currency_pair_fx_volumes()\n",
    "plot_fx_hourly_volumes(df=df, currency_pairs=CURRENCY_PAIRS, colors=COLORS, markers=MARKERS)"
   ]
  },
  {
   "cell_type": "markdown",
   "metadata": {},
   "source": [
    "#### Cryptocurrency FX volumes at Bitfinex\n",
    "\n",
    "For comparison, please have a look at the daily aggregated volumes displayed on the opening page of [bitfinex.com](http://bitfinex.com)."
   ]
  },
  {
   "cell_type": "markdown",
   "metadata": {},
   "source": [
    "#### Example event: Swiss Franc 2015-01-15\n",
    "\n",
    "* To feel the surprise, please watch patiently [this 1min 45sec video](https://www.youtube.com/watch?v=vbzw_zgQTbc)\n",
    "\n",
    "\n",
    "* Read this [Reuters news item](https://www.reuters.com/article/us-markets-franc/swiss-franc-jumps-30-percent-after-swiss-national-bank-dumps-euro-ceiling-idUSKBN0KO16Y20150115)\n",
    "\n",
    "\n",
    "* Read an [broad analysis at Investopedia](https://www.investopedia.com/articles/forex/033115/why-swiss-franc-so-strong.asp)"
   ]
  },
  {
   "cell_type": "markdown",
   "metadata": {},
   "source": [
    "#### Example index: US Dollar Index\n",
    "\n",
    "The USD Index is a weighted average of the exchange rates of the USD to selected other currencies.<br/>\n",
    "Let's see together [the detailed description at ICE](https://www.theice.com/publicdocs/futures_us/ICE_Dollar_Index_FAQ.pdf). \n",
    "Note: ICE is the abbreviation of [Intercontinental Exchange](https://en.wikipedia.org/wiki/Intercontinental_Exchange)."
   ]
  },
  {
   "cell_type": "markdown",
   "metadata": {},
   "source": [
    "#### Task: Volatility of BTHUSD and ETHUSD\n",
    "\n",
    "Please download from https://www.kaggle.com/tencars/392-crypto-currency-pairs-at-minute-resolution<br/>\n",
    "the data files `btcusd.csv.zip` and `ethusd.csv.zip` to the data subfolder of the current directory.\n",
    "\n",
    "Separate data processing from reading to avoid reading the data again while testing the data processing.\n",
    "\n",
    "Compare the monthly volatilities to the events affecting the two cryptocurrencies. "
   ]
  },
  {
   "cell_type": "code",
   "execution_count": 4,
   "metadata": {},
   "outputs": [
    {
     "data": {
      "image/png": "[encoded data removed]",
      "text/plain": [
       "<Figure size 1152x360 with 1 Axes>"
      ]
     },
     "metadata": {
      "needs_background": "light"
     },
     "output_type": "display_data"
    }
   ],
   "source": [
    "from matplotlib import pyplot as plt\n",
    "import datetime\n",
    "import pandas as pd\n",
    "import numpy as np\n",
    "import os\n",
    "from copy import deepcopy\n",
    "\n",
    "DATA_DIR = 'data'\n",
    "FX_PAIRS = ['btcusd', 'ethusd']\n",
    "FONTSIZE = 14\n",
    "TICKS_FONTSIZE = 12\n",
    "COLORS = 'magenta','#00aa00'\n",
    "MARKERS = '^', 'o'\n",
    "\n",
    "\n",
    "def read_merge_crypto_data(pairs=None):\n",
    "    \"\"\"\n",
    "    Read crypto data for requested pairs and merge them into a single dataframe\n",
    "    pairs: list of cryptocurrency pairs\n",
    "    fx: fx data\n",
    "    fxm: fx merged data\n",
    "    \"\"\"\n",
    "    def _column_name_mapping(columns, tag, no_tag_columns):\n",
    "        \"\"\"Prepend prefix tag to all column names except the \"no_tag_columns\" column names.\"\"\"\n",
    "        return {col: col if col in no_tag_columns else tag + '_' + col for col in columns}\n",
    "    \n",
    "    fx = {pair: pd.read_csv(os.path.join(DATA_DIR, pair + '.csv.zip')) for pair in pairs}\n",
    "    for pair, df in fx.items():\n",
    "        df.rename(columns = _column_name_mapping(df.columns, pair, ['time']), inplace=True)\n",
    "    fxm = deepcopy(fx[pairs[0]])\n",
    "    for pair_index, pair in enumerate(pairs):\n",
    "        if pair_index > 0:\n",
    "            fxm = fxm.merge(fx[pair], on='time')\n",
    "            \n",
    "    return fxm\n",
    "\n",
    "\n",
    "def plot_monthly_crypto_vols(fxm_orig=None, fx_pairs=None, colors=None, markers=None):\n",
    "    \"\"\"\n",
    "    Calculate and plot the monthly volatilities of daily close crypto vs USD rates\n",
    "    fxm: fx merged data for one or more (crypto)currency pairs\n",
    "    \"\"\"\n",
    "    fxm = deepcopy(fxm_orig)\n",
    "    fxm['day'] = pd.Series([datetime.datetime.fromtimestamp(t//1000).strftime('%Y-%m-%d') \n",
    "                            for t in fxm['time'].to_numpy()])\n",
    "    fxm['month'] = pd.Series([datetime.datetime.fromtimestamp(t//1000).strftime('%Y-%m') \n",
    "                              for t in fxm['time'].to_numpy()])\n",
    "    remove_columns = [c for c in fxm.columns if c != 'day' and c != 'month' and c != 'time' and 'close' not in c]\n",
    "    fxm.drop(remove_columns, axis=1, inplace=True)\n",
    "    daily_close = fxm.loc[fxm.groupby(['day']).time.idxmax()]\n",
    "    daily_close.drop(['time'], axis=1, inplace=True)\n",
    "    percent_vols = 100.0 * daily_close.groupby(['month']).std() / daily_close.groupby(['month']).mean()\n",
    "    \n",
    "    plt.title(('Monthly percent volatilities of the daily closing cryptocurrency vs USD exchange rates at Bitfinex. '\n",
    "               'Data source: CME via Kaggle.'), fontsize=FONTSIZE)\n",
    "    plt.xticks(range(len(percent_vols.index)), [percent_vols.index[i] for i in range(len(percent_vols.index))], \n",
    "               rotation='vertical')\n",
    "    plt.xlabel('Month', fontsize=FONTSIZE)\n",
    "    plt.ylabel('Monthly $\\%$ volatility of daily close', fontsize=FONTSIZE)\n",
    "    \n",
    "    for fx_pair, color, marker in zip(fx_pairs, colors, markers):\n",
    "        plt.plot(percent_vols[fx_pair + '_close'], marker=marker, linewidth=0.2, color=color,\n",
    "                 markerfacecolor='none', markeredgecolor=color, label=fx_pair, markersize=6)\n",
    "\n",
    "    plt.legend(bbox_to_anchor=(0.99, 0.98), loc=1, borderaxespad=0., fontsize=FONTSIZE)\n",
    "    plt.yscale('linear')\n",
    "\n",
    "    for xtick_ytick in ['xtick', 'ytick']:\n",
    "        plt.rc(xtick_ytick, labelsize=TICKS_FONTSIZE)\n",
    "    \n",
    "    fig = plt.gcf()\n",
    "    fig.set_size_inches([16, 5])\n",
    "    plt.show()\n",
    "\n",
    "\n",
    "fxm = read_merge_crypto_data(pairs=FX_PAIRS)\n",
    "plot_monthly_crypto_vols(fxm_orig=fxm, fx_pairs=FX_PAIRS, colors=COLORS, markers=MARKERS)"
   ]
  },
  {
   "cell_type": "markdown",
   "metadata": {},
   "source": [
    "### Commodities"
   ]
  },
  {
   "cell_type": "markdown",
   "metadata": {},
   "source": [
    "#### Brief description\n",
    "\n",
    "Commodities mainly coincide with consumables, in other words, things that are depleted upon use.\n",
    "\n",
    "Please read the first two sections (\"What are Commodities?\" and \"Why Invest in Commodities?\") at<br/>\n",
    "https://global.pimco.com/en-gbl/resources/education/understanding-commodities\n",
    "\n",
    "The following are the major [types of commodities](https://medium.com/@comdexofficial/commodity-trading-backbone-of-the-global-economy-131c78f12989):\n",
    "* Energy Commodities (Crude Oil, Heating Oil, Gasoline Coal, Electricity, etc)\n",
    "* Metal Commodities (Aluminum, Copper, Gold, Silver, Platinum, Steel, etc)\n",
    "* Agriculture Commodities (Barley, Cocoa, Corn, Cotton, Wheat, Sugar, etc)\n",
    "* Livestock and Meat Commodities (Feeder Cattle, Live cattle, Pork Belly, Lean hogs, etc)"
   ]
  },
  {
   "cell_type": "markdown",
   "metadata": {},
   "source": [
    "#### Volumes\n",
    "\n",
    "###### VIsual comparison\n",
    "\n",
    "Please compare the volumes of the oil and metal markets at<br/>\n",
    "https://www.visualcapitalist.com/size-oil-market/\n",
    "\n",
    "###### CME Group detailed data, includes derivatives\n",
    "\n",
    "Let's talk about detailed data by commodities sub-classes from the CME Group, for example, the agricultural section:<br/>\n",
    "https://www.cmegroup.com/market-data/volume-open-interest/agriculture-commodities-volume.html"
   ]
  },
  {
   "cell_type": "markdown",
   "metadata": {},
   "source": [
    "#### Example event: Shale revolution\n",
    "\n",
    "In the 2010s the US increased its oil and gas production, and became a net exporter of crude oil and natural gas.\n",
    "\n",
    "Please read this article for details: https://www.bloomberg.com/quicktake/fracking"
   ]
  },
  {
   "cell_type": "markdown",
   "metadata": {},
   "source": [
    "#### Example index:  SPGSCI\n",
    "\n",
    "S&P GSCI (originally Goldman Sachs Commodity Index):\n",
    "* launched in 1991\n",
    "* focused on liquid assets, global production and stability\n",
    "\n",
    "For a detailed description of commodity indexes until 2010, please see \n",
    "[Dunsby and Nelson (pdf)](pdf/Dunsby%20and%20Nelson%2C%202010%2C%20A%20brief%20history%20of%20commodity%20indexes%2C%20Journal%20of%20Indexes.pdf)\n"
   ]
  },
  {
   "cell_type": "markdown",
   "metadata": {},
   "source": [
    "#### Task: Compare oil price chart to marco events\n",
    "\n",
    "Let us discuss the history of oil prices based on the following two sources:\n",
    "* [History of Oil Prices (Investopedia)](https://www.investopedia.com/history-of-oil-prices-4842834)\n",
    "\n",
    "* [Crude Oil Prices - 70 Year Historical Chart](https://www.macrotrends.net/1369/crude-oil-price-history-chart)"
   ]
  },
  {
   "cell_type": "markdown",
   "metadata": {},
   "source": [
    "### Real Estate"
   ]
  },
  {
   "cell_type": "markdown",
   "metadata": {},
   "source": [
    "#### Brief description\n",
    "\n",
    "Real estate is land and buildings, above the ground and below.\n",
    "\n",
    "A more detailed grouping of real estate properties is \n",
    "(1) residential, (2) commerical, (3) industrial real estate and (4) land.\n",
    "\n",
    "Please see the section titled [\"Four Types of Real Estate\" at this page](\n",
    "https://www.thebalance.com/real-estate-what-it-is-and-how-it-works-3305882)."
   ]
  },
  {
   "cell_type": "markdown",
   "metadata": {},
   "source": [
    "#### Volumes\n",
    "\n"
   ]
  },
  {
   "cell_type": "markdown",
   "metadata": {},
   "source": [
    "#### Example event\n"
   ]
  },
  {
   "cell_type": "markdown",
   "metadata": {},
   "source": [
    "#### Example index\n",
    "\n",
    "Wilshire Real Estate index, https://fred.stlouisfed.org/series/WILLRESIPR\n"
   ]
  },
  {
   "cell_type": "markdown",
   "metadata": {},
   "source": [
    "#### Task: Residential property net taxable value vs land value\n",
    "\n",
    "https://www.nj.gov/treasury/taxation/lpt/TaxListSearchPublicWebpage.shtml\n",
    "\n",
    "net value vs land value of properties in Atlantic county in 2009 and 2020"
   ]
  },
  {
   "cell_type": "markdown",
   "metadata": {},
   "source": [
    "###### Download data\n",
    "Download Atlantic county's data from 2009 and 2020 at https://www.nj.gov/treasury/taxation/lpt/TaxListSearchPublicWebpage.shtml\n",
    "\n",
    "Save the two downloaded zip files in the `data` subfolder of the current folder.\n",
    "\n",
    "Please see \"47. LAND VALUE\" and \"49. NET TAXABLE VALUE\" in the data format description at<br/>\n",
    "https://www.nj.gov/treasury/taxation/lpt/MODIV-Counties/2020/MODIVLayout2020.pdf\n",
    "\n",
    "###### Conclusion based on the plot below\n",
    "\n",
    "1. The ratio of net taxable value to land value decreases with growing land value of the residential property.\n",
    "2. For large value properties, this ratio grew from 2009 to 2020."
   ]
  },
  {
   "cell_type": "code",
   "execution_count": 9,
   "metadata": {},
   "outputs": [
    {
     "data": {
      "image/png": "[encoded data removed]",
      "text/plain": [
       "<Figure size 576x432 with 1 Axes>"
      ]
     },
     "metadata": {
      "needs_background": "light"
     },
     "output_type": "display_data"
    }
   ],
   "source": [
    "import zipfile\n",
    "from os.path import join\n",
    "import io\n",
    "import numpy as np\n",
    "from collections import OrderedDict\n",
    "\n",
    "DATA_DIR = 'data'\n",
    "FILE_INFOS = [{'year': 2009, 'archive_name': join(DATA_DIR, 'Atlantic.zip'), 'file_name': 'Atlantic.txt'},\n",
    "              {'year': 2020, 'archive_name': join(DATA_DIR, 'Atlantic_2020.zip'), 'file_name': 'Atlantic20.txt'}]\n",
    "RESIDENTIAL_PROPERTY_CLASS = '2'\n",
    "BIN_END_POINT_RATIO = 2.0\n",
    "DISPLAY_MARGIN_RATIO = np.power(BIN_END_POINT_RATIO, 1.5)  # margin width at the side of the displayed log-log image\n",
    "PLOT_YEARS = [f['year'] for f in FILE_INFOS]\n",
    "FONTSIZE = 14\n",
    "PLOT_COLORS = 'magenta', 'blue'\n",
    "LINE_COLOR = 'green'\n",
    "SYMBOL_SIZE = 2.0\n",
    "PLOT_SIZE = 8, 6\n",
    "PLOT_SYMBOLS = '^', 'o'\n",
    "\n",
    "\n",
    "def read_zip_nj_county_residential_land_net_values(zipArchive, txtFileInArchive):\n",
    "    \"\"\"\n",
    "    From a zip file read NJ county residential property land values and net values\n",
    "    \"\"\"\n",
    "\n",
    "    assert zipfile.is_zipfile(zipArchive), 'Please provide the name of a zip file instead of \\\"{}\\\"'.format(zipArchive)\n",
    "\n",
    "    values = []\n",
    "    with zipfile.ZipFile(zipArchive) as zf:\n",
    "        with io.TextIOWrapper(zf.open(txtFileInArchive)) as f:\n",
    "            for line in f.readlines():\n",
    "                property_class = line[56:58].lstrip('0').rstrip(' ').rstrip('\\t')\n",
    "                if property_class == RESIDENTIAL_PROPERTY_CLASS:\n",
    "                    land_value = line[421:429].lstrip('0')\n",
    "                    net_value = line[439:447].lstrip('0')\n",
    "                    if 0 < len(land_value) and 0 < len(net_value):\n",
    "                        values.append({'land': int(land_value), 'net': int(net_value)})\n",
    "\n",
    "    return values\n",
    "\n",
    "\n",
    "def plot_binned_avg_land_values_net_values():\n",
    "    \"\"\"\n",
    "    Plot net value vs land value\n",
    "    \n",
    "    In the calculation part for each land_value - net_value pair:\n",
    "    find the i index of the bin of the land_value and put the median net_value / land_value ratio into this bin\n",
    "\n",
    "    r = BIN_END_POINT_RATIO: ratio of the two end points of a bin\n",
    "    the (i)th bin is [ r^i, r^(i+1) )\n",
    "    s[i]: list of net_values in the bin that has the index i\n",
    "    x[i]: geometric mean of the bin's end points: r^(.5+i)\n",
    "    y[i]: average of those net_values for which the land_value is in the (i)th bin\n",
    "    \"\"\"\n",
    "\n",
    "    # read data, and process it for plotting\n",
    "    plot_dat = OrderedDict()\n",
    "    for file_info in FILE_INFOS:\n",
    "        values = read_zip_nj_county_residential_land_net_values(file_info['archive_name'], file_info['file_name'])\n",
    "\n",
    "        s = dict()\n",
    "        for v in values:\n",
    "            land_value, net_value = v['land'], v['net']\n",
    "            i = int(np.log(land_value) / np.log(BIN_END_POINT_RATIO))  # index of the log bin where land_value falls\n",
    "            if i not in s:\n",
    "                s[i] = list()\n",
    "            s[i].append(net_value)\n",
    "\n",
    "        x = [np.power(BIN_END_POINT_RATIO, 0.5 + i) for i in sorted(s)]\n",
    "        y = [s[i][int(np.floor(0.5 * len(s[i])))] for i in sorted(s)]  # median of s values\n",
    "\n",
    "        plot_dat[file_info['year']] = {'x': x, 'y': y, 'n': [len(s[i]) for i in sorted(s)]}\n",
    "        \n",
    "    # plotting\n",
    "    fig, ax = plt.subplots(figsize=PLOT_SIZE)\n",
    "    land_value_min = min([min(plot_dat[year]['x']) for year in PLOT_YEARS])\n",
    "    land_value_max = max([max(plot_dat[year]['x']) for year in PLOT_YEARS])\n",
    "    net_value_min = min([min(plot_dat[year]['y']) for year in PLOT_YEARS])\n",
    "    net_value_max = max([max(plot_dat[year]['y']) for year in PLOT_YEARS])\n",
    "    ax.set_xlim(left = land_value_min / DISPLAY_MARGIN_RATIO, right = land_value_max * DISPLAY_MARGIN_RATIO)\n",
    "    ax.set_ylim(bottom = net_value_min / DISPLAY_MARGIN_RATIO, top = net_value_max * DISPLAY_MARGIN_RATIO)\n",
    "    ax.set_xlabel('Land value of a residential property', fontsize=FONTSIZE)\n",
    "    ax.set_ylabel('Median of Net taxable value', fontsize=FONTSIZE)\n",
    "    plt.title(('\\nNew Jersey - Atlantic county - Residential properties\\n\\n'\n",
    "               'Ratio of net taxable to land value decreases with growing land value\\n'\n",
    "               'For large value properties, this ratio grew from 2009 to 2020\\n\\n'\n",
    "               'Median Net Taxable Value in a Land value bin\\n'\n",
    "               '(symbol area is proportional to the number of values)'), fontsize=FONTSIZE)\n",
    "    plt.xscale('log')\n",
    "    plt.yscale('log')\n",
    "    for color, year, marker in zip(PLOT_COLORS, PLOT_YEARS, PLOT_SYMBOLS):\n",
    "        plt.scatter(plot_dat[year]['x'], plot_dat[year]['y'], \n",
    "                    s = np.array([SYMBOL_SIZE * np.sqrt(n) for n in plot_dat[year]['n']]),\n",
    "                    label=str(year), edgecolors=color, color='none', marker=marker)\n",
    "\n",
    "    line_min = np.power(DISPLAY_MARGIN_RATIO, -0.5) * min(land_value_min, net_value_min) \n",
    "    line_max = np.power(DISPLAY_MARGIN_RATIO, 0.5) * max(land_value_max, net_value_max)\n",
    "    line_limits = line_min, line_max\n",
    "    plt.plot(line_limits, line_limits, label='Net taxable value = Land value', color=LINE_COLOR, ls='--')\n",
    "    plt.legend(loc='upper left', fontsize=FONTSIZE)\n",
    "    plt.show()\n",
    "\n",
    "        \n",
    "plot_binned_avg_land_values_net_values()"
   ]
  },
  {
   "cell_type": "markdown",
   "metadata": {},
   "source": [
    "### Infrastructure"
   ]
  },
  {
   "cell_type": "markdown",
   "metadata": {},
   "source": [
    "### Derivatives\n",
    "\n",
    "Please note that the word \"derivative\" has a different meaning in mathematics and finance.\n",
    "\n",
    "* Each of the above asset classes does have its own derivatives.\n",
    "\n",
    "* Moreover, derivatives also often combine different asset classes. "
   ]
  },
  {
   "cell_type": "markdown",
   "metadata": {},
   "source": [
    "#### Exchange Traded Funds (ETFs) \n",
    "\n",
    "Please watch the video on this page and let's talk about it together:<br/>\n",
    "https://www.investopedia.com/terms/e/etf.asp\n",
    "\n",
    "#### Constructing financial products with Derivatives\n",
    "\n",
    "Futures, Forwards, Options, Swaps, ...\n",
    "\n",
    "Put-Call parity\n",
    "\n",
    "Greeks\n",
    "\n",
    "Hedging with derivatives\n",
    "\n",
    "Straddle, Strangle\n",
    "\n",
    "ETFs"
   ]
  },
  {
   "cell_type": "markdown",
   "metadata": {},
   "source": [
    "## Correlations of asset class indexes\n",
    "This section is similar to the contents of the `Observed Distributions` notebook."
   ]
  },
  {
   "cell_type": "markdown",
   "metadata": {},
   "source": [
    "### Data sources and descriptions\n",
    "\n",
    "<span style='color:red;background-color:yellow;font-weight:bold;'>^^^ table right column: fill missing explanations</span>\n",
    "\n",
    "<span style='color:red;background-color:yellow;font-weight:bold;'>^^^ below data set table: explain downloads, do not repeat download instructions of notebook 06</span>\n",
    "\n",
    "Note: these data sets are focused on the US.\n",
    "\n",
    "| Name, Link to page | Type | Source | Frequency | Comments |\n",
    "| :--- | :--| :--- | :--- | :--- |\n",
    "| [Fidelity Total Bond Fund (FTBFX)](https://finance.yahoo.com/quote/FTBFX/history) | Bonds index | Yahoo | Daily | &nbsp; |\n",
    "| [BBG Commodity (^BCOM)](https://finance.yahoo.com/quote/%5EBCOM/history) | Commodity index | Yahoo | Daily | &nbsp; |\n",
    "| [S&P 500 (^GSPC)](https://finance.yahoo.com/quote/%5EGSPC/history) | Equity index | Yahoo | Daily | &nbsp; |\n",
    "| [USD / EUR Exchange Rate (DEXUSEU)](https://fred.stlouisfed.org/series/DEXUSEU) | FX | FRED | Daily | &nbsp; |\n",
    "| [3-Month Treasury Constant Maturity Rate (DGS3MO)](https://fred.stlouisfed.org/series/DGS3MO) | Rates | FRED | Daily  | Used as an approximation for the risk-free rate |\n",
    "| [Wilshire US Real Estate Securities Price Index (WILLRESIPR)](https://fred.stlouisfed.org/series/WILLRESIPR) | Real estate index | FRED | Daily  | &nbsp; |\n",
    "| [US Consumer Price Index (CPALTT01USM657N)](https://fred.stlouisfed.org/series/CPALTT01USM657N) | Inflation (Price index) | FRED | Monthly | Percent comparison to 1Y before | \n",
    "\n",
    "###### Notes on the data above\n",
    "\n",
    "* processing depends on source\n",
    "* inflation data is very different from all others: it is a (1) percent value (2) once a month (3) compared to 1Y before\n",
    "\n",
    "###### Notes on the code below\n",
    "\n",
    "* `pd.concat` is used for the (full) outer join to keep all dates available in at least one of the two merged series\n",
    "* ordered dict\n",
    "* keyword args"
   ]
  },
  {
   "cell_type": "markdown",
   "metadata": {},
   "source": [
    "### All data points: daily (monthly)\n",
    "\n",
    "###### Task\n",
    "Display the first 100 rows and the last 100 rows of the dataframe `df_all` of all data sets."
   ]
  },
  {
   "cell_type": "code",
   "execution_count": null,
   "metadata": {},
   "outputs": [],
   "source": [
    "import os\n",
    "import pandas as pd\n",
    "import numpy as np\n",
    "from collections import OrderedDict\n",
    "\n",
    "DATA_DIR = 'data'\n",
    "FILE_EXT = 'csv'\n",
    "DATA_SETS = OrderedDict({\n",
    "    '^GSPC': {'source': 'Yahoo', 'name': 'Equities'},\n",
    "    '^BCOM': {'source': 'Yahoo', 'name': 'Commodities'},\n",
    "    'DEXUSEU': {'source': 'FRED', 'name': 'USD / EUR'},\n",
    "    'DGS3MO': {'source': 'FRED', 'name': '3M Rate'},\n",
    "    'FTBFX': {'source': 'Yahoo', 'name': 'Bonds', },\n",
    "    'CPALTT01USM657N': {'source': 'FRED', 'name': 'Inflation', 'is_price_index': ''},\n",
    "    'WILLRESIPR': {'source': 'FRED', 'name': 'Real Estate'}})\n",
    "\n",
    "\n",
    "def display_setting(max_value=10):\n",
    "    \"\"\"Setting display options for dataframes\"\"\"\n",
    "    for setting_type in ['max_rows', 'max_columns', 'width', 'max_colwidth']:\n",
    "        pd.set_option('display.' + setting_type, max_value)\n",
    "\n",
    "\n",
    "def read_data(data_dir=None, data_sets=None, file_ext=None):\n",
    "    \"\"\"Read financial csv data downloaded from Yahoo or the FRED\"\"\"\n",
    "    df_all = pd.DataFrame()\n",
    "    for data_set_code, data_set_params in data_sets.items():\n",
    "\n",
    "        # read values for the current data set\n",
    "        df = pd.read_csv(os.path.join(data_dir, data_set_code + '.' + file_ext), na_values=['.', 0])\n",
    "        if data_set_params['source'] == 'Yahoo':\n",
    "            df.index = pd.to_datetime(df['Date'])\n",
    "        elif data_set_params['source'] == 'FRED':\n",
    "            df.index = pd.to_datetime(df['DATE'])\n",
    "            df['Close'] = df[data_set_code]\n",
    "        else:\n",
    "            raise ValueError('Reading data of this type is not implemented: {}'.format(data_set_params['Type']))\n",
    "\n",
    "        # save values for the current data set\n",
    "        if 'is_price_index' in data_set_params:  # save the price index as it is\n",
    "            r = pd.DataFrame(df['Close'])      \n",
    "        else:  # for all others: convert the daily value to daily log return\n",
    "            r = pd.DataFrame(np.log(df['Close']) - np.log(df['Close'].shift()))\n",
    "\n",
    "        r.columns = [data_set_params['name']]\n",
    "        df_all = r.copy() if len(df_all.columns) == 0 else pd.concat([df_all, r], axis=1)\n",
    "\n",
    "    return df_all\n",
    "\n",
    "\n",
    "df_all = read_data(data_dir=DATA_DIR, data_sets=DATA_SETS, file_ext=FILE_EXT)\n",
    "display(df_all)  # default behavior: display first and last 5 rows"
   ]
  },
  {
   "cell_type": "markdown",
   "metadata": {},
   "source": [
    "###### Plotting all data points\n",
    "\n",
    "<b>Note:</b>\n",
    "\n",
    "* Inflation values are plotted normalized: they are divided by 100.\n",
    "\n",
    "<b>Task: What do these plots mean ?</b>\n",
    "\n",
    "* Can you spot differences, similarities, or otherwise general patterns ?\n",
    "\n",
    "* Can you explain these ?\n",
    "\n",
    "* What conclusions or predictions / hypotheses can you make ?"
   ]
  },
  {
   "cell_type": "code",
   "execution_count": null,
   "metadata": {},
   "outputs": [],
   "source": [
    "import pandas as pd\n",
    "import matplotlib.pyplot as plt\n",
    "from numbers import Number\n",
    "\n",
    "FONTSIZE = 14\n",
    "FONTSIZE_LEGEND = 12\n",
    "DISPLAY_MARGIN_RATIO = 5\n",
    "YTIC_VALUES = [1, 1e-2, 1e-4, 0, -1e-4, -1e-2, -1]\n",
    "\n",
    "\n",
    "def df_numbers_min_pos_max_neg(df):\n",
    "    \"\"\"The smallest positive and the highest negative number from the provided dataframe\"\"\"\n",
    "    assert isinstance(df, pd.DataFrame), 'Input has to be a dataframe'\n",
    "    \n",
    "    min_pos = None  # lowest positive value\n",
    "    max_neg = None  # highest negative value\n",
    "    for _, column_values in df.iteritems():\n",
    "        column_values_positive = [x for x in column_values if isinstance(x, Number) and x > 0.0]\n",
    "        column_values_negative = [x for x in column_values if isinstance(x, Number) and x < 0.0]\n",
    "        if len(column_values_positive) > 0:\n",
    "            min_pos = min(column_values_positive) if min_pos is None else min(min(column_values_positive), min_pos)\n",
    "        if len(column_values_negative) > 0:\n",
    "            max_neg = max(column_values_negative) if max_neg is None else max(max(column_values_negative), max_neg)\n",
    "        \n",
    "    return min_pos, max_neg\n",
    "\n",
    "\n",
    "def plot_selected_data_symlog_y(df=None, ytic_values=[]):\n",
    "    \"\"\"Plot the selected financial data sets with symmetric log y axis\"\"\"\n",
    "    if df is not None:\n",
    "        min_pos, max_neg = df_numbers_min_pos_max_neg(df)\n",
    "        \n",
    "        for data_set_name in df.columns:\n",
    "            normalization = 0.01 if data_set_name == 'US Consumer Price Index' else 1.0\n",
    "            plt.plot(normalization * df[data_set_name], lw=0, marker='.', label=data_set_name)\n",
    "        plt.yscale('symlog', linthresh=max(-max_neg, min_pos) * DISPLAY_MARGIN_RATIO)\n",
    "        plt.xlabel('Date', fontsize=FONTSIZE)\n",
    "        plt.ylabel('Daily log return (or price index)', fontsize=FONTSIZE)\n",
    "        plt.yticks(ytic_values, [str(y).replace('-', '$-\\ $') for y in ytic_values])\n",
    "        plt.legend(bbox_to_anchor=(0.01, .98), loc=2, borderaxespad=0., fontsize=FONTSIZE_LEGEND)\n",
    "        \n",
    "        fig = plt.gcf()\n",
    "        fig.set_size_inches([16, 7])\n",
    "        plt.show()\n",
    "\n",
    "\n",
    "plot_selected_data_symlog_y(df_all, ytic_values=YTIC_VALUES)"
   ]
  },
  {
   "cell_type": "markdown",
   "metadata": {},
   "source": [
    "###### Correlation matrix of the daily (monthly) data sets\n",
    "\n",
    "* Explain values: group by magnitude the correlation values\n",
    "* Note: the correlation matrix is symmetric"
   ]
  },
  {
   "cell_type": "code",
   "execution_count": null,
   "metadata": {},
   "outputs": [],
   "source": [
    "df_all_corr = df_all.corr()\n",
    "print('\\nCorrelation matrix of initial points.\\nInflation and real estate are monthly. Others are daily.')\n",
    "display(df_all_corr.round(3))"
   ]
  },
  {
   "cell_type": "markdown",
   "metadata": {},
   "source": [
    "### Aggregate the indexes yearly\n",
    "\n",
    "###### Aggregate the data\n"
   ]
  },
  {
   "cell_type": "code",
   "execution_count": null,
   "metadata": {},
   "outputs": [],
   "source": [
    "import pandas as pd\n",
    "\n",
    "\n",
    "def aggregate_indexes_yearly(df_all=None):\n",
    "    \"\"\"Aggregate daily log returns (or monthly price index values) to yearly values.\n",
    "\n",
    "       For all data sets other than inflation (price index): \n",
    "       - account for nans by scaling up with sqrt of time,\n",
    "       - it is assumed that for each calendar there is a value (either a known value or a nan).\"\"\"\n",
    "\n",
    "    df_all_yearly = pd.DataFrame()\n",
    "    df_current_yearly = pd.DataFrame()\n",
    "    for data_set_name in df_all.columns:\n",
    "        years = df_all[data_set_name].index.year\n",
    "        if data_set_name == 'Inflation':\n",
    "            df_current_yearly = pd.DataFrame(df_all[data_set_name].groupby(years).agg('mean'))\n",
    "        else:\n",
    "            sum_of_values = df_all[data_set_name].groupby(years).agg('sum')\n",
    "            number_of_known_values = df_all[data_set_name].groupby(years).agg('count')\n",
    "            number_of_nans = df_all[data_set_name].isnull().groupby(years).agg('sum').astype(int)\n",
    "            df_current_yearly = pd.DataFrame(np.sqrt(1.0 + number_of_nans / number_of_known_values) * sum_of_values)\n",
    "\n",
    "        df_current_yearly.columns = [data_set_name]\n",
    "        df_all_yearly = (df_current_yearly.copy() if len(df_all_yearly.columns) == 0 \n",
    "                         else pd.concat([df_all_yearly, df_current_yearly], axis=1))\n",
    "\n",
    "    df_all_yearly.dropna(how='all', inplace=True)\n",
    "    return df_all_yearly\n",
    "\n",
    "\n",
    "df_all_yearly = aggregate_indexes_yearly(df_all=df_all)\n",
    "display(df_all_yearly.round(3))"
   ]
  },
  {
   "cell_type": "markdown",
   "metadata": {},
   "source": [
    "###### Plot the aggregated data"
   ]
  },
  {
   "cell_type": "code",
   "execution_count": null,
   "metadata": {},
   "outputs": [],
   "source": [
    "import matplotlib.pyplot as plt\n",
    "\n",
    "FONTSIZE = 14\n",
    "TICKS_FONTSIZE = 12\n",
    "DISPLAY_MARGIN_RATIO = 5\n",
    "YTIC_VALUES = [1, 0.1, 0, -0.1, -1]\n",
    "LINTHRESH_Y = 0.2\n",
    "SELECTED_MIN_YEAR = 1995\n",
    "COLORS  = 'r', 'g', 'k', 'b', 'magenta', 'k', 'r'\n",
    "SYMBOLS = '.', '.', '.', '^', '^', '^', 's'\n",
    "LINEWIDTH = 0.2\n",
    "\n",
    "\n",
    "def plot_yearly_aggregated_data_symlog_y(df_all_yearly=None, ytic_values=[]):\n",
    "\n",
    "    if df_all_yearly is not None:\n",
    "        fig, axes = plt.subplots(ncols=2, figsize=(15, 5))\n",
    "        for xtick_ytick in ['xtick', 'ytick']:\n",
    "            plt.rc(xtick_ytick, labelsize=TICKS_FONTSIZE)\n",
    "\n",
    "        # all years\n",
    "        ax = axes[0]\n",
    "        ax.set_xlabel('A l l   Y e a r s', fontsize=FONTSIZE)\n",
    "        ax.set_ylabel('Average daily log return\\n(or price index)', fontsize=FONTSIZE)\n",
    "        ax.set_yticks(ytic_values)\n",
    "        ax.set_yticklabels([str(y).replace('-', '$-\\ $') for y in ytic_values])\n",
    "        ax.axhline(0, c='gray', ls='dotted')\n",
    "        for data_set_name, color, symbol in zip(df_all_yearly.columns, COLORS, SYMBOLS):\n",
    "            ax.set_yscale('symlog', linthresh=LINTHRESH_Y)\n",
    "            ax.plot(df_all_yearly[data_set_name], marker=symbol, linewidth=LINEWIDTH, color=color,\n",
    "                    markerfacecolor='none', markeredgecolor=color, label=data_set_name)\n",
    "            ax.legend(bbox_to_anchor=(0, -0.2), loc=2, borderaxespad=0, fontsize=FONTSIZE)\n",
    "\n",
    "        # selected years\n",
    "        df_all_yearly_sel = df_all_yearly[SELECTED_MIN_YEAR <= df_all_yearly.index]\n",
    "        ax = axes[1]\n",
    "        ax.set_xlabel('S e l e c t e d   Y e a r s', fontsize=FONTSIZE)\n",
    "        ax.axhline(0, c='gray', ls='dotted')\n",
    "        for data_set_name, color, symbol in zip(df_all_yearly.columns, COLORS, SYMBOLS):\n",
    "            ax.set_yscale('symlog', linthresh=LINTHRESH_Y)\n",
    "            ax.plot(df_all_yearly_sel[data_set_name], marker=symbol, linewidth=LINEWIDTH, color=color,\n",
    "                    markerfacecolor='none', markeredgecolor=color)\n",
    "            \n",
    "        plt.show()\n",
    "\n",
    "\n",
    "plot_yearly_aggregated_data_symlog_y(df_all_yearly=df_all_yearly, ytic_values=YTIC_VALUES)"
   ]
  },
  {
   "cell_type": "markdown",
   "metadata": {},
   "source": [
    "###### Correlation matrix of the yearly aggregated data"
   ]
  },
  {
   "cell_type": "code",
   "execution_count": null,
   "metadata": {},
   "outputs": [],
   "source": [
    "df_all_yearly_corr = df_all_yearly.corr()\n",
    "print('\\nCorrelation matrix using all data points (already seen above, shown here for comparison only)')\n",
    "display(df_all_corr.round(2))\n",
    "print('\\nCorrelation matrix using yearly aggregated data')\n",
    "display(df_all_yearly_corr.round(2))"
   ]
  },
  {
   "cell_type": "markdown",
   "metadata": {},
   "source": [
    "### Correlation depends on aggregation length\n",
    "#### Task: Observe changes and try to explain\n",
    "\n",
    "Yearly aggregation makes<br/>\n",
    ". note that real estate and inflation data are monthly (not daily)<br/>\n",
    ". inflation vs real estate correlation and inflation vs equties correlation drop slightly<br/>\n",
    ". all other pair correlations grow slightly or largely\n",
    "\n",
    "<span style='color:red;background-color:yellow;font-weight:bold;'>^^^ investigate here the factors explaining the correlation values (1) using daily/monthly data and (2) yearly aggregated data</span>\n"
   ]
  },
  {
   "cell_type": "code",
   "execution_count": null,
   "metadata": {},
   "outputs": [],
   "source": [
    "diff_abs = df_all_yearly_corr - df_all_corr\n",
    "print('\\nDifference:  Correlation using yearly aggregated values  -  Correlation using all values')\n",
    "display(diff_abs.round(2))"
   ]
  },
  {
   "cell_type": "markdown",
   "metadata": {},
   "source": [
    "#### Task: Observe and explain effect of aggregation on correlation\n",
    "\n",
    "<span style='color:red;background-color:yellow;font-weight:bold;'>^^^ explain why one pair's correlation goes significantly up after data aggregation, but the other pair's correlation does not</span>"
   ]
  },
  {
   "cell_type": "code",
   "execution_count": null,
   "metadata": {},
   "outputs": [],
   "source": [
    "import matplotlib.pyplot as plt\n",
    "\n",
    "FONTSIZE = 14\n",
    "MARKERSIZE = 5\n",
    "PAIRS = {'change': ['Commodities', 'Bonds'], 'const': ['Equities', '3M Rate']}\n",
    "WSPACE_REL_SUBPLOTS = 0.3\n",
    "HSPACE_REL_SUBPLOTS = 0.25\n",
    "\n",
    "\n",
    "def plot_scatter_plots_corr_agg(df_all=None, df_all_yearly=None, pairs=None):\n",
    "    \"\"\"Scatter plot of data for two pairs, both before and after data aggregation\n",
    "       - the pair called 'change': pair of indexes for which the correlation changes after data aggregation\n",
    "       - the pair called 'const': no significant change of correlation after data is aggregated\"\"\"\n",
    "\n",
    "    if df_all is not None and df_all_yearly is not None and pairs is not None:\n",
    "        fig, axes = plt.subplots(ncols=2, nrows=2, figsize=(12, 10))\n",
    "        for xtick_ytick in ['xtick', 'ytick']:\n",
    "            plt.rc(xtick_ytick, labelsize=TICKS_FONTSIZE)\n",
    "\n",
    "        for which_pair, row, color, symbol in zip(['change', 'const'], [0, 1], ['magenta', 'green'], ['.', '.']):\n",
    "            name_A, name_B = pairs[which_pair]\n",
    "            # correlation of all data points\n",
    "            ax = axes[row][0]\n",
    "            ax.set_xlabel('Daily log return of {}'.format(name_A), fontsize=FONTSIZE)\n",
    "            ax.set_ylabel('Daily log return of {}'.format(name_B), fontsize=FONTSIZE)\n",
    "            ax.plot(df_all[name_A], df_all[name_B], marker='.', linewidth=0.0,\n",
    "                    markerfacecolor='none', markeredgecolor=color, markersize=MARKERSIZE)\n",
    "            # correlation of aggregated data points\n",
    "            ax = axes[row][1]\n",
    "            ax.set_xlabel('Yearly log return of {}'.format(name_A), fontsize=FONTSIZE)\n",
    "            ax.set_ylabel('Yearly log return of {}'.format(name_B), fontsize=FONTSIZE)\n",
    "            ax.plot(df_all_yearly[name_A], df_all_yearly[name_B], marker='.', linewidth=0.0,\n",
    "                    markerfacecolor='none', markeredgecolor=color, markersize=MARKERSIZE)\n",
    "        \n",
    "        plt.subplots_adjust(wspace=WSPACE_REL_SUBPLOTS, hspace=HSPACE_REL_SUBPLOTS)\n",
    "        plt.show()\n",
    "\n",
    "\n",
    "plot_scatter_plots_corr_agg(df_all=df_all, df_all_yearly=df_all_yearly, pairs=PAIRS)"
   ]
  },
  {
   "cell_type": "markdown",
   "metadata": {},
   "source": [
    "## Autocorrelation (in time) of asset class indexes\n",
    "<span style='color:red;background-color:yellow;font-weight:bold;'>^^^ corr time w daily points or yearly agg</span>"
   ]
  },
  {
   "cell_type": "markdown",
   "metadata": {},
   "source": [
    "## Recommended\n",
    "\n",
    "https://www.investopedia.com --> Equity, Commodity, Credit, FX, Derivatives"
   ]
  }
 ],
 "metadata": {
  "kernelspec": {
   "display_name": "Python 3",
   "language": "python",
   "name": "python3"
  },
  "language_info": {
   "codemirror_mode": {
    "name": "ipython",
    "version": 3
   },
   "file_extension": ".py",
   "mimetype": "text/x-python",
   "name": "python",
   "nbconvert_exporter": "python",
   "pygments_lexer": "ipython3",
   "version": "3.8.5"
  },
  "toc": {
   "base_numbering": 1,
   "nav_menu": {},
   "number_sections": true,
   "sideBar": true,
   "skip_h1_title": false,
   "title_cell": "Table of Contents",
   "title_sidebar": "Contents",
   "toc_cell": false,
   "toc_position": {
    "height": "calc(100% - 180px)",
    "left": "10px",
    "top": "150px",
    "width": "394px"
   },
   "toc_section_display": true,
   "toc_window_display": true
  }
 },
 "nbformat": 4,
 "nbformat_minor": 4
}
