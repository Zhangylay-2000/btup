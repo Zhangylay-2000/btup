{
 "cells": [
  {
   "cell_type": "markdown",
   "metadata": {},
   "source": [
    "<span style='color:red;background-color:yellow;font-weight:bold;'>^^^ fill missing, provide examples</span>\n",
    "\n",
    "<span style='color:red;background-color:yellow;font-weight:bold;'>^^^ could call next section \"Financial Markets\"</span>"
   ]
  },
  {
   "cell_type": "markdown",
   "metadata": {},
   "source": [
    "## Basic (non-derivative) financial products by asset class"
   ]
  },
  {
   "cell_type": "markdown",
   "metadata": {},
   "source": [
    "### Stocks (Equities)\n",
    "A stock (equity investment) is a partial ownership of a commercial entity.\n",
    "\n",
    "Net income/expenses arise from: (1) change in value while owning it (2) dividends (3) debts and liabilities.\n",
    "<br/>\n",
    "Here \"net\" means the sum of the listed items with their respective signs: plus sign for income, minus sign for expense.\n",
    "\n",
    "###### Dividends\n",
    "\n",
    "Dividends: payments to shareholders<br/>\n",
    "<span style='color:red;background-color:yellow;font-weight:bold;'>^^^ show influence of dividend on share price</span>\n",
    "\n",
    "\n",
    "###### Example: IBM split announced in the morning of Oct 08, 2020\n",
    "\n",
    "* Announcement of IBM's spin-off company:<br/>https://newsroom.ibm.com/2020-10-08-IBM-To-Accelerate-Hybrid-Cloud-Growth-Strategy-And-Execute-Spin-Off-Of-Market-Leading-Managed-Infrastructure-Services-Unit\n",
    "\n",
    "\n",
    "* IBM stock price jumped in the morning of Aug 08, 2020 (image from Google) ![IBM stock price jumped from Oct 07 to Oct 08](./img/IBM-stock-2020-Oct-05-to-09.PNG \"IBM stock price jumped from Oct 07 to Oct 08\")\n",
    "\n"
   ]
  },
  {
   "cell_type": "markdown",
   "metadata": {},
   "source": [
    "### Fixed income (Bonds)\n",
    "\n",
    "Description at the US SEC (Securities and Exchanges Commission):<br/>\n",
    "https://www.investor.gov/introduction-investing/investing-basics/investment-products/bonds-or-fixed-income-products/bonds\n",
    "\n",
    "T-Bills (sometimes categorized under Cash):<br/>\n",
    "Explain how they're quoted - https://www.newyorkfed.org/aboutthefed/fedpoint/fed07.html\n",
    "\n",
    "###### Example: Discounting a fixed list of coupons\n"
   ]
  },
  {
   "cell_type": "markdown",
   "metadata": {},
   "source": [
    "### FX\n",
    "FX: Foreign Exchange\n",
    "\n",
    "currencies, incl crypto\n",
    "\n",
    "\n",
    "who wins, who loses\n",
    "\n",
    "\n",
    "Compare autocorrelation length of FX with autocorrelation length of the other asset classes\n",
    "\n",
    "\n",
    "Compare trading volumes of some asset classes, and within those some types of products"
   ]
  },
  {
   "cell_type": "markdown",
   "metadata": {},
   "source": [
    "### Commodities\n",
    "\n",
    "starter: https://global.pimco.com/en-gbl/resources/education/understanding-commodities\n",
    "\n",
    "download data for other asset classes, calculate correlation matrix"
   ]
  },
  {
   "cell_type": "markdown",
   "metadata": {},
   "source": [
    "### Credit"
   ]
  },
  {
   "cell_type": "markdown",
   "metadata": {},
   "source": [
    "### Real Estate"
   ]
  },
  {
   "cell_type": "markdown",
   "metadata": {},
   "source": [
    "### Infrastructure"
   ]
  },
  {
   "cell_type": "markdown",
   "metadata": {},
   "source": [
    "## Constructing financial products with Derivatives\n",
    "\n",
    "Futures, Forwards, Options, ...\n",
    "\n",
    "Put-Call parity\n",
    "\n",
    "Greeks\n",
    "\n",
    "Hedging with derivatives"
   ]
  },
  {
   "cell_type": "markdown",
   "metadata": {},
   "source": [
    "## Derivative financial products\n",
    "\n",
    "Each asset class has its own\n",
    "\n",
    "Can combine asset classes\n"
   ]
  }
 ],
 "metadata": {
  "kernelspec": {
   "display_name": "Python 3",
   "language": "python",
   "name": "python3"
  },
  "language_info": {
   "codemirror_mode": {
    "name": "ipython",
    "version": 3
   },
   "file_extension": ".py",
   "mimetype": "text/x-python",
   "name": "python",
   "nbconvert_exporter": "python",
   "pygments_lexer": "ipython3",
   "version": "3.8.5"
  },
  "toc": {
   "base_numbering": 1,
   "nav_menu": {},
   "number_sections": true,
   "sideBar": true,
   "skip_h1_title": false,
   "title_cell": "Table of Contents",
   "title_sidebar": "Contents",
   "toc_cell": false,
   "toc_position": {},
   "toc_section_display": true,
   "toc_window_display": true
  }
 },
 "nbformat": 4,
 "nbformat_minor": 4
}
