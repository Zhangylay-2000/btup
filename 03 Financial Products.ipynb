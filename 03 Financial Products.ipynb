{
 "cells": [
  {
   "cell_type": "markdown",
   "metadata": {},
   "source": [
    "<span style='color:red;background-color:yellow;font-weight:bold;'>^^^ fill missing, provide examples</span>\n",
    "\n",
    "<span style='color:red;background-color:yellow;font-weight:bold;'>^^^ could call next section \"Financial Markets\"</span>\n",
    "\n",
    "<span style='color:red;background-color:yellow;font-weight:bold;'>^^^ asset classes (see pimco example): correlation matrix of (1) annual returns (2) daily returns within two selected years (allow selection)</span>\n",
    "\n",
    "<span style='color:red;background-color:yellow;font-weight:bold;'>^^^ how does the order book work</span>"
   ]
  },
  {
   "cell_type": "markdown",
   "metadata": {},
   "source": [
    "## Basic (non-derivative) financial products by asset class"
   ]
  },
  {
   "cell_type": "markdown",
   "metadata": {},
   "source": [
    "### Stocks (Equities)\n",
    "A stock (equity investment) is a partial ownership of a commercial entity.\n",
    "\n",
    "Net income/expenses arise from: (1) change in value while owning it (2) dividends (3) debts and liabilities.\n",
    "<br/>\n",
    "Here \"net\" means the sum of the listed items with their respective signs: plus sign for income, minus sign for expense.\n",
    "\n",
    "###### Dividends\n",
    "\n",
    "Dividends: payments to shareholders<br/>\n",
    "<span style='color:red;background-color:yellow;font-weight:bold;'>^^^ show influence of dividend on share price</span>\n",
    "\n",
    "\n",
    "###### Example: IBM split announced in the morning of Oct 08, 2020\n",
    "\n",
    "* Announcement of IBM's spin-off company:<br/>https://newsroom.ibm.com/2020-10-08-IBM-To-Accelerate-Hybrid-Cloud-Growth-Strategy-And-Execute-Spin-Off-Of-Market-Leading-Managed-Infrastructure-Services-Unit\n",
    "\n",
    "\n",
    "* IBM stock price jumped in the morning of Aug 08, 2020 (image from Google) ![IBM stock price jumped from Oct 07 to Oct 08](./img/IBM-stock-2020-Oct-05-to-09.PNG \"IBM stock price jumped from Oct 07 to Oct 08\")\n",
    "\n"
   ]
  },
  {
   "cell_type": "markdown",
   "metadata": {},
   "source": [
    "### Fixed income (Bonds)\n",
    "\n",
    "Description at the US SEC (Securities and Exchanges Commission):<br/>\n",
    "https://www.investor.gov/introduction-investing/investing-basics/investment-products/bonds-or-fixed-income-products/bonds\n",
    "\n",
    "T-Bills (sometimes categorized under Cash):<br/>\n",
    "Explain how they're quoted - https://www.newyorkfed.org/aboutthefed/fedpoint/fed07.html\n",
    "\n",
    "Coupons vs Dividends: what are the differnces and similarities\n",
    "\n",
    "###### Example: Discounting a fixed list of coupons\n"
   ]
  },
  {
   "cell_type": "markdown",
   "metadata": {},
   "source": [
    "### FX"
   ]
  },
  {
   "cell_type": "markdown",
   "metadata": {},
   "source": [
    "FX: Foreign Exchange\n",
    "\n",
    "currencies, incl crypto\n",
    "\n",
    "\n",
    "who wins, who loses\n",
    "\n",
    "\n",
    "Compare autocorrelation length of FX with autocorrelation length of the other asset classes\n",
    "\n",
    "\n",
    "Compare trading volumes of some asset classes, and within those some types of products"
   ]
  },
  {
   "cell_type": "markdown",
   "metadata": {},
   "source": [
    "### Commodities"
   ]
  },
  {
   "cell_type": "markdown",
   "metadata": {},
   "source": [
    "intro: https://global.pimco.com/en-gbl/resources/education/understanding-commodities"
   ]
  },
  {
   "cell_type": "markdown",
   "metadata": {},
   "source": [
    "### Correlations between asset classes\n",
    "\n",
    ". Fidelity Total Bond Fund (FTBFX) https://finance.yahoo.com/quote/FTBFX/history<br/>\n",
    ". BBG Commodity (^BCOM) https://finance.yahoo.com/quote/%5EBCOM/history<br/>\n",
    ". S&P 500 (^GSPC) https://finance.yahoo.com/quote/%5EGSPC/history<br/>\n",
    ". Wilshire US Real Estate Securities Price Index (Wilshire US RESI), https://fred.stlouisfed.org/series/WILLRESIPR<br/>\n",
    ". add a credit index<br/>\n",
    ". add one FX\n",
    "\n",
    "<span style='color:red;background-color:yellow;font-weight:bold;'>^^^ fix: RuntimeWarning: invalid value encountered in log</span>\n",
    "\n",
    "<span style='color:red;background-color:yellow;font-weight:bold;'>^^^ fix this: CP has only monthly data, no daily</span>"
   ]
  },
  {
   "cell_type": "code",
   "execution_count": 59,
   "metadata": {},
   "outputs": [
    {
     "data": {
      "text/html": [
       "<div>\n",
       "<style scoped>\n",
       "    .dataframe tbody tr th:only-of-type {\n",
       "        vertical-align: middle;\n",
       "    }\n",
       "\n",
       "    .dataframe tbody tr th {\n",
       "        vertical-align: top;\n",
       "    }\n",
       "\n",
       "    .dataframe thead th {\n",
       "        text-align: right;\n",
       "    }\n",
       "</style>\n",
       "<table border=\"1\" class=\"dataframe\">\n",
       "  <thead>\n",
       "    <tr style=\"text-align: right;\">\n",
       "      <th></th>\n",
       "      <th>FTBFX</th>\n",
       "      <th>^BCOM</th>\n",
       "      <th>^GSPC</th>\n",
       "      <th>WILLRESIPR</th>\n",
       "    </tr>\n",
       "  </thead>\n",
       "  <tbody>\n",
       "    <tr>\n",
       "      <th>1927-12-30</th>\n",
       "      <td>NaN</td>\n",
       "      <td>NaN</td>\n",
       "      <td>NaN</td>\n",
       "      <td>NaN</td>\n",
       "    </tr>\n",
       "    <tr>\n",
       "      <th>1928-01-03</th>\n",
       "      <td>NaN</td>\n",
       "      <td>NaN</td>\n",
       "      <td>0.005647</td>\n",
       "      <td>NaN</td>\n",
       "    </tr>\n",
       "    <tr>\n",
       "      <th>1928-01-04</th>\n",
       "      <td>NaN</td>\n",
       "      <td>NaN</td>\n",
       "      <td>-0.002255</td>\n",
       "      <td>NaN</td>\n",
       "    </tr>\n",
       "    <tr>\n",
       "      <th>1928-01-05</th>\n",
       "      <td>NaN</td>\n",
       "      <td>NaN</td>\n",
       "      <td>-0.009640</td>\n",
       "      <td>NaN</td>\n",
       "    </tr>\n",
       "    <tr>\n",
       "      <th>1928-01-06</th>\n",
       "      <td>NaN</td>\n",
       "      <td>NaN</td>\n",
       "      <td>0.006248</td>\n",
       "      <td>NaN</td>\n",
       "    </tr>\n",
       "    <tr>\n",
       "      <th>...</th>\n",
       "      <td>...</td>\n",
       "      <td>...</td>\n",
       "      <td>...</td>\n",
       "      <td>...</td>\n",
       "    </tr>\n",
       "    <tr>\n",
       "      <th>2020-10-05</th>\n",
       "      <td>-0.002617</td>\n",
       "      <td>0.017750</td>\n",
       "      <td>0.017813</td>\n",
       "      <td>0.006577</td>\n",
       "    </tr>\n",
       "    <tr>\n",
       "      <th>2020-10-06</th>\n",
       "      <td>0.001745</td>\n",
       "      <td>0.004914</td>\n",
       "      <td>-0.014072</td>\n",
       "      <td>-0.003683</td>\n",
       "    </tr>\n",
       "    <tr>\n",
       "      <th>2020-10-07</th>\n",
       "      <td>-0.000872</td>\n",
       "      <td>0.005587</td>\n",
       "      <td>0.017247</td>\n",
       "      <td>0.001821</td>\n",
       "    </tr>\n",
       "    <tr>\n",
       "      <th>2020-10-08</th>\n",
       "      <td>0.001744</td>\n",
       "      <td>0.005001</td>\n",
       "      <td>0.007978</td>\n",
       "      <td>NaN</td>\n",
       "    </tr>\n",
       "    <tr>\n",
       "      <th>2020-10-09</th>\n",
       "      <td>-0.026480</td>\n",
       "      <td>0.014992</td>\n",
       "      <td>0.008755</td>\n",
       "      <td>NaN</td>\n",
       "    </tr>\n",
       "  </tbody>\n",
       "</table>\n",
       "<p>23351 rows × 4 columns</p>\n",
       "</div>"
      ],
      "text/plain": [
       "               FTBFX  \\\n",
       "1927-12-30       NaN   \n",
       "1928-01-03       NaN   \n",
       "1928-01-04       NaN   \n",
       "1928-01-05       NaN   \n",
       "1928-01-06       NaN   \n",
       "...              ...   \n",
       "2020-10-05 -0.002617   \n",
       "2020-10-06  0.001745   \n",
       "2020-10-07 -0.000872   \n",
       "2020-10-08  0.001744   \n",
       "2020-10-09 -0.026480   \n",
       "\n",
       "               ^BCOM  \\\n",
       "1927-12-30       NaN   \n",
       "1928-01-03       NaN   \n",
       "1928-01-04       NaN   \n",
       "1928-01-05       NaN   \n",
       "1928-01-06       NaN   \n",
       "...              ...   \n",
       "2020-10-05  0.017750   \n",
       "2020-10-06  0.004914   \n",
       "2020-10-07  0.005587   \n",
       "2020-10-08  0.005001   \n",
       "2020-10-09  0.014992   \n",
       "\n",
       "               ^GSPC  \\\n",
       "1927-12-30       NaN   \n",
       "1928-01-03  0.005647   \n",
       "1928-01-04 -0.002255   \n",
       "1928-01-05 -0.009640   \n",
       "1928-01-06  0.006248   \n",
       "...              ...   \n",
       "2020-10-05  0.017813   \n",
       "2020-10-06 -0.014072   \n",
       "2020-10-07  0.017247   \n",
       "2020-10-08  0.007978   \n",
       "2020-10-09  0.008755   \n",
       "\n",
       "            WILLRESIPR  \n",
       "1927-12-30        NaN   \n",
       "1928-01-03        NaN   \n",
       "1928-01-04        NaN   \n",
       "1928-01-05        NaN   \n",
       "1928-01-06        NaN   \n",
       "...               ...   \n",
       "2020-10-05   0.006577   \n",
       "2020-10-06  -0.003683   \n",
       "2020-10-07   0.001821   \n",
       "2020-10-08        NaN   \n",
       "2020-10-09        NaN   \n",
       "\n",
       "[23351 rows x 4 columns]"
      ]
     },
     "metadata": {},
     "output_type": "display_data"
    }
   ],
   "source": [
    "import os\n",
    "import pandas as pd\n",
    "import numpy as np\n",
    "\n",
    "DATA_DIR = 'data'\n",
    "DATA_SETS = {'FTBFX': {'Type': 'Yahoo', 'Name': 'Fidelity Total Bond Fund'},\n",
    "             '^BCOM': {'Type': 'Yahoo', 'Name': 'BBG Commodity'},\n",
    "             '^GSPC': {'Type': 'Yahoo', 'Name': 'S&P 500'}, \n",
    "             'WILLRESIPR': {'Type': 'FRED', 'Name': 'Wilshire US Real Estate Securities Price Index'}}\n",
    "FILE_EXT = 'csv'\n",
    "\n",
    "\n",
    "def read_data(data_dir=None, data_sets=None, file_ext=None):\n",
    "    df_all = pd.DataFrame()\n",
    "    for data_set_code, data_set_params in data_sets.items():\n",
    "\n",
    "        # read data for the current data set\n",
    "        df = pd.read_csv(os.path.join(data_dir, data_set_code + '.' + file_ext), na_values=['.', 0])\n",
    "        if data_set_params['Type'] == 'Yahoo':\n",
    "            df.index = pd.to_datetime(df['Date'])\n",
    "        elif data_set_params['Type'] == 'FRED':\n",
    "            df.index = pd.to_datetime(df['DATE'])\n",
    "            df['Close'] = df[data_set_code]\n",
    "        else:\n",
    "            raise ValueError('Reading data of this type is not implemented: {}'.format(data_set_params['Type']))\n",
    "\n",
    "        # save the daily log return of the current data set\n",
    "        r = pd.DataFrame(np.log(df['Close']) - np.log(df['Close'].shift()))\n",
    "        r.columns = [data_set_code]\n",
    "        if len(df_all.columns) == 0:\n",
    "            df_all = r.copy()\n",
    "        else:\n",
    "            df_all = pd.concat([df_all, r], axis=1)\n",
    "\n",
    "    return df_all\n",
    "\n",
    "\n",
    "df_all = read_data(data_dir=DATA_DIR, data_sets=DATA_SETS, file_ext=FILE_EXT)\n",
    "display(df_all)"
   ]
  },
  {
   "cell_type": "markdown",
   "metadata": {},
   "source": [
    "### Credit\n",
    "https://www.investopedia.com/terms/c/credit_market.asp\n",
    "\n",
    "Difference between Credit market and Bonds"
   ]
  },
  {
   "cell_type": "markdown",
   "metadata": {},
   "source": [
    "### Real Estate\n",
    "\n",
    "Wilshire Real Estate index, https://fred.stlouisfed.org/series/WILLRESIPR\n",
    "\n"
   ]
  },
  {
   "cell_type": "markdown",
   "metadata": {},
   "source": [
    "### Infrastructure"
   ]
  },
  {
   "cell_type": "markdown",
   "metadata": {},
   "source": [
    "## Constructing financial products with Derivatives\n",
    "\n",
    "Futures, Forwards, Options, ...\n",
    "\n",
    "Put-Call parity\n",
    "\n",
    "Greeks\n",
    "\n",
    "Hedging with derivatives"
   ]
  },
  {
   "cell_type": "markdown",
   "metadata": {},
   "source": [
    "## Derivative financial products\n",
    "\n",
    "Each asset class has its own\n",
    "\n",
    "Can combine asset classes\n"
   ]
  },
  {
   "cell_type": "markdown",
   "metadata": {},
   "source": [
    "## Recommended\n",
    "\n",
    "https://www.investopedia.com --> Equity, Commodity, Credit, FX, Derivatives"
   ]
  }
 ],
 "metadata": {
  "kernelspec": {
   "display_name": "Python 3",
   "language": "python",
   "name": "python3"
  },
  "language_info": {
   "codemirror_mode": {
    "name": "ipython",
    "version": 3
   },
   "file_extension": ".py",
   "mimetype": "text/x-python",
   "name": "python",
   "nbconvert_exporter": "python",
   "pygments_lexer": "ipython3",
   "version": "3.8.5"
  },
  "toc": {
   "base_numbering": 1,
   "nav_menu": {},
   "number_sections": true,
   "sideBar": true,
   "skip_h1_title": false,
   "title_cell": "Table of Contents",
   "title_sidebar": "Contents",
   "toc_cell": false,
   "toc_position": {},
   "toc_section_display": true,
   "toc_window_display": true
  }
 },
 "nbformat": 4,
 "nbformat_minor": 4
}
