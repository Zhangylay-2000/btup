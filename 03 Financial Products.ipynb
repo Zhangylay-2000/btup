{
 "cells": [
  {
   "cell_type": "markdown",
   "metadata": {},
   "source": [
    "<span style='color:red;background-color:yellow;font-weight:bold;'>^^^ fill missing, provide examples</span>\n",
    "\n",
    "<span style='color:red;background-color:yellow;font-weight:bold;'>^^^ could call next section \"Financial Markets\"</span>\n",
    "\n",
    "<span style='color:red;background-color:yellow;font-weight:bold;'>^^^ asset classes (see pimco example): correlation matrix of (1) annual returns (2) daily returns within two selected years (allow selection)</span>\n",
    "\n",
    "<span style='color:red;background-color:yellow;font-weight:bold;'>^^^ how does the order book work</span>"
   ]
  },
  {
   "cell_type": "markdown",
   "metadata": {},
   "source": [
    "## Basic (non-derivative) financial products by asset class"
   ]
  },
  {
   "cell_type": "markdown",
   "metadata": {},
   "source": [
    "### Stocks (Equities)\n",
    "A stock (equity investment) is a partial ownership of a commercial entity.\n",
    "\n",
    "Net income/expenses arise from: (1) change in value while owning it (2) dividends (3) debts and liabilities.\n",
    "<br/>\n",
    "Here \"net\" means the sum of the listed items with their respective signs: plus sign for income, minus sign for expense.\n",
    "\n",
    "###### Dividends\n",
    "\n",
    "Dividends: payments to shareholders<br/>\n",
    "<span style='color:red;background-color:yellow;font-weight:bold;'>^^^ show influence of dividend on share price</span>\n",
    "\n",
    "\n",
    "###### Example: IBM split announced in the morning of Oct 08, 2020\n",
    "\n",
    "* Announcement of IBM's spin-off company:<br/>https://newsroom.ibm.com/2020-10-08-IBM-To-Accelerate-Hybrid-Cloud-Growth-Strategy-And-Execute-Spin-Off-Of-Market-Leading-Managed-Infrastructure-Services-Unit\n",
    "\n",
    "\n",
    "* IBM stock price jumped in the morning of Aug 08, 2020 (image from Google) ![IBM stock price jumped from Oct 07 to Oct 08](./img/IBM-stock-2020-Oct-05-to-09.PNG \"IBM stock price jumped from Oct 07 to Oct 08\")\n",
    "\n"
   ]
  },
  {
   "cell_type": "markdown",
   "metadata": {},
   "source": [
    "### Fixed income (Bonds)\n",
    "\n",
    "Description at the US SEC (Securities and Exchanges Commission):<br/>\n",
    "https://www.investor.gov/introduction-investing/investing-basics/investment-products/bonds-or-fixed-income-products/bonds\n",
    "\n",
    "T-Bills (sometimes categorized under Cash):<br/>\n",
    "Explain how they're quoted - https://www.newyorkfed.org/aboutthefed/fedpoint/fed07.html\n",
    "\n",
    "Coupons vs Dividends: what are the differnces and similarities\n",
    "\n",
    "###### Example: Discounting a fixed list of coupons\n"
   ]
  },
  {
   "cell_type": "markdown",
   "metadata": {},
   "source": [
    "### FX"
   ]
  },
  {
   "cell_type": "markdown",
   "metadata": {},
   "source": [
    "FX: Foreign Exchange\n",
    "\n",
    "currencies, incl crypto\n",
    "\n",
    "\n",
    "who wins, who loses\n",
    "\n",
    "\n",
    "Compare autocorrelation length of FX with autocorrelation length of the other asset classes\n",
    "\n",
    "\n",
    "Compare trading volumes of some asset classes, and within those some types of products"
   ]
  },
  {
   "cell_type": "markdown",
   "metadata": {},
   "source": [
    "### Commodities"
   ]
  },
  {
   "cell_type": "markdown",
   "metadata": {},
   "source": [
    "intro: https://global.pimco.com/en-gbl/resources/education/understanding-commodities"
   ]
  },
  {
   "cell_type": "markdown",
   "metadata": {},
   "source": [
    "### Correlations between asset classes\n",
    "\n",
    ". Fidelity Total Bond Fund (FTBFX) https://finance.yahoo.com/quote/FTBFX/history<br/>\n",
    ". BBG Commodity (^BCOM) https://finance.yahoo.com/quote/%5EBCOM/history<br/>\n",
    ". S&P 500 (^GSPC) https://finance.yahoo.com/quote/%5EGSPC/history<br/>\n",
    ". US Consumer Price Index, https://fred.stlouisfed.org/series/CPALTT01USM657N<br/>\n",
    ". Wilshire US Real Estate Securities Price Index (Wilshire US RESI), https://fred.stlouisfed.org/series/WILLRESIPR<br/>\n",
    ". add a credit index<br/>\n",
    ". add one FX\n",
    "\n",
    "<span style='color:red;background-color:yellow;font-weight:bold;'>^^^ fix: RuntimeWarning: invalid value encountered in log</span>\n",
    "\n",
    "<span style='color:red;background-color:yellow;font-weight:bold;'>^^^ fix this: CP has only monthly data, no daily</span>"
   ]
  },
  {
   "cell_type": "code",
   "execution_count": 30,
   "metadata": {},
   "outputs": [
    {
     "name": "stderr",
     "output_type": "stream",
     "text": [
      "C:\\Users\\illes\\anaconda3\\envs\\fin_course_env\\lib\\site-packages\\pandas\\core\\series.py:726: RuntimeWarning: invalid value encountered in log\n",
      "  result = getattr(ufunc, method)(*inputs, **kwargs)\n"
     ]
    },
    {
     "data": {
      "text/html": [
       "<div>\n",
       "<style scoped>\n",
       "    .dataframe tbody tr th:only-of-type {\n",
       "        vertical-align: middle;\n",
       "    }\n",
       "\n",
       "    .dataframe tbody tr th {\n",
       "        vertical-align: top;\n",
       "    }\n",
       "\n",
       "    .dataframe thead th {\n",
       "        text-align: right;\n",
       "    }\n",
       "</style>\n",
       "<table border=\"1\" class=\"dataframe\">\n",
       "  <thead>\n",
       "    <tr style=\"text-align: right;\">\n",
       "      <th></th>\n",
       "      <th>FTBFX</th>\n",
       "      <th>^BCOM</th>\n",
       "      <th>^GSPC</th>\n",
       "      <th>CPALTT01USM657N</th>\n",
       "      <th>WILLRESIPR</th>\n",
       "    </tr>\n",
       "    <tr>\n",
       "      <th>Date</th>\n",
       "      <th></th>\n",
       "      <th></th>\n",
       "      <th></th>\n",
       "      <th></th>\n",
       "      <th></th>\n",
       "    </tr>\n",
       "  </thead>\n",
       "  <tbody>\n",
       "    <tr>\n",
       "      <th>2002-10-16</th>\n",
       "      <td>NaN</td>\n",
       "      <td>-0.002339</td>\n",
       "      <td>-0.024408</td>\n",
       "      <td>NaN</td>\n",
       "      <td>NaN</td>\n",
       "    </tr>\n",
       "    <tr>\n",
       "      <th>2002-10-17</th>\n",
       "      <td>NaN</td>\n",
       "      <td>0.005417</td>\n",
       "      <td>0.022057</td>\n",
       "      <td>NaN</td>\n",
       "      <td>NaN</td>\n",
       "    </tr>\n",
       "    <tr>\n",
       "      <th>2002-10-18</th>\n",
       "      <td>NaN</td>\n",
       "      <td>-0.006635</td>\n",
       "      <td>0.005886</td>\n",
       "      <td>NaN</td>\n",
       "      <td>NaN</td>\n",
       "    </tr>\n",
       "    <tr>\n",
       "      <th>2002-10-21</th>\n",
       "      <td>NaN</td>\n",
       "      <td>-0.011031</td>\n",
       "      <td>0.017185</td>\n",
       "      <td>NaN</td>\n",
       "      <td>NaN</td>\n",
       "    </tr>\n",
       "    <tr>\n",
       "      <th>2002-10-22</th>\n",
       "      <td>NaN</td>\n",
       "      <td>-0.005419</td>\n",
       "      <td>-0.010682</td>\n",
       "      <td>NaN</td>\n",
       "      <td>NaN</td>\n",
       "    </tr>\n",
       "    <tr>\n",
       "      <th>...</th>\n",
       "      <td>...</td>\n",
       "      <td>...</td>\n",
       "      <td>...</td>\n",
       "      <td>...</td>\n",
       "      <td>...</td>\n",
       "    </tr>\n",
       "    <tr>\n",
       "      <th>2020-10-05</th>\n",
       "      <td>NaN</td>\n",
       "      <td>0.017750</td>\n",
       "      <td>0.017813</td>\n",
       "      <td>NaN</td>\n",
       "      <td>0.006577</td>\n",
       "    </tr>\n",
       "    <tr>\n",
       "      <th>2020-10-06</th>\n",
       "      <td>NaN</td>\n",
       "      <td>0.004914</td>\n",
       "      <td>-0.014072</td>\n",
       "      <td>NaN</td>\n",
       "      <td>-0.003683</td>\n",
       "    </tr>\n",
       "    <tr>\n",
       "      <th>2020-10-07</th>\n",
       "      <td>NaN</td>\n",
       "      <td>0.005587</td>\n",
       "      <td>0.017247</td>\n",
       "      <td>NaN</td>\n",
       "      <td>0.001821</td>\n",
       "    </tr>\n",
       "    <tr>\n",
       "      <th>2020-10-08</th>\n",
       "      <td>NaN</td>\n",
       "      <td>0.005001</td>\n",
       "      <td>0.007978</td>\n",
       "      <td>NaN</td>\n",
       "      <td>NaN</td>\n",
       "    </tr>\n",
       "    <tr>\n",
       "      <th>2020-10-09</th>\n",
       "      <td>NaN</td>\n",
       "      <td>0.014992</td>\n",
       "      <td>0.008755</td>\n",
       "      <td>NaN</td>\n",
       "      <td>NaN</td>\n",
       "    </tr>\n",
       "  </tbody>\n",
       "</table>\n",
       "<p>4528 rows × 5 columns</p>\n",
       "</div>"
      ],
      "text/plain": [
       "           FTBFX     ^BCOM     ^GSPC  CPALTT01USM657N  WILLRESIPR\n",
       "Date                                                             \n",
       "2002-10-16   NaN -0.002339 -0.024408              NaN         NaN\n",
       "2002-10-17   NaN  0.005417  0.022057              NaN         NaN\n",
       "2002-10-18   NaN -0.006635  0.005886              NaN         NaN\n",
       "2002-10-21   NaN -0.011031  0.017185              NaN         NaN\n",
       "2002-10-22   NaN -0.005419 -0.010682              NaN         NaN\n",
       "...          ...       ...       ...              ...         ...\n",
       "2020-10-05   NaN  0.017750  0.017813              NaN    0.006577\n",
       "2020-10-06   NaN  0.004914 -0.014072              NaN   -0.003683\n",
       "2020-10-07   NaN  0.005587  0.017247              NaN    0.001821\n",
       "2020-10-08   NaN  0.005001  0.007978              NaN         NaN\n",
       "2020-10-09   NaN  0.014992  0.008755              NaN         NaN\n",
       "\n",
       "[4528 rows x 5 columns]"
      ]
     },
     "metadata": {},
     "output_type": "display_data"
    }
   ],
   "source": [
    "import os\n",
    "import pandas as pd\n",
    "import matplotlib.pyplot as plt\n",
    "import numpy as np\n",
    "\n",
    "DATA_DIR = 'data'\n",
    "DATA_SETS = {'FTBFX': {'Type': 'Yahoo', 'Name': 'Fidelity Total Bond Fund'},\n",
    "             '^BCOM': {'Type': 'Yahoo', 'Name': 'BBG Commodity'},\n",
    "             '^GSPC': {'Type': 'Yahoo', 'Name': 'S&P 500'}, \n",
    "             'CPALTT01USM657N': {'Type': 'FRED', 'Name': 'US Consumer Price Index'},\n",
    "             'WILLRESIPR': {'Type': 'FRED', 'Name': 'Wilshire US Real Estate Securities Price Index'}}\n",
    "FILE_EXT = 'csv'\n",
    "\n",
    "\n",
    "def read_data(data_dir=None, data_sets=None, file_ext=None):\n",
    "    df_all = pd.DataFrame()\n",
    "    for data_set_code, data_set_params in data_sets.items():\n",
    "        df = pd.read_csv(os.path.join(data_dir, data_set_code + '.' + file_ext), na_values=['.', 0])\n",
    "        if data_set_params['Type'] == 'Yahoo':\n",
    "            df.index = pd.to_datetime(df['Date'])\n",
    "        elif data_set_params['Type'] == 'FRED':\n",
    "            df.index = pd.to_datetime(df['DATE'])\n",
    "            df['Close'] = df[data_set_code]\n",
    "        else:\n",
    "            raise ValueError('Reading data of this type is not implemented: {}'.format(data_set_params['Type']))\n",
    "\n",
    "        from numbers import Number\n",
    "        for _ in df['Close'].values:\n",
    "            if not isinstance(_, Number) and not _ > 0.0:\n",
    "                print('{} {}'.format(data_set_code, _))\n",
    "\n",
    "        df['DailyLogReturn'] = np.log(df['Close']) - np.log(df['Close'].shift())\n",
    "        if len(df_all.columns) == 0:\n",
    "            df_all = pd.DataFrame(data=df['DailyLogReturn'], index=df['DailyLogReturn'].index, columns=[data_set_code])\n",
    "        else:\n",
    "            df_all[data_set_code] = df['DailyLogReturn']\n",
    "\n",
    "    return df_all\n",
    "\n",
    "\n",
    "df_all = read_data(data_dir=DATA_DIR, data_sets=DATA_SETS, file_ext=FILE_EXT)\n",
    "display(df_all)"
   ]
  },
  {
   "cell_type": "markdown",
   "metadata": {},
   "source": [
    "### Credit\n",
    "https://www.investopedia.com/terms/c/credit_market.asp\n",
    "\n",
    "Difference between Credit market and Bonds"
   ]
  },
  {
   "cell_type": "markdown",
   "metadata": {},
   "source": [
    "### Real Estate\n",
    "\n",
    "Wilshire Real Estate index, https://fred.stlouisfed.org/series/WILLRESIPR\n",
    "\n"
   ]
  },
  {
   "cell_type": "markdown",
   "metadata": {},
   "source": [
    "### Infrastructure"
   ]
  },
  {
   "cell_type": "markdown",
   "metadata": {},
   "source": [
    "## Constructing financial products with Derivatives\n",
    "\n",
    "Futures, Forwards, Options, ...\n",
    "\n",
    "Put-Call parity\n",
    "\n",
    "Greeks\n",
    "\n",
    "Hedging with derivatives"
   ]
  },
  {
   "cell_type": "markdown",
   "metadata": {},
   "source": [
    "## Derivative financial products\n",
    "\n",
    "Each asset class has its own\n",
    "\n",
    "Can combine asset classes\n"
   ]
  },
  {
   "cell_type": "markdown",
   "metadata": {},
   "source": [
    "## Recommended\n",
    "\n",
    "https://www.investopedia.com --> Equity, Commodity, Credit, FX, Derivatives"
   ]
  }
 ],
 "metadata": {
  "kernelspec": {
   "display_name": "Python 3",
   "language": "python",
   "name": "python3"
  },
  "language_info": {
   "codemirror_mode": {
    "name": "ipython",
    "version": 3
   },
   "file_extension": ".py",
   "mimetype": "text/x-python",
   "name": "python",
   "nbconvert_exporter": "python",
   "pygments_lexer": "ipython3",
   "version": "3.8.5"
  },
  "toc": {
   "base_numbering": 1,
   "nav_menu": {},
   "number_sections": true,
   "sideBar": true,
   "skip_h1_title": false,
   "title_cell": "Table of Contents",
   "title_sidebar": "Contents",
   "toc_cell": false,
   "toc_position": {},
   "toc_section_display": true,
   "toc_window_display": true
  }
 },
 "nbformat": 4,
 "nbformat_minor": 4
}
