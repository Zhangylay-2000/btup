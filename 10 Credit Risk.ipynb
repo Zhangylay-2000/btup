{
 "cells": [
  {
   "cell_type": "markdown",
   "metadata": {},
   "source": [
    "Golin, Delhaise - The Bank Credit Analysis Handbook<br/>\n",
    "Chapter 1. The Credit Decision\n",
    "\n",
    "De Laurentis, Maino, Molteni - Developing, Validating and Using Internal Ratings<br/>\n",
    "Chapter 2. Classifications and Key Concepts of Credit Risk\n",
    "\n",
    "Suggested items:\n",
    "* Calculation of Default risk\n",
    "* Expected and unexpected loss\n",
    "* Credit VaR\n",
    "* Pty/Cpty risk, CVA, FVA\n",
    "* Derivatives"
   ]
  }
 ],
 "metadata": {
  "kernelspec": {
   "display_name": "Python 3",
   "language": "python",
   "name": "python3"
  },
  "language_info": {
   "codemirror_mode": {
    "name": "ipython",
    "version": 3
   },
   "file_extension": ".py",
   "mimetype": "text/x-python",
   "name": "python",
   "nbconvert_exporter": "python",
   "pygments_lexer": "ipython3",
   "version": "3.8.5"
  },
  "toc": {
   "base_numbering": 1,
   "nav_menu": {},
   "number_sections": true,
   "sideBar": true,
   "skip_h1_title": false,
   "title_cell": "Table of Contents",
   "title_sidebar": "Contents",
   "toc_cell": false,
   "toc_position": {},
   "toc_section_display": true,
   "toc_window_display": true
  }
 },
 "nbformat": 4,
 "nbformat_minor": 4
}
