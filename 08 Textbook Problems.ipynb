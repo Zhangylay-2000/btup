{
 "cells": [
  {
   "cell_type": "markdown",
   "metadata": {},
   "source": [
    "**TODO:** move these to the appropriate previous notebooks"
   ]
  },
  {
   "cell_type": "markdown",
   "metadata": {},
   "source": [
    "## Exercises"
   ]
  },
  {
   "cell_type": "markdown",
   "metadata": {},
   "source": [
    "### Forward rates\n",
    "\n",
    "#### Discrete with specific numbers\n",
    "\n",
    "###### Question\n",
    "If the $\\,\\mathrm{3Y}\\,$ bond pays $\\,4\\%\\,$, and the $\\,\\mathrm{5Y}\\,$ bond pays $\\,4.5\\%\\,$, then is the $\\,\\mathrm{3Y}\\to\\mathrm{5Y}\\,$ forward rate $\\,0.5\\%\\,$?<br/>\n",
    "`Help:` use the definitions to calculate the forward rate."
   ]
  },
  {
   "cell_type": "markdown",
   "metadata": {},
   "source": [
    "#### Discrete, generalized\n",
    "\n",
    "###### Question\n",
    "If $\\,N\\,$ and $\\,k\\,$ are positive integers, the simple rate is known for the tenors $\\,1\\,,\\,2\\,,\\,\\dots\\,N\\,,$\n",
    "<br/>and $\\,0\\le t\\le N-k\\,$, then what is the forward rate $\\,F\\left(\\,t,\\,t+k\\,\\right)\\,$ ?<br/>\n",
    "`Help:` with $\\,T=t+k\\,$ use the definitions to calculate first $\\,P\\left(\\,t,\\,T\\,\\right)\\,$,\n",
    "and then $\\,F\\left(\\,t,\\,t+k\\,\\right)\\,$."
   ]
  },
  {
   "cell_type": "markdown",
   "metadata": {},
   "source": [
    "### Portfolio analysis\n",
    "\n",
    "###### Question\n",
    "1. A portfolio has $\\,\\beta=0.68\\,$ and an expected return of $\\,q=4.6\\%\\,$. The market risk premium is $\\,4.03\\%\\,$. The risk-free rate is $\\,2.12\\%$. What is Jensen’s $\\,\\alpha\\,$ for this portfolio ?<br/>`Help:` use the definition of the market risk premium and Jensen's $\\,\\alpha\\,$."
   ]
  },
  {
   "cell_type": "markdown",
   "metadata": {},
   "source": [
    "### Derivative pricing \n",
    "\n",
    "#### Call option\n",
    "###### Question\n",
    "How does the price of a call option change (European call option a non-dividend-paying underlying stock), if the spot of the underlying stock and the strike are multiplied by the same number ?<br/>`Help:` use the Black-Scholes formula for the price of the call option.\n",
    "\n",
    "#### Put-call parity\n",
    "###### Question\n",
    "Based on the price of a European call option and the put-call parity, calculate the price of a European put option with the same parameters.<br/>`Help:` use the Black-Scholes call option price, the forward price and the put-call parity."
   ]
  },
  {
   "cell_type": "markdown",
   "metadata": {},
   "source": [
    "#### Delta\n",
    "###### Question\n",
    "Calculate the $\\,\\Delta\\,$ of a call option based on the Black-Scholes formula, and plot it as a function<br/>of the spot price with three volatility values used as a parameter of three plotted curves.<br/>`Help:` use the Black-Scholes formula for the price of the call option and the definition of $\\,\\Delta\\,$.\n",
    "\n",
    "###### Answer\n",
    "\n",
    "(1) Let  $\\ d_{\\ 1}={\\displaystyle{\\frac{\\log\\left(\\frac{S}{K}\\right) + \\left(\\ r + \\frac{\\sigma^{\\ 2}}{2}\\right) T  }{\\sigma\\ \\sqrt{T\\,}} }}\\ $    and    $\\ d_{\\ 2}=d_{\\ 1}-\\sigma\\ \\sqrt{T\\,}\\,$.\n",
    "\n",
    "(2) The B-S price of a European call option on a non-dividend-paying underlying stock is  &nbsp;\n",
    "$c=S\\ N \\left(\\ d_{\\ 1}\\ \\right) - K\\ e^{\\ -\\ r\\ T}\\ N \\left(\\ d_{\\ 2}\\ \\right)\\,$.\n",
    "\n",
    "(3) With differentiation, \n",
    "$\\,\\displaystyle{\\Delta=\\frac{\\partial\\,c}{\\partial\\,S}=N\\!\\left(d_{1}\\right)\\color{green}{+S\\,N'\\!\\!\\left(d_{1}\\right)\\frac{\\partial\\,d_1}{\\partial\\,S}}\\color{blue}{-K\\,e^{-r\\,T}N'\\!\\!\\left(d_{2}\\right)\\frac{\\partial\\,d_2}{\\partial\\,S}}}\\,$.\n",
    "<br/>&nbsp;&nbsp;&nbsp;&nbsp;&nbsp;&nbsp;Below, we will show that the green and blue terms cancel each other. \n",
    "\n",
    "(4) To prove (3), we will show now that<br/>\n",
    "$${S\\,N'\\!\\!\\left(d_{1}\\right)\\frac{\\partial\\,d_1}{\\partial\\,S}=\n",
    "K\\,e^{-r\\,T}N'\\!\\!\\left(d_{2}\\right)\\frac{\\partial\\,d_2}{\\partial\\,S}}$$\n",
    "\n",
    "(5) From (1) we have $\\,\\displaystyle{\\frac{\\partial\\,d_1}{\\partial\\,S}=\\frac{\\partial\\,d_2}{\\partial\\,S}}\\,$. Divide both sides of (4) with this term to get\n",
    "$${S\\,N'\\!\\!\\left(d_{1}\\right)=K\\,e^{-r\\,T}N'\\!\\!\\left(d_{2}\\right)}$$\n",
    "\n",
    "(6) $N\\!\\left(x\\right)\\,$ is the CDF of the std. normal distribution. Insert $\\,N'\\!\\!\\left(x\\right)=\\frac{1}{\\sqrt{2\\pi}}\\,e^{-x^2\\,\\mathit{/}\\,2}\\,$ on both sides and multiply by $\\sqrt{2\\pi\\,}$:\n",
    "\n",
    "$$S\\,e^{-d_1^{\\,2}\\mathit{/}\\,2}=K\\,e^{-r\\,T}e^{-d_2^{\\,2}\\mathit{/}\\,2}$$\n",
    "\n",
    "(7) Multiply both sides by $\\,e^{\\,d_1^{\\,2}\\mathit{/}\\,2} K^{-1} e^{\\,r\\,T}\\,$, take the logarithms of both sides, and multiply by $2$:\n",
    "\n",
    "$$2\\,r\\,T\\,\\log\\left(S\\,\\mathit{/}\\,K\\right)=d_1^{\\,2}-d_2^{\\,2}$$\n",
    "\n",
    "(8) Calculating the right hand side of (7) as $\\,\\left(d_1-d_2\\right)\\left(d_1+d_2\\right)\\,$ shows that (7) is true. This proves (4). The result from (3) is\n",
    "$$\\color{red}{\\Delta=\\frac{\\partial\\,c}{\\partial\\,S}=N\\!\\left(d_{1}\\right)}$$"
   ]
  },
  {
   "cell_type": "markdown",
   "metadata": {},
   "source": [
    "## Statistics"
   ]
  },
  {
   "cell_type": "markdown",
   "metadata": {},
   "source": [
    "### Logarithm of values\n",
    "###### Question\n",
    "\n",
    "Consider the i.i.d. (independently identically distributed) random numbers $\\,z_i\\left(t\\right)\\,$ with $\\,i=1, 2,\\dots, N\\,$. Compare the $\\,\\sigma_z\\,$ standard deviation of the $\\,z_i\\left(t\\right)\\,$ values with the logarithm of the $\\,\\sigma_S\\,$ standard deviation of the $\\,S_i=\\exp\\left(z_i\\right)\\,$ values. What are the conditions for $\\,\\sigma_z\\,$ and $\\,\\log\\left(\\sigma_S\\right)\\,$ to be equal ?"
   ]
  }
 ],
 "metadata": {
  "kernelspec": {
   "display_name": "Python 3 (ipykernel)",
   "language": "python",
   "name": "python3"
  },
  "language_info": {
   "codemirror_mode": {
    "name": "ipython",
    "version": 3
   },
   "file_extension": ".py",
   "mimetype": "text/x-python",
   "name": "python",
   "nbconvert_exporter": "python",
   "pygments_lexer": "ipython3",
   "version": "3.9.7"
  },
  "toc": {
   "base_numbering": 1,
   "nav_menu": {},
   "number_sections": true,
   "sideBar": true,
   "skip_h1_title": false,
   "title_cell": "Table of Contents",
   "title_sidebar": "Contents",
   "toc_cell": false,
   "toc_position": {},
   "toc_section_display": true,
   "toc_window_display": true
  }
 },
 "nbformat": 4,
 "nbformat_minor": 4
}
