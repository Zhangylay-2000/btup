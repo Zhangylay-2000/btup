{
 "cells": [
  {
   "cell_type": "markdown",
   "metadata": {},
   "source": [
    "## Exercises"
   ]
  },
  {
   "cell_type": "markdown",
   "metadata": {},
   "source": [
    "### Discounting, Present Value\n",
    "1. Today you receive a home loan in the amount of $\\,N\\,$. According to your contract, for each of the next $\\,m\\,$ months you will pay the fixed $\\,\\frac{N}{m} + x\\,$ amount at the end of each month. Assume that (a) the yearly constant continuously compounded risk-free rate is $\\,r\\,$ and (b) the length of each month is $\\,\\frac{1}{12}\\,$. What $\\,\\frac{x}{N}\\,$ ratio makes the sum of the PVs (present values) of your $\\,m\\,$ payments equal to the received $\\,N\\,$ amount ? Select a range of $\\,r\\,$ values and a fixed $\\,m\\,$ value, and plot the result.<br/>`Help:` use the definition of the $\\,\\mathrm{PV}\\,$.\n",
    "\n",
    "\n",
    "2. Please answer the same question if not $\\,r\\,$ is known, but the constant $\\,Y\\,$ yearly rate with monthly compounding.<br/>`Help:` convert $\\,Y\\,$ to $\\,r\\,$ and use the previous result.\n",
    "\n",
    "\n",
    "3. Convert the $\\,L\\left(1\\right)\\,$ simple rate to the equivalent semi-annually, quarterly, monthly and continuously compounded rates.<br/>`Help:` convert $\\,L\\,$ to $\\,r\\,$ and use the first result."
   ]
  },
  {
   "cell_type": "markdown",
   "metadata": {},
   "source": [
    "### Forward rates\n",
    "\n",
    "1. If the $\\,\\mathrm{3Y}\\,$ bond pays $\\,4\\%\\,$, and the $\\,\\mathrm{5Y}\\,$ bond pays $\\,4.5\\%\\,$, then is the $\\,\\mathrm{3Y}\\to\\mathrm{5Y}\\,$ forward rate $\\,0.5\\%\\,$?<br/>\n",
    "`Help:` use the definitions to calculate the forward rate.\n",
    "\n",
    "\n",
    "2. If $\\,N\\,$ and $\\,k\\,$ are positive integers, the simple rate is known for the tenors $\\,1\\,,\\,2\\,,\\,\\dots\\,N\\,,$\n",
    "<br/>and $\\,0\\le t\\le N-k\\,$, then what is the forward rate $\\,F\\left(\\,t,\\,t+k\\,\\right)\\,$ ?<br/>\n",
    "`Help:` with $\\,T=t+1\\,$ use the definitions to calculate first $\\,P\\left(\\,t,\\,T\\,\\right)\\,$,\n",
    "and then $\\,F\\left(\\,t,\\,t+1\\,\\right)\\,$.\n",
    "\n",
    "\n",
    "3. If the simple rate is a known differentiable $\\,L\\left(\\,t\\,\\right)\\,$ function, then what is the instantaneous forward rate ?<br/>`Help:` with $\\,T=t+dt\\,$ use the definitions to calculate first $\\,P\\left(\\,t,\\,T\\,\\right)\\,$, and then $\\,f\\left(\\,t\\,\\right)\\,$."
   ]
  },
  {
   "cell_type": "markdown",
   "metadata": {},
   "source": [
    "### Portfolio analysis\n",
    "\n",
    "1. A portfolio has $\\,\\beta=0.68\\,$ and an expected return of $\\,q=4.6\\%\\,$. The market risk premium is $\\,4.03\\%\\,$. The risk-free rate is $\\,2.12\\%$. What is Jensen’s $\\,\\alpha\\,$ for this portfolio ?<br/>`Help:` use the definition of the market risk premium and Jensen's $\\,\\alpha\\,$."
   ]
  },
  {
   "cell_type": "markdown",
   "metadata": {},
   "source": [
    "### Derivative pricing \n",
    "\n",
    "1. How does the price of a call option change (European call option a non-dividend-paying underlying stock), if the spot of the underlying stock and the strike are multiplied by the same number ?<br/>`Help:` use the Black-Scholes formula for the price of the call option.\n",
    "\n",
    "\n",
    "2. Based on the price of a European call option and the put-call parity, calculate the price of a European put option with the same parameters.<br/>`Help:` use the Black-Scholes call option price, the forward price and the put-call parity.\n",
    "\n",
    "\n",
    "3. Calculate and plot the $\\,\\Delta\\,$ of a call option based on the Black-Scholes formula.<br/>`Help:` use the Black-Scholes formula for the price of the call option and the definition of $\\,\\Delta\\,$."
   ]
  }
 ],
 "metadata": {
  "kernelspec": {
   "display_name": "Python 3",
   "language": "python",
   "name": "python3"
  },
  "language_info": {
   "codemirror_mode": {
    "name": "ipython",
    "version": 3
   },
   "file_extension": ".py",
   "mimetype": "text/x-python",
   "name": "python",
   "nbconvert_exporter": "python",
   "pygments_lexer": "ipython3",
   "version": "3.8.5"
  },
  "toc": {
   "base_numbering": 1,
   "nav_menu": {},
   "number_sections": true,
   "sideBar": true,
   "skip_h1_title": false,
   "title_cell": "Table of Contents",
   "title_sidebar": "Contents",
   "toc_cell": false,
   "toc_position": {},
   "toc_section_display": true,
   "toc_window_display": true
  }
 },
 "nbformat": 4,
 "nbformat_minor": 4
}
