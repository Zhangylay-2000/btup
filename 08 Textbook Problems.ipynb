{
 "cells": [
  {
   "cell_type": "markdown",
   "metadata": {},
   "source": [
    "## Exercises"
   ]
  },
  {
   "cell_type": "markdown",
   "metadata": {},
   "source": [
    "### Discounting, Present Value\n",
    "1. Today you receive a home loan in the amount of $\\,N\\,$. According to your contract, for each of the next $\\,m\\,$ months you will pay the fixed $\\,\\frac{N}{m} + x\\,$ amount at the end of each month. Assume that (a) the yearly constant continuously compounded risk-free rate is $\\,r\\,$ and (b) the length of each month is $\\,\\frac{1}{12}\\,$. What $\\,\\frac{x}{N}\\,$ ratio makes the sum of the PVs (present values) of your $\\,m\\,$ payments equal to the received $\\,N\\,$ amount ? Select a range of $\\,r\\,$ values and a fixed $\\,m\\,$ value, and plot the result.\n",
    "\n",
    "\n",
    "2. Please answer the same question if not $\\,r\\,$ is known, but the constant $\\,Y\\,$ yearly rate with monthly compounding.<br/>Help: convert $\\,Y,$ to $\\,r\\,$ and use the previous result.\n",
    "\n",
    "\n",
    "3. Convert the $\\,L\\left(1\\right)\\,$ simple rate to the equivalent semi-annually, quarterly, monthly and continuously compounded rates."
   ]
  },
  {
   "cell_type": "markdown",
   "metadata": {},
   "source": [
    "### Forward rates\n",
    "\n",
    "1. If the $\\,\\mathrm{3Y}\\,$ bond pays $\\,4\\%\\,$, and the $\\,\\mathrm{5Y}\\,$ bond pays $\\,4.5\\%\\,$, then is the $\\,\\mathrm{3Y}\\to\\mathrm{5Y}\\,$ forward rate $\\,0.5\\%\\,$?<br/>\n",
    "`Help:` use the definitions to calculate the forward rate.\n",
    "\n",
    "\n",
    "2. If $\\,N\\,$ and $\\,k\\,$ are positive integers, the simple rate is known for the tenors $\\,1\\,,\\,2\\,,\\,\\dots\\,N\\,,$\n",
    "<br/>and $\\,0\\le t\\le N-k\\,$, then what is the forward rate $\\,F\\left(\\,t,\\,t+k\\,\\right)\\,$ ?<br/>\n",
    "`Help:` with $\\,T=t+1\\,$ use the definitions to calculate first $\\,P\\left(\\,t,\\,T\\,\\right)\\,$,\n",
    "and then $\\,F\\left(\\,t,\\,t+1\\,\\right)\\,$.\n",
    "\n",
    "\n",
    "3. If the simple rate is a known differentiable $\\,L\\left(\\,t\\,\\right)\\,$ function, then what is the instantaneous forward rate ?<br/>`Help:` with $\\,T=t+dt\\,$ use the definitions to calculate first $\\,P\\left(\\,t,\\,T\\,\\right)\\,$, and then $\\,f\\left(\\,t\\,\\right)\\,$."
   ]
  },
  {
   "cell_type": "markdown",
   "metadata": {},
   "source": [
    "### Derivative pricing \n",
    "\n",
    "1. How does the price of a call option change, if the spot and the strike are multiplied by the same number ?\n",
    "\n",
    "\n",
    "2. Based on the price of the call option and the put-call parity, calculate the price of the put option with the same parameters.\n",
    "\n",
    "\n",
    "3. Calculate and plot the $\\,\\Delta\\,$ of a call option based on the Black-Scholes formula."
   ]
  },
  {
   "cell_type": "markdown",
   "metadata": {},
   "source": [
    "## Coding projects\n",
    "\n",
    "### B.A.M. \n",
    "1. Find free data for property value by year. Calculate and plot the\n",
    "  * percent growth Year-On-Year\n",
    "  * yearly percent growth for the entire duration.\n",
    "  \n",
    "### T.V. \n",
    "\n",
    "\n",
    "### G.A.\n",
    "\n",
    "investment management\n",
    "\n",
    "### P.D.\n",
    "\n",
    "related to binomial tree model\n",
    "\n",
    "### L.Gy.\n",
    "\n",
    "### T.M.\n",
    "\n",
    "### B.B.\n",
    "\n",
    "Black-Derman-Toy model"
   ]
  },
  {
   "cell_type": "markdown",
   "metadata": {},
   "source": [
    "## Reading projects\n",
    "\n",
    "### T.Á.\n",
    "The RiskMetrics method - Allen Chapter 2.2.4\n",
    "\n",
    "### F.G.\n",
    "\n",
    "correlation of market events\n",
    "\n",
    "### B.D.Z. \n",
    "\n",
    "market risk or credit risk\n",
    "\n"
   ]
  }
 ],
 "metadata": {
  "kernelspec": {
   "display_name": "Python 3",
   "language": "python",
   "name": "python3"
  },
  "language_info": {
   "codemirror_mode": {
    "name": "ipython",
    "version": 3
   },
   "file_extension": ".py",
   "mimetype": "text/x-python",
   "name": "python",
   "nbconvert_exporter": "python",
   "pygments_lexer": "ipython3",
   "version": "3.8.5"
  },
  "toc": {
   "base_numbering": 1,
   "nav_menu": {},
   "number_sections": true,
   "sideBar": true,
   "skip_h1_title": false,
   "title_cell": "Table of Contents",
   "title_sidebar": "Contents",
   "toc_cell": false,
   "toc_position": {},
   "toc_section_display": true,
   "toc_window_display": true
  }
 },
 "nbformat": 4,
 "nbformat_minor": 4
}
