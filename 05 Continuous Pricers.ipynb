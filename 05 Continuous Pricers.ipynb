{
 "cells": [
  {
   "cell_type": "markdown",
   "metadata": {},
   "source": [
    "1. Black-Scholes Model\n",
    " \n",
    "coin flipping\n",
    "\n",
    "Wiener process\n",
    "\n",
    "excess kurtosis\n",
    "\n",
    "Hurst exponent\n",
    "\n",
    "self-affinity\n",
    "\n",
    "BS equation in general\n",
    "\n",
    "BS for derivative pricing\n",
    "\n",
    "basic check with put-call parity\n",
    "\n",
    "illustrate results with $\\,2^{\\,n}\\,$ paths\n",
    "\n",
    "plot graphs, compare to Binomial Tree results\n",
    "\n",
    "2. Monte-Carlo methods more broadly\n",
    "\n",
    "after path visualization, more general simulation concepts: `FRM I Ch 13`"
   ]
  }
 ],
 "metadata": {
  "kernelspec": {
   "display_name": "Python 3",
   "language": "python",
   "name": "python3"
  },
  "language_info": {
   "codemirror_mode": {
    "name": "ipython",
    "version": 3
   },
   "file_extension": ".py",
   "mimetype": "text/x-python",
   "name": "python",
   "nbconvert_exporter": "python",
   "pygments_lexer": "ipython3",
   "version": "3.8.5"
  },
  "toc": {
   "base_numbering": 1,
   "nav_menu": {},
   "number_sections": true,
   "sideBar": true,
   "skip_h1_title": false,
   "title_cell": "Table of Contents",
   "title_sidebar": "Contents",
   "toc_cell": false,
   "toc_position": {},
   "toc_section_display": true,
   "toc_window_display": false
  }
 },
 "nbformat": 4,
 "nbformat_minor": 4
}
