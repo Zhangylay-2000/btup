{
 "cells": [
  {
   "cell_type": "markdown",
   "metadata": {},
   "source": [
    "## Time value of money"
   ]
  },
  {
   "cell_type": "markdown",
   "metadata": {},
   "source": [
    "### Naming\n",
    "\n",
    "###### Units\n",
    "* money is measured in units of, for example, USD, EUR, etc.\n",
    "* time is measured in units of 1 year\n",
    "\n",
    "Sometimes units are not written, so $\\,T=1\\,$ means one year, and $\\,1\\,$ unit of money means, for example, $\\,1\\,$ USD.\n",
    "\n",
    "###### Names of time points and lengths\n",
    "* Current values are often named with `spot`, for example the spot price of a stock is its price right now.\n",
    "* The final time point of a contract is usually called the contract's `maturity`.\n",
    "  * So the `time to maturity` of a contract is the amount of time from now until the contract's maturity.\n",
    "* The length of a contract from its start to its end is usually called the `tenor` of the contract.\n",
    " "
   ]
  },
  {
   "cell_type": "markdown",
   "metadata": {},
   "source": [
    "### Discount Factor and PV\n",
    "You and me set up a contract that starts now and ends at $\\,T\\,$:\n",
    "* Right now (at time $\\,t=0)\\,$ I give you a fixed amount of USD\n",
    "* In return, at time $\\,t=T\\,$ you will pay me $\\,1\\,$ USD\n",
    "\n",
    "<b>To make this a fair contract, how much should I give you now ?</b>\n",
    "\n",
    "Let us denote by $\\,P\\,(\\,T\\,)\\,$ the amount I should give you now. This number is called the Discount Factor in our contract.\n",
    "\n",
    "Note that $\\,P\\,(\\,0\\,)=1\\,$.\n",
    "\n",
    "<b>What does this discount factor depend on ?</b>\n",
    "\n",
    "* the currency $\\,\\rightarrow\\,$ _for example, USD pays differently from CHF_\n",
    "* the time span $\\,T\\,$ $\\,\\rightarrow\\,$ _for example, $\\,T=1\\,$ is different from $\\,T=5\\,$_\n",
    "* and many others, for example, you may not be able to pay me the agreed $\\,1\\,$ USD at $\\,T\\,$ <br/>this means the probability that you'll actually pay is somewhere between 0 and 1\n",
    " \n",
    "<b>Present Value (PV)</b>\n",
    "\n",
    "In our contract the Present Value (also called PV) of the $\\,1\\,$ USD you agree to pay me is the above mentioned $\\,P\\,$.\n",
    "\n",
    "Usually the probability that you will pay (and other similar risk items) are considered separately from $\\,P\\,$."
   ]
  },
  {
   "cell_type": "markdown",
   "metadata": {},
   "source": [
    "### Question: PV of a fixed leg\n",
    "\n",
    "We agree that\n",
    "* You will pay me 20 separate payments of $\\,1\\,$ USD at the end of years $\\,1, 2, \\dots, 20\\,$ from now\n",
    "* In return, you receive now a single payment.\n",
    "\n",
    "If the yearly discount factor will always be $\\,0.98\\,$, then what current payment value makes this a fair contract ?\n",
    "\n",
    "Help: What is the PV of a $\\,1\\,$ USD payment that you will pay me $\\,n\\,$ years from now ?"
   ]
  },
  {
   "cell_type": "code",
   "execution_count": 1,
   "metadata": {},
   "outputs": [],
   "source": [
    "# This DY is the yearly Discount Factor. In the current question this DY is the same for every year.\n",
    "DY = 0.98\n",
    "\n",
    "# This PV is the amount that I give you now in return for your 20 separate payments of 1 USD at t = 1, 2, ... , 20\n",
    "# <WRITE YOUR SOLUTION HERE>"
   ]
  },
  {
   "cell_type": "markdown",
   "metadata": {},
   "source": [
    "###### Answer"
   ]
  },
  {
   "cell_type": "code",
   "execution_count": 2,
   "metadata": {},
   "outputs": [
    {
     "name": "stdout",
     "output_type": "stream",
     "text": [
      "PV = 16.29\n"
     ]
    }
   ],
   "source": [
    "DY = 0.98\n",
    "\n",
    "import numpy as np\n",
    "PV = np.sum([np.power(DY, 1.0 + y) for y in range(20)])\n",
    "print('PV = {:.2f}'.format(PV))"
   ]
  },
  {
   "cell_type": "markdown",
   "metadata": {},
   "source": [
    "## Simple rate and Forward rate\n",
    "\n",
    "### Simple rate\n",
    "\n",
    "#### Simple rate for 1 year\n",
    "\n",
    "You and me set up a contract:\n",
    "* Right now (at $\\,t=0)\\,$ I pay you $\\,1\\,$ USD\n",
    "* In return, at $\\,t=T\\,$ you will pay me a fixed amount \n",
    "\n",
    "Let's denote by $\\,1+L\\,(\\,t=1\\,)\\,$ the fixed amount that you will pay. Note that $\\,L\\,(\\,t=1\\,)=\\displaystyle{\\frac{1}{P\\,(\\,t=1\\,)}-1}\\,$.\n",
    "\n",
    "This $\\,L\\,(\\,t=1\\,)\\,$ is called the currently observed <b>simple rate</b> for one year."
   ]
  },
  {
   "cell_type": "markdown",
   "metadata": {},
   "source": [
    "#### Note: Compare governent bond rates\n",
    "\n",
    "For $\\,t=1\\,$ a real-life quantity closely related to the USD simple rate is [displayed here](https://fred.stlouisfed.org/series/USD12MD156N). This is the interest that the US agreed to pay on its own 12-month loans at each indicated time point in the past.\n",
    "\n",
    "To compare government bonds from differnet countries, have a look at current government bond rates at http://www.worldgovernmentbonds.com/."
   ]
  },
  {
   "cell_type": "markdown",
   "metadata": {},
   "source": [
    "#### Question: Rates\n",
    "\n",
    "If a country must pay higher interest rates on its loans, then how does this affect the government's ability to support the country's own citizens and economy ?"
   ]
  },
  {
   "cell_type": "markdown",
   "metadata": {},
   "source": [
    "###### Answer\n",
    "The government will have less money to support the country itself."
   ]
  },
  {
   "cell_type": "markdown",
   "metadata": {},
   "source": [
    "#### Simple rate for T years\n",
    "\n",
    "Let us allow <b>both integer and non-integer</b> values of $\\,T\\,$ , for example $\\,T=2\\,$ or $\\,T=\\displaystyle{\\frac{1}{2}}\\,$.\n",
    "\n",
    "Again, you and me set up a contract:\n",
    "* Right now (at $\\,t=0)\\,$ I pay you $\\,1\\,$ \n",
    "* In return, at $\\,t=T\\,$ you will pay me a fixed amount \n",
    "\n",
    "To make this a fair contract you will pay $\\,1+ T \\cdot L\\,(\\,T\\,)\\,$. Note that $\\,L\\,(\\,T\\,)=\\displaystyle{\\frac{1}{T} \\cdot \\left(\\frac{1}{P\\,(\\,T\\,)}\\,-1\\right)}$.\n",
    "\n",
    "#### Question: Simple rate for T years\n",
    "In our contract for $\\,T\\,$ years assume that there is a <b>constant yearly discount factor</b>, DY.\n",
    "\n",
    "Using this DY what is the value of $\\,L\\,(\\,T\\,)$ ?\n",
    "\n",
    "Help: you need to find the connection between $\\,P\\,(\\,T\\,)\\,$, the constant yearly $\\,$DY, and $\\,T\\,$."
   ]
  },
  {
   "cell_type": "code",
   "execution_count": 3,
   "metadata": {},
   "outputs": [],
   "source": [
    "# This DY is the yearly Discount Factor. In the current question this DY is the same in each year.\n",
    "DY = 0.98\n",
    "\n",
    "# Let T = 1, 2, 3, 4, 5.\n",
    "# This L_T is the T-year yield of the given example.\n",
    "# L_T = <WRITE YOUR SOLUTION FOR THIS CONSTANT DY AND EACH OF THE THREE T VALUES>"
   ]
  },
  {
   "cell_type": "markdown",
   "metadata": {},
   "source": [
    "###### Answer\n",
    "Use (1) the definition of the discount factor and (2) the definition of the simple rate."
   ]
  },
  {
   "cell_type": "code",
   "execution_count": 4,
   "metadata": {},
   "outputs": [
    {
     "name": "stdout",
     "output_type": "stream",
     "text": [
      "T = 1, L = 0.0204\n",
      "T = 2, L = 0.0206\n",
      "T = 3, L = 0.0208\n",
      "T = 4, L = 0.0210\n",
      "T = 5, L = 0.0213\n"
     ]
    }
   ],
   "source": [
    "DY = 0.98\n",
    "\n",
    "import numpy as np\n",
    "for T in range(1, 6):\n",
    "    P = np.power(DY, T)\n",
    "    L = 1/T * (1.0/P - 1.0)\n",
    "    print('T = {}, L = {:.4f}'.format(T, L))"
   ]
  },
  {
   "cell_type": "markdown",
   "metadata": {},
   "source": [
    "### Forward rate\n",
    "\n",
    "Let us move the starting point of the contract into the future, to a $\\,t>0\\,$ time point.\n",
    "\n",
    "* At that selected time point in the future (at $\\,t>0)\\,$ I will pay you $\\,1\\,$\n",
    "* In return, at $\\,T>t\\,$ you will pay the fixed amount $\\,1+\\left(T-t\\right) \\cdot F\\,(\\,0,\\,t,\\,T\\,)\\,$\n",
    "\n",
    "Here $\\,F\\,(\\,0,\\,t,\\,T\\,)\\,$ is called the <b>forward rate</b>. It is our current knowledge of the simple rate from $\\,t\\,$ to $\\,T\\,$. \n",
    "\n",
    "The first argument is often omitted when it is $\\,0\\,$. So we simply write $\\,F\\,(\\,t,\\,T\\,)\\,$ and, accordingly, $\\,\\displaystyle{P\\,(\\,t,\\,T\\,)=\\frac{1}{1+(T-t) \\cdot F(t,T)}}\\,$.\n",
    "\n",
    "#### Question: Forward rate\n",
    "If the 5-year and 10-year discount factors are $\\,P(5)=0.8\\,$ and $\\,P(10)=0.5\\,$, then what is $\\,F(5,10)\\,$?"
   ]
  },
  {
   "cell_type": "markdown",
   "metadata": {},
   "source": [
    "###### Answer\n",
    "From the definition of the discount factor: $\\,P\\left(0,\\,10\\right)=P\\left(0,\\,5\\right) \\cdot P\\left(5,\\,10\\right)\\,$.\n",
    "\n",
    "From the definition of the forward rate: $\\,\\displaystyle{F\\left(5, 10\\right) = \\frac{1}{10-5} \\cdot \\left(\\frac{1}{P\\left(5, 10\\right)} -1 \\right)}\\,$.\n",
    "\n",
    "Combining the above two gives $\\,\\displaystyle{F\\left(5, 10\\right) = \\frac{1}{5} \\cdot \\left(\\frac{P\\left(0,\\,5\\right)}{P\\left(0, 10\\right)} -1 \\right)=\\frac{1}{40}=0.025\\,}$."
   ]
  },
  {
   "cell_type": "markdown",
   "metadata": {},
   "source": [
    "## Rates for short times\n",
    "\n",
    "### Instantaneous spot rate (Short rate)\n",
    "\n",
    "You and me set up a contract:\n",
    "* Right now (at $\\,t=0)\\,$ I pay you $\\,1\\,$ \n",
    "* In return, at $\\,T\\ll 1\\,$ you will pay me $\\,1+ T \\cdot L\\,(\\,T\\,)\\,$\n",
    "\n",
    "The <b>instantaneous spot rate</b>, $\\,r\\,$, is the limiting value of the simple rate: \n",
    "\n",
    "$\\,\\displaystyle{r = \\lim_{T\\,\\to\\,0}L\\,(\\,T\\,)=\\lim_{T\\,\\to\\,0}\\left(\\frac{\\frac{1}{P\\,(\\,T\\,)}-1}{T}\\right) = \\lim_{T\\,\\to\\,0}\\left(\\frac{-\\,1}{P\\,(\\,T\\,)}\\cdot\\frac{P\\,(\\,T\\,)-P\\,(\\,0\\,)}{T}\\right)=-\\,\\frac{\\partial}{\\partial\\,T}\\Bigg|_{\\,T\\,=\\,0}\\!\\!\\ln\\big(P\\,(\\,T\\,)\\big)}$.\n",
    "\n",
    "Note: instantaneous means that the time difference is very short (goes to zero), and spot (in \"spot rate\") means that $\\,t=0\\,$.\n",
    "\n",
    "### Instantaneous forward rate\n",
    "\n",
    "Again, let us move the starting point of the contract into the future, to a $\\,t>0\\,$ time point.\n",
    "\n",
    "You and me set up a contract:\n",
    "\n",
    "* At a selected time point in the future (at $\\,t>0)\\,$ I will pay you $\\,1\\,$\n",
    "* In return, a very short time later (at $\\,T)\\,$ you will pay me $\\,1+\\left(T-t\\right) \\cdot F\\,(\\,t,\\,T\\,)$\n",
    "\n",
    "For a very short $\\,T\\,$ this simple rate becomes the <b>instantaneous forward rate</b>:\n",
    "\n",
    "$\\,\\displaystyle{f(t) = \\lim_{T\\,\\to\\,t}F\\,(\\,t,\\,T\\,)=-\\,\\frac{\\partial}{\\partial\\,T}\\Bigg|_{\\,T\\,=\\,t}\\!\\!\\ln\\big(P\\,(\\,t,\\,T\\,)\\big)}$.\n",
    "\n",
    "Note that the instantaneous spot rate is a special case of the general formula: $\\,r=f(0)\\,$.\n",
    "\n",
    "### Integral form of the Discount Factor\n",
    "Integrating the definition of the instantaneous forward rate gives ${\\displaystyle P\\,(\\,t,\\,T\\,)=\\exp\\left(-\\int_t^T \\!\\!f(\\tau)\\,d\\tau\\right)}\\,$.\n",
    "\n",
    "#### Question: Instantaneous rates\n",
    "The instantaneous rate, $\\,f(t)\\,$, is currently 1\\% and it grows linearly by 0.2\\% per year.\n",
    "\n",
    "What is the 1Y $\\rightarrow$ 11Y forward rate ? \n",
    "\n",
    "Help: With the provided $\\,f(t)\\,$ you need to calculate $\\,F\\,(\\,1,\\,11\\,)\\,$ from $\\,P\\,(\\,1,\\,11\\,)\\,$. "
   ]
  },
  {
   "cell_type": "markdown",
   "metadata": {},
   "source": [
    "###### Answer\n",
    "From the definition of the forward rate: $\\,\\displaystyle{F\\left(1, 11\\right) = \\frac{1}{11-1} \\cdot \\left(\\frac{1}{P\\left(1, 11\\right)} -1 \\right)}\\,$.\n",
    "\n",
    "From the definition of the instantaneous forward rate: $\\,\\displaystyle{P\\,(\\,1,\\,11\\,)=\\exp\\left(-\\int_1^{11} \\!\\! (0.01 + 0.002\\tau)\\,d\\tau\\,\\right)=\\exp\\big(-\\left(0.1+0.12\\right)\\,\\big)}$.\n",
    "\n",
    "Combining the above two gives $\\,\\displaystyle{F\\left(1, 11\\right) = \\frac{\\exp\\,(\\,0.22\\,)-1}{10}}\\approx 2.46\\%\\,$."
   ]
  },
  {
   "cell_type": "code",
   "execution_count": 5,
   "metadata": {},
   "outputs": [
    {
     "name": "stdout",
     "output_type": "stream",
     "text": [
      "F_1_11 = 2.461%\n"
     ]
    }
   ],
   "source": [
    "import numpy as np\n",
    "F_1_11 = (np.exp(0.22)-1.0) / 10.0\n",
    "print('F_1_11 = {:.3f}%'.format(F_1_11 * 100))"
   ]
  },
  {
   "cell_type": "markdown",
   "metadata": {},
   "source": [
    "## Compounded interest\n",
    "### Discrete Compounding\n",
    "\n",
    "You and me set up two contracts:\n",
    "\n",
    "* First contract\n",
    " * right now (at $\\,t=0)\\,$ I pay you $\\,1\\,$ \n",
    " * at $\\,t=1\\,{\\mathit /}\\,2\\,$ you pay me the invested $\\,1\\,$ amount with interest: $\\,1+\\,L(1\\,{\\mathit /}\\,2)\\,{\\mathit /}\\,2\\,$\n",
    "* Second contract\n",
    " * at $\\,t=1\\,{\\mathit /}\\,2\\,$ I pay back to you the same amount: $\\,1+\\,L(1\\,{\\mathit /}\\,2)\\,{\\mathit /}\\,2\\,$ \n",
    " * at $\\,t=1\\,$ you pay me the invested amount with interest: $\\,\\big(1+\\,L(1\\,{\\mathit /}\\,2)\\,{\\mathit /}\\,2\\big) \\cdot \\big(1+\\,F(1\\,{\\mathit /}\\,2, 1\\,{\\mathit /}\\,2)\\,{\\mathit /}\\,2\\big)\\,$\n",
    " \n",
    "The final sum I receive back at $\\,t=1\\,$ must be the same as in the simple 1-year contract that does not have the above 2-step compounding.\n",
    "\n",
    "In other words, these three rates are connected:\n",
    "$\\,\\displaystyle{1+L(1)=\\left(1+\\frac{L\\left(\\frac{1}{2}\\right)}{2}\\right) \\cdot \\left(1+\\frac{F\\left(\\frac{1}{2}, \\frac{1}{2}\\right)}{2}\\right)}\\,$.\n",
    "\n",
    "Moreover, if we assume that $\\,L\\left(\\frac{1}{2}\\right)=F\\left(\\frac{1}{2}, \\frac{1}{2}\\right)\\,$, then we have $\\,\\displaystyle{1+L(1)=\\,\\left(1+\\frac{1}{2}\\,L\\!\\left(\\frac{1}{2}\\right)\\right)^{2}}\\,$\\.\n",
    "\n",
    "#### Naming conventions for discrete compounding\n",
    "If we use discrete compounding with $\\,n\\,$ steps per year, then $\\,n\\cdot L\\!\\left(\\frac{1}{n}\\right)\\,$ is called the yearly rate.<br/>\n",
    "Here $\\,n\\,$ is called the compounding frequency.<br/>\n",
    "\n",
    "\n",
    "For example, if you and me agree on a rate of $\\,4\\%\\,$ with quarterly compounding,<br/>\n",
    "then your deposit will grow by $\\,1\\%\\,$ at the end of each quarter."
   ]
  },
  {
   "cell_type": "markdown",
   "metadata": {},
   "source": [
    "#### Question: Deposit with discrete compounding\n",
    "Your 5-year deposit of $\\,N=100$k HUF receives $\\,r=4\\%\\,$ with either annual ($n=1$) or semi-annual ($n=2$) compounding.\n",
    "\n",
    "* If the compounding frequency is $\\,n=1$, then how much will you have at $\\,T=3\\,$ ? How much with $\\,n=2\\,$ ?\n",
    "* In these two cases what is the equivalent simple rate ?"
   ]
  },
  {
   "cell_type": "markdown",
   "metadata": {},
   "source": [
    "###### Answer\n",
    "You will have $\\,\\displaystyle{N\\cdot\\left(1+\\frac{r}{n}\\right)^{n\\,T}}\\,$. \n",
    "The equivalent simple rate is $\\,\\displaystyle{ L\\,(\\,T\\,)=\\frac{1}{T} \\cdot \\left[\\,\\left(1+\\frac{r}{n}\\right)^{n\\,T}-1\\,\\right]}\\,$.\n",
    "\n",
    "Please see below for the calculated amounts."
   ]
  },
  {
   "cell_type": "code",
   "execution_count": 6,
   "metadata": {},
   "outputs": [
    {
     "name": "stdout",
     "output_type": "stream",
     "text": [
      "Compounding frequency, Final amount, Equivalent simple rate\n",
      "1, 121665.29, 4.33%\n",
      "2, 121899.44, 4.38%\n"
     ]
    }
   ],
   "source": [
    "N = 1.0e+5\n",
    "r = 0.04\n",
    "T = 5\n",
    "print('Compounding frequency, Final amount, Equivalent simple rate')\n",
    "for n in [1, 2]:  # compounding frequency\n",
    "    multiplier = (1 + r/n) ** (n * T)\n",
    "    final_amount = N * multiplier\n",
    "    L = (multiplier - 1.0) / T\n",
    "    print('{}, {:.2f}, {:.2f}%'.format(n, final_amount, L * 100.0))"
   ]
  },
  {
   "cell_type": "markdown",
   "metadata": {},
   "source": [
    "### Continuous Compounding\n",
    "\n",
    "If the forward rate is the same on each time interval, then we have $\\,\\displaystyle{1+L(1)=\\,\\left(1+\\frac{1}{n}\\,L\\!\\left(\\frac{1}{n}\\right)\\right)^{n}}\\,$ for $\\,n=3, 4, \\dots\\,$.\n",
    "\n",
    "According to the definitions of the instantaneous rates: $\\,\\displaystyle{\\lim_{n\\,\\to\\,\\infty}L\\!\\left(\\frac{1}{n}\\right)}=f(0)\\,$,\n",
    "\n",
    "therefore, $\\,\\displaystyle{1+L(1)=\\left(1+\\frac{f(0)}{n}\\right)^n}\\,$ converges to $\\,e^{\\,f(0)}\\,$ as $\\,n\\to\\infty\\,$. \n",
    "\n",
    "In other words, \n",
    "* if the instantaneous <b>rate is constant $\\,f(0)\\,$</b> over time, then the simple rate is $\\,\\displaystyle{L\\,(\\,0,\\,T\\,)=\\frac{e^{\\,f(0)\\,T}-1}{T}}\\,$,\n",
    "* if the instantaneous <b>rate changes</b>, then\n",
    "$\\,\\displaystyle{L\\,(\\,0,\\,T\\,)=\\frac{\\exp\\left(\\int_0^T \\!\\!f(\\tau)\\,d\\tau\\right)-1}{T}}\\,$."
   ]
  },
  {
   "cell_type": "markdown",
   "metadata": {},
   "source": [
    "#### Question: Deposit with continuous compounding\n",
    "On a different 5-year deposit of $\\,N=100$k HUF you receive a yearly $\\,r=4\\%\\,$ with continuous compounding.<br/>\n",
    "* How much will you have on this deposit by the end of the third year ?\n",
    "* What is the equivalent simple rate ?"
   ]
  },
  {
   "cell_type": "markdown",
   "metadata": {},
   "source": [
    "###### Answer\n",
    "You will have $\\,N\\cdot \\exp\\,\\left(\\,r\\,T\\,\\right)\\,$. \n",
    "\n",
    "The equivalent simple rate is $\\,\\displaystyle{ L\\,(\\,T\\,)=\\frac{\\exp\\,\\left(\\,r\\,T\\,\\right)-1}{T}}\\,$.\n"
   ]
  },
  {
   "cell_type": "code",
   "execution_count": 7,
   "metadata": {},
   "outputs": [
    {
     "name": "stdout",
     "output_type": "stream",
     "text": [
      "Final amount, Equivalent simple rate\n",
      "121899.44, 4.43%\n"
     ]
    }
   ],
   "source": [
    "import numpy as np\n",
    "N = 1.0e+5\n",
    "r = 0.04\n",
    "T = 5\n",
    "multiplier = np.exp(r * T)\n",
    "final = N * multiplier\n",
    "L = (multiplier - 1) / T\n",
    "print('Final amount, Equivalent simple rate')\n",
    "print('{:.2f}, {:.2f}%'.format(final_amount, L * 100.0))"
   ]
  },
  {
   "cell_type": "markdown",
   "metadata": {},
   "source": [
    "## Yield curve\n",
    "\n",
    "###### Yield on an investment, also called Yield\n",
    "The yield on an investment is the total earnings divided by the capital. It is usually expressed as a percent value.\n",
    "\n",
    "For example, a stock is purchased for $\\,S_{\\,0}=100\\,$, later it pays a dividend of $\\,2\\,$, and finally it is sold for $\\,S_{\\,T}=104\\,$. \n",
    "<br/>\n",
    "In this case the yield on the investment is $\\,(\\,4+2\\,)\\,\\,{\\mathit /}\\,\\,100=6\\%\\,$.\n",
    "\n",
    "###### Annualized percent yield, also called Annualized percentage rate\n",
    "\n",
    "The annualized percent yield of an investment is the annually compounded rate producing the yield of the investment.\n",
    "\n",
    "For example, a stock is purchased for $\\,S_{\\,0}=100\\,$, and it is sold at $\\,T=2\\,$ for $\\,S_{\\,T}=121\\,$.\n",
    "<br/>\n",
    "In this case the annualized percent yield is $\\,0.1=10\\%\\,$, because $\\,S_{\\,0}\\cdot\\,\\left(\\,1 + 0.1\\,\\right)^{\\,2}=S_{\\,T}\\,$.\n",
    "\n",
    "Another example is an account that pays $\\,0.5\\%\\,$ per month.\n",
    "<br/>\n",
    "The annualized percent yield of this account is $\\,\\left(\\,1+0.005\\,\\right)^{\\,12}-1=6.18\\%\\,$.\n",
    "\n",
    "###### Market convention for Yield curves\n",
    "\n",
    "Often instead of the annualized percent yield the equivalent semi-annually compounded rate is quoted.\n",
    "\n",
    "For example, if the annualized percent yield is $\\,\\mathrm{APY}=8.16\\%\\,$, then the quoted rate is $\\,Y=8\\%\\,$.\n",
    "<br/>\n",
    "Explanation: for semi-annual compounding use $\\,n=2\\,$ and observe that $\\,\\left(\\,1 + Y\\,{\\mathit /}\\,n\\,\\right)^{\\,n}=1+\\mathrm{APY}\\,$.\n",
    "\n",
    "<span style='background-color:yellow;color:red;font-weight:bold'>^^^ double-check market convention definition</span>\n"
   ]
  },
  {
   "cell_type": "markdown",
   "metadata": {},
   "source": [
    "### Question: Yield curve of June 2019 and June 2020\n",
    "Find two data series and plot them together: (1) the USD yield curve in June 2020 (2) the same yield curve 1Y earlier."
   ]
  },
  {
   "cell_type": "markdown",
   "metadata": {},
   "source": [
    "###### Answer"
   ]
  },
  {
   "cell_type": "markdown",
   "metadata": {},
   "source": [
    "_Download the data_\n",
    "\n",
    "1. Go to https://www.treasury.gov/resource-center/data-chart-center/interest-rates/Pages/TextView.aspx?data=yield\n",
    "2. At <b>Select type of Interest Rate Data</b> select \"Daily Treasury Yield Curve Rates\" and then click \"GO\".\n",
    "3. At <b>Select Time Period</b> select the current year and then click \"GO\".\n",
    "4. Save the received file to `Y_USD_2020_6.xml` in the current directory.\n",
    "5. Observe the structure of the URL, and note that `%20` stands for the space character: https://data.treasury.gov/feed.svc/DailyTreasuryYieldCurveRateData?$filter=month(NEW_DATE)%20eq%206%20and%20year(NEW_DATE)%20eq%202020\n",
    "6. Replace the year 2020 by 2019, and save `Y_USD_2019_6.xml` also to the current directory."
   ]
  },
  {
   "cell_type": "markdown",
   "metadata": {},
   "source": [
    "_Read and convert the data_"
   ]
  },
  {
   "cell_type": "code",
   "execution_count": 84,
   "metadata": {},
   "outputs": [],
   "source": [
    "import xml.etree.ElementTree as ET\n",
    "import re\n",
    "\n",
    "\n",
    "def tenor_str_to_months(tenor_str):\n",
    "    '''Convert string formatted month or year to number of months'''\n",
    "\n",
    "    m = re.search('^(\\d+)(MONTH|YEAR)$', tenor_str)\n",
    "    if m:\n",
    "        return int(m.group(1)) * (1 if m.group(2) == 'MONTH' else 12)\n",
    "    else:\n",
    "        raise Error('Cannot convert this date string to number of months: {}'.format(tenor_str))\n",
    "\n",
    "        \n",
    "def yield_curve_on_date(xml_file, requested_date):\n",
    "    '''Read yield curve data from treasury.gov's xml'''\n",
    "    y = dict()\n",
    "    \n",
    "    for entry in ET.parse(xml_file).getroot().findall('{http://www.w3.org/2005/Atom}entry'):\n",
    "        for content in entry.findall('{http://www.w3.org/2005/Atom}content'):\n",
    "            date = None\n",
    "            for properties in content:\n",
    "                for d in properties:\n",
    "                    if 'NEW_DATE' in d.tag:\n",
    "                        date = d.text\n",
    "                    elif 'BC_' in d.tag and 'DISPLAY' not in d.tag:\n",
    "                        tenor = tenor_str_to_months(d.tag.split('_')[-1])\n",
    "                        y[tenor] = float(d.text)\n",
    "        if date and requested_date in date:\n",
    "            return y\n",
    "\n",
    "    return None\n",
    "\n",
    "\n",
    "# Read the two yield curves\n",
    "y_2019_06_03 = yield_curve_on_date('Y_USD_2019_6.xml', '2019-06-03')\n",
    "y_2020_06_01 = yield_curve_on_date('Y_USD_2020_6.xml', '2020-06-01')"
   ]
  },
  {
   "cell_type": "markdown",
   "metadata": {},
   "source": [
    "_Plot yield curves_"
   ]
  },
  {
   "cell_type": "code",
   "execution_count": 96,
   "metadata": {},
   "outputs": [
    {
     "data": {
      "image/png": "[encoded data removed]",
      "text/plain": [
       "<Figure size 504x360 with 1 Axes>"
      ]
     },
     "metadata": {
      "needs_background": "light"
     },
     "output_type": "display_data"
    }
   ],
   "source": [
    "import matplotlib.pyplot as plt\n",
    "\n",
    "fontsize = 14  # font size for the text of the current plot\n",
    "xticks = [0, 24, 60, 84, 120, 240, 360]\n",
    "yticks = [0, 0.5, 1, 1.5, 2, 2.5]\n",
    "ylim = [0, 3]\n",
    "\n",
    "plt.plot(*zip(*sorted(y_2019_06_03.items())), 'gx:', markersize=6, label='2019-06-03')\n",
    "plt.plot(*zip(*sorted(y_2020_06_01.items())), 'rx:', markersize=6, label='2020-06-01')\n",
    "plt.title('USD Treasury Yield Curve Rate of Jun 2019 vs Jun 2020', fontsize=fontsize)\n",
    "plt.xlabel('t   [tenor in years]', fontsize=fontsize)\n",
    "plt.ylabel('Y ( t )', fontsize=fontsize)\n",
    "ax = plt.gca()\n",
    "ax.set_xticks(xticks)\n",
    "ax.set_xticklabels([str(int(x/12)) for x in xticks], fontsize=fontsize)\n",
    "ax.set_yticks(yticks)\n",
    "ax.set_yticklabels([str(y)+'%' for y in yticks], fontsize=fontsize)\n",
    "ax.set_ylim(ylim)\n",
    "plt.legend(bbox_to_anchor=(0.45, 0.97), loc=1, borderaxespad=0., fontsize=fontsize)\n",
    "\n",
    "fig = plt.gcf()\n",
    "fig.set_size_inches([7, 5])\n",
    "plt.show()"
   ]
  },
  {
   "cell_type": "markdown",
   "metadata": {},
   "source": [
    "### Risk-free rate and Pricing\n",
    "US Treasury Bonds are considered risk-free. In other words, you will definitely receive your money plus interest at maturity.\n",
    "\n",
    "Example: you can enter a `risk-free` contract between now and time $\\,T=3\\,$ with an annualized percent yield of $\\,\\mathrm{APY}=1\\%\\,$.\n",
    "<br/>\n",
    "This risk-free contract will be a reference for all other contracts with the same tenor.\n",
    "\n",
    "Moreover, assume that at $\\,T=3\\,$ you would like to invest the amount of $\\,100\\,$.\n",
    "<br/>\n",
    "With the above mentioned risk-free $\\,\\mathrm{APY}=1\\%\\,$ your $\\,T=3\\,$ investment of $\\,100\\,$ has $\\,\\displaystyle{\\mathrm{PV} = \\frac{100}{\\left(\\,1+\\mathrm{APY}\\,\\right)^{\\,3}}}\\,$.  "
   ]
  },
  {
   "cell_type": "markdown",
   "metadata": {},
   "source": [
    "#### Question: PV of constant coupons\n",
    "\n",
    "<span style='background-color:yellow;color:red;font-weight:bold'>^^^ describe step-by-step, add answer</span>\n",
    "\n",
    "use APY\n",
    "\n",
    "With both of the above yield curves calculate the PV of 100 USD at the end of each month for 30 years. If for the given month $\\,Y\\,(\\,T\\,)\\,$ is not available, then calculate it with linear interpolation from the two closest available values."
   ]
  },
  {
   "cell_type": "markdown",
   "metadata": {},
   "source": [
    "## Volatility and Daily log return"
   ]
  },
  {
   "cell_type": "markdown",
   "metadata": {},
   "source": [
    "### Volatility\n",
    "Standard deviation of a time series.\n",
    "\n",
    "If the time window is not explicitly mentioned, then it is usually one year."
   ]
  },
  {
   "cell_type": "markdown",
   "metadata": {},
   "source": [
    "#### Question: In each month between 2011 and 2013 how much was the volatility of the daily average temperature of Budapest ?"
   ]
  },
  {
   "cell_type": "markdown",
   "metadata": {},
   "source": [
    "###### Answer"
   ]
  },
  {
   "cell_type": "markdown",
   "metadata": {},
   "source": [
    "_Download data_\n",
    "\n",
    "Download the daily average temperatures of Budapest from 1901 to 2019\n",
    "1. Please go to https://www.met.hu/eghajlat/magyarorszag_eghajlata/eghajlati_adatsorok/Budapest/adatok/napi_adatok/index.php\n",
    "2. On the right, below \"Adatok\", click on \"Adatok letöltése\". This will download the file \"eghajlati_adatsor_1901-2019+Budapest.zip\".\n",
    "3. From this zip extract the file \"BP_d.txt\", and put it in the same directory where you saved the current notebook. \n",
    "4. The daily average temperature (Celsius) is in the column \"d_ta\"."
   ]
  },
  {
   "cell_type": "markdown",
   "metadata": {},
   "source": [
    "_Read and format the data_"
   ]
  },
  {
   "cell_type": "code",
   "execution_count": 8,
   "metadata": {},
   "outputs": [
    {
     "data": {
      "text/html": [
       "<div>\n",
       "<style scoped>\n",
       "    .dataframe tbody tr th:only-of-type {\n",
       "        vertical-align: middle;\n",
       "    }\n",
       "\n",
       "    .dataframe tbody tr th {\n",
       "        vertical-align: top;\n",
       "    }\n",
       "\n",
       "    .dataframe thead th {\n",
       "        text-align: right;\n",
       "    }\n",
       "</style>\n",
       "<table border=\"1\" class=\"dataframe\">\n",
       "  <thead>\n",
       "    <tr style=\"text-align: right;\">\n",
       "      <th></th>\n",
       "      <th>Avg temp</th>\n",
       "      <th>Year</th>\n",
       "      <th>Month</th>\n",
       "    </tr>\n",
       "    <tr>\n",
       "      <th>Date</th>\n",
       "      <th></th>\n",
       "      <th></th>\n",
       "      <th></th>\n",
       "    </tr>\n",
       "  </thead>\n",
       "  <tbody>\n",
       "    <tr>\n",
       "      <th>1901-01-01</th>\n",
       "      <td>-5.7</td>\n",
       "      <td>1901</td>\n",
       "      <td>1</td>\n",
       "    </tr>\n",
       "    <tr>\n",
       "      <th>1901-01-02</th>\n",
       "      <td>-9.3</td>\n",
       "      <td>1901</td>\n",
       "      <td>1</td>\n",
       "    </tr>\n",
       "    <tr>\n",
       "      <th>1901-01-03</th>\n",
       "      <td>-9.1</td>\n",
       "      <td>1901</td>\n",
       "      <td>1</td>\n",
       "    </tr>\n",
       "    <tr>\n",
       "      <th>1901-01-04</th>\n",
       "      <td>-11.0</td>\n",
       "      <td>1901</td>\n",
       "      <td>1</td>\n",
       "    </tr>\n",
       "    <tr>\n",
       "      <th>1901-01-05</th>\n",
       "      <td>-11.1</td>\n",
       "      <td>1901</td>\n",
       "      <td>1</td>\n",
       "    </tr>\n",
       "  </tbody>\n",
       "</table>\n",
       "</div>"
      ],
      "text/plain": [
       "            Avg temp  Year  Month\n",
       "Date                             \n",
       "1901-01-01      -5.7  1901      1\n",
       "1901-01-02      -9.3  1901      1\n",
       "1901-01-03      -9.1  1901      1\n",
       "1901-01-04     -11.0  1901      1\n",
       "1901-01-05     -11.1  1901      1"
      ]
     },
     "execution_count": 8,
     "metadata": {},
     "output_type": "execute_result"
    }
   ],
   "source": [
    "import pandas as pd\n",
    "\n",
    "df = pd.read_csv('BP_d.txt', sep=';')[['#datum', 'd_ta']]\n",
    "df.rename(columns={'#datum': 'Date', 'd_ta': 'Avg temp'}, inplace=True)\n",
    "df.index = pd.to_datetime(df['Date'])\n",
    "df['Year'] = [date.year for date in df.index]\n",
    "df['Month'] = [date.month for date in df.index]\n",
    "df.drop(columns=['Date'], inplace=True)\n",
    "df.head()"
   ]
  },
  {
   "cell_type": "markdown",
   "metadata": {},
   "source": [
    "_Calculate the volatility for each month_"
   ]
  },
  {
   "cell_type": "code",
   "execution_count": 9,
   "metadata": {},
   "outputs": [],
   "source": [
    "import numpy as np\n",
    "\n",
    "FIRST_YEAR = 1901\n",
    "\n",
    "years_months = np.unique(12 * (df.Year - FIRST_YEAR) + df.Month - 1)\n",
    "\n",
    "year_month_vol = {ym: {'vol': np.std(df[(df.Year - FIRST_YEAR == ym // 12) & (df.Month - 1 == ym % 12)]['Avg temp']),\n",
    "                       'year': ym // 12 + FIRST_YEAR, \n",
    "                       'month': ym % 12 + 1}\n",
    "                  for ym in years_months}"
   ]
  },
  {
   "cell_type": "markdown",
   "metadata": {},
   "source": [
    "_Plot results_"
   ]
  },
  {
   "cell_type": "code",
   "execution_count": 10,
   "metadata": {},
   "outputs": [
    {
     "data": {
      "image/png": "[encoded data removed]",
      "text/plain": [
       "<Figure size 1152x252 with 1 Axes>"
      ]
     },
     "metadata": {
      "needs_background": "light"
     },
     "output_type": "display_data"
    }
   ],
   "source": [
    "import numpy as np\n",
    "import matplotlib.pyplot as plt\n",
    "import calendar\n",
    "\n",
    "PLOT_START_YEAR, PLOT_END_YEAR = (2011, 2013)\n",
    "\n",
    "vol = {ym: year_month_vol[ym] for ym in year_month_vol.keys() \n",
    "           if PLOT_START_YEAR <= year_month_vol[ym]['year'] <= PLOT_END_YEAR}\n",
    "\n",
    "my_fontsize = 14\n",
    "yticks = [2, 4, 6]\n",
    "xticks = np.arange( ( PLOT_START_YEAR - FIRST_YEAR ) * 12, ( PLOT_END_YEAR - FIRST_YEAR ) * 12 + 12 )\n",
    "xticks_str = [str(year_month // 12 + FIRST_YEAR) + '-' + str(calendar.month_abbr[year_month % 12 + 1]) \n",
    "              for year_month in xticks]\n",
    "\n",
    "plt.plot(sorted(vol.keys()), [vol[k]['vol'] for k in sorted(vol.keys())], 'b.', ms=10)\n",
    "plt.ylabel(\"Monthly volatility of the\\ndaily avg temperature [C]\", fontsize=my_fontsize)\n",
    "plt.yticks(yticks, [str(_) for _ in yticks], fontsize=my_fontsize)\n",
    "plt.xticks(xticks, xticks_str, rotation='vertical', fontsize=my_fontsize)\n",
    "\n",
    "fig = plt.gcf()\n",
    "fig.set_size_inches([16, 3.5])\n",
    "plt.show()"
   ]
  },
  {
   "cell_type": "markdown",
   "metadata": {},
   "source": [
    "### Daily log return\n",
    "\n",
    "At the closing of day $\\,t\\,$ the value of one unit of an asset is $\\,S\\,(\\,t\\,)\\,$. This asset can be, for example, oil.\n",
    "\n",
    "For one unit of this asset, at the end of day $\\,t\\,$\n",
    "the daily logarithmic return is $\\,\\displaystyle{\\log\\left(\\frac{S\\,(\\,t\\,)}{S\\,(\\,t-1\\,)}\\,\\right)}\\,$"
   ]
  },
  {
   "cell_type": "markdown",
   "metadata": {},
   "source": [
    "#### Question: What were the highest and lowest daily log return values of the S&P 500 index ?"
   ]
  },
  {
   "cell_type": "markdown",
   "metadata": {},
   "source": [
    "###### Answer"
   ]
  },
  {
   "cell_type": "markdown",
   "metadata": {},
   "source": [
    "_Download the data_\n",
    "\n",
    "Download historical values of the SP500 index\n",
    "1. Go to https://finance.yahoo.com/quote/%5EGSPC/history\n",
    "2. For the Time period, select \"Max\".\n",
    "3. On the right side, click \"Apply\", and below that \"Download\".\n",
    "4. Save the downloaded file as \"SP500.csv\" in the same directory where you saved the current notebook."
   ]
  },
  {
   "cell_type": "markdown",
   "metadata": {},
   "source": [
    "_Analyze the data_"
   ]
  },
  {
   "cell_type": "code",
   "execution_count": 11,
   "metadata": {},
   "outputs": [
    {
     "data": {
      "text/html": [
       "<div>\n",
       "<style scoped>\n",
       "    .dataframe tbody tr th:only-of-type {\n",
       "        vertical-align: middle;\n",
       "    }\n",
       "\n",
       "    .dataframe tbody tr th {\n",
       "        vertical-align: top;\n",
       "    }\n",
       "\n",
       "    .dataframe thead th {\n",
       "        text-align: right;\n",
       "    }\n",
       "</style>\n",
       "<table border=\"1\" class=\"dataframe\">\n",
       "  <thead>\n",
       "    <tr style=\"text-align: right;\">\n",
       "      <th></th>\n",
       "      <th>R</th>\n",
       "    </tr>\n",
       "    <tr>\n",
       "      <th>Date</th>\n",
       "      <th></th>\n",
       "    </tr>\n",
       "  </thead>\n",
       "  <tbody>\n",
       "    <tr>\n",
       "      <th>1933-03-15</th>\n",
       "      <td>0.153661</td>\n",
       "    </tr>\n",
       "    <tr>\n",
       "      <th>1929-10-30</th>\n",
       "      <td>0.118055</td>\n",
       "    </tr>\n",
       "    <tr>\n",
       "      <th>1931-10-06</th>\n",
       "      <td>0.116522</td>\n",
       "    </tr>\n",
       "    <tr>\n",
       "      <th>1939-09-05</th>\n",
       "      <td>0.112064</td>\n",
       "    </tr>\n",
       "    <tr>\n",
       "      <th>1932-09-21</th>\n",
       "      <td>0.111640</td>\n",
       "    </tr>\n",
       "    <tr>\n",
       "      <th>...</th>\n",
       "      <td>...</td>\n",
       "    </tr>\n",
       "    <tr>\n",
       "      <th>1935-04-16</th>\n",
       "      <td>-0.104995</td>\n",
       "    </tr>\n",
       "    <tr>\n",
       "      <th>1929-10-29</th>\n",
       "      <td>-0.107121</td>\n",
       "    </tr>\n",
       "    <tr>\n",
       "      <th>2020-03-16</th>\n",
       "      <td>-0.127652</td>\n",
       "    </tr>\n",
       "    <tr>\n",
       "      <th>1929-10-28</th>\n",
       "      <td>-0.138576</td>\n",
       "    </tr>\n",
       "    <tr>\n",
       "      <th>1987-10-19</th>\n",
       "      <td>-0.228997</td>\n",
       "    </tr>\n",
       "  </tbody>\n",
       "</table>\n",
       "<p>23227 rows × 1 columns</p>\n",
       "</div>"
      ],
      "text/plain": [
       "                   R\n",
       "Date                \n",
       "1933-03-15  0.153661\n",
       "1929-10-30  0.118055\n",
       "1931-10-06  0.116522\n",
       "1939-09-05  0.112064\n",
       "1932-09-21  0.111640\n",
       "...              ...\n",
       "1935-04-16 -0.104995\n",
       "1929-10-29 -0.107121\n",
       "2020-03-16 -0.127652\n",
       "1929-10-28 -0.138576\n",
       "1987-10-19 -0.228997\n",
       "\n",
       "[23227 rows x 1 columns]"
      ]
     },
     "execution_count": 11,
     "metadata": {},
     "output_type": "execute_result"
    }
   ],
   "source": [
    "import pandas as pd\n",
    "import numpy as np\n",
    "\n",
    "# Read and format the data\n",
    "df = pd.read_csv('SP500.csv')[['Date', 'Close']]\n",
    "df.index = pd.to_datetime(df['Date'])\n",
    "df.drop(columns=['Date'], inplace=True)\n",
    "\n",
    "# Calculate daily log return\n",
    "df['R'] = np.log(df.Close) - np.log(df.Close.shift())\n",
    "df.dropna(inplace=True)\n",
    "\n",
    "# Show highest and lowest daily log returns. For formatted printing a DataFrame is applied.\n",
    "pd.DataFrame(data=df.R.sort_values(ascending=False))"
   ]
  },
  {
   "cell_type": "markdown",
   "metadata": {},
   "source": [
    "### Volatility of the daily log return\n",
    "The volatility is the standard deviation.\n",
    "\n",
    "In finance it is usually calculated either for a day or for an entire year."
   ]
  },
  {
   "cell_type": "markdown",
   "metadata": {},
   "source": [
    "#### Question: How much was the volatility of the daily log return of the S&P500 index in each year so far ?"
   ]
  },
  {
   "cell_type": "markdown",
   "metadata": {},
   "source": [
    "###### Answer\n",
    "Use the `df['R']` column calculated for the previous answer."
   ]
  },
  {
   "cell_type": "code",
   "execution_count": 12,
   "metadata": {},
   "outputs": [
    {
     "data": {
      "image/png": "[encoded data removed]",
      "text/plain": [
       "<Figure size 504x360 with 1 Axes>"
      ]
     },
     "metadata": {
      "needs_background": "light"
     },
     "output_type": "display_data"
    },
    {
     "data": {
      "text/html": [
       "<div>\n",
       "<style scoped>\n",
       "    .dataframe tbody tr th:only-of-type {\n",
       "        vertical-align: middle;\n",
       "    }\n",
       "\n",
       "    .dataframe tbody tr th {\n",
       "        vertical-align: top;\n",
       "    }\n",
       "\n",
       "    .dataframe thead th {\n",
       "        text-align: right;\n",
       "    }\n",
       "</style>\n",
       "<table border=\"1\" class=\"dataframe\">\n",
       "  <thead>\n",
       "    <tr style=\"text-align: right;\">\n",
       "      <th></th>\n",
       "      <th>Volatility</th>\n",
       "    </tr>\n",
       "    <tr>\n",
       "      <th>Year</th>\n",
       "      <th></th>\n",
       "    </tr>\n",
       "  </thead>\n",
       "  <tbody>\n",
       "    <tr>\n",
       "      <th>1932</th>\n",
       "      <td>0.033588</td>\n",
       "    </tr>\n",
       "    <tr>\n",
       "      <th>1933</th>\n",
       "      <td>0.030416</td>\n",
       "    </tr>\n",
       "    <tr>\n",
       "      <th>2020</th>\n",
       "      <td>0.029742</td>\n",
       "    </tr>\n",
       "    <tr>\n",
       "      <th>1931</th>\n",
       "      <td>0.025983</td>\n",
       "    </tr>\n",
       "    <tr>\n",
       "      <th>2008</th>\n",
       "      <td>0.025840</td>\n",
       "    </tr>\n",
       "    <tr>\n",
       "      <th>...</th>\n",
       "      <td>...</td>\n",
       "    </tr>\n",
       "    <tr>\n",
       "      <th>1952</th>\n",
       "      <td>0.004978</td>\n",
       "    </tr>\n",
       "    <tr>\n",
       "      <th>1995</th>\n",
       "      <td>0.004913</td>\n",
       "    </tr>\n",
       "    <tr>\n",
       "      <th>1965</th>\n",
       "      <td>0.004374</td>\n",
       "    </tr>\n",
       "    <tr>\n",
       "      <th>2017</th>\n",
       "      <td>0.004213</td>\n",
       "    </tr>\n",
       "    <tr>\n",
       "      <th>1964</th>\n",
       "      <td>0.003316</td>\n",
       "    </tr>\n",
       "  </tbody>\n",
       "</table>\n",
       "<p>93 rows × 1 columns</p>\n",
       "</div>"
      ],
      "text/plain": [
       "      Volatility\n",
       "Year            \n",
       "1932    0.033588\n",
       "1933    0.030416\n",
       "2020    0.029742\n",
       "1931    0.025983\n",
       "2008    0.025840\n",
       "...          ...\n",
       "1952    0.004978\n",
       "1995    0.004913\n",
       "1965    0.004374\n",
       "2017    0.004213\n",
       "1964    0.003316\n",
       "\n",
       "[93 rows x 1 columns]"
      ]
     },
     "execution_count": 12,
     "metadata": {},
     "output_type": "execute_result"
    }
   ],
   "source": [
    "# Calculate yearly std.dev of the daily log return (R)\n",
    "df['Year'] = [date.year for date in df.index]\n",
    "sigma = df.R.groupby(df.Year).agg(np.std)\n",
    "\n",
    "# Plot result\n",
    "fontsize = 14\n",
    "fig, axes = plt.subplots(figsize=(7,5))\n",
    "plt.plot(sigma, markersize=10, marker='.', linestyle=':', linewidth=1)\n",
    "plt.title(\"Yearly volatility of the daily log return of the S&P500\\nNote: last year has incomplete data\", fontsize=fontsize)\n",
    "plt.xlabel('Year', fontsize=fontsize)\n",
    "plt.ylabel('Yearly volatility', fontsize=fontsize)\n",
    "plt.axhline(0, c='k', ls=':', lw=.3)\n",
    "plt.show()\n",
    "\n",
    "# Use DataFrame for the formatted printing of the sorted data\n",
    "pd.DataFrame(data=sigma.rename('Volatility', inplace=True).sort_values(ascending=False))"
   ]
  },
  {
   "cell_type": "markdown",
   "metadata": {},
   "source": [
    "## Suggested viewing and reading\n",
    "\n",
    "* General introduction - https://www.coursera.org/learn/global-financial-markets-instruments\n",
    "* Short rate - https://en.wikipedia.org/wiki/Short-rate_model#The_short_rate\n",
    "* Compounding - https://en.wikipedia.org/wiki/Compound_interest"
   ]
  }
 ],
 "metadata": {
  "hide_input": false,
  "kernelspec": {
   "display_name": "Python 3",
   "language": "python",
   "name": "python3"
  },
  "language_info": {
   "codemirror_mode": {
    "name": "ipython",
    "version": 3
   },
   "file_extension": ".py",
   "mimetype": "text/x-python",
   "name": "python",
   "nbconvert_exporter": "python",
   "pygments_lexer": "ipython3",
   "version": "3.8.3"
  },
  "toc": {
   "base_numbering": 1,
   "nav_menu": {},
   "number_sections": true,
   "sideBar": true,
   "skip_h1_title": false,
   "title_cell": "Table of Contents",
   "title_sidebar": "Contents",
   "toc_cell": false,
   "toc_position": {
    "height": "569.6px",
    "left": "1203.6px",
    "top": "110.8px",
    "width": "318.8px"
   },
   "toc_section_display": true,
   "toc_window_display": true
  },
  "varInspector": {
   "cols": {
    "lenName": 16,
    "lenType": 16,
    "lenVar": 40
   },
   "kernels_config": {
    "python": {
     "delete_cmd_postfix": "",
     "delete_cmd_prefix": "del ",
     "library": "var_list.py",
     "varRefreshCmd": "print(var_dic_list())"
    },
    "r": {
     "delete_cmd_postfix": ") ",
     "delete_cmd_prefix": "rm(",
     "library": "var_list.r",
     "varRefreshCmd": "cat(var_dic_list()) "
    }
   },
   "types_to_exclude": [
    "module",
    "function",
    "builtin_function_or_method",
    "instance",
    "_Feature"
   ],
   "window_display": false
  }
 },
 "nbformat": 4,
 "nbformat_minor": 2
}
