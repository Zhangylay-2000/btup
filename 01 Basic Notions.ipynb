{
 "cells": [
  {
   "cell_type": "markdown",
   "metadata": {},
   "source": [
    "## Time value of money"
   ]
  },
  {
   "cell_type": "markdown",
   "metadata": {},
   "source": [
    "### Units\n",
    "* money is measured in units of, for example, USD, EUR, etc.\n",
    "* time is measured in units of 1 year\n",
    "\n",
    "Sometimes units are not written, so $\\,T=1\\,$ means one year, and $\\,1\\,$ unit of money means, for example, $\\,1\\,$ USD."
   ]
  },
  {
   "cell_type": "markdown",
   "metadata": {},
   "source": [
    "### Discount Factor and PV\n",
    "You and me set up a contract that starts now and ends at $\\,T\\,$:\n",
    "* Right now (at time $\\,t=0)\\,$ I give you a fixed amount of USD\n",
    "* In return, at time $\\,t=T\\,$ you will pay me $\\,1\\,$ USD\n",
    "\n",
    "<b>To make this a fair contract, how much should I give you now ?</b>\n",
    "\n",
    "Let us denote by $\\,P\\,(\\,T\\,)\\,$ the amount I should give you now. This number is called the Discount Factor in our contract.\n",
    "\n",
    "Note that $\\,P\\,(\\,0\\,)=1\\,$.\n",
    "\n",
    "<b>What does this discount factor depend on ?</b>\n",
    "\n",
    "* the currency $\\,\\rightarrow\\,$ _for example, USD pays differently from CHF_\n",
    "* the time span $\\,T\\,$ $\\,\\rightarrow\\,$ _for example, $\\,T=1\\,$ is different from $\\,T=5\\,$_\n",
    "* and many others, for example, you may not be able to pay me the agreed $\\,1\\,$ USD at $\\,T\\,$ <br/>this means the probability that you'll actually pay is somewhere between 0 and 1\n",
    " \n",
    "<b>Present Value (PV)</b>\n",
    "\n",
    "In our contract the Present Value (also called PV) of the $\\,1\\,$ USD you agree to pay me is the above mentioned $\\,P\\,$.\n",
    "\n",
    "Usually the probability that you will pay (and other similar risk items) are considered separately from $\\,P\\,$."
   ]
  },
  {
   "cell_type": "markdown",
   "metadata": {},
   "source": [
    "### Question: PV of a fixed leg\n",
    "\n",
    "We agree that\n",
    "* You will pay me 20 separate payments of $\\,1\\,$ USD at the end of years $\\,1, 2, \\dots, 20\\,$ from now\n",
    "* In return, you receive now a single payment.\n",
    "\n",
    "If the yearly discount factor will always be $\\,0.98\\,$, then what current payment value makes this a fair contract ?\n",
    "\n",
    "Help: What is the PV of a $\\,1\\,$ USD payment that you will pay me $\\,n\\,$ years from now ?"
   ]
  },
  {
   "cell_type": "code",
   "execution_count": 55,
   "metadata": {},
   "outputs": [],
   "source": [
    "# This DY is the yearly Discount Factor. In the current question this DY is the same for every year.\n",
    "DY = 0.98\n",
    "\n",
    "# This PV is the amount that I give you now in return for your 20 separate payments of 1 USD at t = 1, 2, ... , 20\n",
    "# <WRITE YOUR SOLUTION HERE>"
   ]
  },
  {
   "cell_type": "markdown",
   "metadata": {},
   "source": [
    "#### Answer"
   ]
  },
  {
   "cell_type": "code",
   "execution_count": 54,
   "metadata": {},
   "outputs": [
    {
     "name": "stdout",
     "output_type": "stream",
     "text": [
      "PV = 16.29\n"
     ]
    }
   ],
   "source": [
    "DY = 0.98\n",
    "\n",
    "import numpy as np\n",
    "PV = np.sum([np.power(DY, 1.0 + y) for y in range(20)])\n",
    "print('PV = {:.2f}'.format(PV))"
   ]
  },
  {
   "cell_type": "markdown",
   "metadata": {},
   "source": [
    "## Simple rate and Forward rate\n",
    "\n",
    "### Simple rate\n",
    "\n",
    "#### Simple rate for 1 year\n",
    "\n",
    "You and me set up a contract:\n",
    "* Right now (at $\\,t=0)\\,$ I pay you $\\,1\\,$ USD\n",
    "* In return, at $\\,t=T\\,$ you will pay me a fixed amount \n",
    "\n",
    "Let's denote by $\\,1+L\\,(\\,t=1\\,)\\,$ the fixed amount that you will pay. Note that $\\,L\\,(\\,t=1\\,)=\\displaystyle{\\frac{1}{P\\,(\\,t=1\\,)}-1}\\,$.\n",
    "\n",
    "This $\\,L\\,(\\,t=1\\,)\\,$ is called the currently observed <b>simple rate</b> for one year.\n",
    "\n",
    "\n",
    "#### Question: Government bonds\n",
    "\n",
    "For $\\,t=1\\,$ a real-life quantity closely related to the USD simple rate is [displayed here](https://fred.stlouisfed.org/series/USD12MD156N). This is the interest that the US agreed to pay on its own 12-month loans at each indicated time point in the past.\n",
    "\n",
    "If a country must pay higher interest rates on its loans, then how does this affect the government's ability to support the country's own citizens and economy ?"
   ]
  },
  {
   "cell_type": "markdown",
   "metadata": {},
   "source": [
    "##### Answer\n",
    "The government will have less money to support the country itself."
   ]
  },
  {
   "cell_type": "markdown",
   "metadata": {},
   "source": [
    "#### Simple rate for T years\n",
    "\n",
    "Let us allow <b>both integer and non-integer</b> values of $\\,T\\,$ , for example $\\,T=2\\,$ or $\\,T=\\displaystyle{\\frac{1}{2}}\\,$.\n",
    "\n",
    "Again, you and me set up a contract:\n",
    "* Right now (at $\\,t=0)\\,$ I pay you $\\,1\\,$ \n",
    "* In return, at $\\,t=T\\,$ you will pay me a fixed amount \n",
    "\n",
    "To make this a fair contract you will pay $\\,1+ T \\cdot L\\,(\\,T\\,)\\,$. Note that $\\,L\\,(\\,T\\,)=\\displaystyle{\\frac{1}{T} \\cdot \\left(\\frac{1}{P\\,(\\,T\\,)}\\,-1\\right)}$.\n",
    "\n",
    "#### Question: Simple rate for T years\n",
    "In our contract for $\\,T\\,$ years assume that there is a <b>constant yearly discount factor</b>, DY.\n",
    "\n",
    "Using this DY what is the value of $\\,L\\,(\\,T\\,)$ ?\n",
    "\n",
    "Help: you need to find the connection between $\\,P(T)\\,$, the constant yearly $\\,$DY, and $\\,T\\,$."
   ]
  },
  {
   "cell_type": "code",
   "execution_count": 42,
   "metadata": {},
   "outputs": [],
   "source": [
    "# This DY is the yearly Discount Factor. In the current question this DY is the same in each year.\n",
    "DY = 0.98\n",
    "\n",
    "# Let T = 1, 2, 3, 4, 5.\n",
    "# This L_T is the T-year yield of the given example.\n",
    "# L_T = <WRITE YOUR SOLUTION FOR THIS CONSTANT DY AND EACH OF THE THREE T VALUES>"
   ]
  },
  {
   "cell_type": "markdown",
   "metadata": {},
   "source": [
    "##### Answer\n",
    "Use (1) the definition of the discount factor and (2) the definition of the simple rate."
   ]
  },
  {
   "cell_type": "code",
   "execution_count": 56,
   "metadata": {},
   "outputs": [
    {
     "name": "stdout",
     "output_type": "stream",
     "text": [
      "T = 1, L = 0.0204\n",
      "T = 2, L = 0.0206\n",
      "T = 3, L = 0.0208\n",
      "T = 4, L = 0.0210\n",
      "T = 5, L = 0.0213\n"
     ]
    }
   ],
   "source": [
    "DY = 0.98\n",
    "\n",
    "import numpy as np\n",
    "for T in range(1, 6):\n",
    "    P = np.power(DY, T)\n",
    "    L = 1/T * (1.0/P - 1.0)\n",
    "    print('T = {}, L = {:.4f}'.format(T, L))"
   ]
  },
  {
   "cell_type": "markdown",
   "metadata": {},
   "source": [
    "### Forward rate\n",
    "\n",
    "Let us move the starting point of the contract into the future, to a $\\,t>0\\,$ time point.\n",
    "\n",
    "* At that selected time point in the future (at $\\,t>0)\\,$ I will pay you $\\,1\\,$\n",
    "* In return, at $\\,T>t\\,$ you will pay the fixed amount $\\,1+\\left(T-t\\right) \\cdot F\\,(\\,0,\\,t,\\,T\\,)\\,$\n",
    "\n",
    "Here $\\,F\\,(\\,0,\\,t,\\,T\\,)\\,$ is called the <b>forward rate</b>. It is our current knowledge of the simple rate from $\\,t\\,$ to $\\,T\\,$. \n",
    "\n",
    "The first argument is often omitted when it is $\\,0\\,$. So we simply write $\\,F\\,(\\,t,\\,T\\,)\\,$ and, accordingly, $\\,\\displaystyle{P\\,(\\,t,\\,T\\,)=\\frac{1}{1+(T-t) \\cdot F(t,T)}}\\,$.\n",
    "\n",
    "#### Question: Forward rate\n",
    "If the 5-year and 10-year discount factors are $\\,P(5)=0.8\\,$ and $\\,P(10)=0.5\\,$, then what is $\\,F(5,10)\\,$?"
   ]
  },
  {
   "cell_type": "code",
   "execution_count": 52,
   "metadata": {},
   "outputs": [],
   "source": [
    "# These are the 5-year and 10-year Discount Factors.\n",
    "P_5 = 0.8\n",
    "P_10 = 0.5\n",
    "\n",
    "# This F_5_10 is the forward rate\n",
    "# F_5_10 = <WRITE YOUR SOLUTION HERE AS A FUNCTION OF P_5 and P_10>"
   ]
  },
  {
   "cell_type": "markdown",
   "metadata": {},
   "source": [
    "##### Answer\n",
    "From the definition of the discount factor: $\\,P\\left(0,\\,10\\right)=P\\left(0,\\,5\\right) \\cdot P\\left(5,\\,10\\right)\\,$.\n",
    "\n",
    "From the definition of the forward rate: $\\,\\displaystyle{F\\left(5, 10\\right) = \\frac{1}{5} \\cdot \\left(\\frac{1}{P\\left(5, 10\\right)} -1 \\right)}\\,$.\n",
    "\n",
    "Combining the above two gives $\\,\\displaystyle{F\\left(5, 10\\right) = \\frac{1}{5} \\cdot \\left(\\frac{P\\left(0,\\,5\\right)}{P\\left(0, 10\\right)} -1 \\right)}\\,$."
   ]
  },
  {
   "cell_type": "code",
   "execution_count": 68,
   "metadata": {},
   "outputs": [
    {
     "name": "stdout",
     "output_type": "stream",
     "text": [
      "F_5_10 = 0.0250\n"
     ]
    }
   ],
   "source": [
    "P_5 = 0.9\n",
    "P_10 = 0.8\n",
    "\n",
    "F_5_10 = 1.0/5 * (P_5 / P_10 - 1)\n",
    "print('F_5_10 = {:.4f}'.format(F_5_10))"
   ]
  },
  {
   "cell_type": "markdown",
   "metadata": {},
   "source": [
    "## Rates for short times\n",
    "\n",
    "### Instantaneous spot rate (Short rate)\n",
    "\n",
    "You and me set up a contract:\n",
    "* Right now (at $\\,t=0)\\,$ I pay you $\\,1\\,$ \n",
    "* In return, at $\\,T\\ll 1\\,$ you will pay me $\\,1+ T \\cdot L\\,(\\,T\\,)\\,$\n",
    "\n",
    "The <b>instantaneous spot rate</b>, $\\,r\\,$, is the limiting value of the simple rate: \n",
    "\n",
    "$\\,\\displaystyle{r = \\lim_{T\\,\\to\\,0}L\\,(\\,T\\,)=\\lim_{T\\,\\to\\,0}\\left(\\frac{\\frac{1}{P\\,(\\,T\\,)}-1}{T}\\right) = \\lim_{T\\,\\to\\,0}\\left(\\frac{-\\,1}{P\\,(\\,T\\,)}\\cdot\\frac{P\\,(\\,T\\,)-P\\,(\\,0\\,)}{T}\\right)=-\\,\\frac{\\partial}{\\partial\\,T}\\Bigg|_{\\,T\\,=\\,0}\\!\\!\\ln\\big(P\\,(\\,T\\,)\\big)}$.\n",
    "\n",
    "Note: instantaneous means that the time difference is very short (goes to zero), and spot (in \"spot rate\") means that $\\,t=0\\,$.\n",
    "\n",
    "### Instantaneous forward rate\n",
    "\n",
    "Again, let us move the starting point of the contract into the future, to a $\\,t>0\\,$ time point.\n",
    "\n",
    "You and me set up a contract:\n",
    "\n",
    "* At a selected time point in the future (at $\\,t>0)\\,$ I will pay you $\\,1\\,$\n",
    "* In return, a very short time later (at $\\,T)\\,$ you will pay me $\\,1+\\left(T-t\\right) \\cdot F\\,(\\,t,\\,T\\,)$\n",
    "\n",
    "For a very short $\\,T\\,$ this simple rate becomes the <b>instantaneous forward rate</b>:\n",
    "\n",
    "$\\,\\displaystyle{f(t) = \\lim_{T\\,\\to\\,t}F\\,(\\,t,\\,T\\,)=-\\,\\frac{\\partial}{\\partial\\,T}\\Bigg|_{\\,T\\,=\\,t}\\!\\!\\ln\\big(P\\,(\\,t,\\,T\\,)\\big)}$.\n",
    "\n",
    "Note that the instantaneous spot rate is a special case of the general formula: $\\,r=f(0)\\,$.\n",
    "\n",
    "### Integral form of the Discount Factor\n",
    "Integrating the definition of the instantaneous forward rate gives ${\\displaystyle P\\,(\\,t,\\,T\\,)=\\exp\\left(-\\int_t^T \\!\\!f(\\tau)\\,d\\tau\\right)}\\,$.\n",
    "\n",
    "#### Question: Instantaneous rates\n",
    "Assume that the instantaneous rate, $\\,f(t)\\,$, is currently 1\\% and it grows linearly by 0.2\\% every year.\n",
    "\n",
    "What is the 5Y forward rate starting 5Y from now ? \n",
    "\n",
    "Help: With the provided $\\,f(t)\\,$ you need to calculate $\\,F\\,(\\,5,\\,10\\,)\\,$ from $\\,P\\,(\\,5,\\,10\\,)\\,$. "
   ]
  },
  {
   "cell_type": "code",
   "execution_count": 4,
   "metadata": {},
   "outputs": [],
   "source": [
    "# This is P(5,10) based on f(t)\n",
    "# P_5_10 = <WRITE YOUR SOLUTION HERE>\n",
    "\n",
    "# This is F(5,10) based on P(5,10)\n",
    "# F_5_10 = <WRITE YOUR SOLUTION HERE>"
   ]
  },
  {
   "cell_type": "markdown",
   "metadata": {},
   "source": [
    "## Compounding\n",
    "### Discrete Compounding\n",
    "\n",
    "You and me set up two contracts:\n",
    "\n",
    "* First contract\n",
    " * right now (at $\\,t=0)\\,$ I pay you $\\,1\\,$ \n",
    " * at $\\,t=1\\,{\\mathit /}\\,2\\,$ you pay me the invested $\\,1\\,$ amount with interest: $\\,1+\\,L(1\\,{\\mathit /}\\,2)\\,{\\mathit /}\\,2\\,$\n",
    "* Second contract\n",
    " * at $\\,t=1\\,{\\mathit /}\\,2\\,$ I pay back to you the same amount: $\\,1+\\,L(1\\,{\\mathit /}\\,2)\\,{\\mathit /}\\,2\\,$ \n",
    " * at $\\,t=1\\,$ you pay me the invested amount with interest: $\\,\\big(1+\\,L(1\\,{\\mathit /}\\,2)\\,{\\mathit /}\\,2\\big) \\cdot \\big(1+\\,F(1\\,{\\mathit /}\\,2, 1\\,{\\mathit /}\\,2)\\,{\\mathit /}\\,2\\big)\\,$\n",
    " \n",
    "The final sum I receive back at $\\,t=1\\,$ must be the same as in the simple 1-year contract that does not have the above 2-step compounding.\n",
    "\n",
    "In other words, these three rates are connected:\n",
    "$\\,\\displaystyle{1+L(1)=\\left(1+\\frac{L\\left(\\frac{1}{2}\\right)}{2}\\right) \\cdot \\left(1+\\frac{F\\left(\\frac{1}{2}, \\frac{1}{2}\\right)}{2}\\right)}\\,$.\n",
    "\n",
    "Moreover, if we assume that $\\,L\\left(\\frac{1}{2}\\right)=F\\left(\\frac{1}{2}, \\frac{1}{2}\\right)\\,$, then we have $\\,\\displaystyle{1+L(1)=\\,\\left(1+\\frac{1}{2}\\,L\\!\\left(\\frac{1}{2}\\right)\\right)^{2}}\\,$\\."
   ]
  },
  {
   "cell_type": "markdown",
   "metadata": {},
   "source": [
    "### Continuous Compounding\n",
    "\n",
    "If we assume that the forward rate on each interval will be the same, then we have $\\,\\displaystyle{1+L(1)=\\,\\left(1+\\frac{1}{n}\\,L\\!\\left(\\frac{1}{n}\\right)\\right)^{n}}\\,$ for $\\,n=3, 4, \\dots\\,$.\n",
    "\n",
    "According to the definitions of the instantaneous rates: $\\,\\displaystyle{\\lim_{n\\,\\to\\,\\infty}L\\!\\left(\\frac{1}{n}\\right)}=f(0)=r\\,$, \n",
    "\n",
    "therefore, $\\,\\displaystyle{1+L(1)=\\left(1+\\frac{r}{n}\\right)^n}\\,$ converges to $\\,e^{\\,r}\\,$ as $\\,n\\to\\infty\\,$. \n",
    "\n",
    "In other words, \n",
    "* if the instantaneous <b>rate is constant $\\,r\\,$</b> over time, then the simple rate is $\\,\\displaystyle{L\\,(\\,0,\\,T\\,)=\\frac{e^{\\,r\\,T}-1}{T}}\\,$,\n",
    "* if the instantaneous <b>rate changes</b>, then\n",
    "$\\,\\displaystyle{L\\,(\\,0,\\,T\\,)=\\frac{\\exp\\left(\\int_0^T \\!\\!f(\\tau)\\,d\\tau\\right)-1}{T}}\\,$.\n"
   ]
  },
  {
   "cell_type": "markdown",
   "metadata": {},
   "source": [
    "## Yield curve\n",
    "\n",
    "The yield curve is the simple rate, $\\,L(\\,0,\\,T\\,)\\,$, as a function of the time length, $\\,T\\,$, from the start to the end (maturity) of the contract.\n",
    "\n",
    "It is also called the term structure of interest rates.\n"
   ]
  },
  {
   "cell_type": "markdown",
   "metadata": {},
   "source": [
    "## Questions\n",
    "### Discount Factor\n",
    "\n",
    "You buy a new phone. You can pay either $\\,N$ = 60k HUF now or pay $\\,m$ = 2k HUF per month for the next $\\,n$ = 30 months. \n",
    "\n",
    "#### Calculate PV\n",
    "If the yearly discount factor is always DY = $97\\%\\,$, what is the total PV of your 30 payments as a function of $\\,m$, $\\,n$ and $\\,$DY ? \n",
    "\n",
    "Please write a function for this calculation. You will need this function later."
   ]
  },
  {
   "cell_type": "code",
   "execution_count": 5,
   "metadata": {},
   "outputs": [],
   "source": [
    "# <WRITE YOUR ANSWER HERE>"
   ]
  },
  {
   "cell_type": "markdown",
   "metadata": {},
   "source": [
    "#### Analyze fixed leg tenure\n",
    "Let $\\,m\\cdot n=N\\,$ with a fixed $\\,N$. Let DY be a constant.\n",
    "\n",
    "Please plot $\\,$PV$-N\\,$ as a function of $\\,n\\,$. What does this plot tell you ?"
   ]
  },
  {
   "cell_type": "code",
   "execution_count": 6,
   "metadata": {},
   "outputs": [],
   "source": [
    "# <CODE YOUR ANSWER HERE>"
   ]
  },
  {
   "cell_type": "markdown",
   "metadata": {},
   "source": [
    "### Simple rate and Forward rate\n",
    "You buy a car with a 2M HUF loan. Your loan contract tells you that you will pay a fixed monthly $\\,m\\,$ amount for $\\,n\\,$ months.\n",
    "\n",
    "#### Simple rate\n",
    "If your "
   ]
  },
  {
   "cell_type": "code",
   "execution_count": null,
   "metadata": {},
   "outputs": [],
   "source": []
  },
  {
   "cell_type": "markdown",
   "metadata": {},
   "source": [
    "### Rates for short times"
   ]
  },
  {
   "cell_type": "code",
   "execution_count": null,
   "metadata": {},
   "outputs": [],
   "source": []
  },
  {
   "cell_type": "markdown",
   "metadata": {},
   "source": [
    "### Compounding"
   ]
  },
  {
   "cell_type": "code",
   "execution_count": null,
   "metadata": {},
   "outputs": [],
   "source": []
  },
  {
   "cell_type": "markdown",
   "metadata": {},
   "source": [
    "## Suggested further items\n",
    "\n",
    "* General introduction: https://www.coursera.org/learn/global-financial-markets-instruments\n",
    "* Short rate: https://en.wikipedia.org/wiki/Short-rate_model#The_short_rate\n",
    "* Compounding: https://en.wikipedia.org/wiki/Compound_interest\n",
    "* Arbitrage: https://www.investopedia.com/terms/a/arbitrage.asp"
   ]
  }
 ],
 "metadata": {
  "hide_input": false,
  "kernelspec": {
   "display_name": "Python 3",
   "language": "python",
   "name": "python3"
  },
  "language_info": {
   "codemirror_mode": {
    "name": "ipython",
    "version": 3
   },
   "file_extension": ".py",
   "mimetype": "text/x-python",
   "name": "python",
   "nbconvert_exporter": "python",
   "pygments_lexer": "ipython3",
   "version": "3.8.3"
  },
  "toc": {
   "base_numbering": 1,
   "nav_menu": {},
   "number_sections": true,
   "sideBar": true,
   "skip_h1_title": false,
   "title_cell": "Table of Contents",
   "title_sidebar": "Contents",
   "toc_cell": false,
   "toc_position": {
    "height": "calc(100% - 180px)",
    "left": "10px",
    "top": "150px",
    "width": "284.4px"
   },
   "toc_section_display": true,
   "toc_window_display": true
  },
  "varInspector": {
   "cols": {
    "lenName": 16,
    "lenType": 16,
    "lenVar": 40
   },
   "kernels_config": {
    "python": {
     "delete_cmd_postfix": "",
     "delete_cmd_prefix": "del ",
     "library": "var_list.py",
     "varRefreshCmd": "print(var_dic_list())"
    },
    "r": {
     "delete_cmd_postfix": ") ",
     "delete_cmd_prefix": "rm(",
     "library": "var_list.r",
     "varRefreshCmd": "cat(var_dic_list()) "
    }
   },
   "types_to_exclude": [
    "module",
    "function",
    "builtin_function_or_method",
    "instance",
    "_Feature"
   ],
   "window_display": false
  }
 },
 "nbformat": 4,
 "nbformat_minor": 2
}
