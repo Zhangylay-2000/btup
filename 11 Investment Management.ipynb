{
 "cells": [
  {
   "cell_type": "markdown",
   "metadata": {},
   "source": [
    "## Factor theory\n",
    "\n",
    "Additional returns are the rewards for additional risks (MPT: full risk, CAPM: non-diversifiable risk).\n",
    "\n",
    "Separate risk into a linear combination of factors.\n",
    "\n",
    "First theory of factor risk is the CAPM, it contains one type of risk: Market Risk."
   ]
  },
  {
   "cell_type": "markdown",
   "metadata": {},
   "source": [
    "### Fama French three-factor model\n",
    "\n",
    "Analogously to the CAPM, two further factors:\n",
    "\n",
    ". size -- difference of Big vs Small market cap companies\n",
    "\n",
    ". value -- difference of High vs Low book to market equity ratio companies"
   ]
  },
  {
   "cell_type": "markdown",
   "metadata": {},
   "source": [
    "### Five factor model\n",
    "\n",
    "Market Risk, size, value, profitability, investment patterns"
   ]
  },
  {
   "cell_type": "markdown",
   "metadata": {},
   "source": [
    "## Risk budgeting"
   ]
  },
  {
   "cell_type": "markdown",
   "metadata": {},
   "source": [
    "## Risk monitoring and performance measurement\n",
    "\n",
    "ROI"
   ]
  },
  {
   "cell_type": "markdown",
   "metadata": {},
   "source": [
    "## Hedge funds"
   ]
  },
  {
   "cell_type": "markdown",
   "metadata": {},
   "source": [
    "## Recommended \n",
    "* Introduction to Portfolio Risk Management in Python<br/>\n",
    "https://campus.datacamp.com/courses/introduction-to-portfolio-risk-management-in-python\n"
   ]
  }
 ],
 "metadata": {
  "kernelspec": {
   "display_name": "Python 3",
   "language": "python",
   "name": "python3"
  },
  "language_info": {
   "codemirror_mode": {
    "name": "ipython",
    "version": 3
   },
   "file_extension": ".py",
   "mimetype": "text/x-python",
   "name": "python",
   "nbconvert_exporter": "python",
   "pygments_lexer": "ipython3",
   "version": "3.8.5"
  },
  "toc": {
   "base_numbering": 1,
   "nav_menu": {},
   "number_sections": true,
   "sideBar": true,
   "skip_h1_title": false,
   "title_cell": "Table of Contents",
   "title_sidebar": "Contents",
   "toc_cell": false,
   "toc_position": {},
   "toc_section_display": true,
   "toc_window_display": true
  }
 },
 "nbformat": 4,
 "nbformat_minor": 4
}
