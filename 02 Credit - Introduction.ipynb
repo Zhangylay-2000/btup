{
 "cells": [
  {
   "cell_type": "markdown",
   "id": "236e797b",
   "metadata": {},
   "source": [
    "# Basic terms\n",
    "\n",
    "## Default and survival probability\n",
    "\n",
    "`Default` is the failure to pay in time.  (noun / verb)\n",
    "\n",
    "For a selected company, let us denote its `probability of default` between now (time $0$) and time $\\,t>0\\,$ by $\\,{\\mathrm{PD}}\\left(\\,0,\\,t\\,\\right)\\,$.\n",
    "\n",
    "Inversely, the `survival probability` of the same company over the same time window is $\\,S\\left(\\,0,\\,t\\,\\right)=1-{\\mathrm{PD}}\\left(\\,0,\\,t\\,\\right)\\,$.\n",
    "\n",
    "If the first argument of the survival probability is zero, then it is practical to omit it. So we write $\\,S\\left(\\,t\\,\\right)\\,$.\n",
    "\n",
    "###### Example\n",
    "\n",
    "In 2008 Iceland's three major privately owned commercial banks defaulted. Depositors of these banks outside Iceland were also affected.\n",
    "\n",
    "## Unconditional default probability\n",
    "\n",
    "From time $\\,t\\,$ to time $\\,t+\\Delta t\\,$ the survival probability drops from $\\,S\\left(\\,t\\,\\right)\\,$ to \n",
    "$\\,S\\left(\\,t+\\Delta t\\,\\right)\\,$.\n",
    "\n",
    "\n",
    "In other words, in this time window the `unconditional default probability` is $\\,S\\left(\\,t\\,\\right) - S\\left(\\,t+\\Delta t\\,\\right)\\,$.\n",
    "\n",
    "## Hazard function\n",
    "\n",
    "1. Let us now apply the condition that the company has survived (not defaulted) until time $\\,t\\,$.\n",
    "<br/>\n",
    "The probability of this event is $\\,S\\left(\\,t\\,\\right)\\,$.\n",
    "\n",
    "\n",
    "2. Therefore, `default probability conditional on` no earlier default is \n",
    "$\\,\\displaystyle{\\frac{S\\left(\\,t\\,\\right) - S\\left(\\,t+\\Delta t\\,\\right)}{S\\left(\\,t\\,\\right)}}\\,$.\n",
    "\n",
    "\n",
    "3. In this $\\,\\Delta t\\,$ long time window the `conditional rate of default` is \n",
    "$\\,\\displaystyle{\\frac{S\\left(\\,t\\,\\right) - S\\left(\\,t+\\Delta t\\,\\right)}{S\\left(\\,t\\,\\right)\\,\\cdot\\,\\Delta t}}\\,$.\n",
    "\n",
    "\n",
    "4. The `hazard function` is the $\\,\\Delta t\\to 0\\,$ limiting case of the conditional rate of default:\n",
    "    $\\,\\displaystyle{h\\left(\\,t\\,\\right)=-\\frac{d}{dt}\\,\\log S\\left(\\,t\\,\\right)}\\,$.\n",
    "\n",
    "\n",
    "5. In summary, it is the rate of default at time $\\,t\\,$ with the condition that the company has survived until that time.\n",
    "\n",
    "\n",
    "\n",
    "###### Notes \n",
    "\n",
    "* The conditional rate of default is also called the relative rate of default.\n",
    "\n",
    "\n",
    "* The hazard function is also called the failure rate, or the `hazard rate`, or the `default intensity function`.\n",
    "\n",
    "\n"
   ]
  },
  {
   "cell_type": "markdown",
   "id": "0312e949",
   "metadata": {},
   "source": [
    "# Recommended reading\n",
    "\n",
    "* The banking crisis in Iceland. Financial Stability Institute, FSI Crisis Management Series No 1. https://www.bis.org/fsi/fsicms1.pdf"
   ]
  }
 ],
 "metadata": {
  "kernelspec": {
   "display_name": "Python 3",
   "language": "python",
   "name": "python3"
  },
  "language_info": {
   "codemirror_mode": {
    "name": "ipython",
    "version": 3
   },
   "file_extension": ".py",
   "mimetype": "text/x-python",
   "name": "python",
   "nbconvert_exporter": "python",
   "pygments_lexer": "ipython3",
   "version": "3.9.5"
  },
  "toc": {
   "base_numbering": 1,
   "nav_menu": {},
   "number_sections": true,
   "sideBar": true,
   "skip_h1_title": false,
   "title_cell": "Table of Contents",
   "title_sidebar": "Contents",
   "toc_cell": false,
   "toc_position": {},
   "toc_section_display": true,
   "toc_window_display": true
  }
 },
 "nbformat": 4,
 "nbformat_minor": 5
}
