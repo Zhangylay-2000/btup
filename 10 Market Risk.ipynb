{
 "cells": [
  {
   "cell_type": "markdown",
   "metadata": {},
   "source": [
    "mainly from `FRM II Part 1`\n",
    "\n",
    "Calculating VaR and related risk measures\n",
    "\n",
    ". estimation methods (param, non-param)\n",
    "\n",
    ". mapping\n",
    "\n",
    ". backtesting\n",
    "\n",
    "Extreme Value Theory (EVT)\n",
    "\n",
    "Copulas\n",
    "\n",
    "Term structure models of interest rates - note: these are fit models or phenomenological models, not derivations from first pricinples, as in math / phys / chem\n",
    "\n",
    ". implement Damir Filipovic' example\n",
    "\n",
    ". detailed fit models at SNB\n",
    "\n",
    "Volatility smiles and term structures\n",
    "\n",
    "FRTB  "
   ]
  }
 ],
 "metadata": {
  "kernelspec": {
   "display_name": "Python 3",
   "language": "python",
   "name": "python3"
  },
  "language_info": {
   "codemirror_mode": {
    "name": "ipython",
    "version": 3
   },
   "file_extension": ".py",
   "mimetype": "text/x-python",
   "name": "python",
   "nbconvert_exporter": "python",
   "pygments_lexer": "ipython3",
   "version": "3.8.5"
  },
  "toc": {
   "base_numbering": 1,
   "nav_menu": {},
   "number_sections": true,
   "sideBar": true,
   "skip_h1_title": false,
   "title_cell": "Table of Contents",
   "title_sidebar": "Contents",
   "toc_cell": false,
   "toc_position": {},
   "toc_section_display": true,
   "toc_window_display": false
  }
 },
 "nbformat": 4,
 "nbformat_minor": 4
}
