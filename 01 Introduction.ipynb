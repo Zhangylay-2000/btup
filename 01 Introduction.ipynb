{
 "cells": [
  {
   "cell_type": "markdown",
   "metadata": {},
   "source": [
    "## Time value of money"
   ]
  },
  {
   "cell_type": "markdown",
   "metadata": {},
   "source": [
    "### Basic terms\n",
    "\n",
    "#### Units\n",
    "* Money is measured in units of USD, CNY, EUR, etc. Most often USD.\n",
    "* Time is measured in units of days, weeks, months or years. Most often days or years.\n",
    "\n",
    "Sometimes units are not written, so $\\,T=1\\,$ means one year, and $\\,1\\,$ unit of money means, for example, $\\,1\\,$ USD.\n",
    "\n",
    "#### Names of time points and time lengths\n",
    "* Current values are often called `spot`, for example the spot price of a stock is its price right now.\n",
    "* The final time point of a contract is usually called the contract's `maturity`.\n",
    "  * So the `time to maturity` of a contract is the amount of time from now until the contract's maturity.\n",
    "* The length of a contract from its start to its end is usually called the `tenor` of the contract.\n",
    " "
   ]
  },
  {
   "cell_type": "markdown",
   "metadata": {},
   "source": [
    "### Discount Factor and Present Value (PV)\n",
    "Alice and Bob set up a contract that starts now and ends at $\\,T=1\\,$:\n",
    "* Right now (at time $\\,t=0)\\,$ Alice pays to Bob a fixed amount of money\n",
    "* In return, at time $\\,t=T=1\\,$ Bob will pay to Alice $\\,1\\,$ unit of money\n",
    "\n",
    "#### To make this a fair contract ...\n",
    " **... how much should Alice pay to Bob right now ?**\n",
    "\n",
    "Let us denote by $\\,P\\,(\\,1\\,)\\,$ this amount. This number is called the Discount Factor for tenor 1.\n",
    "\n",
    "Note that $\\,P\\,(\\,0\\,)=1\\,$.\n",
    "\n",
    "\n",
    "<center>\n",
    "    <img src=\"./img/Present-Value-1-Year.png\" width=\"400\" alt=\"Simple rate 1 year.\">\n",
    "    <br/>\n",
    "    The $\\,P\\left(\\,1\\,\\right)\\,$ discount factor in a 1-year contract between Alice and Bob.\n",
    "</center>\n",
    "\n",
    "#### What does the discount factor depend on ?\n",
    "\n",
    "The time span $\\,T\\,$ , _for example_, $\\,T=1\\,$ is different from $\\,T=5\\,$\n",
    "\n",
    "The currency , _for example_, USD pays differently from CHF.\n",
    "\n",
    "#### What if Alice thinks that Bob may not pay (or not fully) at maturity ?\n",
    "   \n",
    "If there is a possibility that Bob may not pay the agreed amount at maturity, then Alice should pay below $\\,P\\left(\\,1\\,\\right)\\,$ at the start.\n",
    "\n",
    "This difference reflects how much Alice trust Bob, and it is not part of the discount factor. \n",
    "\n",
    "Also, there are further risks related to the contract's environment.\n",
    " \n",
    "#### Present Value (PV)\n",
    "\n",
    "In the above contract the Bob's payment $-$ which is at maturity $-$ has $\\,P\\left(\\,1\\,\\right)\\,$ at the start time.\n",
    "\n",
    "Note the general pattern: a future payment has a PV now."
   ]
  },
  {
   "cell_type": "markdown",
   "metadata": {},
   "source": [
    "### Task: PV of a series of fixed payments\n",
    "\n",
    "In a contract Alice and Bob agree that\n",
    "<br/>\n",
    "(a) Right now Alice transfers to Bob a single payment of size $\\,N\\,$.\n",
    "<br/>\n",
    "(b) In return Bob will pay back to Alice $\\,k=20\\,$ separate payments of size  $\\,m=1\\,$ at the ends of years $\\,1, 2, \\dots, k\\,$ from now.\n",
    "\n",
    "###### Question\n",
    "If the yearly discount factor will always be $\\,D=0.98\\,$, then what is the sum of the PVs of the fixed payments?\n",
    "\n",
    "In other words, what $\\,N\\,$ value makes this a fair contract ?\n",
    "\n",
    "###### Help\n",
    "\n",
    "What is the PV of the $\\,1\\,$ unit of currency paid a fixed number of years from now ?\n",
    "\n",
    "###### Answer\n",
    "\n",
    "The PV of the payment at the end of year $\\,1\\,$ is $\\,m\\,D\\,$.\n",
    "\n",
    "The PV of the payment paid at the end of year $\\,2\\,$ is $\\,m\\,D^{\\,2}\\,$.\n",
    "\n",
    "The sum of the PVs of all $\\,k=20\\,$ payments is \n",
    "$\\,N = m\\,\\displaystyle{\\sum_{j=1}^{k} D^{\\,j} } = m\\,\\left(\\,\\frac{D^{\\,k\\,+\\,1}-1}{D-1}-1\\,\\right)\\,$."
   ]
  },
  {
   "cell_type": "code",
   "execution_count": 1,
   "metadata": {},
   "outputs": [
    {
     "name": "stdout",
     "output_type": "stream",
     "text": [
      "PV = 16.29\n"
     ]
    }
   ],
   "source": [
    "import numpy as np\n",
    "\n",
    "# This D is the yearly Discount Factor. In the current task this D is the same for every year.\n",
    "m = 1.0\n",
    "D = 0.98\n",
    "k = 20\n",
    "\n",
    "PV = m * np.sum([np.power(D, y) for y in range(1, k + 1)])\n",
    "# same value in summed form:\n",
    "# PV = m * ( ( D ** ( k + 1 ) - 1 ) / ( D - 1 ) - 1 )\n",
    "\n",
    "print(f'PV = {PV:.2f}')"
   ]
  },
  {
   "cell_type": "markdown",
   "metadata": {},
   "source": [
    "## Simple rate and Forward rate\n",
    "\n",
    "### Simple rate\n",
    "\n",
    "It is also called: the `simple discount rate`, or the `discount rate`.\n",
    "\n",
    "#### Simple rate for 1 year\n",
    "\n",
    "Alice and Bob set up a contract:\n",
    "* Right now (at $\\,t=0)\\,$ Alice pays to Bob $\\,1\\,$ unit of currency (for example, 1 USD)\n",
    "* In return, at $\\,t=1\\,$ Bob will pay to Alice a fixed amount \n",
    "\n",
    "Let's denote by $\\,1+L\\,(\\,t=1\\,)\\,$ the fixed amount that Bob will pay.\n",
    "\n",
    "This $\\,L\\,(\\,1\\,)\\,$ is called the `currently observed 1-year simple rate`."
   ]
  },
  {
   "cell_type": "markdown",
   "metadata": {},
   "source": [
    "<center>\n",
    "    <img src=\"./img/Simple-Rate-1-Year.png\" width=\"400\" alt=\"Simple rate 1 year.\">\n",
    "    <br/>\n",
    "    The $\\,L\\left(\\,1\\,\\right)\\,$ simple rate in a 1-year contract between Alice and Bob.\n",
    "</center>"
   ]
  },
  {
   "cell_type": "markdown",
   "metadata": {},
   "source": [
    "#### Connecting the Discount Factor with the Simple Rate\n",
    "\n",
    "Based on the definitions of the Discount Factor and the Simple Rate, note that \n",
    "\n",
    "$\\,P\\,\\left(\\,1\\,\\right)\\,\\cdot\\,\\big(\\,1+L\\,(\\,1\\,)\\,\\big) = 1\\,$\n",
    "\n",
    "therefore,\n",
    "\n",
    "$\\,L\\,(\\,1\\,)=\\displaystyle{\\frac{1}{P\\,(\\,1\\,)}-1}\\,$.\n"
   ]
  },
  {
   "cell_type": "markdown",
   "metadata": {},
   "source": [
    "#### Note: Compare simple rates of currencies\n",
    "\n",
    "For $\\,t=1\\,$ a real-life quantity closely related to the USD simple rate is [displayed here](https://ycharts.com/indicators/1_year_treasury_rate).<br/>\n",
    "This is the interest that banks paid to each other on 12-month USD loans at each indicated time point in the past.\n",
    "\n",
    "For a comparison among several currencies, please see the `Yield` column at<br/>\n",
    "https://www.investing.com/rates-bonds/world-government-bonds?maturity_from=90&maturity_to=90 ."
   ]
  },
  {
   "cell_type": "markdown",
   "metadata": {},
   "source": [
    "#### Simple rate for T years\n",
    "\n",
    "Let us allow <b>both integer and non-integer</b> values of $\\,T\\,$ , for example $\\,T=2\\,$ or $\\,T=\\displaystyle{\\frac{1}{2}}\\,$.\n",
    "\n",
    "Again, Alice and Bob set up a contract:\n",
    "* Right now (at $\\,t=0)\\,$ Alice pays to Bob $\\,1\\,$ unit of currency\n",
    "* In return, at $\\,t=T\\,$ Bob will pay to Alice a fixed amount \n",
    "\n",
    "To make this a `fair contract` Bob will pay $\\,1+ T \\cdot L\\,(\\,T\\,)\\,$. This is the definition of $\\,L\\,(\\,T\\,)\\,$.\n",
    "\n",
    "As before, the connection to the discount factor is: $\\,L\\,(\\,T\\,)=\\displaystyle{\\frac{1}{T} \\cdot \\left(\\frac{1}{P\\,(\\,T\\,)}\\,-1\\right)}$.\n",
    "\n",
    "#### Task: Simple rate for T years\n",
    "In the $\\,T$-year long contract of Alice and Bob assume that there is a <b>constant yearly discount factor</b>, $\\,0<D<1\\,$.\n",
    "\n",
    "Use this $\\,D\\,$ to calculate the value of $\\,L\\,(\\,T\\,)$.\n",
    "\n",
    "###### Help\n",
    "Find the connection between $\\,P\\,(\\,T\\,)\\,$, the constant yearly $\\,D\\,$ and $\\,T\\,$."
   ]
  },
  {
   "cell_type": "markdown",
   "metadata": {},
   "source": [
    "###### Answer\n",
    "Use (a) the definition of the discount factor and (b) the definition of the simple rate:\n",
    "\n",
    "(a) The $\\,1\\,$ unit of currency that is paid $\\,T\\,$ years from now has a PV of $\\,D^{\\,T}\\,$\n",
    "<br/>\n",
    "\n",
    "(b) From the definition of the simple rate: $\\,L\\,(\\,T\\,)=\\displaystyle{\\frac{1}{T} \\cdot \\left(\\,D^{\\,-\\,T}\\,-1\\,\\right)}$\n",
    "\n",
    "Observe that a constant yearly discount factor implies an increasing simple rate as the tenor grows."
   ]
  },
  {
   "cell_type": "code",
   "execution_count": 2,
   "metadata": {},
   "outputs": [
    {
     "name": "stdout",
     "output_type": "stream",
     "text": [
      "T = 1, L = 0.0204\n",
      "T = 2, L = 0.0206\n",
      "T = 3, L = 0.0208\n",
      "T = 4, L = 0.0210\n",
      "T = 5, L = 0.0213\n"
     ]
    }
   ],
   "source": [
    "import numpy as np\n",
    "\n",
    "D = 0.98\n",
    "\n",
    "for T in range(1, 6):\n",
    "    L = (np.power(D, -1.0 * T) - 1.0) / T\n",
    "    print(f'T = {T}, L = {L:.4f}')"
   ]
  },
  {
   "cell_type": "markdown",
   "metadata": {},
   "source": [
    "### Forward rate\n",
    "\n",
    "Let us move the starting point of the contract into the future, to a $\\,t>0\\,$ time point.\n",
    "\n",
    "* The contract is set up now, at time $\\,0\\,$.\n",
    "* At time $\\,t>0\\,$ in the future Alice will pay to Bob $\\,1\\,$ unit of currency\n",
    "* In return, at $\\,T>t\\,$ Bob will pay to Alice the fixed amount $\\,1+\\left(T-t\\right) \\cdot F\\,(\\,0,\\,t,\\,T\\,)\\,$\n",
    "\n",
    "Here $\\,F\\,(\\,0,\\,t,\\,T\\,)\\,$ is called the `forward rate`. The first argument is 0, in other words, $\\,F\\,$ is our current knowledge of the simple rate from $\\,t\\,$ to $\\,T\\,$. \n",
    "\n",
    "The first argument is often omitted when it is $\\,0\\,$. So we simply write $\\,F\\,(\\,t,\\,T\\,)\\,$ and, accordingly,<br/>$\\,\\displaystyle{P\\,(\\,t,\\,T\\,)=\\frac{1}{1+\\left(\\,T-t\\,\\right)\\, F\\left(\\,t, T\\,\\right)}}\\,$."
   ]
  },
  {
   "cell_type": "markdown",
   "metadata": {},
   "source": [
    "#### Task: Forward rate\n",
    "If the 5-year and 10-year discount factors are $\\,P(5)=0.8\\,$ and $\\,P(10)=0.5\\,$, then what is $\\,F(5,10)\\,$?"
   ]
  },
  {
   "cell_type": "markdown",
   "metadata": {},
   "source": [
    "###### Answer\n",
    "(a) From the definition of the discount factor: $\\,P\\left(0,\\,10\\right)=P\\left(0,\\,5\\right) P\\left(5,\\,10\\right)\\,$.\n",
    "\n",
    "(b) From the definition of the forward rate: $\\,\\displaystyle{F\\left(5, 10\\right) = \\frac{1}{10-5} \\left(\\frac{1}{P\\left(5, 10\\right)} -1 \\right)}\\,$.\n",
    "\n",
    "From (a) insert $\\,P\\left(5,\\,10\\right)\\,$ into (b) to get $\\,\\displaystyle{F\\left(5, 10\\right) = \\frac{1}{5} \\left(\\frac{P\\left(0,\\,5\\right)}{P\\left(0, 10\\right)} -1 \\right)=\\frac{3}{25}=0.12\\,}$."
   ]
  },
  {
   "cell_type": "markdown",
   "metadata": {},
   "source": [
    "## Rates for short times\n",
    "\n",
    "### Short rate. Also called: instantaneous spot rate.\n",
    "\n",
    "Alice and Bob set up a contract:\n",
    "* Right now (at $\\,t=0)\\,$ Alice pays to Bob $\\,1\\,$ unit of currency\n",
    "* In return, at $\\,t<T\\ll 1\\,$ Bob will pay to Alice $\\,1+ T \\cdot L\\,(\\,T\\,)\\,$\n",
    "\n",
    "The `short rate` , $\\,r\\,$, is the limiting value of the simple rate: \n",
    "\n",
    "$\\,\\displaystyle{\n",
    "\\color{red}{r = \\lim_{T\\,\\to\\,0}L\\,(\\,T\\,) =} \n",
    "\\lim_{T\\,\\to\\,0}\\left(\\frac{\\frac{1}{P\\,(\\,T\\,)}-1}{T}\\right) = \n",
    "\\lim_{T\\,\\to\\,0}\\left(-\\,\\,\\frac{1-\\frac{1}{P\\,(\\,T\\,)}}{T}\\right) = \n",
    "\\lim_{T\\,\\to\\,0}\\left(-\\,\\,\\frac{\\frac{P\\,(\\,T\\,)}{P\\,(\\,T\\,)}-\\frac{P\\,(\\,0\\,)}{P\\,(\\,T\\,)}}{T-0}\\right) = \\\\\n",
    "\\,\\,\\,\\, = \\lim_{T\\,\\to\\,0}\\left(\\frac{-\\,1}{P\\,(\\,T\\,)}\n",
    "          \\cdot\\frac{P\\,(\\,T\\,)-P\\,(\\,0\\,)}{T - 0}\\right) = \n",
    "\\color{red}{-\\,\\frac{\\partial}{\\partial\\,T}\\Bigg|_{\\,T\\,=\\,0}\\!\\!\\ln\\big(P\\,(\\,T\\,)\\big)}\n",
    "}\\,$"
   ]
  },
  {
   "cell_type": "markdown",
   "metadata": {},
   "source": [
    "#### Connect a constant r with the 1-year simple rate\n",
    "\n",
    "###### Question\n",
    "Connect a `constant` $\\,r\\,$ short rate with $\\,L\\left(\\,1\\,\\right)\\,$.\n",
    "###### Answer\n",
    "$(1) \\,\\,\\,$ The definition of the short rate is: \n",
    "$\\, \\displaystyle{\\,r=-\\,\\frac{\\partial}{\\partial\\,T}\\Bigg|_{\\,T\\,=\\,0}\\!\\!\\!\\ln\\,\\left(\\,P\\,\\left(\\,T\\,\\right)\\,\\right)}\\,$.\n",
    "\n",
    "$(2) \\,\\,\\,$ With a `constant` $\\,r\\,$ this gives \n",
    "$\\,\\displaystyle{P\\,\\left(\\,T\\,\\right)=e^{\\,-\\,r\\,T}}\\,$.\n",
    "\n",
    "$(3) \\,\\,\\,$ The 1-year discount factor and simple rate are connected by \n",
    "$\\,\\displaystyle{P\\,(\\,1\\,)=\\frac{1}{1+L\\,(\\,1\\,)}}\\,$.\n",
    "\n",
    "$(4) \\,\\,\\,$ Merge $\\,(2)\\,$ and $\\,(3)\\,$ and apply $\\,T=1\\,$ to get\n",
    "$\\,\\,\\displaystyle{e^{\\,-\\,r}=\\frac{1}{1+L\\,(\\,1\\,)}}\\,$."
   ]
  },
  {
   "cell_type": "markdown",
   "metadata": {},
   "source": [
    "### Instantaneous forward rate\n",
    "\n",
    "Again, let us move the starting point of the contract into the future, to a time point $\\,t>0\\,$.\n",
    "\n",
    "Now Alice and Bob set up the following contract:\n",
    "\n",
    "* At a selected time point in the future (at $\\,t>0$)$\\,$ Alice will pay to Bob $\\,1\\,$\n",
    "* In return, a very short time later (at $\\,t<T$)$\\,$ Bob will pay to Alice $\\,1+\\left(T-t\\right) \\cdot F\\,(\\,t,\\,T\\,)$\n",
    "\n",
    "For a very short $\\,T\\,$ this simple rate becomes the `instantaneous forward rate`:\n",
    "\n",
    "$\\,\\displaystyle{f\\left(\\,t\\,\\right) = \\lim_{T\\,\\to\\,t}F\\,(\\,t,\\,T\\,)=-\\,\\frac{\\partial}{\\partial\\,T}\\Bigg|_{\\,T\\,=\\,t}\\!\\!\\ln\\big(P\\,(\\,t,\\,T\\,)\\big)}$.\n",
    "\n",
    "Note that the instantaneous spot rate is the $\\,t=0\\,$ special case: $\\,r=f\\left(\\,0\\,\\right)\\,$.\n",
    "\n",
    "### Integral form of the Discount Factor\n",
    "Integrating the definition of the instantaneous forward rate gives ${\\displaystyle P\\,(\\,t,\\,T\\,)=\\exp\\left(-\\int_t^T \\!\\!f(\\tau)\\,d\\tau\\right)}\\,$.\n",
    "\n",
    "#### Task: Instantaneous rates\n",
    "The instantaneous rate, $\\,f(t)\\,$, is currently 1\\% and it grows linearly by 0.2\\% per year.\n",
    "\n",
    "What is the 1Y $\\rightarrow$ 11Y forward rate ? \n",
    "\n",
    "Help: With the provided $\\,f(t)\\,$ calculate first $\\,P\\,(\\,1,\\,11\\,)\\,$, and then $\\,F\\,(\\,1,\\,11\\,)\\,$. "
   ]
  },
  {
   "cell_type": "markdown",
   "metadata": {},
   "source": [
    "###### Answer\n",
    "(a) From the definition of the forward rate: $\\,\\displaystyle{F\\left(1, 11\\right) = \\frac{1}{11-1} \\cdot \\left(\\frac{1}{P\\left(1, 11\\right)} -1 \\right)}\\,$.\n",
    "\n",
    "(b) From the definition of the instantaneous forward rate: $\\,\\displaystyle{P\\,(\\,1,\\,11\\,)=\\exp\\left(-\\int_1^{11} \\!\\! (0.01 + 0.002\\tau)\\,d\\tau\\,\\right)=\\exp\\big(-\\left(0.1+0.12\\right)\\,\\big)}$.\n",
    "\n",
    "Combining (a) and (b) gives $\\,\\displaystyle{F\\left(1, 11\\right) = \\frac{\\exp\\,(\\,0.22\\,)-1}{10}}\\approx 2.46\\%\\,$."
   ]
  },
  {
   "cell_type": "code",
   "execution_count": 3,
   "metadata": {},
   "outputs": [
    {
     "name": "stdout",
     "output_type": "stream",
     "text": [
      "F_1_11 = 2.46%\n"
     ]
    }
   ],
   "source": [
    "import numpy as np\n",
    "\n",
    "# 1Y -> 11Y forward rate\n",
    "F_1_11 = (np.exp(0.22) - 1.0) / 10.0\n",
    "\n",
    "print(f'F_1_11 = {F_1_11 * 100:.2f}%')"
   ]
  },
  {
   "cell_type": "markdown",
   "metadata": {},
   "source": [
    "#### Instantaneous forward rate vs the Simple rate\n",
    "\n",
    "###### Question\n",
    "If the simple rate is a known differentiable $\\,L\\left(\\,t\\,\\right)\\,$ function, then what is the $\\,f\\left(\\,t\\,\\right)\\,$ instantaneous forward rate ?\n",
    "\n",
    "###### Help\n",
    "With $\\,T=t+dt\\,$ use the definitions to calculate first $\\,P\\left(\\,t,\\,T\\,\\right)\\,$, and then $\\,f\\left(\\,t\\,\\right)\\,$.\n",
    "\n",
    "###### Answer\n",
    "\n",
    "(1) From the definition of the discount factor $\\,P\\left(\\,T\\,\\right)=P\\left(\\,t\\,\\right) \\cdot P\\left(\\,t,\\,T\\,\\right)\\,$, therefore, $\\,\\displaystyle{P\\left(\\,t,\\,T\\,\\right)=\\frac{P\\left(\\,T\\,\\right)}{P\\left(\\,t\\,\\right)}}\\,$. \n",
    "\n",
    "(2) Inserting the $\\displaystyle{P\\left(t\\right)=\\frac{1}{1+t\\,L\\left(t\\right)}}$ definition of the simple rate into (1) gives $\\,\\displaystyle{P\\left(\\,t,\\,T\\,\\right)}=\\frac{1+t\\,L\\left(t\\right)}{1+T\\,L\\left(T\\right)}\\,$.\n",
    "\n",
    "(3) The definition of the instantaneous forward rate is \n",
    "$\\,\\displaystyle{f\\left(t\\right)=-\\,\\frac{\\partial}{\\partial\\,T}\\Bigg|_{\\,T\\,=\\,t}\\!\\!\\ln\\big(P\\,(\\,t,\\,T\\,)\\big)}\\,$.\n",
    "\n",
    "(4) Inserting (2) into (3) gives\n",
    "$\\,\\displaystyle{f\\left(t\\right)=-\\,\\frac{\\partial}{\\partial\\,T}\\Bigg|_{\\,T\\,=\\,t}\\!\\!\\ln\\Bigg(\\frac{1+t\\,L\\left(t\\right)}{1+T\\,L\\left(T\\right)}\\Bigg)}\\,$.\n",
    "\n",
    "(5) Performing the differentiation in (4) and applying $\\,T=t\\,$ gives &nbsp;&nbsp;\n",
    "$\\,\\color{red}{\\displaystyle{f\\left(t\\right)=\\frac{L\\left(t\\right)+t\\,L'\\!\\left(t\\right)}{1+t\\,L\\left(t\\right)}}}\\,$. "
   ]
  },
  {
   "cell_type": "markdown",
   "metadata": {},
   "source": [
    "## Compounded interest\n",
    "\n",
    "###### Task\n",
    "\n",
    "Calculate interest for a tenor between instantaneous (zero length limiting case) and 1 year.\n",
    "\n",
    "\n",
    "For example, the 6-month rate is constant over time, and calculate the 1-year rate from it.\n",
    "\n",
    "### Discrete Compounding\n",
    "\n",
    "Alice and Bob set up two consecutive contracts.\n",
    "\n",
    "1. The first contract covers the `first 6 months`:\n",
    " * right now (at $\\,t=0)\\,$ Alice pays to Bob $\\,1\\,$ unit of currency \n",
    " * at $\\,t=\\frac{1}{2}\\,$ Bob pays back to Alice the invested $\\,1\\,$ amount with interest: $\\,1+\\frac{1}{2}\\,L\\left(\\frac{1}{2}\\right)\\,$\n",
    "\n",
    "\n",
    "2. The second contract covers the `second 6 months`:\n",
    " * at $\\,t=\\frac{1}{2}\\,$ Alice immediately pays to Bob the same amount that she just received: $\\,1 + \\frac{1}{2}\\,L\\left(\\frac{1}{2}\\right)\\,$ \n",
    " * at $\\,t=1\\,$ Bob pays back to Alice the invested amount with interest: $\\,\\big(1+\\frac{1}{2}\\,L\\left(\\frac{1}{2}\\right)\\,\\big) \\cdot \\big(1+\\,\\frac{1}{2}\\,F\\left(\\frac{1}{2}, 1\\,\\right)\\,\\big)\\,$\n",
    " \n",
    "\n",
    "#### What is the equivalent simple rate for the entire tenor ?\n",
    "\n",
    "In other words, `what is the equivalent discount factor` ?\n",
    "\n",
    "Note that the above 2-step sequence has to be equivalent to a simple 1-year contract.\n",
    "\n",
    "In other words, their final payoffs are equal:\n",
    "\n",
    "$\\,\\displaystyle{1+L\\left(\\,1\\,\\right)=\\Bigg(1+\\frac{1}{2}\\,L\\left(\\frac{1}{2}\\right)\\,\\Bigg) \\cdot \\Bigg(1+\\,\\frac{1}{2}\\,F\\left(\\frac{1}{2}, 1\\,\\right)\\,\\Bigg)}\\,$\n",
    "\n",
    "If the 6-month rate is constant, $-$ in other words, $\\,L\\left(\\frac{1}{2}\\right)=F\\left(\\frac{1}{2}, 1\\right)\\,$, $-$ then :\n",
    "\n",
    "$1 + \\,\\displaystyle{L\\left(\\,1\\,\\right)=\\,\\left(1+\\frac{1}{2}\\,L\\!\\left(\\frac{1}{2}\\right)\\right)^{2}}\\,.$\n",
    "\n",
    "#### Naming conventions for discrete compounding\n",
    "If we use discrete compounding with $\\,n\\,$ steps per year, then $\\,n\\cdot L\\!\\left(\\frac{1}{n}\\right)\\,$ is the yearly rate,<br/>\n",
    "and $\\,n\\,$ is called the `compounding frequency`.<br/>\n",
    "\n",
    "\n",
    "For example, if Alice deposits her money at Bob's bank at a rate of $\\,4\\%\\,$ with quarterly compounding,<br/>\n",
    "then at the end of each quarter she will receive $\\,1\\%\\,$ interest on her current balance."
   ]
  },
  {
   "cell_type": "markdown",
   "metadata": {},
   "source": [
    "#### Task: Deposit with discrete compounding\n",
    "Your 5-year deposit of $\\,N=100\\,$ HUF receives $\\,r=4\\%\\,$ with either annual ($n=1$) or semi-annual ($n=2$) compounding.\n",
    "\n",
    "* At maturity ($\\,T=5\\,$) how much will you receive if the compounding frequency is $\\,n=1$ ? How much with $\\,n=2\\,$ ?\n",
    "* In these two cases what is the equivalent simple rate ?\n",
    "\n",
    "Note that here $\\,N\\,$ is called `notional`."
   ]
  },
  {
   "cell_type": "markdown",
   "metadata": {},
   "source": [
    "###### Answer\n",
    "You will have $\\,\\displaystyle{N\\cdot\\left(1+\\frac{r}{n}\\right)^{n\\,T}}\\,$. \n",
    "The `equivalent simple rate` is $\\,\\displaystyle{ L\\,(\\,T\\,)=\\frac{1}{T} \\cdot \\left[\\,\\left(1+\\frac{r}{n}\\right)^{n\\,T}-1\\,\\right]}\\,$.\n",
    "\n",
    "Please see below for the calculated amounts."
   ]
  },
  {
   "cell_type": "code",
   "execution_count": 4,
   "metadata": {},
   "outputs": [
    {
     "name": "stdout",
     "output_type": "stream",
     "text": [
      "Compounding frequency, Final amount, Equivalent simple rate\n",
      "1, 121.67, 4.33%\n",
      "2, 121.90, 4.38%\n"
     ]
    }
   ],
   "source": [
    "N = 100\n",
    "r = 0.04\n",
    "T = 5\n",
    "\n",
    "print('Compounding frequency, Final amount, Equivalent simple rate')\n",
    "\n",
    "for n in [1, 2]:  # n: compounding frequency\n",
    "    multiplier = (1 + r / n) ** (n * T)\n",
    "    final_amount = N * multiplier\n",
    "    L = (multiplier - 1.0) / T\n",
    "    print(f'{n}, {final_amount:.2f}, {L * 100.0:.2f}%')"
   ]
  },
  {
   "cell_type": "markdown",
   "metadata": {},
   "source": [
    "### Continuous Compounding\n",
    "\n",
    "Continuous compounding is the $\\,n\\to\\infty\\,$ `limiting case` of discrete compounding.\n",
    "\n",
    "If the forward rate is the same for each time interval, then the simple rates are\n",
    "\n",
    "$\\,\\displaystyle{1+L\\left(\\,1\\,\\right)=\\,\\left(1+\\frac{1}{n}\\,L\\!\\left(\\frac{1}{n}\\right)\\right)^{n}}\\,$ for $\\,n=3, 4, \\dots\\,$\n",
    "\n",
    "#### What is the limiting value of the right hand side ?\n",
    "\n",
    "In the $\\,n\\to\\infty\\,$ limit the $\\,\\frac{1}{n}\\,$ argument of the simple rate $\\,L\\,$ goes to zero, and very close to zero the simple rate is a constant. It is $\\,\\mathcal{o}\\left(\\,1\\,\\right)\\,$.\n",
    "\n",
    "Therefore, the limit can be taken separately for the simple rate first.\n",
    "\n",
    "Note that the replacement of the blue part here is by the definition of the instantaneous rate:\n",
    "\n",
    "$\\,\\displaystyle{\n",
    "\\lim_{n\\,\\to\\,\\infty}\\left(1+\\frac{1}{n}\\,L\\!\\left(\\frac{1}{n}\\right)\\right)^{n}\n",
    "= \n",
    "\\lim_{n\\,\\to\\,\\infty}\\left(1+\\frac{1}{n} \\,\\color{blue}{\\left[ \\lim_{n\\,\\to\\,\\infty}\\! L\\!\\left(\\frac{1}{n}\\right)\\right]}\\right)^{n}\n",
    "=\n",
    "\\lim_{n\\,\\to\\,\\infty}\\left(1+\\frac{1}{n} \\,\\color{blue}{ f\\left(\\,0\\,\\right) } \\right)^{n}\n",
    "=\n",
    "e^{\\,\\,f\\,\\left(\\,0\\,\\right)}}\\,$.\n",
    "\n",
    "#### Summarizing the result\n",
    "\n",
    "If the instantaneous <b>rate is a constant $\\,f(0)\\,$</b> over time, then the simple rate is $\\,\\displaystyle{L\\,(\\,0,\\,T\\,)=\\frac{e^{\\,f(0)\\,T}-1}{T}}\\,$,\n",
    "\n",
    "If the instantaneous <b>rate changes</b>, then\n",
    "$\\,\\displaystyle{L\\,(\\,0,\\,T\\,)=\\frac{\\exp\\left(\\int_0^T \\!\\!f(\\tau)\\,d\\tau\\right)-1}{T}}\\,$."
   ]
  },
  {
   "cell_type": "markdown",
   "metadata": {},
   "source": [
    "#### Task: Deposit with continuous compounding\n",
    "On a 5-year deposit of $\\,N=100\\,$ HUF you receive a yearly $\\,r=4\\%\\,$ with continuous compounding.<br/>\n",
    "* How much will you have by the end of the third year ?\n",
    "* What is the equivalent simple rate ?"
   ]
  },
  {
   "cell_type": "markdown",
   "metadata": {},
   "source": [
    "###### Answer\n",
    "You will have $\\,N\\cdot \\exp\\,\\left(\\,r\\,T\\,\\right)\\,$, and \n",
    "the equivalent simple rate is $\\,\\displaystyle{ L\\,(\\,T\\,)=\\frac{\\exp\\,\\left(\\,r\\,T\\,\\right)-1}{T}}\\,$.\n",
    "\n",
    "From this result note that the continously compounded rate can be expressed as\n",
    "$\\,\\displaystyle{r=\\frac{1}{T}\\,\\log\\Big(1+T\\cdot L\\,(\\,T\\,)\\,\\Big)}\\,$."
   ]
  },
  {
   "cell_type": "code",
   "execution_count": 5,
   "metadata": {},
   "outputs": [
    {
     "name": "stdout",
     "output_type": "stream",
     "text": [
      "Initial amount, Final amount, Equivalent simple rate\n",
      "100.00, 121.90, 4.43\n"
     ]
    }
   ],
   "source": [
    "import numpy as np\n",
    "\n",
    "N = 100\n",
    "r = 0.04\n",
    "T = 5\n",
    "\n",
    "multiplier = np.exp(r * T)\n",
    "final = N * multiplier\n",
    "L = (multiplier - 1) / T\n",
    "\n",
    "print('Initial amount, Final amount, Equivalent simple rate')\n",
    "print(f'{N:.2f}, {final_amount:.2f}, {L * 100.0:.2f}')"
   ]
  },
  {
   "cell_type": "markdown",
   "metadata": {},
   "source": [
    "### Task: Loan payment amounts\n",
    "\n",
    "###### Question\n",
    "Today you receive a home loan in the amount of $\\,N$.\n",
    "\n",
    "According to your contract, during the next $\\,m\\,$ months you will pay the fixed $\\,\\frac{N}{m} + x\\,$ amount at the end of each month.\n",
    "\n",
    "Assume that (a) the yearly continuously compounded risk-free rate is a constant $\\,r\\,$ and (b) the length of each month is $\\,\\frac{1}{12}\\,$ year.\n",
    "\n",
    "What $\\,\\frac{x}{N}\\,$ ratio makes the sum of the PVs (present values) of your $\\,m\\,$ payments equal to the received $\\,N\\,$ amount ?\n",
    "\n",
    "###### Help\n",
    "\n",
    "Use the definition of the $\\,\\mathrm{PV}\\,$.\n",
    "\n",
    "###### Answer\n",
    "\n",
    "The Present Value of the $\\,m\\,$ payments is $\\,\\displaystyle{\\left(\\frac{N}{m} + x\\right)\\,\\cdot\\,\\sum_{k=1}^{m} \\exp\\left(-\\,\\frac{k\\,r}{12}\\right)}\\,$. \n",
    "\n",
    "With the notation $\\,\\displaystyle{q=\\exp\\left(-\\,\\frac{r}{12}\\right)}\\,$ the sum is $\\,\\displaystyle{S=\\sum_{k=1}^{m} q^{\\,k}=\\frac{1\\,-\\,q^{\\,m\\,+\\,1}}{1-q}-1}\\,$.\n",
    "\n",
    "With the condition that the PV equals the initially received $\\,N\\,$ amount we get $\\displaystyle{N = \\left(\\frac{N}{m} + x\\right)\\cdot S} \\, $.\n",
    "\n",
    "Dividing both sides by $\\,N S\\,$ gives the requested ratio: &nbsp;&nbsp;\n",
    "$\\,\\displaystyle{\\color{red}{\\frac{x}{N} = \\frac{1}{S} - \\frac{N}{m}}}\\,$."
   ]
  },
  {
   "cell_type": "markdown",
   "metadata": {},
   "source": [
    "## Yield curve\n",
    "\n",
    "### Math Definition\n",
    "\n",
    "The yield curve is the simple rate, $\\,L\\left(\\,0,\\,T\\,\\right)\\,$, as a function of the time length, $\\,T\\,$, from the start to the end (maturity) of the contract.\n",
    "\n",
    "It is also called the `term structure of interest rates`.\n",
    "\n",
    "### Yield, Rate, APY, Zero rate\n",
    "\n",
    "#### Yield on an investment, also called Yield, also called Return\n",
    "The yield on an investment is the total earnings divided by the capital. It is usually expressed as a percent value.\n",
    "\n",
    "For example, a stock is purchased for $\\,S_{\\,0}=100\\,$. Later it pays a dividend of $\\,2\\,$, and finally it is sold for $\\,S_{\\,T}=104\\,$. \n",
    "<br/>\n",
    "In this case the yield on the investment is $\\,(\\,4+2\\,)\\,\\,{\\mathit /}\\,\\,100=6\\%\\,$.\n",
    "\n",
    "#### Yield on a 1-year investment\n",
    "\n",
    "###### Question\n",
    "How is the Yield on an investment related to the simple rate in the $\\,T=1\\,$ case ?\n",
    "\n",
    "###### Answer\n",
    "The Yield on a 1-year investment is $\\,L\\left(\\,0,\\,1\\,\\right)\\,$, usually expressed as a percent value.\n",
    "\n",
    "#### Yield on a non-1-year investment: Annualized percent yield, also called Annualized percentage rate\n",
    "\n",
    "###### Question\n",
    "Consider an investment that is shorter or longer than 1 year.\n",
    "\n",
    "What is the annual equivalent of the return on this investment ?\n",
    "\n",
    "###### Answer\n",
    "\n",
    "The annualized percent yield of an investment is the annually compounded rate producing the yield of the investment.\n",
    "\n",
    "For example, a stock is purchased for $\\,S_{\\,0}=100\\,$, and it is sold at $\\,T=2\\,$ for $\\,S_{\\,T}=121\\,$.\n",
    "<br/>\n",
    "In this case the annualized percent yield is $\\,0.1=10\\%\\,$, because $\\,S_{\\,0}\\cdot\\,\\left(\\,1 + 0.1\\,\\right)^{\\,2}=S_{\\,T}\\,$.\n",
    "\n",
    "##### Task: Convert monthly compounded interest to semi-annually compounded\n",
    "\n",
    "Convert a yearly $\\,6\\%\\,$ interest with monthly compounding to a semi-annually compounded rate.\n",
    "\n",
    "###### Solution\n",
    "\n",
    "Denote the monthly compounded rate by $\\,r_{M}=6\\%\\,$, and the semi-annually compounded rate by $\\,r_{S}\\,$ :\n",
    "\n",
    "$\\displaystyle{ \\left(1 + \\frac{r_{M}}{12}\\right)^{12} = \\left(1 + \\frac{r_{S}}{2}\\right)^2}\\,$, &nbsp; therefore ,  &nbsp;\n",
    "$\\displaystyle{ r_{S} = 2 \\left( \\left(1 + \\frac{r_{M}}{12}\\right)^6 - 1\\right)} \\thickapprox 6.08\\%\\,$.\n"
   ]
  },
  {
   "cell_type": "code",
   "execution_count": 6,
   "metadata": {},
   "outputs": [
    {
     "name": "stdout",
     "output_type": "stream",
     "text": [
      "r_S = 6.08%\n"
     ]
    }
   ],
   "source": [
    "r_M = 0.06\n",
    "r_S = 2.0 * ((1.0 + r_M / 12.0)**6 - 1.0)\n",
    "print(f'r_S = {100 * r_S:.2f}%')"
   ]
  },
  {
   "cell_type": "markdown",
   "metadata": {},
   "source": [
    "#### Zero rate, also called: zero coupon rate\n",
    "\n",
    "The zero rate is the yearly rate $-$ usually semi-annually compounded $-$ equivalent to the simple rate.\n",
    "\n",
    "It is called a zero rate becuase it is calculated from the market price of zero coupon bonds.\n",
    "\n",
    "For example, a zero-coupon bond with tenor $\\,T=3\\,$ and a face value of $\\,N=100\\,$ has a current market price of $\\,B=87.53\\,$.\n",
    "\n",
    "In this case the zero-coupon rate,  $\\,y\\,$, can be calculated from \n",
    "$\n",
    "\\,\\,\\,\\,\n",
    "\\displaystyle{\n",
    "B=\\frac{N}{\\left(1 + \\frac{y}{2}\\right)^{\\,2\\,T}}\n",
    "} \n",
    "\\,\\,\\,\\, \n",
    "\\Rightarrow\n",
    "\\,\\,\\,\\,\n",
    "y = 2  \\left( \\left(N\\,\\mathit{/}\\,B\\right)^{\\,1\\,\\mathit{/}\\,{\\left(\\,2\\,T\\,\\right)}}  - 1 \\right) \\thickapprox 4.49\\%\\,$\n"
   ]
  },
  {
   "cell_type": "code",
   "execution_count": 7,
   "metadata": {},
   "outputs": [
    {
     "name": "stdout",
     "output_type": "stream",
     "text": [
      "y = 4.49%\n"
     ]
    }
   ],
   "source": [
    "T = 3.0\n",
    "N = 100.0\n",
    "B = 87.53\n",
    "y = 2 * ( ( N / B) ** ( 1 / ( 2 * T ) ) - 1 )\n",
    "print(f'y = {100 * y:.2f}%')"
   ]
  },
  {
   "cell_type": "markdown",
   "metadata": {},
   "source": [
    "### Market convention: Quoted value is the zero rate\n",
    "\n",
    "Instead of the annualized percent yield (or the simple rate) the equivalent `semi-annually compounded rate is quoted`.\n",
    "\n",
    "For example, if the annualized percent yield is $\\,\\mathrm{APY}=8.16\\%\\,$, then the quoted rate is $\\,Y=8\\%\\,$.\n",
    "<br/>\n",
    "Explanation: use the $\\,\\left(\\,1 + Y\\,{\\mathit /}\\,n\\,\\right)^{\\,n}\\,$ discrete compounding formula with $\\,n=2\\,$ and observe that $\\,\\left(\\,1 + Y\\,{\\mathit /}\\,2\\,\\right)^{\\,2}=1+\\mathrm{APY}\\,$.\n",
    "\n",
    "Please see this example also in the answer to the question \"Are the CMT yields annual yields?\" at<br/>\n",
    "https://home.treasury.gov/policy-issues/financing-the-government/interest-rate-statistics/interest-rates-frequently-asked-questions"
   ]
  },
  {
   "cell_type": "markdown",
   "metadata": {},
   "source": [
    "### Task: US Treasury Yield curve of June 2019, 2020, 2021\n",
    "\n",
    "Download these data series and plot them together:\n",
    "\n",
    "The USD yield curve in June 2019, 2020 and 2021."
   ]
  },
  {
   "cell_type": "markdown",
   "metadata": {},
   "source": [
    "###### Answer"
   ]
  },
  {
   "cell_type": "markdown",
   "metadata": {},
   "source": [
    "_Download the data_\n",
    "\n",
    "1. In the current folder (directory) please create the `data` subfolder .\n",
    "2. Go to https://www.treasury.gov/resource-center/data-chart-center/interest-rates/Pages/TextView.aspx?data=yield\n",
    "3. In the \"Select type of Interest Rate Data\" menu select \"Daily Treasury Yield Curve Rates\" and then click \"GO\".\n",
    "4. In the \"Select Time Period: menu select \"Current month\" and then click \"GO\".\n",
    "5. Click on the orange colored XML icon above and observe the structure of the received URL: \n",
    "<small>https:<span></span>//data.treasury.gov/feed.svc/DailyTreasuryYieldCurveRateData?$filter=<font style='color:red;font-weight:bold;background-color:yellow;'>month</font>(NEW_DATE)%20eq%20<font style='color:red;font-weight:bold;background-color:yellow;'>06</font>%20and%20<font style='color:red;font-weight:bold;background-color:yellow;'>year</font>(NEW_DATE)%20eq%20<font style='color:red;font-weight:bold;background-color:yellow;'>2019</font></small>\n",
    "\n",
    "6. Insert 2019 for the year and 06 for the month, and save the downloaded file in `data` as  `Y_USD_2019_6.xml`.\n",
    "7. Replace the year 2019 by 2020, and save `Y_USD_2020_6.xml` also to the `data` subfolder.\n",
    "8. Similarly for 2021."
   ]
  },
  {
   "cell_type": "markdown",
   "metadata": {},
   "source": [
    "_Read and convert the data_"
   ]
  },
  {
   "cell_type": "code",
   "execution_count": 8,
   "metadata": {},
   "outputs": [
    {
     "ename": "FileNotFoundError",
     "evalue": "[Errno 2] No such file or directory: 'data\\\\Y_USD_2019_6.xml'",
     "output_type": "error",
     "traceback": [
      "\u001b[1;31m---------------------------------------------------------------------------\u001b[0m",
      "\u001b[1;31mFileNotFoundError\u001b[0m                         Traceback (most recent call last)",
      "Cell \u001b[1;32mIn[8], line 36\u001b[0m\n\u001b[0;32m     32\u001b[0m     \u001b[38;5;28;01mreturn\u001b[39;00m \u001b[38;5;28;01mNone\u001b[39;00m\n\u001b[0;32m     35\u001b[0m \u001b[38;5;66;03m# Read the yield curves\u001b[39;00m\n\u001b[1;32m---> 36\u001b[0m y_2019_06_03 \u001b[38;5;241m=\u001b[39m \u001b[43myield_curve_on_date\u001b[49m\u001b[43m(\u001b[49m\u001b[43mos\u001b[49m\u001b[38;5;241;43m.\u001b[39;49m\u001b[43mpath\u001b[49m\u001b[38;5;241;43m.\u001b[39;49m\u001b[43mjoin\u001b[49m\u001b[43m(\u001b[49m\u001b[38;5;124;43m'\u001b[39;49m\u001b[38;5;124;43mdata\u001b[39;49m\u001b[38;5;124;43m'\u001b[39;49m\u001b[43m,\u001b[49m\u001b[43m \u001b[49m\u001b[38;5;124;43m'\u001b[39;49m\u001b[38;5;124;43mY_USD_2019_6.xml\u001b[39;49m\u001b[38;5;124;43m'\u001b[39;49m\u001b[43m)\u001b[49m\u001b[43m,\u001b[49m\u001b[43m \u001b[49m\u001b[38;5;124;43m'\u001b[39;49m\u001b[38;5;124;43m2019-06-03\u001b[39;49m\u001b[38;5;124;43m'\u001b[39;49m\u001b[43m)\u001b[49m\n\u001b[0;32m     37\u001b[0m y_2020_06_01 \u001b[38;5;241m=\u001b[39m yield_curve_on_date(os\u001b[38;5;241m.\u001b[39mpath\u001b[38;5;241m.\u001b[39mjoin(\u001b[38;5;124m'\u001b[39m\u001b[38;5;124mdata\u001b[39m\u001b[38;5;124m'\u001b[39m, \u001b[38;5;124m'\u001b[39m\u001b[38;5;124mY_USD_2020_6.xml\u001b[39m\u001b[38;5;124m'\u001b[39m), \u001b[38;5;124m'\u001b[39m\u001b[38;5;124m2020-06-01\u001b[39m\u001b[38;5;124m'\u001b[39m)\n\u001b[0;32m     38\u001b[0m y_2021_06_01 \u001b[38;5;241m=\u001b[39m yield_curve_on_date(os\u001b[38;5;241m.\u001b[39mpath\u001b[38;5;241m.\u001b[39mjoin(\u001b[38;5;124m'\u001b[39m\u001b[38;5;124mdata\u001b[39m\u001b[38;5;124m'\u001b[39m, \u001b[38;5;124m'\u001b[39m\u001b[38;5;124mY_USD_2021_6.xml\u001b[39m\u001b[38;5;124m'\u001b[39m), \u001b[38;5;124m'\u001b[39m\u001b[38;5;124m2021-06-01\u001b[39m\u001b[38;5;124m'\u001b[39m)\n",
      "Cell \u001b[1;32mIn[8], line 19\u001b[0m, in \u001b[0;36myield_curve_on_date\u001b[1;34m(xml_file, requested_date)\u001b[0m\n\u001b[0;32m     16\u001b[0m \u001b[38;5;250m\u001b[39m\u001b[38;5;124;03m\"\"\"Read yield curve data from treasury.gov's xml\"\"\"\u001b[39;00m\n\u001b[0;32m     17\u001b[0m y \u001b[38;5;241m=\u001b[39m \u001b[38;5;28mdict\u001b[39m()\n\u001b[1;32m---> 19\u001b[0m \u001b[38;5;28;01mfor\u001b[39;00m entry \u001b[38;5;129;01min\u001b[39;00m \u001b[43mET\u001b[49m\u001b[38;5;241;43m.\u001b[39;49m\u001b[43mparse\u001b[49m\u001b[43m(\u001b[49m\u001b[43mxml_file\u001b[49m\u001b[43m)\u001b[49m\u001b[38;5;241m.\u001b[39mgetroot()\u001b[38;5;241m.\u001b[39mfindall(\u001b[38;5;124m'\u001b[39m\u001b[38;5;124m{\u001b[39m\u001b[38;5;124mhttp://www.w3.org/2005/Atom}entry\u001b[39m\u001b[38;5;124m'\u001b[39m):\n\u001b[0;32m     20\u001b[0m     \u001b[38;5;28;01mfor\u001b[39;00m content \u001b[38;5;129;01min\u001b[39;00m entry\u001b[38;5;241m.\u001b[39mfindall(\u001b[38;5;124m'\u001b[39m\u001b[38;5;124m{\u001b[39m\u001b[38;5;124mhttp://www.w3.org/2005/Atom}content\u001b[39m\u001b[38;5;124m'\u001b[39m):\n\u001b[0;32m     21\u001b[0m         date \u001b[38;5;241m=\u001b[39m \u001b[38;5;28;01mNone\u001b[39;00m\n",
      "File \u001b[1;32m~\\anaconda3\\envs\\fin_course_env\\lib\\xml\\etree\\ElementTree.py:1222\u001b[0m, in \u001b[0;36mparse\u001b[1;34m(source, parser)\u001b[0m\n\u001b[0;32m   1213\u001b[0m \u001b[38;5;250m\u001b[39m\u001b[38;5;124;03m\"\"\"Parse XML document into element tree.\u001b[39;00m\n\u001b[0;32m   1214\u001b[0m \n\u001b[0;32m   1215\u001b[0m \u001b[38;5;124;03m*source* is a filename or file object containing XML data,\u001b[39;00m\n\u001b[1;32m   (...)\u001b[0m\n\u001b[0;32m   1219\u001b[0m \n\u001b[0;32m   1220\u001b[0m \u001b[38;5;124;03m\"\"\"\u001b[39;00m\n\u001b[0;32m   1221\u001b[0m tree \u001b[38;5;241m=\u001b[39m ElementTree()\n\u001b[1;32m-> 1222\u001b[0m \u001b[43mtree\u001b[49m\u001b[38;5;241;43m.\u001b[39;49m\u001b[43mparse\u001b[49m\u001b[43m(\u001b[49m\u001b[43msource\u001b[49m\u001b[43m,\u001b[49m\u001b[43m \u001b[49m\u001b[43mparser\u001b[49m\u001b[43m)\u001b[49m\n\u001b[0;32m   1223\u001b[0m \u001b[38;5;28;01mreturn\u001b[39;00m tree\n",
      "File \u001b[1;32m~\\anaconda3\\envs\\fin_course_env\\lib\\xml\\etree\\ElementTree.py:569\u001b[0m, in \u001b[0;36mElementTree.parse\u001b[1;34m(self, source, parser)\u001b[0m\n\u001b[0;32m    567\u001b[0m close_source \u001b[38;5;241m=\u001b[39m \u001b[38;5;28;01mFalse\u001b[39;00m\n\u001b[0;32m    568\u001b[0m \u001b[38;5;28;01mif\u001b[39;00m \u001b[38;5;129;01mnot\u001b[39;00m \u001b[38;5;28mhasattr\u001b[39m(source, \u001b[38;5;124m\"\u001b[39m\u001b[38;5;124mread\u001b[39m\u001b[38;5;124m\"\u001b[39m):\n\u001b[1;32m--> 569\u001b[0m     source \u001b[38;5;241m=\u001b[39m \u001b[38;5;28;43mopen\u001b[39;49m\u001b[43m(\u001b[49m\u001b[43msource\u001b[49m\u001b[43m,\u001b[49m\u001b[43m \u001b[49m\u001b[38;5;124;43m\"\u001b[39;49m\u001b[38;5;124;43mrb\u001b[39;49m\u001b[38;5;124;43m\"\u001b[39;49m\u001b[43m)\u001b[49m\n\u001b[0;32m    570\u001b[0m     close_source \u001b[38;5;241m=\u001b[39m \u001b[38;5;28;01mTrue\u001b[39;00m\n\u001b[0;32m    571\u001b[0m \u001b[38;5;28;01mtry\u001b[39;00m:\n",
      "\u001b[1;31mFileNotFoundError\u001b[0m: [Errno 2] No such file or directory: 'data\\\\Y_USD_2019_6.xml'"
     ]
    }
   ],
   "source": [
    "import xml.etree.ElementTree as ET\n",
    "import re\n",
    "import os\n",
    "\n",
    "\n",
    "def tenor_str_to_months(tenor_str):\n",
    "    \"\"\"Convert string formatted month or year to number of months\"\"\"\n",
    "    m = re.search('^(\\d+)(MONTH|YEAR)$', tenor_str)\n",
    "    if m:\n",
    "        return int(m.group(1)) * (1 if m.group(2) == 'MONTH' else 12)\n",
    "    else:\n",
    "        raise TypeError('Cannot convert this date string to number of months: {}'.format(tenor_str))\n",
    "\n",
    "        \n",
    "def yield_curve_on_date(xml_file, requested_date):\n",
    "    \"\"\"Read yield curve data from treasury.gov's xml\"\"\"\n",
    "    y = dict()\n",
    "    \n",
    "    for entry in ET.parse(xml_file).getroot().findall('{http://www.w3.org/2005/Atom}entry'):\n",
    "        for content in entry.findall('{http://www.w3.org/2005/Atom}content'):\n",
    "            date = None\n",
    "            for properties in content:\n",
    "                for d in properties:\n",
    "                    if 'NEW_DATE' in d.tag:\n",
    "                        date = d.text\n",
    "                    elif 'BC_' in d.tag and 'DISPLAY' not in d.tag:\n",
    "                        tenor = tenor_str_to_months(d.tag.split('_')[-1])\n",
    "                        y[tenor] = float(d.text)\n",
    "        if date and requested_date in date:\n",
    "            return y\n",
    "\n",
    "    return None\n",
    "\n",
    "\n",
    "# Read the yield curves\n",
    "y_2019_06_03 = yield_curve_on_date(os.path.join('data', 'Y_USD_2019_6.xml'), '2019-06-03')\n",
    "y_2020_06_01 = yield_curve_on_date(os.path.join('data', 'Y_USD_2020_6.xml'), '2020-06-01')\n",
    "y_2021_06_01 = yield_curve_on_date(os.path.join('data', 'Y_USD_2021_6.xml'), '2021-06-01')"
   ]
  },
  {
   "cell_type": "markdown",
   "metadata": {},
   "source": [
    "_Plot yield curves_"
   ]
  },
  {
   "cell_type": "code",
   "execution_count": null,
   "metadata": {},
   "outputs": [],
   "source": [
    "import matplotlib.pyplot as plt\n",
    "\n",
    "\n",
    "def compare_yield_curves():\n",
    "    \"\"\"\n",
    "    Plot yield curves\n",
    "    \"\"\"\n",
    "    # --- settings ---\n",
    "    fontsize = 14  # font size for the text of the current plot\n",
    "    xticks = [0, 24, 60, 84, 120, 240, 360]\n",
    "    yticks = [0, 0.5, 1, 1.5, 2, 2.5]\n",
    "    ylim = [0, 3]\n",
    "\n",
    "    # --- plotting ---\n",
    "    plt.plot(*zip(*sorted(y_2019_06_03.items())), 'rx:', markersize=6, label='2019-06-03')\n",
    "    plt.plot(*zip(*sorted(y_2020_06_01.items())), 'gx:', markersize=6, label='2020-06-01')\n",
    "    plt.plot(*zip(*sorted(y_2021_06_01.items())), 'bx:', markersize=6, label='2021-06-01')\n",
    "    plt.title('USD Treasury Yield Curves on selected days', fontsize=fontsize)\n",
    "    plt.xlabel('t   [tenor in years]', fontsize=fontsize)\n",
    "    plt.ylabel('Y ( t )', fontsize=fontsize)\n",
    "    ax = plt.gca()\n",
    "    ax.set_xticks(xticks)\n",
    "    ax.set_xticklabels([str(int(tenor_measured_in_months/12)) for tenor_measured_in_months in xticks], \n",
    "                       fontsize=fontsize)\n",
    "    ax.set_yticks(yticks)\n",
    "    ax.set_yticklabels([str(y)+'%' for y in yticks], fontsize=fontsize)\n",
    "    ax.set_ylim(ylim)\n",
    "    plt.legend(bbox_to_anchor=(1.02, 1), loc=2, borderaxespad=0., fontsize=fontsize)\n",
    "\n",
    "    fig = plt.gcf()\n",
    "    fig.set_size_inches([7, 5])\n",
    "    plt.show()\n",
    "\n",
    "    \n",
    "compare_yield_curves()"
   ]
  },
  {
   "cell_type": "markdown",
   "metadata": {},
   "source": [
    "### Risk-free rate and Discounting\n",
    "#### Risk-free investment (free of credit risk)\n",
    "\n",
    "If you set up a contract, there is always a non-zero chance that something unexpected will happen.<br/>\n",
    "The safest USD financial instruments are short-term US Treasury Bills, they are the least likely to have something unexpected.<br/>\n",
    "\n",
    "Currently, short-term US T-Bills are the closest approximations of a risk-free investment,<br/>\n",
    "because the US Treasury is very very likely to fulfill its payment obligations in the near future.\n",
    "\n",
    "#### Risk-free rate\n",
    "The theoretical concept of a `risk-free rate` is the rate of a risk-free investment.<br/>\n",
    "Note, however, that the actual value of the risk-free rate may change tomorrow. This is called `interest rate risk`.\n",
    "\n",
    "For example, you can enter a `risk-free` contract between now and time $\\,T=3\\,$ with an annualized percent yield of $\\,\\mathrm{APY}=2\\%\\,$.\n",
    "<br/>\n",
    "This risk-free contract will be a reference for all other contracts with the same tenor.\n",
    "\n",
    "\n",
    "#### Discounting\n",
    "Assume that at $\\,T=3\\,$ you will receive the amount of $\\,100\\,$. \n",
    "<br/>\n",
    "Comparing to the risk-free $\\,\\mathrm{APY}=2\\%\\,$, this $\\,100\\,$ received at $\\,T=3\\,$ \n",
    "has the following normalized value to you: $\\,\\displaystyle{\\frac{100}{\\left(\\,1+\\mathrm{APY}\\,\\right)^{\\,3}}}\\,$.  \n",
    "\n",
    "\n",
    "The normalization with the risk-free rate is called `discounting with the risk-free rate`.<br/>"
   ]
  },
  {
   "cell_type": "markdown",
   "metadata": {},
   "source": [
    "#### Task: PV of your future payments\n",
    "\n",
    "1. You and a bank just signed a contract. For the next 30 years at the end of each month you will pay $\\,m=1$ USD.\n",
    "2. Select one of the above USD yield curves.\n",
    "3. Between 1 month and 360 months calculate each missing value with linear interpolation.\n",
    "4. Convert each yield to APY.\n",
    "5. Calculate the sum of the PVs of your payments.\n",
    "6. Repeat the calculation with the other yield curve.\n",
    "7. Why do you see a difference between the results obtained with the different yield curves ? "
   ]
  },
  {
   "cell_type": "markdown",
   "metadata": {},
   "source": [
    "###### Answer\n",
    "\n",
    "_Helper functions: Linear interpolation, Discount factor, PV calculation_"
   ]
  },
  {
   "cell_type": "code",
   "execution_count": null,
   "metadata": {},
   "outputs": [],
   "source": [
    "import numpy as np\n",
    "from numbers import Number\n",
    "\n",
    "INTP_MAX_STEP_NUMBER = 10000\n",
    "INTP_MIN_STEP_SIZE = 1.0e-6\n",
    "NUMBER_OF_MONTHLY_PAYMENTS = 360\n",
    "\n",
    "\n",
    "def interpolate_linear(xy_dict={}, x_from=None, x_to=None, x_step=None):\n",
    "    \"\"\"\n",
    "    Linear interpolation of y(x) values at the x points  ( x_from, x_from + x_step,  x_from + 2 * x_step, ... )\n",
    "    based on y values at the nearest available x values. \n",
    "\n",
    "    The x value of the last interpolation is strictly smaller than x_to, equality is not allowed.\n",
    "\n",
    "    Available x, y pairs are listed in xy_dict.\n",
    "\n",
    "    The returned dict contains only the interploated values.\n",
    "    \"\"\"\n",
    "    xy_intp = dict()\n",
    "    \n",
    "    # --- testing inputs ---\n",
    "    assert len(xy_dict.keys()) > 1, 'Interpolation needs at least two points'\n",
    "    assert x_from is not None, 'Missing argument: x_from'\n",
    "    assert x_to is not None, 'Missing argument: x_to'\n",
    "    assert x_step is not None, 'Missing argument: x_step'\n",
    "\n",
    "    assert all([isinstance(x, Number) for x in xy_dict.keys()]), 'All listed x values have to be numeric'\n",
    "    assert all([isinstance(y, Number) for y in xy_dict.values()]), 'All listed y values have to be numeric'\n",
    "    assert isinstance(x_from, Number), 'x_from has to be numeric'\n",
    "    assert isinstance(x_to, Number), 'x_to has to be numeric'\n",
    "    assert isinstance(x_step, Number), 'x_step has to be numeric'\n",
    "    \n",
    "    x_list, y_list = zip(*sorted(xy_dict.items()))\n",
    "    x_intp = np.arange(x_from, x_to, x_step)  # x values of the interpolated points, np.arange allows float step\n",
    "    \n",
    "    assert x_list[0] <= x_intp[0], 'The x value of the first interpolated y must be >= the first available x value'\n",
    "    assert x_intp[-1] <= x_list[-1], 'The x value of the last interpolated y must be <= the last available x value'\n",
    "    assert x_step > 0.0, 'The step size between the x values of the interpolated points must be positive'\n",
    "    assert x_intp[0] + x_step <= x_list[-1], 'Second x value of the interpolation must be <= the last available x value'\n",
    "\n",
    "    assert (x_list[-1] - x_list[0]) / x_step <= INTP_MAX_STEP_NUMBER, \\\n",
    "        'The maximum number of interpolation steps is {}'.format(INTP_MAX_STEP_NUMBER)\n",
    "    assert all([x_list[i] - x_list[i - 1] >= INTP_MIN_STEP_SIZE for i in range(1, len(x_list))]), \\\n",
    "        'The distance between neighboring listed x values has to be at least {}'.format(INTP_MIN_STEP_SIZE)\n",
    "    \n",
    "    # --- interpolation --- \n",
    "    i_intp = 0  # i_list and i_intp are the indexes of the known and requested x values\n",
    "    i_list = 0\n",
    "    while i_intp < len(x_intp) and i_list < len(x_list):\n",
    "        # linear interpolation at x_intp[i_intp] based on nearest available known values\n",
    "        r = (x_intp[i_intp] - x_list[i_list]) / (x_list[i_list + 1] - x_list[i_list])\n",
    "        xy_intp[x_intp[i_intp]] = r * y_list[i_list + 1] + (1.0 - r) * y_list[i_list]\n",
    "        \n",
    "        # move to the next interpolated point such that x_list[i_list] <= x_intp[i_intp] < x_list[i_list + 1]\n",
    "        # note that the second comparison is a sharp < relation, in other words, equality is not allowed\n",
    "        i_intp += 1\n",
    "        if i_intp < len(x_intp):            \n",
    "            while x_list[i_list + 1] <= x_intp[i_intp]:\n",
    "                i_list += 1\n",
    "\n",
    "    return xy_intp\n",
    "\n",
    "\n",
    "def quoted_percent_yield_to_discount_factor(quoted_percent_yield=None, tenor_in_years=None):\n",
    "    annual_percent_yield = 100.0 * ( (1.0 + 0.5 * quoted_percent_yield / 100.0) ** 2.0 - 1.0 )\n",
    "    continuous_rate = np.log(1.0 + tenor_in_years * annual_percent_yield / 100.0) / tenor_in_years\n",
    "    discount_factor = np.exp(-1.0 * continuous_rate * tenor_in_years)\n",
    "    \n",
    "    return discount_factor\n",
    "    \n",
    "\n",
    "def calculate_pv(yield_curve_months=None, fixed_payment_amount=None):\n",
    "    pv = 0.0\n",
    "    y_intp = interpolate_linear(xy_dict=yield_curve_months, x_from=1, x_to=NUMBER_OF_MONTHLY_PAYMENTS, x_step=1)\n",
    "    for tenor_in_months, quoted_percent_yield in y_intp.items():\n",
    "        tenor_in_years = tenor_in_months / 12.0 \n",
    "        discount_factor = quoted_percent_yield_to_discount_factor(quoted_percent_yield=quoted_percent_yield, \n",
    "                                                                  tenor_in_years=tenor_in_years)\n",
    "        pv += fixed_payment_amount * discount_factor            \n",
    "\n",
    "    return pv"
   ]
  },
  {
   "cell_type": "markdown",
   "metadata": {},
   "source": [
    "_Calculate PVs_\n",
    "\n",
    "Note the significant difference between the two PVs: $\\,273.61\\,$ vs $\\,311.29\\,$\n",
    "\n",
    "What is the reason for this difference ? Can you explain ?"
   ]
  },
  {
   "cell_type": "code",
   "execution_count": null,
   "metadata": {},
   "outputs": [],
   "source": [
    "FIXED_PAYMENT_AMOUNT = 1\n",
    "\n",
    "\n",
    "for start_time, yield_curve_months in zip(['2019-06-03', '2020-06-01'], [y_2019_06_03, y_2020_06_01]):\n",
    "    pv = calculate_pv(yield_curve_months=yield_curve_months, fixed_payment_amount=FIXED_PAYMENT_AMOUNT)\n",
    "    print(f'Start time: {start_time}, '\n",
    "          f'Fixed monthly payment amount: {FIXED_PAYMENT_AMOUNT}, '\n",
    "          f'Number of monthly payments: {NUMBER_OF_MONTHLY_PAYMENTS}. '\n",
    "          f'PV: {pv:.2f}')"
   ]
  },
  {
   "cell_type": "markdown",
   "metadata": {},
   "source": [
    "## LIBOR vs SOFR\n",
    "\n",
    "[**L**ondon **I**nter**B**ank **O**ffered **R**ate](https://www.investopedia.com/terms/l/libor.asp)\n",
    "\n",
    "Average of the `opinions` of major banks on the (short-term) lending rate among themselves in the `future`.\n",
    "\n",
    "\n",
    "<br/>\n",
    "\n",
    "[**S**ecured **O**vernight **F**inancing **R**ate](https://www.investopedia.com/secured-overnight-financing-rate-sofr-4683954)\n",
    "\n",
    "Average short-term rate `now` (past bday) based on `large amounts of actual trade data` (e.g., loans).\n",
    "\n",
    "### Major Differences\n",
    "\n",
    "1. (L)IBOR is forward looking, SOFR is backward looking\n",
    "2. SOFRs are only O/N, IBORs have many tenors\n",
    "3. IBORs contain credit risk, so SOFR usually fixes lower\n",
    "4. SOFRs are data-centric rather than expert opinion based\n",
    "\n",
    "Due to 3. and 4., SOFRs are less volatile and harder to manipulate."
   ]
  },
  {
   "cell_type": "markdown",
   "metadata": {},
   "source": [
    "## Credit\n",
    "\n",
    "### Default and survival probability\n",
    "\n",
    "`Default` (noun) describes one's failure to pay timely. In this case the contractual party `defaults` (verb).\n",
    "\n",
    "For a selected company, let us denote its `probability of default` between now (time $0$) and time $\\,t>0\\,$ by $\\,{\\mathrm{PD}}\\left(\\,0,\\,t\\,\\right)\\,$.\n",
    "\n",
    "Inversely, the `survival probability` of the same company over the same time window is $\\,S\\left(\\,0,\\,t\\,\\right)=1-{\\mathrm{PD}}\\left(\\,0,\\,t\\,\\right)\\,$.\n",
    "\n",
    "If the first argument of the survival probability is zero, then it is practical to omit it. So we write $\\,S\\left(\\,t\\,\\right)\\,$.\n",
    "\n",
    "###### Example\n",
    "\n",
    "In 2008 Iceland's three major privately owned commercial banks defaulted.\n",
    "<br/>\n",
    "Depositors of these banks outside Iceland were also affected.\n",
    "\n",
    "### Unconditional default probability\n",
    "\n",
    "From time $\\,t\\,$ to time $\\,t+\\Delta t\\,$ the survival probability drops from $\\,S\\left(\\,t\\,\\right)\\,$ to \n",
    "$\\,S\\left(\\,t+\\Delta t\\,\\right)\\,$.\n",
    "\n",
    "\n",
    "In other words, in this time window the `unconditional default probability` is $\\,S\\left(\\,t\\,\\right) - S\\left(\\,t+\\Delta t\\,\\right)\\,$.\n",
    "\n",
    "### Hazard function\n",
    "\n",
    "1. Let us now start by assuming that a company has survived (not defaulted) until time $\\,t\\,$.\n",
    "<br/>\n",
    "The probability of this event is $\\,S\\left(\\,t\\,\\right)\\,$.\n",
    "\n",
    "\n",
    "2. Therefore, `default probability conditional on` no earlier default is \n",
    "$\\,\\displaystyle{\\frac{S\\left(\\,t\\,\\right) - S\\left(\\,t+\\Delta t\\,\\right)}{S\\left(\\,t\\,\\right)}}\\,$.\n",
    "\n",
    "\n",
    "3. In this $\\,\\Delta t\\,$ long time window the `conditional rate of default` (also called: relative rate of default) is \n",
    "$\\,\\displaystyle{\\frac{S\\left(\\,t\\,\\right) - S\\left(\\,t+\\Delta t\\,\\right)}{S\\left(\\,t\\,\\right)\\,\\cdot\\,\\Delta t}}\\,$.\n",
    "\n",
    "\n",
    "4. The `hazard function` (also called: failure rate, or the `hazard rate`, or the `default intensity function`)<br/>\n",
    "is the $\\,\\Delta t\\to 0\\,$ limiting case of the conditional rate of default:<br/>\n",
    "$\\,\\displaystyle{\n",
    "\\color{red}{h\\left(\\,t\\,\\right)=}\\\n",
    "\\frac{S\\left(\\,t\\,\\right) - S\\left(\\,t+\\Delta t\\,\\right)}{S\\left(\\,t\\,\\right)\\,\\cdot\\,\\Delta t}\\Bigg|_{\\,\\Delta t\\,\\to\\,0}\\!\\!=\\\n",
    "\\!-\\,\\frac{1}{S\\left(\\,t\\,\\right)}\\cdot\\frac{ S\\left(\\,t+\\Delta t\\,\\right)-S\\left(\\,t\\,\\right)}{\\Delta t}\\Bigg|_{\\,\\Delta t\\,\\to\\,0}\\!\\!=\\\\\n",
    "\\!-\\,\\frac{1}{S\\left(\\,t\\,\\right)}\\cdot\\frac{d}{dt}S\\left(\\,t\\,\\right)=\\\n",
    "\\!\\color{red}{-\\frac{d}{dt}\\,\\ln S\\left(\\,t\\,\\right)}\n",
    "}\\,$\n",
    "\n",
    "\n",
    "5. In summary, the hazard function is the rate of default at time $\\,t\\,$ with the condition that the company has survived until that time."
   ]
  },
  {
   "cell_type": "markdown",
   "metadata": {},
   "source": [
    "## Recommended reading\n",
    "\n",
    "* Short rate - https://en.wikipedia.org/wiki/Short-rate_model#The_short_rate\n",
    "* Compounding - https://en.wikipedia.org/wiki/Compound_interest\n",
    "* The banking crisis in Iceland. Financial Stability Institute, FSI Crisis Management Series No 1. https://www.bis.org/fsi/fsicms1.pdf"
   ]
  },
  {
   "cell_type": "markdown",
   "metadata": {},
   "source": [
    "## Homework\n",
    "\n",
    "### Forward rates\n",
    "\n",
    "#### Specific numbers\n",
    "If the $\\,\\mathrm{3Y}\\,$ bond pays $\\,4\\%\\,$, and the $\\,\\mathrm{5Y}\\,$ bond pays $\\,4.5\\%\\,$, then what is the $\\,\\mathrm{3Y}\\to\\mathrm{5Y}\\,$ forward rate ?\n",
    "\n",
    "#### Generalized\n",
    "\n",
    "###### Task\n",
    "$N\\,$ and $\\,k\\,$ are positive integers.\n",
    "<br/>\n",
    "The simple rate is known for the tenors $\\,1\\,,\\,2\\,,\\,\\dots\\,N\\,$, and also for the tenors $\\,0\\le t\\le N-k\\,$.\n",
    "<br/>\n",
    "What is the forward rate $\\,F\\left(\\,t,\\,t+k\\,\\right)\\,$ ?\n",
    "\n",
    "###### Help\n",
    "With $\\,T=t+k\\,$ use the definitions to calculate first $\\,P\\left(\\,t\\,\\right)\\,$ and $\\,P\\left(\\,T\\,\\right)\\,$,\n",
    "and then $\\,F\\left(\\,t,\\,T\\,\\right)\\,$."
   ]
  },
  {
   "cell_type": "markdown",
   "metadata": {},
   "source": [
    "## Planned items\n",
    "\n",
    "<span style=\"background-color:yellow;color:red;font-weight:bold\">TODO: TOC's top covered by menu & toolbar</span>"
   ]
  }
 ],
 "metadata": {
  "hide_input": false,
  "kernelspec": {
   "display_name": "Python 3 (ipykernel)",
   "language": "python",
   "name": "python3"
  },
  "language_info": {
   "codemirror_mode": {
    "name": "ipython",
    "version": 3
   },
   "file_extension": ".py",
   "mimetype": "text/x-python",
   "name": "python",
   "nbconvert_exporter": "python",
   "pygments_lexer": "ipython3",
   "version": "3.10.13"
  },
  "toc": {
   "base_numbering": 1,
   "nav_menu": {},
   "number_sections": true,
   "sideBar": true,
   "skip_h1_title": false,
   "title_cell": "Table of Contents",
   "title_sidebar": "Contents",
   "toc_cell": false,
   "toc_position": {
    "height": "569.6px",
    "left": "1203.6px",
    "top": "110.8px",
    "width": "388.5px"
   },
   "toc_section_display": true,
   "toc_window_display": true
  },
  "varInspector": {
   "cols": {
    "lenName": 16,
    "lenType": 16,
    "lenVar": 40
   },
   "kernels_config": {
    "python": {
     "delete_cmd_postfix": "",
     "delete_cmd_prefix": "del ",
     "library": "var_list.py",
     "varRefreshCmd": "print(var_dic_list())"
    },
    "r": {
     "delete_cmd_postfix": ") ",
     "delete_cmd_prefix": "rm(",
     "library": "var_list.r",
     "varRefreshCmd": "cat(var_dic_list()) "
    }
   },
   "types_to_exclude": [
    "module",
    "function",
    "builtin_function_or_method",
    "instance",
    "_Feature"
   ],
   "window_display": false
  }
 },
 "nbformat": 4,
 "nbformat_minor": 2
}
