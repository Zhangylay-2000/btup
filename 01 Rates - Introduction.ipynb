{
 "cells": [
  {
   "cell_type": "markdown",
   "metadata": {},
   "source": [
    "## Time value of money"
   ]
  },
  {
   "cell_type": "markdown",
   "metadata": {},
   "source": [
    "### Basic terms\n",
    "\n",
    "###### Units\n",
    "* Money is measured in units of USD, CNY, EUR, etc.\n",
    "* Time is measured in units of days, weeks, months or years.\n",
    "\n",
    "Sometimes units are not written, so $\\,T=1\\,$ means one year, and $\\,1\\,$ unit of money means, for example, $\\,1\\,$ USD.\n",
    "\n",
    "###### Names of time points and time lengths\n",
    "* Current values are often named with `spot`, for example the spot price of a stock is its price right now.\n",
    "* The final time point of a contract is usually called the contract's `maturity`.\n",
    "  * So the `time to maturity` of a contract is the amount of time from now until the contract's maturity.\n",
    "* The length of a contract from its start to its end is usually called the `tenor` of the contract.\n",
    " "
   ]
  },
  {
   "cell_type": "markdown",
   "metadata": {},
   "source": [
    "### Discount Factor and PV\n",
    "You and me set up a contract that starts now and ends at $\\,T\\,$:\n",
    "* Right now (at time $\\,t=0)\\,$ I give you a fixed amount of USD\n",
    "* In return, at time $\\,t=T\\,$ you will pay me $\\,1\\,$ USD\n",
    "\n",
    "<b>To make this a fair contract, how much should I give you now ?</b>\n",
    "\n",
    "Let us denote by $\\,P\\,(\\,T\\,)\\,$ the amount I should give you now. This number is called the Discount Factor in our contract.\n",
    "\n",
    "Note that $\\,P\\,(\\,0\\,)=1\\,$.\n",
    "\n",
    "<b>What does this discount factor depend on ?</b>\n",
    "\n",
    "* the currency $\\,\\rightarrow\\,$ _for example, USD pays differently from CHF_\n",
    "* the time span $\\,T\\,$ $\\,\\rightarrow\\,$ _for example, $\\,T=1\\,$ is different from $\\,T=5\\,$_\n",
    "* and many others, for example, you may not be able to pay me the agreed $\\,1\\,$ USD at $\\,T\\,$ <br/>this means the probability that you'll actually pay is somewhere between 0 and 1\n",
    " \n",
    "<b>Present Value (PV)</b>\n",
    "\n",
    "In our contract the Present Value (also called PV) of the $\\,1\\,$ USD you agree to pay me is the above mentioned $\\,P\\,$.\n",
    "\n",
    "Usually, the probability that you will actually pay (and other similar risk items) are considered separately from $\\,P\\,$."
   ]
  },
  {
   "cell_type": "markdown",
   "metadata": {},
   "source": [
    "### Task: PV of a fixed leg\n",
    "\n",
    "We agree that\n",
    "* You will pay me 20 separate payments of $\\,1\\,$ USD at the end of years $\\,1, 2, \\dots, 20\\,$ from now\n",
    "* In return, you receive now a single payment.\n",
    "\n",
    "If the yearly discount factor will always be $\\,0.98\\,$, then what current payment value makes this a fair contract ?\n",
    "\n",
    "Help: What is the PV of a $\\,1\\,$ USD payment that you will pay me $\\,n\\,$ years from now ?"
   ]
  },
  {
   "cell_type": "code",
   "execution_count": 1,
   "metadata": {},
   "outputs": [],
   "source": [
    "# This DY is the yearly Discount Factor. In the current task this DY is the same for every year.\n",
    "DY = 0.98\n",
    "\n",
    "# This PV is the amount that I give you now in return for your 20 separate payments of 1 USD at t = 1, 2, ... , 20\n",
    "# <WRITE YOUR SOLUTION HERE>"
   ]
  },
  {
   "cell_type": "markdown",
   "metadata": {},
   "source": [
    "###### Answer"
   ]
  },
  {
   "cell_type": "code",
   "execution_count": 2,
   "metadata": {},
   "outputs": [
    {
     "name": "stdout",
     "output_type": "stream",
     "text": [
      "PV = 16.29\n"
     ]
    }
   ],
   "source": [
    "DY = 0.98\n",
    "\n",
    "import numpy as np\n",
    "PV = np.sum([np.power(DY, 1.0 + y) for y in range(20)])\n",
    "print('PV = {:.2f}'.format(PV))"
   ]
  },
  {
   "cell_type": "markdown",
   "metadata": {},
   "source": [
    "## Simple rate and Forward rate\n",
    "\n",
    "### Simple rate\n",
    "\n",
    "#### Simple rate for 1 year\n",
    "\n",
    "You and me set up a contract:\n",
    "* Right now (at $\\,t=0)\\,$ I pay you $\\,1\\,$ USD\n",
    "* In return, at $\\,t=T\\,$ you will pay me a fixed amount \n",
    "\n",
    "Let's denote by $\\,1+L\\,(\\,t=1\\,)\\,$ the fixed amount that you will pay. Note that $\\,L\\,(\\,t=1\\,)=\\displaystyle{\\frac{1}{P\\,(\\,t=1\\,)}-1}\\,$.\n",
    "\n",
    "This $\\,L\\,(\\,t=1\\,)\\,$ is called the currently observed <b>simple rate</b> for one year."
   ]
  },
  {
   "cell_type": "markdown",
   "metadata": {},
   "source": [
    "#### Note: Compare governent bond rates\n",
    "\n",
    "For $\\,t=1\\,$ a real-life quantity closely related to the USD simple rate is [displayed here](https://fred.stlouisfed.org/series/USD12MD156N). This is the interest that the US agreed to pay on its own 12-month loans at each indicated time point in the past.\n",
    "\n",
    "To compare government bonds from differnet countries, have a look at current government bond rates at http://www.worldgovernmentbonds.com/."
   ]
  },
  {
   "cell_type": "markdown",
   "metadata": {},
   "source": [
    "#### Task: Rates\n",
    "\n",
    "If a country must pay higher interest rates on its loans, then how does this affect the government's ability to support the country's own citizens and economy ?"
   ]
  },
  {
   "cell_type": "markdown",
   "metadata": {},
   "source": [
    "###### Answer\n",
    "The government will have less money to support the country itself."
   ]
  },
  {
   "cell_type": "markdown",
   "metadata": {},
   "source": [
    "#### Simple rate for T years\n",
    "\n",
    "Let us allow <b>both integer and non-integer</b> values of $\\,T\\,$ , for example $\\,T=2\\,$ or $\\,T=\\displaystyle{\\frac{1}{2}}\\,$.\n",
    "\n",
    "Again, you and me set up a contract:\n",
    "* Right now (at $\\,t=0)\\,$ I pay you $\\,1\\,$ \n",
    "* In return, at $\\,t=T\\,$ you will pay me a fixed amount \n",
    "\n",
    "To make this a fair contract you will pay $\\,1+ T \\cdot L\\,(\\,T\\,)\\,$. Note that $\\,L\\,(\\,T\\,)=\\displaystyle{\\frac{1}{T} \\cdot \\left(\\frac{1}{P\\,(\\,T\\,)}\\,-1\\right)}$.\n",
    "\n",
    "#### Task: Simple rate for T years\n",
    "In our contract for $\\,T\\,$ years assume that there is a <b>constant yearly discount factor</b>, DY.\n",
    "\n",
    "Using this DY what is the value of $\\,L\\,(\\,T\\,)$ ?\n",
    "\n",
    "Help: you need to find the connection between $\\,P\\,(\\,T\\,)\\,$, the constant yearly $\\,$DY, and $\\,T\\,$."
   ]
  },
  {
   "cell_type": "code",
   "execution_count": 3,
   "metadata": {},
   "outputs": [],
   "source": [
    "# This DY is the yearly Discount Factor. In the current task this DY is the same in each year.\n",
    "DY = 0.98\n",
    "\n",
    "# Let T = 1, 2, 3, 4, 5.\n",
    "# This L_T is the T-year yield of the given example.\n",
    "# L_T = <WRITE YOUR SOLUTION FOR THIS CONSTANT DY AND EACH OF THE THREE T VALUES>"
   ]
  },
  {
   "cell_type": "markdown",
   "metadata": {},
   "source": [
    "###### Answer\n",
    "Use (1) the definition of the discount factor and (2) the definition of the simple rate."
   ]
  },
  {
   "cell_type": "code",
   "execution_count": 1,
   "metadata": {},
   "outputs": [
    {
     "name": "stdout",
     "output_type": "stream",
     "text": [
      "T = 1, L = 0.0204\n",
      "T = 2, L = 0.0206\n",
      "T = 3, L = 0.0208\n",
      "T = 4, L = 0.0210\n",
      "T = 5, L = 0.0213\n"
     ]
    }
   ],
   "source": [
    "DY = 0.98\n",
    "\n",
    "import numpy as np\n",
    "for T in range(1, 6):\n",
    "    P = np.power(DY, T)\n",
    "    L = 1 / T * (1.0 / P - 1.0)\n",
    "    print('T = {}, L = {:.4f}'.format(T, L))"
   ]
  },
  {
   "cell_type": "markdown",
   "metadata": {},
   "source": [
    "### Forward rate\n",
    "\n",
    "Let us move the starting point of the contract into the future, to a $\\,t>0\\,$ time point.\n",
    "\n",
    "* At that selected time point in the future (at $\\,t>0)\\,$ I will pay you $\\,1\\,$\n",
    "* In return, at $\\,T>t\\,$ you will pay the fixed amount $\\,1+\\left(T-t\\right) \\cdot F\\,(\\,0,\\,t,\\,T\\,)\\,$\n",
    "\n",
    "Here $\\,F\\,(\\,0,\\,t,\\,T\\,)\\,$ is called the <b>forward rate</b>. It is our current knowledge of the simple rate from $\\,t\\,$ to $\\,T\\,$. \n",
    "\n",
    "The first argument is often omitted when it is $\\,0\\,$. So we simply write $\\,F\\,(\\,t,\\,T\\,)\\,$ and, accordingly, $\\,\\displaystyle{P\\,(\\,t,\\,T\\,)=\\frac{1}{1+(T-t) \\cdot F(t,T)}}\\,$."
   ]
  },
  {
   "cell_type": "markdown",
   "metadata": {},
   "source": [
    "#### Task: Forward rate\n",
    "If the 5-year and 10-year discount factors are $\\,P(5)=0.8\\,$ and $\\,P(10)=0.5\\,$, then what is $\\,F(5,10)\\,$?"
   ]
  },
  {
   "cell_type": "markdown",
   "metadata": {},
   "source": [
    "###### Answer\n",
    "From the definition of the discount factor: $\\,P\\left(0,\\,10\\right)=P\\left(0,\\,5\\right) \\cdot P\\left(5,\\,10\\right)\\,$.\n",
    "\n",
    "From the definition of the forward rate: $\\,\\displaystyle{F\\left(5, 10\\right) = \\frac{1}{10-5} \\cdot \\left(\\frac{1}{P\\left(5, 10\\right)} -1 \\right)}\\,$.\n",
    "\n",
    "Combining the above two gives $\\,\\displaystyle{F\\left(5, 10\\right) = \\frac{1}{5} \\cdot \\left(\\frac{P\\left(0,\\,5\\right)}{P\\left(0, 10\\right)} -1 \\right)=\\frac{3}{25}=0.12\\,}$."
   ]
  },
  {
   "cell_type": "markdown",
   "metadata": {},
   "source": [
    "## Rates for short times\n",
    "\n",
    "### Instantaneous spot rate (Short rate)\n",
    "\n",
    "You and me set up a contract:\n",
    "* Right now (at $\\,t=0)\\,$ I pay you $\\,1\\,$ \n",
    "* In return, at $\\,T\\ll 1\\,$ you will pay me $\\,1+ T \\cdot L\\,(\\,T\\,)\\,$\n",
    "\n",
    "The <b>instantaneous spot rate</b>, $\\,r\\,$, is the limiting value of the simple rate: \n",
    "\n",
    "$\\,\\displaystyle{r = \\lim_{T\\,\\to\\,0}L\\,(\\,T\\,)=\\lim_{T\\,\\to\\,0}\\left(\\frac{\\frac{1}{P\\,(\\,T\\,)}-1}{T}\\right) = \\lim_{T\\,\\to\\,0}\\left(\\frac{-\\,1}{P\\,(\\,T\\,)}\\cdot\\frac{P\\,(\\,T\\,)-P\\,(\\,0\\,)}{T - 0}\\right)=-\\,\\frac{\\partial}{\\partial\\,T}\\Bigg|_{\\,T\\,=\\,0}\\!\\!\\ln\\big(P\\,(\\,T\\,)\\big)}$.\n",
    "\n",
    "Note: instantaneous means that the time difference is very short (goes to zero), and spot (in \"spot rate\") means that $\\,t=0\\,$.\n",
    "\n",
    "### Instantaneous forward rate\n",
    "\n",
    "Again, let us move the starting point of the contract into the future, to a $\\,t>0\\,$ time point.\n",
    "\n",
    "You and me set up a contract:\n",
    "\n",
    "* At a selected time point in the future (at $\\,t>0)\\,$ I will pay you $\\,1\\,$\n",
    "* In return, a very short time later (at $\\,T)\\,$ you will pay me $\\,1+\\left(T-t\\right) \\cdot F\\,(\\,t,\\,T\\,)$\n",
    "\n",
    "For a very short $\\,T\\,$ this simple rate becomes the <b>instantaneous forward rate</b>:\n",
    "\n",
    "$\\,\\displaystyle{f\\left(\\,t\\,\\right) = \\lim_{T\\,\\to\\,t}F\\,(\\,t,\\,T\\,)=-\\,\\frac{\\partial}{\\partial\\,T}\\Bigg|_{\\,T\\,=\\,t}\\!\\!\\ln\\big(P\\,(\\,t,\\,T\\,)\\big)}$.\n",
    "\n",
    "Note that the instantaneous spot rate is the $\\,t=0\\,$ special case: $\\,r=f\\left(\\,0\\,\\right)\\,$.\n",
    "\n",
    "### Integral form of the Discount Factor\n",
    "Integrating the definition of the instantaneous forward rate gives ${\\displaystyle P\\,(\\,t,\\,T\\,)=\\exp\\left(-\\int_t^T \\!\\!f(\\tau)\\,d\\tau\\right)}\\,$.\n",
    "\n",
    "#### Task: Instantaneous rates\n",
    "The instantaneous rate, $\\,f(t)\\,$, is currently 1\\% and it grows linearly by 0.2\\% per year.\n",
    "\n",
    "What is the 1Y $\\rightarrow$ 11Y forward rate ? \n",
    "\n",
    "Help: With the provided $\\,f(t)\\,$ you need to calculate $\\,F\\,(\\,1,\\,11\\,)\\,$ from $\\,P\\,(\\,1,\\,11\\,)\\,$. "
   ]
  },
  {
   "cell_type": "markdown",
   "metadata": {},
   "source": [
    "###### Answer\n",
    "From the definition of the forward rate: $\\,\\displaystyle{F\\left(1, 11\\right) = \\frac{1}{11-1} \\cdot \\left(\\frac{1}{P\\left(1, 11\\right)} -1 \\right)}\\,$.\n",
    "\n",
    "From the definition of the instantaneous forward rate: $\\,\\displaystyle{P\\,(\\,1,\\,11\\,)=\\exp\\left(-\\int_1^{11} \\!\\! (0.01 + 0.002\\tau)\\,d\\tau\\,\\right)=\\exp\\big(-\\left(0.1+0.12\\right)\\,\\big)}$.\n",
    "\n",
    "Combining the above two gives $\\,\\displaystyle{F\\left(1, 11\\right) = \\frac{\\exp\\,(\\,0.22\\,)-1}{10}}\\approx 2.46\\%\\,$."
   ]
  },
  {
   "cell_type": "code",
   "execution_count": 2,
   "metadata": {},
   "outputs": [
    {
     "name": "stdout",
     "output_type": "stream",
     "text": [
      "F_1_11 = 2.461%\n"
     ]
    }
   ],
   "source": [
    "import numpy as np\n",
    "F_1_11 = (np.exp(0.22) - 1.0) / 10.0\n",
    "print('F_1_11 = {:.3f}%'.format(F_1_11 * 100))"
   ]
  },
  {
   "cell_type": "markdown",
   "metadata": {},
   "source": [
    "## Compounded interest\n",
    "### Discrete Compounding\n",
    "\n",
    "You and me set up two contracts:\n",
    "\n",
    "* First contract\n",
    " * right now (at $\\,t=0)\\,$ I pay you $\\,1\\,$ \n",
    " * at $\\,t=\\frac{1}{2}\\,$ you pay me the invested $\\,1\\,$ amount with interest: $\\,1+\\frac{1}{2}\\,L\\left(\\frac{1}{2}\\right)\\,$\n",
    "* Second contract\n",
    " * at $\\,t=\\frac{1}{2}\\,$ I immediately pay to you the same amount that I just received: $\\,1 + \\frac{1}{2}\\,L\\left(\\frac{1}{2}\\right)\\,$ \n",
    " * at $\\,t=1\\,$ you pay me the invested amount with interest: $\\,\\big(1+\\frac{1}{2}\\,L\\left(\\frac{1}{2}\\right)\\,\\big) \\cdot \\big(1+\\,\\frac{1}{2}\\,F\\left(\\frac{1}{2}, 1\\,\\right)\\,\\big)\\,$\n",
    " \n",
    "\n",
    "#### What is the equivalent simple rate for the entire tenor ?\n",
    "\n",
    "In other words, `what is the equivalent discount factor` ?\n",
    "\n",
    "With the equivalent simple rate the final sum I receive back at $\\,t=1\\,$ has to be \n",
    "<br/>\n",
    "the same as in the simple 1-year contract that does not have the above 2-step compounding.\n",
    "\n",
    "In other words, these three rates are connected:\n",
    "$\\,\\displaystyle{1+L(1)=\\Bigg(1+\\frac{1}{2}\\,L\\left(\\frac{1}{2}\\right)\\,\\Bigg) \\cdot \\Bigg(1+\\,\\frac{1}{2}\\,F\\left(\\frac{1}{2}, 1\\,\\right)\\,\\Bigg)}\\,$.\n",
    "\n",
    "Moreover, if we assume that $\\,L\\left(\\frac{1}{2}\\right)=F\\left(\\frac{1}{2}, 1\\right)\\,$, then we have \n",
    "the following equivalent rate for the entire tenor of the contract :\n",
    "\n",
    "$$\\,\\displaystyle{L(1)=\\,\\left(1+\\frac{1}{2}\\,L\\!\\left(\\frac{1}{2}\\right)\\right)^{2}}-1\\,.$$\n",
    "\n",
    "#### Naming conventions for discrete compounding\n",
    "If we use discrete compounding with $\\,n\\,$ steps per year, then $\\,n\\cdot L\\!\\left(\\frac{1}{n}\\right)\\,$ is called the yearly rate.<br/>\n",
    "Here $\\,n\\,$ is called the `compounding frequency`.<br/>\n",
    "\n",
    "\n",
    "For example, if you and me agree on a rate of $\\,4\\%\\,$ with quarterly compounding,<br/>\n",
    "then your deposit will grow by $\\,1\\%\\,$ at the end of each quarter."
   ]
  },
  {
   "cell_type": "markdown",
   "metadata": {},
   "source": [
    "#### Task: Deposit with discrete compounding\n",
    "Your 5-year deposit of $\\,N=100$k HUF receives $\\,r=4\\%\\,$ with either annual ($n=1$) or semi-annual ($n=2$) compounding.\n",
    "\n",
    "* If the compounding frequency is $\\,n=1$, then how much will you have at $\\,T=3\\,$ ? How much with $\\,n=2\\,$ ?\n",
    "* In these two cases what is the equivalent simple rate ?\n",
    "\n",
    "Note that $\\,N\\,$ means `notional`."
   ]
  },
  {
   "cell_type": "markdown",
   "metadata": {},
   "source": [
    "###### Answer\n",
    "You will have $\\,\\displaystyle{N\\cdot\\left(1+\\frac{r}{n}\\right)^{n\\,T}}\\,$. \n",
    "The `equivalent simple rate` is $\\,\\displaystyle{ L\\,(\\,T\\,)=\\frac{1}{T} \\cdot \\left[\\,\\left(1+\\frac{r}{n}\\right)^{n\\,T}-1\\,\\right]}\\,$.\n",
    "\n",
    "Please see below for the calculated amounts."
   ]
  },
  {
   "cell_type": "code",
   "execution_count": 4,
   "metadata": {},
   "outputs": [
    {
     "name": "stdout",
     "output_type": "stream",
     "text": [
      "Compounding frequency, Final amount, Equivalent simple rate\n",
      "1, 121665.29, 4.33%\n",
      "2, 121899.44, 4.38%\n"
     ]
    }
   ],
   "source": [
    "N = 1.0e+5\n",
    "r = 0.04\n",
    "T = 5\n",
    "print('Compounding frequency, Final amount, Equivalent simple rate')\n",
    "for n in [1, 2]:  # compounding frequency\n",
    "    multiplier = (1 + r / n) ** (n * T)\n",
    "    final_amount = N * multiplier\n",
    "    L = (multiplier - 1.0) / T\n",
    "    print('{}, {:.2f}, {:.2f}%'.format(n, final_amount, L * 100.0))"
   ]
  },
  {
   "cell_type": "markdown",
   "metadata": {},
   "source": [
    "### Continuous Compounding\n",
    "\n",
    "If the forward rate is the same on each time interval, then we have $\\,\\displaystyle{1+L(1)=\\,\\left(1+\\frac{1}{n}\\,L\\!\\left(\\frac{1}{n}\\right)\\right)^{n}}\\,$ for $\\,n=3, 4, \\dots\\,$.\n",
    "\n",
    "According to the definitions of the instantaneous rates: $\\,\\displaystyle{\\lim_{n\\,\\to\\,\\infty}L\\!\\left(\\frac{1}{n}\\right)}=f(0)\\,$,\n",
    "\n",
    "therefore, $\\,\\displaystyle{1+L(1)=\\left(1+\\frac{f(0)}{n}\\right)^n}\\,$ converges to $\\,e^{\\,f(0)}\\,$ as $\\,n\\to\\infty\\,$. \n",
    "\n",
    "In other words, \n",
    "* if the instantaneous <b>rate is constant $\\,f(0)\\,$</b> over time, then the simple rate is $\\,\\displaystyle{L\\,(\\,0,\\,T\\,)=\\frac{e^{\\,f(0)\\,T}-1}{T}}\\,$,\n",
    "* if the instantaneous <b>rate changes</b>, then\n",
    "$\\,\\displaystyle{L\\,(\\,0,\\,T\\,)=\\frac{\\exp\\left(\\int_0^T \\!\\!f(\\tau)\\,d\\tau\\right)-1}{T}}\\,$."
   ]
  },
  {
   "cell_type": "markdown",
   "metadata": {},
   "source": [
    "#### Task: Deposit with continuous compounding\n",
    "On a different 5-year deposit of $\\,N=100$k HUF you receive a yearly $\\,r=4\\%\\,$ with continuous compounding.<br/>\n",
    "* How much will you have on this deposit by the end of the third year ?\n",
    "* What is the equivalent simple rate ?"
   ]
  },
  {
   "cell_type": "markdown",
   "metadata": {},
   "source": [
    "###### Answer\n",
    "You will have $\\,N\\cdot \\exp\\,\\left(\\,r\\,T\\,\\right)\\,$, and \n",
    "the equivalent simple rate is $\\,\\displaystyle{ L\\,(\\,T\\,)=\\frac{\\exp\\,\\left(\\,r\\,T\\,\\right)-1}{T}}\\,$.\n",
    "\n",
    "From this result note that the continously compounded rate can be expressed as\n",
    "$\\,\\displaystyle{r=\\frac{1}{T}\\,\\log\\Big(1+T\\cdot L\\,(\\,T\\,)\\,\\Big)}\\,$."
   ]
  },
  {
   "cell_type": "code",
   "execution_count": 7,
   "metadata": {},
   "outputs": [
    {
     "name": "stdout",
     "output_type": "stream",
     "text": [
      "Final amount, Equivalent simple rate\n",
      "121899.44, 4.43%\n"
     ]
    }
   ],
   "source": [
    "import numpy as np\n",
    "N = 1.0e+5\n",
    "r = 0.04\n",
    "T = 5\n",
    "multiplier = np.exp(r * T)\n",
    "final = N * multiplier\n",
    "L = (multiplier - 1) / T\n",
    "print('Final amount, Equivalent simple rate')\n",
    "print('{:.2f}, {:.2f}%'.format(final_amount, L * 100.0))"
   ]
  },
  {
   "cell_type": "markdown",
   "metadata": {},
   "source": [
    "## Yield curve\n",
    "\n",
    "### Definition\n",
    "\n",
    "The yield curve is the simple rate, $\\,L\\left(\\,0,\\,T\\,\\right)\\,$, as a function of the time length, $\\,T\\,$, from the start to the end (maturity) of the contract.\n",
    "\n",
    "It is also called the term structure of interest rates.\n",
    "\n",
    "### Related terms\n",
    "\n",
    "#### Yield on an investment, also called Yield, also called Return\n",
    "The yield on an investment is the total earnings divided by the capital. It is usually expressed as a percent value.\n",
    "\n",
    "For example, a stock is purchased for $\\,S_{\\,0}=100\\,$, later it pays a dividend of $\\,2\\,$, and finally it is sold for $\\,S_{\\,T}=104\\,$. \n",
    "<br/>\n",
    "In this case the yield on the investment is $\\,(\\,4+2\\,)\\,\\,{\\mathit /}\\,\\,100=6\\%\\,$.\n",
    "\n",
    "###### Task\n",
    "How is the Yield on an investment related to the simple rate in the $\\,T=1\\,$ case ?\n",
    "\n",
    "#### Annualized percent yield, also called Annualized percentage rate\n",
    "\n",
    "The annualized percent yield of an investment is the annually compounded rate producing the yield of the investment.\n",
    "\n",
    "For example, a stock is purchased for $\\,S_{\\,0}=100\\,$, and it is sold at $\\,T=2\\,$ for $\\,S_{\\,T}=121\\,$.\n",
    "<br/>\n",
    "In this case the annualized percent yield is $\\,0.1=10\\%\\,$, because $\\,S_{\\,0}\\cdot\\,\\left(\\,1 + 0.1\\,\\right)^{\\,2}=S_{\\,T}\\,$.\n",
    "\n",
    "Another example is an account that pays $\\,0.5\\%\\,$ per month.\n",
    "<br/>\n",
    "The annualized percent yield of this account is $\\,\\left(\\,1+0.005\\,\\right)^{\\,12}-1=6.18\\%\\,$.\n",
    "\n",
    "###### Task\n",
    "\n",
    "Convert a $\\,0.6\\%\\,$ monthly interest to yearly and quarterly compounding.\n",
    "\n",
    "\n",
    "#### Market convention for Yield curves\n",
    "\n",
    "Often instead of the annualized percent yield the equivalent semi-annually compounded rate is quoted.\n",
    "\n",
    "For example, if the annualized percent yield is $\\,\\mathrm{APY}=8.16\\%\\,$, then the quoted rate is $\\,Y=8\\%\\,$.\n",
    "<br/>\n",
    "Explanation: use the $\\,\\left(\\,1 + Y\\,{\\mathit /}\\,n\\,\\right)^{\\,n}\\,$ discrete compounding formula with $\\,n=2\\,$ and observe that $\\,\\left(\\,1 + Y\\,{\\mathit /}\\,2\\,\\right)^{\\,2}=1+\\mathrm{APY}\\,$.\n",
    "\n",
    "Please see this example also in the answer to the question \"Are the CMT yields annual yields?\" at<br/>\n",
    "https://home.treasury.gov/policy-issues/financing-the-government/interest-rate-statistics/interest-rates-frequently-asked-questions\n",
    "\n",
    "###### Task\n",
    "How is the $\\,\\mathrm{APY}\\,$ related to the simple rate ?"
   ]
  },
  {
   "cell_type": "markdown",
   "metadata": {},
   "source": [
    "### Task: Yield curve of June 2019 vs June 2020\n",
    "Find two data series and plot them together: (1) the USD yield curve in June 2020 (2) the same yield curve 1Y earlier."
   ]
  },
  {
   "cell_type": "markdown",
   "metadata": {},
   "source": [
    "###### Answer"
   ]
  },
  {
   "cell_type": "markdown",
   "metadata": {},
   "source": [
    "_Download the data_\n",
    "\n",
    "1. In the current folder (directory) please create the `data` subfolder .\n",
    "2. Go to https://www.treasury.gov/resource-center/data-chart-center/interest-rates/Pages/TextView.aspx?data=yield\n",
    "3. In the \"Select type of Interest Rate Data\" menu select \"Daily Treasury Yield Curve Rates\" and then click \"GO\".\n",
    "4. In the \"Select Time Period: menu select the current month and then click \"GO\".\n",
    "5. Click on the orange colored XML icon above and observe the structure of the received URL: \n",
    "<small>https:<span></span>//data.treasury.gov/feed.svc/DailyTreasuryYieldCurveRateData?$filter=<font style='color:red;font-weight:bold;background-color:yellow;'>month</font>(NEW_DATE)%20eq%20<font style='color:red;font-weight:bold;background-color:yellow;'>10</font>%20and%20<font style='color:red;font-weight:bold;background-color:yellow;'>year</font>(NEW_DATE)%20eq%20<font style='color:red;font-weight:bold;background-color:yellow;'>2020</font></small>\n",
    "\n",
    "6. Insert 2020 for the year and 06 for the month, and save the downloaded file in `data` as  `Y_USD_2020_6.xml`.\n",
    "7. Replace the year 2020 by 2019, and save `Y_USD_2019_6.xml` also to the `data` subfolder."
   ]
  },
  {
   "cell_type": "markdown",
   "metadata": {},
   "source": [
    "_Read and convert the data_"
   ]
  },
  {
   "cell_type": "code",
   "execution_count": 1,
   "metadata": {},
   "outputs": [],
   "source": [
    "import xml.etree.ElementTree as ET\n",
    "import re\n",
    "import os\n",
    "\n",
    "\n",
    "def tenor_str_to_months(tenor_str):\n",
    "    \"\"\"Convert string formatted month or year to number of months\"\"\"\n",
    "    m = re.search('^(\\d+)(MONTH|YEAR)$', tenor_str)\n",
    "    if m:\n",
    "        return int(m.group(1)) * (1 if m.group(2) == 'MONTH' else 12)\n",
    "    else:\n",
    "        raise TypeError('Cannot convert this date string to number of months: {}'.format(tenor_str))\n",
    "\n",
    "        \n",
    "def yield_curve_on_date(xml_file, requested_date):\n",
    "    \"\"\"Read yield curve data from treasury.gov's xml\"\"\"\n",
    "    y = dict()\n",
    "    \n",
    "    for entry in ET.parse(xml_file).getroot().findall('{http://www.w3.org/2005/Atom}entry'):\n",
    "        for content in entry.findall('{http://www.w3.org/2005/Atom}content'):\n",
    "            date = None\n",
    "            for properties in content:\n",
    "                for d in properties:\n",
    "                    if 'NEW_DATE' in d.tag:\n",
    "                        date = d.text\n",
    "                    elif 'BC_' in d.tag and 'DISPLAY' not in d.tag:\n",
    "                        tenor = tenor_str_to_months(d.tag.split('_')[-1])\n",
    "                        y[tenor] = float(d.text)\n",
    "        if date and requested_date in date:\n",
    "            return y\n",
    "\n",
    "    return None\n",
    "\n",
    "\n",
    "# Read the two yield curves\n",
    "y_2019_06_03 = yield_curve_on_date(os.path.join('data', 'Y_USD_2019_6.xml'), '2019-06-03')\n",
    "y_2020_06_01 = yield_curve_on_date(os.path.join('data', 'Y_USD_2020_6.xml'), '2020-06-01')"
   ]
  },
  {
   "cell_type": "markdown",
   "metadata": {},
   "source": [
    "_Plot yield curves_"
   ]
  },
  {
   "cell_type": "code",
   "execution_count": 3,
   "metadata": {},
   "outputs": [
    {
     "data": {
      "image/png": "[encoded data removed]",
      "text/plain": [
       "<Figure size 504x360 with 1 Axes>"
      ]
     },
     "metadata": {
      "needs_background": "light"
     },
     "output_type": "display_data"
    }
   ],
   "source": [
    "import matplotlib.pyplot as plt\n",
    "\n",
    "\n",
    "def compare_yield_curves():\n",
    "    \"\"\"\n",
    "    Plot two yield curves\n",
    "    \"\"\"\n",
    "    # --- settings ---\n",
    "    fontsize = 14  # font size for the text of the current plot\n",
    "    xticks = [0, 24, 60, 84, 120, 240, 360]\n",
    "    yticks = [0, 0.5, 1, 1.5, 2, 2.5]\n",
    "    ylim = [0, 3]\n",
    "\n",
    "    # --- plotting ---\n",
    "    plt.plot(*zip(*sorted(y_2019_06_03.items())), 'gx:', markersize=6, label='2019-06-03')\n",
    "    plt.plot(*zip(*sorted(y_2020_06_01.items())), 'rx:', markersize=6, label='2020-06-01')\n",
    "    plt.title('USD Treasury Yield Curve Rate of Jun 2019 vs Jun 2020', fontsize=fontsize)\n",
    "    plt.xlabel('t   [tenor in years]', fontsize=fontsize)\n",
    "    plt.ylabel('Y ( t )', fontsize=fontsize)\n",
    "    ax = plt.gca()\n",
    "    ax.set_xticks(xticks)\n",
    "    ax.set_xticklabels([str(int(tenor_measured_in_months/12)) for tenor_measured_in_months in xticks], \n",
    "                       fontsize=fontsize)\n",
    "    ax.set_yticks(yticks)\n",
    "    ax.set_yticklabels([str(y)+'%' for y in yticks], fontsize=fontsize)\n",
    "    ax.set_ylim(ylim)\n",
    "    plt.legend(bbox_to_anchor=(0.45, 0.97), loc=1, borderaxespad=0., fontsize=fontsize)\n",
    "\n",
    "    fig = plt.gcf()\n",
    "    fig.set_size_inches([7, 5])\n",
    "    plt.show()\n",
    "\n",
    "    \n",
    "compare_yield_curves()"
   ]
  },
  {
   "cell_type": "markdown",
   "metadata": {},
   "source": [
    "### Risk-free rate and Discounting\n",
    "#### Risk-free investment (free of credit risk)\n",
    "\n",
    "If you set up a contract, there is always a non-zero chance that something unexpected will happen.<br/>\n",
    "The safest USD financial instruments are short-term US Treasury Bills, they are the least likely to have something unexpected.<br/>\n",
    "\n",
    "Currently, short-term US T-Bills are the closest approximations of a risk-free investment,<br/>\n",
    "because the US Treasury is very very likely to fulfill its payment obligations in the near future.\n",
    "\n",
    "#### Risk-free rate\n",
    "The theoretical concept of a `risk-free rate` is the rate of a risk-free investment.<br/>\n",
    "Note, however, that the actual value of the risk-free rate may change tomorrow. This is called `interest rate risk`.\n",
    "\n",
    "For example, you can enter a `risk-free` contract between now and time $\\,T=3\\,$ with an annualized percent yield of $\\,\\mathrm{APY}=2\\%\\,$.\n",
    "<br/>\n",
    "This risk-free contract will be a reference for all other contracts with the same tenor.\n",
    "\n",
    "\n",
    "#### Discounting\n",
    "Assume that at $\\,T=3\\,$ you will receive the amount of $\\,100\\,$. \n",
    "<br/>\n",
    "Comparing to the risk-free $\\,\\mathrm{APY}=2\\%\\,$, this $\\,100\\,$ received at $\\,T=3\\,$ \n",
    "has the following normalized value to you: $\\,\\displaystyle{\\frac{100}{\\left(\\,1+\\mathrm{APY}\\,\\right)^{\\,3}}}\\,$.  \n",
    "\n",
    "\n",
    "The normalization with the risk-free rate is called `discounting with the risk-free rate`.<br/>"
   ]
  },
  {
   "cell_type": "markdown",
   "metadata": {},
   "source": [
    "#### Task: PV of your future payments\n",
    "\n",
    "1. You and a bank just signed a contract. For the next 30 years at the end of each month you will pay $\\,m=1$ USD.\n",
    "2. Select one of the above USD yield curves.\n",
    "3. Between 1 month and 360 months calculate each missing value with linear interpolation.\n",
    "4. Convert each yield to APY.\n",
    "5. Calculate the sum of the PVs of your payments.\n",
    "6. Repeat the calculation with the other yield curve.\n",
    "7. Why do you see a difference between the results obtained with the different yield curves ? "
   ]
  },
  {
   "cell_type": "markdown",
   "metadata": {},
   "source": [
    "###### Answer\n",
    "\n",
    "_Helper functions: Linear interpolation, Discount factor, PV calculation_"
   ]
  },
  {
   "cell_type": "code",
   "execution_count": 10,
   "metadata": {},
   "outputs": [],
   "source": [
    "import numpy as np\n",
    "from numbers import Number\n",
    "\n",
    "INTP_MAX_STEP_NUMBER = 10000\n",
    "INTP_MIN_STEP_SIZE = 1.0e-6\n",
    "NUMBER_OF_MONTHLY_PAYMENTS = 360\n",
    "\n",
    "\n",
    "def interpolate_linear(xy_dict={}, x_from=None, x_to=None, x_step=None):\n",
    "    \"\"\"\n",
    "    Linear interpolation of y(x) values at the x points  ( x_from, x_from + x_step,  x_from + 2 * x_step, ... )\n",
    "    based on y values at the nearest available x values. \n",
    "\n",
    "    The x value of the last interpolation is strictly smaller than x_to, equality is not allowed.\n",
    "\n",
    "    Available x, y pairs are listed in xy_dict.\n",
    "\n",
    "    The returned dict contains only the interploated values.\n",
    "    \"\"\"\n",
    "    xy_intp = dict()\n",
    "    \n",
    "    # --- testing inputs ---\n",
    "    assert len(xy_dict.keys()) > 1, 'Interpolation needs at least two points'\n",
    "    assert x_from is not None, 'Missing argument: x_from'\n",
    "    assert x_to is not None, 'Missing argument: x_to'\n",
    "    assert x_step is not None, 'Missing argument: x_step'\n",
    "\n",
    "    assert all([isinstance(x, Number) for x in xy_dict.keys()]), 'All listed x values have to be numeric'\n",
    "    assert all([isinstance(y, Number) for y in xy_dict.values()]), 'All listed y values have to be numeric'\n",
    "    assert isinstance(x_from, Number), 'x_from has to be numeric'\n",
    "    assert isinstance(x_to, Number), 'x_to has to be numeric'\n",
    "    assert isinstance(x_step, Number), 'x_step has to be numeric'\n",
    "    \n",
    "    x_list, y_list = zip(*sorted(xy_dict.items()))\n",
    "    x_intp = np.arange(x_from, x_to, x_step)  # x values of the interpolated points, np.arange allows float step\n",
    "    \n",
    "    assert x_list[0] <= x_intp[0], 'The x value of the first interpolated y must be >= the first available x value'\n",
    "    assert x_intp[-1] <= x_list[-1], 'The x value of the last interpolated y must be <= the last available x value'\n",
    "    assert x_step > 0.0, 'The step size between the x values of the interpolated points must be positive'\n",
    "    assert x_intp[0] + x_step <= x_list[-1], 'Second x value of the interpolation must be <= the last available x value'\n",
    "\n",
    "    assert (x_list[-1] - x_list[0]) / x_step <= INTP_MAX_STEP_NUMBER, \\\n",
    "        'The maximum number of interpolation steps is {}'.format(INTP_MAX_STEP_NUMBER)\n",
    "    assert all([x_list[i] - x_list[i - 1] >= INTP_MIN_STEP_SIZE for i in range(1, len(x_list))]), \\\n",
    "        'The distance between neighboring listed x values has to be at least {}'.format(INTP_MIN_STEP_SIZE)\n",
    "    \n",
    "    # --- interpolation --- \n",
    "    i_intp = 0  # i_list and i_intp are the indexes of the known and requested x values\n",
    "    i_list = 0\n",
    "    while i_intp < len(x_intp) and i_list < len(x_list):\n",
    "        # linear interpolation at x_intp[i_intp] based on nearest available known values\n",
    "        r = (x_intp[i_intp] - x_list[i_list]) / (x_list[i_list + 1] - x_list[i_list])\n",
    "        xy_intp[x_intp[i_intp]] = r * y_list[i_list + 1] + (1.0 - r) * y_list[i_list]\n",
    "        \n",
    "        # move to the next interpolated point such that x_list[i_list] <= x_intp[i_intp] < x_list[i_list + 1]\n",
    "        # note that the second comparison is a sharp < relation, in other words, equality is not allowed\n",
    "        i_intp += 1\n",
    "        if i_intp < len(x_intp):            \n",
    "            while x_list[i_list + 1] <= x_intp[i_intp]:\n",
    "                i_list += 1\n",
    "\n",
    "    return xy_intp\n",
    "\n",
    "\n",
    "def quoted_percent_yield_to_discount_factor(quoted_percent_yield=None, tenor_in_years=None):\n",
    "    annual_percent_yield = 100.0 * ( (1.0 + 0.5 * quoted_percent_yield / 100.0) ** 2.0 - 1.0 )\n",
    "    continuous_rate = np.log(1.0 + tenor_in_years * annual_percent_yield / 100.0) / tenor_in_years\n",
    "    discount_factor = np.exp(-1.0 * continuous_rate * tenor_in_years)\n",
    "    \n",
    "    return discount_factor\n",
    "    \n",
    "\n",
    "def calculate_pv(yield_curve_months=None, fixed_payment_amount=None):\n",
    "    pv = 0.0\n",
    "    y_intp = interpolate_linear(xy_dict=yield_curve_months, x_from=1, x_to=NUMBER_OF_MONTHLY_PAYMENTS, x_step=1)\n",
    "    for tenor_in_months, quoted_percent_yield in y_intp.items():\n",
    "        tenor_in_years = tenor_in_months / 12.0 \n",
    "        discount_factor = quoted_percent_yield_to_discount_factor(quoted_percent_yield=quoted_percent_yield, \n",
    "                                                                  tenor_in_years=tenor_in_years)\n",
    "        pv += fixed_payment_amount * discount_factor            \n",
    "\n",
    "    return pv"
   ]
  },
  {
   "cell_type": "markdown",
   "metadata": {},
   "source": [
    "_Calculate PVs_\n",
    "\n",
    "Note the significant difference between the two PVs: $\\,273.61\\,$ vs $\\,311.29\\,$\n",
    "\n",
    "What is the reason for this difference ? Can you explain ?"
   ]
  },
  {
   "cell_type": "code",
   "execution_count": 11,
   "metadata": {},
   "outputs": [
    {
     "name": "stdout",
     "output_type": "stream",
     "text": [
      "Start time: 2019-06-03, Fixed monthly payment amount: 1, Number of monthly payments: 360. PV: 273.61\n",
      "Start time: 2020-06-01, Fixed monthly payment amount: 1, Number of monthly payments: 360. PV: 311.29\n"
     ]
    }
   ],
   "source": [
    "FIXED_PAYMENT_AMOUNT = 1\n",
    "\n",
    "\n",
    "for start_time, yield_curve_months in zip(['2019-06-03', '2020-06-01'], [y_2019_06_03, y_2020_06_01]):\n",
    "    pv = calculate_pv(yield_curve_months=yield_curve_months, fixed_payment_amount=FIXED_PAYMENT_AMOUNT)\n",
    "    print('Start time: {}, Fixed monthly payment amount: {}, Number of monthly payments: {}. PV: {}'\n",
    "          .format(start_time, FIXED_PAYMENT_AMOUNT, NUMBER_OF_MONTHLY_PAYMENTS, round(pv, 2)))"
   ]
  },
  {
   "cell_type": "markdown",
   "metadata": {},
   "source": [
    "## Recommended\n",
    "\n",
    "* Short rate - https://en.wikipedia.org/wiki/Short-rate_model#The_short_rate\n",
    "* Compounding - https://en.wikipedia.org/wiki/Compound_interest"
   ]
  }
 ],
 "metadata": {
  "hide_input": false,
  "kernelspec": {
   "display_name": "Python 3",
   "language": "python",
   "name": "python3"
  },
  "language_info": {
   "codemirror_mode": {
    "name": "ipython",
    "version": 3
   },
   "file_extension": ".py",
   "mimetype": "text/x-python",
   "name": "python",
   "nbconvert_exporter": "python",
   "pygments_lexer": "ipython3",
   "version": "3.9.5"
  },
  "toc": {
   "base_numbering": 1,
   "nav_menu": {},
   "number_sections": true,
   "sideBar": true,
   "skip_h1_title": false,
   "title_cell": "Table of Contents",
   "title_sidebar": "Contents",
   "toc_cell": false,
   "toc_position": {
    "height": "569.6px",
    "left": "1203.6px",
    "top": "110.8px",
    "width": "237.797px"
   },
   "toc_section_display": true,
   "toc_window_display": true
  },
  "varInspector": {
   "cols": {
    "lenName": 16,
    "lenType": 16,
    "lenVar": 40
   },
   "kernels_config": {
    "python": {
     "delete_cmd_postfix": "",
     "delete_cmd_prefix": "del ",
     "library": "var_list.py",
     "varRefreshCmd": "print(var_dic_list())"
    },
    "r": {
     "delete_cmd_postfix": ") ",
     "delete_cmd_prefix": "rm(",
     "library": "var_list.r",
     "varRefreshCmd": "cat(var_dic_list()) "
    }
   },
   "types_to_exclude": [
    "module",
    "function",
    "builtin_function_or_method",
    "instance",
    "_Feature"
   ],
   "window_display": false
  }
 },
 "nbformat": 4,
 "nbformat_minor": 2
}
