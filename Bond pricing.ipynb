{
 "cells": [
  {
   "cell_type": "markdown",
   "id": "18afe0e9",
   "metadata": {},
   "source": [
    "### Bond value"
   ]
  },
  {
   "cell_type": "markdown",
   "id": "d58c51fb",
   "metadata": {},
   "source": [
    "#### Constant simple rate"
   ]
  },
  {
   "cell_type": "markdown",
   "id": "78f01bc3",
   "metadata": {},
   "source": [
    "**Question**\n",
    "\n",
    "A 2-year bond has a $4\\%$ coupon rate.\n",
    "\n",
    "The `simple rate` is constant $3\\%$.\n",
    "\n",
    "What is the current Fair Value of the bond ?"
   ]
  },
  {
   "cell_type": "markdown",
   "id": "871225c8",
   "metadata": {},
   "source": [
    "**Answer**\n",
    "\n",
    "Conventions: notional is 100, coupon payment is semi-annual.\n",
    "\n",
    "Sum of the PVs of all future cash flows: \n",
    "\n",
    "$$\\frac{2}{1+\\frac{1}{2}\\cdot 0.03}+\\frac{2}{1+0.03}+\\frac{2}{1+\\frac{3}{2}\\cdot 0.03}+\\frac{102}{1+2\\cdot 0.03}$$"
   ]
  },
  {
   "cell_type": "code",
   "execution_count": null,
   "id": "6888878b",
   "metadata": {},
   "outputs": [],
   "source": [
    "pv = 2 / (1 + 0.5 * 0.03) + 2 / (1 + 0.03) + 2 / (1 + 1.5 * 0.03) + 102 / (1 + 2 * 0.03)\n",
    "print(f'{pv:.3f}')"
   ]
  },
  {
   "cell_type": "markdown",
   "id": "2926ac61",
   "metadata": {},
   "source": [
    "#### Constant zero coupon rate"
   ]
  },
  {
   "cell_type": "markdown",
   "id": "960e53e0",
   "metadata": {},
   "source": [
    "**Question**\n",
    "\n",
    "A 2-year bond has a $4\\%$ coupon rate.\n",
    "\n",
    "The `zero coupon rate` is constant $3\\%$.\n",
    "\n",
    "What is the current Fair Value of the bond ?"
   ]
  },
  {
   "cell_type": "markdown",
   "id": "8531411f",
   "metadata": {},
   "source": [
    "**Answer**\n",
    "\n",
    "Sum of the PVs of all future cash flows: \n",
    "\n",
    "$$\n",
    "\\frac{2}{1+\\frac{0.03}{2}} \n",
    "\\, + \\,\n",
    "\\frac{2}{\\left(1+\\frac{0.03}{2}\\right)^{2}}\n",
    "\\, + \\,\n",
    "\\frac{2}{\\left(1+\\frac{0.03}{2}\\right)^{3}}\n",
    "\\, + \\,\n",
    "\\frac{102}{\\left(1+\\frac{0.03}{2}\\right)^{4}}\n",
    "$$\n",
    "\n"
   ]
  },
  {
   "cell_type": "code",
   "execution_count": null,
   "id": "089647e0",
   "metadata": {},
   "outputs": [],
   "source": [
    "pv = 2 / (1 + 0.5 * 0.03) + 2 / (1 + 0.5 * 0.03) ** 2 + 2 / (1 + 0.5 * 0.03) ** 3 + 102 / (1 + 0.5 * 0.03) ** 4\n",
    "print(f'{pv:.3f}')"
   ]
  },
  {
   "cell_type": "markdown",
   "id": "465ed154",
   "metadata": {},
   "source": [
    "#### Variable simple rate or zero coupon rate"
   ]
  },
  {
   "cell_type": "markdown",
   "id": "dab3fac3",
   "metadata": {},
   "source": [
    "**Question**\n",
    "\n",
    "A 2-year bond has a $6\\%$ coupon rate.\n",
    "\n",
    "(a) The simple rate is 6M: $5\\%$, 1Y: $5.5\\%$, 18M: $5.8\\%$, 2Y: $6.1\\%$.\n",
    "\n",
    "(b) The above numbers are the zero rate.\n",
    "\n",
    "What is the current Fair Value of the bond ?"
   ]
  },
  {
   "cell_type": "markdown",
   "id": "aab1d85d",
   "metadata": {},
   "source": [
    "**Answer**\n",
    "\n",
    "Sum of the PVs of all future cash flows\n",
    "\n",
    "(a) with the `simple rate` :\n",
    "$\\,\\,\\,\\,\\displaystyle{\\frac{3}{1+\\frac{1}{2}\\cdot 0.05}+\\frac{3}{1+0.055}+\\frac{3}{1+\\frac{3}{2}\\cdot 0.058}+\\frac{103}{1+2\\cdot 0.061}}$\n",
    "\n",
    "(b) with the `zero coupon rate` :\n",
    "$\\,\\,\\,\\,\n",
    "\\displaystyle{\\frac{3}{1+\\frac{1}{2}\\cdot 0.05}\n",
    "+\n",
    "\\frac{3}{\\left(1+\\frac{1}{2}\\cdot 0.055\\right)^2}\n",
    "+\n",
    "\\frac{3}{\\left(1+\\frac{1}{2}\\cdot 0.058\\right)^3}\n",
    "+\n",
    "\\frac{103}{\\left(1+\\frac{1}{2}\\cdot 0.061\\right)^4}}$\n",
    "\n"
   ]
  },
  {
   "cell_type": "code",
   "execution_count": null,
   "id": "57acde12",
   "metadata": {},
   "outputs": [],
   "source": [
    "NOTIONAL = 100\n",
    "PRECISION_DIGITS = 3\n",
    "RATES = {'6m': 0.05, '1y': 0.055, '18m': 0.058, '2y': 0.061}\n",
    "from numbers import Number\n",
    "\n",
    "\n",
    "def two_year_bond_PV(yearly_coupon_percent=None, rate=None, rate_type='zero coupon rate'):\n",
    "    \"\"\"\n",
    "    Calculation of the sum of the PVs of future cash flows received by the holder of the bond\n",
    "    Discounting can be provided either by the simple rate or the zero coupon rate\n",
    "    Coupon payment is semi-annual\n",
    "    \"\"\"\n",
    "    assert isinstance(yearly_coupon_percent, Number), 'Please provide a number for \"yearly_coupon_percent\"'\n",
    "    assert isinstance(rate, dict), '\"rate\" should be a dict'\n",
    "    for t in ['6m', '1y', '18m', '2y']:\n",
    "        assert t in rate, f'\"rate\" must provide a value for time={t}'\n",
    "\n",
    "    coupon_frequency = 2  # twice per year\n",
    "    coupon = NOTIONAL * yearly_coupon_percent / 100.0 / coupon_frequency\n",
    "\n",
    "    if rate_type == 'simple rate':\n",
    "        value = (coupon /              (1 + 0.5 * rate['6m'] ) +\n",
    "                 coupon /              (1 + 1.0 * rate['1y'] ) +\n",
    "                 coupon /              (1 + 1.5 * rate['18m']) +\n",
    "                 (NOTIONAL + coupon) / (1 + 2.0 * rate['2y'] )\n",
    "                )\n",
    "    elif rate_type == 'zero coupon rate':\n",
    "        value = (coupon /              (1 + 0.5 * rate['6m'] ) +\n",
    "                 coupon /              (1 + 0.5 * rate['1y'] ) ** 2.0 +\n",
    "                 coupon /              (1 + 0.5 * rate['18m']) ** 3.0 +\n",
    "                 (NOTIONAL + coupon) / (1 + 0.5 * rate['2y'] ) ** 4.0\n",
    "                )\n",
    "    else:\n",
    "        raise ValueError(f'This rate_type is not available: {rate_type}')\n",
    "        \n",
    "    return value\n",
    "\n",
    "\n",
    "price = two_year_bond_PV(yearly_coupon_percent=6, rate=RATES, rate_type='simple rate')\n",
    "print(f'Bond PV using the **simple** rate: {price:.{PRECISION_DIGITS}f}')\n",
    "\n",
    "price = two_year_bond_PV(yearly_coupon_percent=6, rate=RATES)\n",
    "print(f'Bond PV using the **zero coupon** rate: {price:.{PRECISION_DIGITS}f}')"
   ]
  },
  {
   "cell_type": "markdown",
   "id": "d5e7a536",
   "metadata": {},
   "source": [
    "### Bond yield, also called: Yield to maturity"
   ]
  },
  {
   "cell_type": "markdown",
   "id": "002bef9a",
   "metadata": {},
   "source": [
    "The zero coupon rate that makes the sum of the PVs of future cash flows equal to the current market price. \n",
    "\n",
    "Note that a bond yield means the same rate for the discounting for all future time points (cash flows)."
   ]
  },
  {
   "cell_type": "code",
   "execution_count": null,
   "id": "a92c8fb6",
   "metadata": {},
   "outputs": [],
   "source": [
    "from scipy.optimize import root_scalar\n",
    "\n",
    "CURRENT_MARKET_VALUE = 98.03\n",
    "YEARLY_COUPON_PERCENT = 6\n",
    "\n",
    "\n",
    "def two_year_bond_PV_vs_bond_yield(bond_yield, yearly_coupon_percent=YEARLY_COUPON_PERCENT):\n",
    "    yield_curve_with_zero_coupon_rate = {'6m': bond_yield, '1y': bond_yield, '18m': bond_yield, '2y': bond_yield}\n",
    "    return two_year_bond_PV(yearly_coupon_percent=yearly_coupon_percent, rate=yield_curve_with_zero_coupon_rate)\n",
    "\n",
    "\n",
    "def difference_from_market_value(bond_yield, current_market_value=CURRENT_MARKET_VALUE):\n",
    "    return two_year_bond_PV_vs_bond_yield(bond_yield) - current_market_value\n",
    "\n",
    "\n",
    "bond_yield = root_scalar(difference_from_market_value, bracket=[0,1]).root\n",
    "\n",
    "print(f'Bond yield is {100 * bond_yield:.2f}%')"
   ]
  },
  {
   "cell_type": "markdown",
   "id": "0d068a71",
   "metadata": {},
   "source": [
    "### Par yield\n",
    "<span style=\"color:red;background-color:yellow;font-weight:bold;\">TODO</span>\n",
    "\n",
    "Define par value (face value)"
   ]
  },
  {
   "cell_type": "markdown",
   "id": "11edee54",
   "metadata": {},
   "source": [
    "### Bond duration and Convexity\n",
    "<span style=\"color:red;background-color:yellow;font-weight:bold;\">TODO</span>\n",
    "\n",
    "(1) with code: graphical , (2) formulae"
   ]
  },
  {
   "cell_type": "markdown",
   "id": "8c5a3ca5",
   "metadata": {},
   "source": [
    "### Bootstrapping\n",
    "\n",
    "<span style=\"color:red;background-color:yellow;font-weight:bold;\">TODO</span>"
   ]
  },
  {
   "cell_type": "markdown",
   "id": "ffc2a892",
   "metadata": {},
   "source": [
    "**Question**\n",
    "\n",
    "A half-year bond has a $6\\%$ coupon rate.\n",
    "\n",
    "The current market price of the bond is 96.\n",
    "\n",
    "What is the simple rate for $T=0.5$ ?"
   ]
  },
  {
   "cell_type": "markdown",
   "id": "4d89e116",
   "metadata": {},
   "source": [
    "$$96 = \\rm{FV} = \\frac{103}{1+0.5*L\\left(0.5\\right)} $$ \n",
    "\n",
    "$$ L\\left(0.5\\right) = 2 \\left(\\frac{103}{96}-1\\right)$$"
   ]
  },
  {
   "cell_type": "code",
   "execution_count": null,
   "id": "3f97732f",
   "metadata": {},
   "outputs": [],
   "source": [
    "2*(103/96-1)"
   ]
  }
 ],
 "metadata": {
  "kernelspec": {
   "display_name": "Python 3 (ipykernel)",
   "language": "python",
   "name": "python3"
  },
  "language_info": {
   "codemirror_mode": {
    "name": "ipython",
    "version": 3
   },
   "file_extension": ".py",
   "mimetype": "text/x-python",
   "name": "python",
   "nbconvert_exporter": "python",
   "pygments_lexer": "ipython3",
   "version": "3.10.4"
  },
  "toc": {
   "base_numbering": 1,
   "nav_menu": {},
   "number_sections": true,
   "sideBar": true,
   "skip_h1_title": false,
   "title_cell": "Table of Contents",
   "title_sidebar": "Contents",
   "toc_cell": false,
   "toc_position": {},
   "toc_section_display": true,
   "toc_window_display": true
  }
 },
 "nbformat": 4,
 "nbformat_minor": 5
}
