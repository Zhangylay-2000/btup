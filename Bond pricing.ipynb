{
 "cells": [
  {
   "cell_type": "markdown",
   "id": "18afe0e9",
   "metadata": {},
   "source": [
    "## Bond value"
   ]
  },
  {
   "cell_type": "markdown",
   "id": "d58c51fb",
   "metadata": {},
   "source": [
    "### Constant simple rate"
   ]
  },
  {
   "cell_type": "markdown",
   "id": "78f01bc3",
   "metadata": {},
   "source": [
    "###### Question\n",
    "\n",
    "A 2-year bond has a $4\\%$ coupon rate.\n",
    "\n",
    "The `simple rate` is constant $3\\%$.\n",
    "\n",
    "What is the current Fair Value of the bond ?"
   ]
  },
  {
   "cell_type": "markdown",
   "id": "871225c8",
   "metadata": {},
   "source": [
    "###### Answer\n",
    "\n",
    "Conventions: notional is 100, coupon payment is semi-annual.\n",
    "\n",
    "Sum of the PVs of all future cash flows: \n",
    "\n",
    "$$\\frac{2}{1+\\frac{1}{2}\\cdot 0.03}+\\frac{2}{1+0.03}+\\frac{2}{1+\\frac{3}{2}\\cdot 0.03}+\\frac{102}{1+2\\cdot 0.03}$$"
   ]
  },
  {
   "cell_type": "code",
   "execution_count": 1,
   "id": "6888878b",
   "metadata": {},
   "outputs": [
    {
     "name": "stdout",
     "output_type": "stream",
     "text": [
      "102.052\n"
     ]
    }
   ],
   "source": [
    "pv = 2 / (1 + 0.5 * 0.03) + 2 / (1 + 0.03) + 2 / (1 + 1.5 * 0.03) + 102 / (1 + 2 * 0.03)\n",
    "print(f'{pv:.3f}')"
   ]
  },
  {
   "cell_type": "markdown",
   "id": "78bcc657",
   "metadata": {},
   "source": [
    "###### Example: Bootstrapping calculation\n",
    "\n",
    "A two-year bond with 5% coupon starts now and currently trades at 100. For 6m, 1y and 18m the simple rate is 2%, 3% and 4%. Calculate the 2y point of the yield curve.  Help: remember the quote coventions and the multiplication of the rate with the time length.\n",
    "\n",
    "$$100=\\frac{2.5}{1+\\frac{1}{2}\\cdot 0.02}+\\frac{2.5}{1+0.03}+\\frac{2.5}{1+\\frac{3}{2}\\cdot 0.04}+\\frac{102.5}{1+2\\cdot L\\left(2\\right)}$$\n",
    "\n",
    "$$L\\left(2\\right)=\\frac{1}{2}\\,\\cdot\\,\\left( \\frac{102.5}{100-\\left(\\frac{2.5}{1+\\frac{1}{2}\\,\\cdot\\,0.02}+\\frac{2.5}{1+0.03}+\\frac{2.5}{1+\\frac{3}{2}\\,\\cdot\\,0.04}\\right) }-1\\right)$$"
   ]
  },
  {
   "cell_type": "code",
   "execution_count": 2,
   "id": "66c7f272",
   "metadata": {},
   "outputs": [
    {
     "name": "stdout",
     "output_type": "stream",
     "text": [
      "L(2)=5.34%\n"
     ]
    }
   ],
   "source": [
    "pv = 0.5 * (102.5 / (100 - 2.5 * (1.0/1.01 + 1/1.015 + 1/1.02))- 1) \n",
    "print(f'L(2)={100*pv:.2f}%')"
   ]
  },
  {
   "cell_type": "markdown",
   "id": "2926ac61",
   "metadata": {},
   "source": [
    "### Constant zero coupon rate"
   ]
  },
  {
   "cell_type": "markdown",
   "id": "960e53e0",
   "metadata": {},
   "source": [
    "###### Question\n",
    "\n",
    "A 2-year bond has a $4\\%$ coupon rate.\n",
    "\n",
    "The `zero coupon rate` is constant $3\\%$.\n",
    "\n",
    "What is the current Fair Value of the bond ?"
   ]
  },
  {
   "cell_type": "markdown",
   "id": "8531411f",
   "metadata": {},
   "source": [
    "###### Answer\n",
    "\n",
    "Sum of the PVs of all future cash flows: \n",
    "\n",
    "$$\n",
    "\\frac{2}{1+\\frac{0.03}{2}} \n",
    "\\, + \\,\n",
    "\\frac{2}{\\left(1+\\frac{0.03}{2}\\right)^{2}}\n",
    "\\, + \\,\n",
    "\\frac{2}{\\left(1+\\frac{0.03}{2}\\right)^{3}}\n",
    "\\, + \\,\n",
    "\\frac{102}{\\left(1+\\frac{0.03}{2}\\right)^{4}}\n",
    "$$\n",
    "\n"
   ]
  },
  {
   "cell_type": "code",
   "execution_count": 3,
   "id": "089647e0",
   "metadata": {},
   "outputs": [
    {
     "name": "stdout",
     "output_type": "stream",
     "text": [
      "101.927\n"
     ]
    }
   ],
   "source": [
    "pv = 2 / (1 + 0.5 * 0.03) + 2 / (1 + 0.5 * 0.03) ** 2 + 2 / (1 + 0.5 * 0.03) ** 3 + 102 / (1 + 0.5 * 0.03) ** 4\n",
    "print(f'{pv:.3f}')"
   ]
  },
  {
   "cell_type": "markdown",
   "id": "465ed154",
   "metadata": {},
   "source": [
    "### Simple rate or zero coupon rate"
   ]
  },
  {
   "cell_type": "markdown",
   "id": "dab3fac3",
   "metadata": {},
   "source": [
    "###### Question\n",
    "\n",
    "A 2-year bond has a $6\\%$ coupon rate.\n",
    "\n",
    "(a) The simple rate is 6M: $5\\%$, 1Y: $5.5\\%$, 18M: $5.8\\%$, 2Y: $6.1\\%$.\n",
    "\n",
    "(b) The above numbers are the values of the zero rate.\n",
    "\n",
    "What is the current Fair Value of the bond ?"
   ]
  },
  {
   "cell_type": "markdown",
   "id": "aab1d85d",
   "metadata": {},
   "source": [
    "###### Answer\n",
    "\n",
    "Sum of the PVs of all future cash flows\n",
    "\n",
    "(a) with the `simple rate` :\n",
    "$\\,\\,\\,\\,\\displaystyle{\\frac{3}{1+\\frac{1}{2}\\cdot 0.05}+\\frac{3}{1+0.055}+\\frac{3}{1+\\frac{3}{2}\\cdot 0.058}+\\frac{103}{1+2\\cdot 0.061}}$\n",
    "\n",
    "(b) with the `zero coupon rate` :\n",
    "$\\,\\,\\,\\,\n",
    "\\displaystyle{\\frac{3}{1+\\frac{1}{2}\\cdot 0.05}\n",
    "+\n",
    "\\frac{3}{\\left(1+\\frac{1}{2}\\cdot 0.055\\right)^2}\n",
    "+\n",
    "\\frac{3}{\\left(1+\\frac{1}{2}\\cdot 0.058\\right)^3}\n",
    "+\n",
    "\\frac{103}{\\left(1+\\frac{1}{2}\\cdot 0.061\\right)^4}}$\n",
    "\n"
   ]
  },
  {
   "cell_type": "code",
   "execution_count": 4,
   "id": "57acde12",
   "metadata": {},
   "outputs": [
    {
     "name": "stdout",
     "output_type": "stream",
     "text": [
      "Bond PV using the **simple** rate: 100.331\n",
      "Bond PV using the **zero coupon** rate: 99.859\n"
     ]
    }
   ],
   "source": [
    "from numbers import Number\n",
    "\n",
    "NOTIONAL = 100\n",
    "PRECISION_DIGITS = 3\n",
    "RATES = {'6m': 0.05, '1y': 0.055, '18m': 0.058, '2y': 0.061}\n",
    "\n",
    "\n",
    "def two_year_bond_PV(yearly_coupon_percent=None, rate=None, rate_type='zero coupon rate'):\n",
    "    \"\"\"\n",
    "    Calculation of the sum of the PVs of future cash flows received by the holder of the bond\n",
    "    Discounting can be provided either by the simple rate or the zero coupon rate\n",
    "    Coupon payment is semi-annual\n",
    "    \"\"\"\n",
    "    assert isinstance(yearly_coupon_percent, Number), 'Please provide a number for \"yearly_coupon_percent\"'\n",
    "    assert isinstance(rate, dict), '\"rate\" should be a dict'\n",
    "    for t in ['6m', '1y', '18m', '2y']:\n",
    "        assert t in rate, f'\"rate\" must provide a value for time={t}'\n",
    "\n",
    "    coupon_frequency = 2  # twice per year\n",
    "    coupon = NOTIONAL * yearly_coupon_percent / 100.0 / coupon_frequency\n",
    "\n",
    "    if rate_type == 'simple rate':\n",
    "        value = (coupon /              (1 + 0.5 * rate['6m'] ) +\n",
    "                 coupon /              (1 + 1.0 * rate['1y'] ) +\n",
    "                 coupon /              (1 + 1.5 * rate['18m']) +\n",
    "                 (NOTIONAL + coupon) / (1 + 2.0 * rate['2y'] )\n",
    "                )\n",
    "    elif rate_type == 'zero coupon rate':\n",
    "        value = (coupon /              (1 + 0.5 * rate['6m'] ) +\n",
    "                 coupon /              (1 + 0.5 * rate['1y'] ) ** 2.0 +\n",
    "                 coupon /              (1 + 0.5 * rate['18m']) ** 3.0 +\n",
    "                 (NOTIONAL + coupon) / (1 + 0.5 * rate['2y'] ) ** 4.0\n",
    "                )\n",
    "    else:\n",
    "        raise ValueError(f'This rate_type is not available: {rate_type}')\n",
    "\n",
    "    return value\n",
    "\n",
    "\n",
    "price = two_year_bond_PV(yearly_coupon_percent=6, rate=RATES, rate_type='simple rate')\n",
    "print(f'Bond PV using the **simple** rate: {price:.{PRECISION_DIGITS}f}')\n",
    "\n",
    "price = two_year_bond_PV(yearly_coupon_percent=6, rate=RATES)\n",
    "print(f'Bond PV using the **zero coupon** rate: {price:.{PRECISION_DIGITS}f}')"
   ]
  },
  {
   "cell_type": "markdown",
   "id": "d5e7a536",
   "metadata": {},
   "source": [
    "## Bond yield (also called: Yield to maturity)"
   ]
  },
  {
   "cell_type": "markdown",
   "id": "002bef9a",
   "metadata": {},
   "source": [
    "The constant zero coupon rate that makes the sum of the PVs of future cash flows equal the current market price. \n",
    "\n",
    "Note that a bond yield means applying the `same discount rate` when discounting any future cash flow to the present."
   ]
  },
  {
   "cell_type": "code",
   "execution_count": 5,
   "id": "a92c8fb6",
   "metadata": {},
   "outputs": [
    {
     "name": "stdout",
     "output_type": "stream",
     "text": [
      "Bond yield is 7.07%\n"
     ]
    }
   ],
   "source": [
    "from scipy.optimize import root_scalar\n",
    "\n",
    "CURRENT_MARKET_VALUE = 98.03\n",
    "YEARLY_COUPON_PERCENT = 6\n",
    "\n",
    "\n",
    "def two_year_bond_PV_vs_bond_yield(bond_yield, yearly_coupon_percent=YEARLY_COUPON_PERCENT):\n",
    "    yield_curve_with_zero_coupon_rate = {'6m': bond_yield, '1y': bond_yield, '18m': bond_yield, '2y': bond_yield}\n",
    "    return two_year_bond_PV(yearly_coupon_percent=yearly_coupon_percent, rate=yield_curve_with_zero_coupon_rate)\n",
    "\n",
    "\n",
    "def difference_of_calculated_PV_from_market_value(bond_yield, current_market_value=CURRENT_MARKET_VALUE):\n",
    "    return two_year_bond_PV_vs_bond_yield(bond_yield) - current_market_value\n",
    "\n",
    "\n",
    "bond_yield = root_scalar(difference_of_calculated_PV_from_market_value, bracket=[0,1]).root\n",
    "\n",
    "print(f'Bond yield is {100 * bond_yield:.2f}%')"
   ]
  },
  {
   "cell_type": "markdown",
   "id": "c04cf793",
   "metadata": {},
   "source": [
    "### Movements of bond price and yield\n",
    "\n",
    "###### Question\n",
    "\n",
    "If a bond's price (market value) drops and everything else remains the same, then how does the bond's yield change ?\n",
    "\n",
    "###### Answer\n",
    "\n",
    "  1. See the definition. The yield is that particular zero coupon rate that produces the current market value of the bond.\n",
    "  2. So to obtain the bond's lower market value, the same future cash flows will need to be discounted with a higher discount rate.\n",
    "  3. In summary, if a bond's price drops and everything else stays the same, then the bond's yield increases.\n",
    "\n",
    "###### Description (fewer details, less precision, more insight)\n",
    "\n",
    "  4. Yield is the return divided by the price.\n",
    "\n",
    "###### Conclusion\n",
    "\n",
    "  In summary, `bond price and bond yield move in opposite directions`."
   ]
  },
  {
   "cell_type": "markdown",
   "id": "0d068a71",
   "metadata": {},
   "source": [
    "### Par yield\n",
    "`Par value` means face value of the bond.\n",
    "\n",
    "The `par yield` is the yield that makes the calculated PV equal to the par value."
   ]
  },
  {
   "cell_type": "code",
   "execution_count": 6,
   "id": "a4927c21",
   "metadata": {},
   "outputs": [
    {
     "name": "stdout",
     "output_type": "stream",
     "text": [
      "The par value is 100. The par yield is 6.00%\n"
     ]
    }
   ],
   "source": [
    "PAR_VALUE = NOTIONAL\n",
    "\n",
    "\n",
    "def difference_of_calculated_PV_from_par_value(bond_yield, par_value=PAR_VALUE):\n",
    "    return two_year_bond_PV_vs_bond_yield(bond_yield) - par_value\n",
    "\n",
    "\n",
    "par_yield = root_scalar(difference_of_calculated_PV_from_par_value, bracket=[0,1]).root\n",
    "\n",
    "print(f'The par value is {PAR_VALUE}. The par yield is {100 * par_yield:.2f}%')"
   ]
  },
  {
   "cell_type": "markdown",
   "id": "c3b359eb",
   "metadata": {},
   "source": [
    "### Calculating bond price vs yield, coupon, notional, tenor and coupon frequency"
   ]
  },
  {
   "cell_type": "markdown",
   "id": "4d922a66",
   "metadata": {},
   "source": [
    "###### Initial comments\n",
    "\n",
    "Observe that for a bond selling at par, the par yield is the coupon value.\n",
    "\n",
    "Also, for calculations the face value (notional) is usually set to 100. That allows percent values to be expressed as numbers.\n",
    "\n",
    "<br/>\n",
    "\n",
    "\n",
    "###### Bond price\n",
    "\n",
    "The bond's notional is $\\,N\\,$, its duration is $\\,T\\,$ years (integer), and it pays $\\,m\\,$ times per year with a yearly coupon rate of $\\,c\\,$.\n",
    "\n",
    "Also, assume that the `bond yield` with $\\,m\\,$- step compounding per year is a `constant` $\\,y\\,$.\n",
    "\n",
    "The price of the bond is $\\,B\\,$, which should be the PV of the final notional repayment plus the PV of the coupons :\n",
    "\n",
    "$$\\displaystyle{\n",
    "B \\left(\\,y\\,\\right) \n",
    "\\,\\, = \\,\\, \n",
    "\\frac{N}{\\left(\\,1 + \\frac{y}{m}\\,\\right)^{m\\,T}}\n",
    "\\,\\, + \\,\\,\n",
    "\\sum_{\\,k\\,=\\,1}^{\\,m\\,T} \\! \\frac{\\frac{c}{m}}{\\left(\\,1 + \\frac{y}{m}\\,\\right)^{k}} \n",
    "}$$\n",
    "\n",
    "\n",
    "<br/>\n",
    "\n",
    "###### How does the bond's price change when the bond's yield changes ?\n",
    "\n",
    "The derivate is always negative.\n",
    "\n",
    "$$\\displaystyle{\n",
    "\\color{red}{ \\frac{\\partial\\,B}{\\partial\\,y} } \n",
    "\\,\\, = \\,\\,\n",
    "-\\,\\,\n",
    "\\frac{N\\,T}{\\left(\\,1 + \\frac{y}{m}\\,\\right)^{m\\,T\\,+\\,1}}\n",
    "\\,\\, - \\,\\,\n",
    "\\frac{c}{m^{\\,2}} \\, \\sum_{\\,k\\,=\\,1}^{\\,m\\,T} \\! \\frac{k}{\\left(\\,1 + \\frac{y}{m}\\,\\right)^{k\\,+\\,1}} \n",
    "\\,\\, \\color{red}{< \\,\\, 0} }$$\n",
    "\n",
    "\n",
    "<br/>\n",
    "\n",
    "###### Is the bond price vs yield curve convex or concave ?\n",
    "\n",
    "It is convex. Any line segment joining two points of the $\\,B \\left(\\,y\\,\\right)\\,$ function lies above the function.\n",
    "\n",
    "$$\\displaystyle{\n",
    "\\color{red}{ \\frac{\\partial^{\\,2} B}{\\partial\\,y^{\\,2}} } \n",
    "\\,\\, = \\,\\,\n",
    "\\frac{N\\,T \\left(\\,T + \\frac{1}{m}\\,\\right)}{\\left(\\,1 + \\frac{y}{m}\\,\\right)^{m\\,T\\,+\\,2}}\n",
    "\\,\\, + \\,\\,\n",
    "\\frac{c}{m^{\\,3}} \\, \\sum_{\\,k\\,=\\,1}^{\\,m\\,T} \\! \\frac{k\\left(k+1\\right)}{\\left(\\,1 + \\frac{y}{m}\\,\\right)^{k\\,+\\,2}} \n",
    "\\,\\, \\color{red}{> \\,\\, 0} }$$"
   ]
  },
  {
   "cell_type": "code",
   "execution_count": 7,
   "id": "0d89e37b",
   "metadata": {},
   "outputs": [],
   "source": [
    "import numpy as np\n",
    "from matplotlib import pyplot as plt\n",
    "\n",
    "ALLOWED_YEARLY_FREQUENCIES_OF_COUPON_PAYMENT = [1, 2, 3, 4, 6, 12]\n",
    "BOND_FACE_VALUE = 100.0\n",
    "BOND_DURATION_IN_YEARS = 20.0  # number of years from the start to the maturity of the bond\n",
    "COUPON_PAYMENT_FREQUENCY = 2\n",
    "PLOT_MARKERSIZE = 2\n",
    "BOND_PRICER_USES = ['pv', 'slope', 'duration']\n",
    "\n",
    "\n",
    "def bond_pricer(yearly_coupon_percent=None, coupon_payment_frequency=None, zero_rates=None, use='pv'):\n",
    "    \"\"\"\n",
    "    Generalized bond pricer\n",
    "    . yearly_coupon_percent: % coupon paid annually\n",
    "    . coupon_payment_frequency: how many times per year is a coupon paid, at each payment it is coupon % / frequency\n",
    "    . zero_rates: the list of zero coupon rates on the coupon payment dates\n",
    "\n",
    "    Note:\n",
    "    . The first value in zero_rates is the zero coupon rate for the first coupon payment day.\n",
    "    . The bond matures at  length(zero_rates) / coupon_payment_frequency  year(s) from its start.\n",
    "\n",
    "    Available uses:\n",
    "    . pv:  B(y) = Bond price at start date as a function of the bond's yield\n",
    "    . slope:  partial B(y) / partial y\n",
    "    \"\"\"\n",
    "    assert coupon_payment_frequency in ALLOWED_YEARLY_FREQUENCIES_OF_COUPON_PAYMENT, \\\n",
    "        f'This coupon payment frequency is not available: {coupon_payment_frequency}'\n",
    "    assert isinstance(zero_rates, list) and len(zero_rates) and all(isinstance(r, float) for r in zero_rates), \\\n",
    "        '\"zero_rates\" should be a non-empty list of floats'\n",
    "    assert use in BOND_PRICER_USES, 'Bond pricer can be used for: ' + ', '.join(BOND_PRICER_USES)\n",
    "    \n",
    "    # --- calculate bond price ---\n",
    "    # discount factor from the date of maturity to the start date\n",
    "    discount_factor = (1.0 + zero_rates[-1] / coupon_payment_frequency) ** (- 1.0 - len(zero_rates))\n",
    "    # present value of notional paid at maturity\n",
    "    bond_pv = BOND_FACE_VALUE * discount_factor\n",
    "    # adding the PVs of the coupon payments, note that 'enumerate' starts the numbering from 0, not 1\n",
    "    yearly_coupon = BOND_FACE_VALUE * yearly_coupon_percent / 100.0\n",
    "    one_coupon_payment = yearly_coupon / coupon_payment_frequency\n",
    "    for index_of_coupon_payment_time, zero_rate in enumerate(zero_rates):\n",
    "        discount_factor = (1.0 + zero_rate / coupon_payment_frequency) ** (- 1.0 - index_of_coupon_payment_time)\n",
    "        bond_pv += discount_factor * one_coupon_payment\n",
    "\n",
    "    if use == 'pv':\n",
    "        return bond_pv\n",
    "    elif use == 'slope':\n",
    "        # --- calculate dB / dy ---\n",
    "        # partial derivative of the PV of the final notional payment\n",
    "        dB_over_dy = ((-1.0) * BOND_FACE_VALUE * BOND_DURATION_IN_YEARS \n",
    "                      / (1.0 + zero_rate / coupon_payment_frequency)\n",
    "                        ** (coupon_payment_frequency * BOND_DURATION_IN_YEARS + 2))\n",
    "        # adding partial derivatives of the PVs of coupon payments\n",
    "        for index_of_coupon_payment_time, zero_rate in enumerate(zero_rates):\n",
    "            dB_over_dy -= (yearly_coupon / coupon_payment_frequency ** 2\n",
    "                           * (index_of_coupon_payment_time + 1)\n",
    "                           / (1.0 + zero_rate / coupon_payment_frequency) ** (2.0 + index_of_coupon_payment_time))\n",
    "        return dB_over_dy        \n",
    "    else:\n",
    "        return None"
   ]
  },
  {
   "cell_type": "code",
   "execution_count": 22,
   "id": "7399d34c",
   "metadata": {},
   "outputs": [
    {
     "data": {
      "image/png": "[encoded data removed]",
      "text/plain": [
       "<Figure size 504x360 with 1 Axes>"
      ]
     },
     "metadata": {
      "needs_background": "light"
     },
     "output_type": "display_data"
    }
   ],
   "source": [
    "def plot_bond_price_vs_bond_yield():\n",
    "    \"\"\"Plot bond price vs bond yield\"\"\"\n",
    "\n",
    "    # --- settings ---\n",
    "    bond_yields = np.arange(-0.03, 0.10, 0.005)\n",
    "    fontsize = 14  # font size for the text of the current plot\n",
    "    coupons_symbols = [(4.0, 'b-', True), (0.0, 'c-', False), (-2.0, 'm-', False)]\n",
    "    \n",
    "    # --- calculating the price as a function of the yield and plotting for several coupon percent values ---\n",
    "    for coupon_percent, symbol, note in coupons_symbols:    \n",
    "        bond_prices = []\n",
    "        for bond_yield in bond_yields:\n",
    "            coupon_payment_frequency = COUPON_PAYMENT_FREQUENCY\n",
    "            zero_rates = [bond_yield] * int(BOND_DURATION_IN_YEARS * coupon_payment_frequency)\n",
    "            pv = bond_pricer(yearly_coupon_percent=coupon_percent, zero_rates=zero_rates,\n",
    "                             coupon_payment_frequency=coupon_payment_frequency, use='pv')\n",
    "            bond_prices.append(pv)\n",
    "\n",
    "        # --- plotting ---\n",
    "        plt.plot(bond_yields, bond_prices, symbol, markersize=PLOT_MARKERSIZE,\n",
    "                 label=('Coupon = ' if note else '') + f'{coupon_percent:.0f}%')\n",
    "\n",
    "    plt.grid(color='gray', linestyle=':', linewidth=1)\n",
    "    plt.title('Bond Price vs Bond Yield for different coupons', fontsize=fontsize)\n",
    "    plt.xlabel('Bond Yield', fontsize=fontsize)\n",
    "    plt.ylabel('Bond Price (Face Value = 100)', fontsize=fontsize)\n",
    "    plt.xlim(right=0.1)\n",
    "    plt.legend(bbox_to_anchor=(.99, .97), loc=1, borderaxespad=0., fontsize=fontsize, markerfirst=False, frameon=False)\n",
    "    xtick_values = plt.xticks()[0][1:-1]\n",
    "    plt.xticks(xtick_values, [str(round(100 * value)) + '%' for value in xtick_values], fontsize=fontsize)\n",
    "    plt.yticks(fontsize=fontsize)\n",
    "\n",
    "    fig = plt.gcf()\n",
    "    fig.set_size_inches([7, 5])\n",
    "    plt.show()\n",
    "\n",
    "\n",
    "plot_bond_price_vs_bond_yield()"
   ]
  },
  {
   "cell_type": "markdown",
   "id": "369004a7",
   "metadata": {},
   "source": [
    "## Bond Duration"
   ]
  },
  {
   "cell_type": "markdown",
   "id": "d0e239b2",
   "metadata": {},
   "source": [
    "### Time to get money back\n",
    "\n",
    "How long does it take to get the initially paid amount back.\n",
    "\n",
    "###### Example\n",
    "\n",
    "Consider a $\\,T\\,$ year zero coupon bond starting today with face value $\\,N\\,$ and PV below the face value.\n",
    "<br/>\n",
    "Alice purchases now this bond bond, and she will receive back her currently paid PV amount of money at the time of maturity.\n",
    "<br/>\n",
    "So the duration of this bond is its time to maturity.\n",
    "\n",
    "###### Comment\n",
    "\n",
    "If the risk-free rate for time $\\,T\\,$ is $\\,r\\,$, then a ZCB (zero coupon bond) with face value $\\,N\\,$ has the current PV of $\\,B=N\\,e^{\\,-\\,r\\,T}\\,$.\n",
    "\n",
    "If the rate changes, then the `relative rate of change` of the ZCB's PV will be\n",
    "$\\,\\displaystyle{\\,\\frac{1}{B}\\,\\frac{\\partial\\,B\\left(\\,r\\,\\right)}{\\partial\\,r}\\,\n",
    "=\\,\\frac{-\\,T\\,N\\,e^{\\,-\\,r\\,T}}{N\\,e^{\\,-\\,r\\,T}}\n",
    "=\\,-\\,\\frac{1}{T}}\\,$."
   ]
  },
  {
   "cell_type": "markdown",
   "id": "b38d8687",
   "metadata": {},
   "source": [
    "### Sensitivity to changing rate\n",
    "\n",
    "###### Question\n",
    "\n",
    "  * At what *rate* does the bond price drop when the yield grows by a very small amount ?\n",
    "\n",
    "  * In other words, what is the slope of the linear approximation of a bond's price as a function of its yield ?\n",
    "\n",
    "\n",
    "###### Answer (leading to the definition)\n",
    "\n",
    "  * Recall (from above) that a bond's yield and its price change in the opposite direction, so the line's slope will be negative.\n",
    "\n",
    "  * So to obtain the bond's duration,\n",
    "     <br/>1, multiply the slope with $\\,-1\\,$, and then\n",
    "     <br/>2, normalize this value with the bond's current price.\n",
    "\n",
    "\n",
    "###### Math Definition\n",
    "\n",
    "  As a function of a bond's yield, $\\,y\\,$, and the bond's price, $\\,B\\left(\\,y\\,\\right)\\,$, the `bond's duration` is\n",
    "$\\,\\displaystyle{D = - \\,\\frac{1}{B}\\,\\frac{\\partial\\,B\\left(\\,y\\,\\right)}{\\partial\\,y}}\\,$.\n",
    "  \n",
    "\n",
    "###### Connection with the relative rate of change of the ZCB's PV when the rate changes\n",
    "\n",
    "The bond yield (by its definition) is that particular zero coupon rate \n",
    "<br/>\n",
    "that makes the sum of the discounted values of the bond's future cash flows\n",
    "<br/>\n",
    "equal to the bond's current market value (in other words: PV).\n",
    "\n",
    "\n",
    "\n",
    "###### Calculation\n"
   ]
  },
  {
   "cell_type": "code",
   "execution_count": 20,
   "id": "814b3042",
   "metadata": {
    "scrolled": true
   },
   "outputs": [
    {
     "data": {
      "image/png": "[encoded data removed]",
      "text/plain": [
       "<Figure size 504x360 with 1 Axes>"
      ]
     },
     "metadata": {
      "needs_background": "light"
     },
     "output_type": "display_data"
    }
   ],
   "source": [
    "import numpy as np\n",
    "\n",
    "SELECTED_YIELD = 0.01  # draw line tangent to the curve at this yield value\n",
    "\n",
    "\n",
    "def plot_bond_duration_approximation():\n",
    "    \"\"\"\n",
    "    Plot a single bond price vs yield curve,\n",
    "    and a tangent line showing the linear approximation at the point of tangency\n",
    "    \"\"\"\n",
    "    \n",
    "    # --- settings ---\n",
    "    bond_yields = np.arange(-0.03, 0.10, 0.005)  # yield values for which the price should be calculated\n",
    "    tangent_yield_min_max = [-0.025, 0.05]  # yield end points of the tangent line\n",
    "    fontsize = 14  # font size for the text of the current plot\n",
    "    coupon_percent = 4.0\n",
    "    symbol = 'b-'\n",
    "    tangent_line_symbol = 'g--'\n",
    "\n",
    "    # --- calculating the price as a function of the yield ---\n",
    "    bond_prices = []\n",
    "    for bond_yield in bond_yields:\n",
    "        coupon_payment_frequency = COUPON_PAYMENT_FREQUENCY\n",
    "        zero_rates = [bond_yield] * int(BOND_DURATION_IN_YEARS * coupon_payment_frequency)\n",
    "        pv = bond_pricer(yearly_coupon_percent=coupon_percent, zero_rates=zero_rates,\n",
    "                         coupon_payment_frequency=coupon_payment_frequency, use='pv')\n",
    "        bond_prices.append(pv)\n",
    "\n",
    "    zero_rates = [SELECTED_YIELD] * int(BOND_DURATION_IN_YEARS * coupon_payment_frequency)\n",
    "    price_at_selected_yield = bond_pricer(yearly_coupon_percent=coupon_percent, zero_rates=zero_rates,\n",
    "                                          coupon_payment_frequency=COUPON_PAYMENT_FREQUENCY, use='pv')\n",
    "    slope = bond_pricer(yearly_coupon_percent=coupon_percent, zero_rates=zero_rates,\n",
    "                        coupon_payment_frequency=COUPON_PAYMENT_FREQUENCY, use='slope')\n",
    "    tangent_price_end_points = [price_at_selected_yield + slope * (bond_yield - SELECTED_YIELD)\n",
    "                                for bond_yield in tangent_yield_min_max]\n",
    "    \n",
    "    # --- plotting ---\n",
    "    plt.grid(color='gray', linestyle=':', linewidth=1)\n",
    "    plt.plot(bond_yields, bond_prices, symbol, markersize=PLOT_MARKERSIZE, label='Bond Price')\n",
    "    plt.plot(tangent_yield_min_max, tangent_price_end_points, tangent_line_symbol,\n",
    "             label='Linear approximation')\n",
    "    plt.title('Bond Price vs Bond Yield and tangent line', fontsize=fontsize)\n",
    "    plt.xlabel('Bond Yield', fontsize=fontsize)\n",
    "    plt.ylabel('Bond Price (Face Value = 100)', fontsize=fontsize)\n",
    "    plt.plot([SELECTED_YIELD], [price_at_selected_yield],\n",
    "             color='black', marker='o', linewidth=0, markersize=10, fillstyle='none', markeredgewidth=2)\n",
    "    plt.legend(bbox_to_anchor=(.99, .97), loc=1, borderaxespad=0., fontsize=fontsize, markerfirst=False, frameon=False)\n",
    "\n",
    "    fig = plt.gcf()\n",
    "    fig.set_size_inches([7, 5])\n",
    "    plt.show()\n",
    "\n",
    "\n",
    "plot_bond_duration_approximation()"
   ]
  },
  {
   "cell_type": "markdown",
   "id": "0bb75535",
   "metadata": {},
   "source": [
    "###### Note\n",
    "\n",
    "The bond price vs bond yield curve is convex.\n",
    "\n",
    "In other words, the linear approximation always underestimates the price."
   ]
  },
  {
   "cell_type": "markdown",
   "id": "d7bd57d6",
   "metadata": {},
   "source": [
    "## Macaulay duration\n",
    "\n",
    "<span style=\"color:red;background-color:yellow;font-weight:bold;\">TODO: clarify connection between duration, modified duration, Macaulay duration</span>"
   ]
  },
  {
   "cell_type": "markdown",
   "id": "8c5a3ca5",
   "metadata": {},
   "source": [
    "## Bond pricing with Bootstrapping\n",
    "\n",
    "<span style=\"color:red;background-color:yellow;font-weight:bold;\">TODO</span>"
   ]
  }
 ],
 "metadata": {
  "kernelspec": {
   "display_name": "Python 3 (ipykernel)",
   "language": "python",
   "name": "python3"
  },
  "language_info": {
   "codemirror_mode": {
    "name": "ipython",
    "version": 3
   },
   "file_extension": ".py",
   "mimetype": "text/x-python",
   "name": "python",
   "nbconvert_exporter": "python",
   "pygments_lexer": "ipython3",
   "version": "3.10.4"
  },
  "toc": {
   "base_numbering": 1,
   "nav_menu": {},
   "number_sections": true,
   "sideBar": true,
   "skip_h1_title": false,
   "title_cell": "Table of Contents",
   "title_sidebar": "Contents",
   "toc_cell": false,
   "toc_position": {
    "height": "calc(100% - 180px)",
    "left": "10px",
    "top": "150px",
    "width": "282.24px"
   },
   "toc_section_display": true,
   "toc_window_display": true
  }
 },
 "nbformat": 4,
 "nbformat_minor": 5
}
