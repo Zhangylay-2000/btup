{
 "cells": [
  {
   "cell_type": "markdown",
   "metadata": {},
   "source": [
    "## Coding projects"
   ]
  },
  {
   "cell_type": "markdown",
   "metadata": {},
   "source": [
    "### B.A.M. − Commodities value − Apr 20\n",
    "Please calculate the difference between the 3-month USD Treasury Constant Maturity Rate (https://fred.stlouisfed.org/series/DGS3MO) and the annualized return over the same 3-month periods for home values in 2 or 3 selected US geographical locations (https://www.zillow.com/research/data/). Please compare the high and low values of these difference curves to changes in the economy."
   ]
  },
  {
   "cell_type": "markdown",
   "metadata": {},
   "source": [
    "### B.B. − American option pricing − Apr 13\n",
    "\n",
    "1. Assume that you know the drift and volatility of a stock.\n",
    "\n",
    "2. For the next year (250 business days), generate a path of the stock.\n",
    "\n",
    "3. Write a function that uses the drift, the volatility, and $\\,100\\,$ such paths,<br/>and outputs the expected value of an American call option on this stock."
   ]
  },
  {
   "cell_type": "markdown",
   "metadata": {},
   "source": [
    "### G.A. − May 18\n",
    "\n",
    "Comparing investment performance measures."
   ]
  },
  {
   "cell_type": "markdown",
   "metadata": {},
   "source": [
    "### K.V. − Apr 27\n",
    "\n",
    "MC simulation for put-call pricing."
   ]
  },
  {
   "cell_type": "markdown",
   "metadata": {},
   "source": [
    "### L.Gy. − May 11\n",
    "\n",
    "Limitations of the Efficient Market Hypothesis"
   ]
  },
  {
   "cell_type": "markdown",
   "metadata": {},
   "source": [
    "### P.D. − Butterfly option − Apr 27\n",
    "\n",
    "Pricing a `long butterfly option` with the binomial tree model:\n",
    "* coding the price calculation with the binomial tree model\n",
    "* plotting the price of the option as a function of the time to maturity, $\\,T\\,$,\n",
    "* plotting $\\,\\Theta\\,$ as a function of $\\,T\\,$."
   ]
  },
  {
   "cell_type": "markdown",
   "metadata": {},
   "source": [
    "### T.A. − May 25\n",
    "\n",
    "Generate $\\,N=1000\\,$ instances of a modeled stock price $\\,S\\left(t=0\\dots 1\\right)\\,$ with the `generalized_wiener_discrete_approximation` function defined in notebook 5. With these $\\,1000\\,$ lists of $\\,S\\left(t\\right)\\,$ values, calculate the price $\\,P\\,$ of an ATM European put option. Now increase the volatility of the underlying by $\\,0.2\\%\\,$ and calculate the same $\\,P\\,$ price. Calculate the price also when sigma is increased by $\\,0.4\\%\\,$, $\\,0.6\\%\\,$, $\\,0.8\\%\\,$ and $\\,1\\%\\,$ compared to its original value. Based on these 6 numerical results $-$ the price at the original $\\,\\sigma\\,$, and the price at the five other volatilities $-$ what is the $\\,\\nu\\,$ (the vega) of the option?"
   ]
  },
  {
   "cell_type": "markdown",
   "metadata": {},
   "source": [
    "### T.M. − Trinomial tree − Apr 27\n",
    "\n",
    "Pricing a European and an American put option with the trinomial tree model."
   ]
  },
  {
   "cell_type": "markdown",
   "metadata": {},
   "source": [
    "## Reading projects"
   ]
  },
  {
   "cell_type": "markdown",
   "metadata": {},
   "source": [
    "### A.B. − May 11\n",
    "\n",
    "Connecting the Greeks"
   ]
  },
  {
   "cell_type": "markdown",
   "metadata": {},
   "source": [
    "### B.D.Z. − VaR − May 04\n",
    "\n",
    "Dowd Ch 2.2 Value at Risk and 2.3 Coherent Risk Measures"
   ]
  },
  {
   "cell_type": "markdown",
   "metadata": {},
   "source": [
    "### T.Á. − RiskMetrics − Apr 20\n",
    "The RiskMetrics method - Allen Chapter 2.2.4"
   ]
  },
  {
   "cell_type": "markdown",
   "metadata": {},
   "source": [
    "### T.V. − FVA − May 04\n",
    "\n",
    "FVA with brief introduction to CVA / DVA / FVA."
   ]
  }
 ],
 "metadata": {
  "kernelspec": {
   "display_name": "Python 3",
   "language": "python",
   "name": "python3"
  },
  "language_info": {
   "codemirror_mode": {
    "name": "ipython",
    "version": 3
   },
   "file_extension": ".py",
   "mimetype": "text/x-python",
   "name": "python",
   "nbconvert_exporter": "python",
   "pygments_lexer": "ipython3",
   "version": "3.9.5"
  },
  "toc": {
   "base_numbering": 1,
   "nav_menu": {},
   "number_sections": true,
   "sideBar": true,
   "skip_h1_title": false,
   "title_cell": "Table of Contents",
   "title_sidebar": "Contents",
   "toc_cell": false,
   "toc_position": {
    "height": "calc(100% - 180px)",
    "left": "10px",
    "top": "150px",
    "width": "219px"
   },
   "toc_section_display": true,
   "toc_window_display": true
  }
 },
 "nbformat": 4,
 "nbformat_minor": 4
}
