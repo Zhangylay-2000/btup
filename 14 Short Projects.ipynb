{
 "cells": [
  {
   "cell_type": "markdown",
   "metadata": {},
   "source": [
    "## Coding projects\n",
    "    \n",
    "### B.A.M. − Commodities value\n",
    "1. Find free data for property values by year. [Here is one suggested data source with documentation](https://web.archive.org/web/20201030030447/https://www.state.nj.us/treasury/taxation/lpt/TaxListSearchPublicWebpage.shtml).\n",
    "\n",
    "2. Calculate and plot the (a) percent growth Year-On-Year (b) yearly percent growth for the entire duration.\n",
    "\n",
    "### B.B. − American option pricing\n",
    "\n",
    "1. Assume that you know the drift and volatility of a stock.\n",
    "\n",
    "2. For the next year (250 business days), generate a path of the stock.\n",
    "\n",
    "3. Write a function that uses the drift, the volatility, and $\\,100\\,$ such paths,<br/>and outputs the expected value of an American call option on this stock.\n",
    "\n",
    "### F.G. − Shifted autocorrelations\n",
    "\n",
    "1. Calculate and plot the shifted autocorrelation (shift = 1, 2, 3, ...) of MSFT with daily, monthly, and yearly log returns.\n",
    "\n",
    "2. Calculate the same also for TSLA.\n",
    "\n",
    "3. Plot the similarities and differences among the results for these two stocks.\n",
    "\n",
    "### G.A.\n",
    "\n",
    "Comparing investment performance measures.\n",
    "\n",
    "### L.Gy.\n",
    "\n",
    "asked for topic **− needs reply**\n",
    "\n",
    "### P.D. − Butterfly option\n",
    "\n",
    "Pricing a `long butterfly option` with the binomial tree model:\n",
    "* coding the price calculation with the binomial tree model\n",
    "* plotting the price of the option as a function of the time to maturity, $\\,T\\,$,\n",
    "* plotting $\\,\\Theta\\,$ as a function of $\\,T\\,$.\n",
    "\n",
    "\n",
    "### T.M.\n",
    "\n",
    "Pricing a European and an American call option with the trinomial tree model.\n"
   ]
  },
  {
   "cell_type": "markdown",
   "metadata": {},
   "source": [
    "## Reading projects\n",
    "\n",
    "### A.B. \n",
    "\n",
    "LTCM − (a) intro, (b) rise, (c) fall, (d) consequences.\n",
    "\n",
    "### B.D.Z. \n",
    "\n",
    "Dowd Ch 2.2 Value at Risk and 2.3 Coherent Risk Measures\n",
    "\n",
    "### T.Á. − RiskMetrics method\n",
    "The RiskMetrics method - Allen Chapter 2.2.4\n",
    "\n",
    "### T.V. \n",
    "\n",
    "FVA with brief introduction to CVA / DVA / FVA.\n",
    "\n",
    "\n"
   ]
  }
 ],
 "metadata": {
  "kernelspec": {
   "display_name": "Python 3",
   "language": "python",
   "name": "python3"
  },
  "language_info": {
   "codemirror_mode": {
    "name": "ipython",
    "version": 3
   },
   "file_extension": ".py",
   "mimetype": "text/x-python",
   "name": "python",
   "nbconvert_exporter": "python",
   "pygments_lexer": "ipython3",
   "version": "3.8.5"
  },
  "toc": {
   "base_numbering": 1,
   "nav_menu": {},
   "number_sections": true,
   "sideBar": true,
   "skip_h1_title": false,
   "title_cell": "Table of Contents",
   "title_sidebar": "Contents",
   "toc_cell": false,
   "toc_position": {},
   "toc_section_display": true,
   "toc_window_display": false
  }
 },
 "nbformat": 4,
 "nbformat_minor": 4
}
