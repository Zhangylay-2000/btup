{
 "cells": [
  {
   "cell_type": "markdown",
   "id": "f594b53c",
   "metadata": {},
   "source": [
    "## Spring 2022"
   ]
  },
  {
   "cell_type": "code",
   "execution_count": 26,
   "id": "4510b9aa",
   "metadata": {},
   "outputs": [
    {
     "name": "stdout",
     "output_type": "stream",
     "text": [
      "[2, 0, 1, 3]\n"
     ]
    }
   ],
   "source": [
    "# Mate, Oliver, Kristof, Daniel\n",
    "\n",
    "from numpy import random\n",
    "N = 4\n",
    "my_list = [x for x in range(N)]\n",
    "random.shuffle(my_list)\n",
    "print(my_list)"
   ]
  },
  {
   "cell_type": "markdown",
   "id": "2efbfc6a",
   "metadata": {},
   "source": [
    "### May-23\n",
    "\n",
    "1. If the quarterly forward rate is known for each starting date, then what is the 1Y discount factor ?\n",
    "\n",
    "2. What is the difference between the short rate and the instantaneous forward rate ?\n",
    "\n",
    "3. What is the difference between the two mutual fund theorem and the one mutual fund theorem ?\n",
    "\n",
    "4. Define and calculate the three parameters of the 1-step binomial tree.\n",
    "\n",
    "5. Define the differential form of the Ito process and show the modeled underlier's rate of change in this definition.\n",
    "\n",
    "6. Calculate the vega (also called $\\,\\kappa$) of the Black-Scholes-Merton price of a call option (eur, no dividends). \n",
    "\n",
    "7. Calculate the $\\,\\rho\\,$ of the Black-Scholes-Merton price of a call option (eur, no divid).\n",
    "\n",
    "8. Explain the relationship between a self-financing portfolio and hedging (for example, delta hedging)."
   ]
  },
  {
   "cell_type": "markdown",
   "id": "def43d8e",
   "metadata": {},
   "source": [
    "### May-16\n",
    "\n",
    "* If the 2y discount factor is $\\,P\\left(\\,0,\\,2\\,\\right)\\,$, then what is the equivalent simple rate ?\n",
    "* If the current yield curve is $\\,Y\\left(\\,t\\,\\right)\\,$, then what is the PV of 20 payments, each 1 unit of currency, paid at 1, 2, $\\,\\dots\\,$, 20 years from now ? \n",
    "* If the yield curve is flat, then what is the instantaneous forward rate ?\n",
    "* If the continuous rate is $\\,r\\left(\\,t\\,\\right)\\,$, then what is the 3-year discount factor ? \n",
    "* What is the difference between the parabolic EF and the hyperbolic EF of the MPT ?\n",
    "* Is there a lower bound on the risk-free return in the MPT ?\n",
    "* How do you apply the MPT to portfolio selection ?\n",
    "* What is the main difference between the MPT and the CAPM ?\n",
    "* What is the difference between the CML and the SML ?\n",
    "* How do you determine the value of an asset based on its position relative to the SML ?\n",
    "* Calculate a call option's $\\,\\Theta\\,$ from its Black-Scholes-Merton price.\n",
    "* Which one has a higher excess kurtosis: the uniform distribution or a triangular distribution ?"
   ]
  },
  {
   "cell_type": "markdown",
   "id": "70d75aa4",
   "metadata": {},
   "source": [
    "### May-09\n",
    "\n",
    "* How does the price of a call option change (European call option a non-dividend-paying underlying stock),\n",
    "<br/>\n",
    "if the spot of the underlying stock and the strike are multiplied by the same number ?\n",
    "<br/>\n",
    "Help: use the Black-Scholes formula for the price of the call option.\n",
    "\n",
    "\n",
    "* Based on the price of a European call option and the put-call parity,\n",
    "<br/>\n",
    "calculate the price of a European put option with the same parameters.\n",
    "<br/>\n",
    "Help: use the Black-Scholes call option price, the forward price and the put-call parity.\n",
    "\n",
    "\n",
    "* Consider the function $\\,N\\left(x\\right)\\,$ in the Black-Scholes price of the call option. What is the function $\\,N'\\!\\left(x\\right)\\,$? \n",
    "\n",
    "\n",
    "* Define the unconditional probability of default, the conditional probability of default,\n",
    "<br/>\n",
    "the conditional rate of default, and the default intensity function (also called hazard rate).\n",
    "\n",
    "\n",
    "* What are the three parameters of the binomial tree model and how are they determined ?"
   ]
  },
  {
   "cell_type": "markdown",
   "id": "f7d20aa2",
   "metadata": {},
   "source": [
    "### May-02\n",
    "\n",
    "\n",
    "* If you know the CDF, then what is the PDF ?\n",
    "\n",
    "\n",
    "* What is the difference between self-similar and self-affine ?\n",
    "\n",
    "\n",
    "* What is the Hurst exponent ?\n",
    "\n",
    "\n",
    "* Please name the coefficient of $\\,dt\\,$ and the coefficient of $\\,dz\\,$ that are used to define the Ito process.\n",
    "\n",
    "\n",
    "* What are the two choices at a node when pricing an American option with the binomial tree ?\n",
    "\n",
    "\n",
    "* What property of the Security Market Line is the market risk premium ?"
   ]
  },
  {
   "cell_type": "markdown",
   "id": "3a142e6a",
   "metadata": {},
   "source": [
    "### Apr-25\n",
    "\n",
    "* Explain how a growing volatility of the underlier with a positive risk-free rate changes the value of the call option.\n",
    "\n",
    "\n",
    "* If the risk-free rate is $\\,r<0\\,$ and the volatility is $\\,\\sigma\\gg |r|\\,$, then how does time to maturity influence the value of a call option ?\n",
    "\n",
    "\n",
    "* How does volatility change the value of a portolio containing an ATM put + an ATM call (same underlier and maturity) ?<br/>By the way, you're analyzing a [straddle](https://www.investopedia.com/terms/s/straddle.asp).\n",
    "\n",
    "\n",
    "* Which part of the underlier's daily log increment distribution affects a deep out of the money option's value ?\n",
    "\n",
    "\n",
    "* Prove that the `expected squared displacement`, $\\,\\big<\\left(\\sum_{i=1}^N x_i\\right)^2\\big>\\,$, of the symmetric $\\,x_i=\\pm 1\\,$ random walk is $\\,N\\,$.\n",
    "  * Note that taking the square root of this result gives for the root-mean-squared distance $\\,\\sqrt{<r^2>\\,}=\\sqrt{N\\,}\\,$."
   ]
  },
  {
   "cell_type": "markdown",
   "id": "fd7075c7",
   "metadata": {},
   "source": [
    "### Apr-11\n",
    "\n",
    "* What is the difference between the Sharpe ratio and the Sortino ratio ?\n",
    "\n",
    "* What is the difference between the risk-neutral pricing and a risk-free asset ?\n",
    "\n",
    "* If the current yield curve is a linear decreasing function, then\n",
    "\n",
    "  * What is the short rate as a function of time ?\n",
    "  * What does this mean (approximately) for the economy in general ?\n",
    "  \n",
    "* If the annualized percent yield is $\\,7\\%\\,$, then what is the Fair Value of an asset that will have 1 unit value 4.5 months from now ?\n",
    "\n",
    "* Explain graphically the put-call parity. Assume that the equality does not hold -- there is arbitrage -- and use this arbitrage."
   ]
  },
  {
   "cell_type": "markdown",
   "id": "d5407542",
   "metadata": {},
   "source": [
    "### Apr-04\n",
    "\n",
    "* Please define $\\,\\alpha\\,$ and $\\,\\beta\\,$, and explain them graphically, too.\n",
    "\n",
    "* How is risk quantified in the MPT and the CAPM ?\n",
    "\n",
    "* What is the two mutual fund theorem ?\n",
    "\n",
    "* What are the two types of Efficient Frontier discussed by the MPT ?\n",
    "\n",
    "* Please define the Lagrange method.\n",
    "\n",
    "* If the survival function decreases linearly, then what is the hazard function ?\n"
   ]
  },
  {
   "cell_type": "markdown",
   "id": "eede49b3",
   "metadata": {},
   "source": [
    "### Mar-28\n",
    "\n",
    "* If the annualized rate with monthly compounding is $\\,6\\%\\,$, then what is the annualized percent yield ?\n",
    "\n",
    "* With a constant forward rate $\\,f\\left(\\,t\\,\\right)=f_0\\,$ what is the 1-year discount factor ?\n",
    "\n",
    "* With a constant hazard function $\\,h\\left(\\,t\\,\\right)=h_0\\,$ what is the 1-year probability of survival ?\n",
    "\n",
    "* Knowing $\\,f_0\\,$ and $\\,h_0\\,$, what is the expectation value of the amount you receive at 6M for 1 unit invested now ?\n",
    "\n",
    "* What is the key difference between the MPT and the CAPM ?"
   ]
  },
  {
   "cell_type": "markdown",
   "id": "fecefd28",
   "metadata": {},
   "source": [
    "### Mar-21\n",
    "\n",
    "* If you know the 1M$\\rightarrow$2M forward rate and the 2M$\\rightarrow$3M forward rate, and the simple rate for 3M, then what is the 1M discount factor ?\n",
    "\n",
    "* What is the functional form of the efficient frontier of risky assets on the expected return vs. variance plane ?\n",
    "\n",
    "* What is the difference between the instantaneous spot rate and the short rate ?\n",
    "\n",
    "* Define the instantaneous forward rate using the discount factor.\n",
    "\n",
    "* If the quoted rate (with semi-annual compounding) is $\\,11\\%\\,$, then what is the annualized percent yield ?"
   ]
  },
  {
   "cell_type": "markdown",
   "id": "60c24235",
   "metadata": {},
   "source": [
    "### Mar-07\n",
    "\n",
    "* What is the difference between the conditional and the (unconditional) probability of default ?\n",
    "\n",
    "* What is the $\\,\\Delta t\\to 0\\,$ limiting case of the conditional rate of default ?\n",
    "\n",
    "* Which assumptions is the Efficient Markets Hypothesis (EMH) built on ?\n",
    "\n",
    "* Which two quantities are connected by the Modern Portfolio Theory (MPT) ?\n",
    "\n",
    "* On the plane of these two quantities what is the shape of the Efficient Frontier of risky assets ?"
   ]
  },
  {
   "cell_type": "markdown",
   "id": "75632c66",
   "metadata": {},
   "source": [
    "### Feb-28\n",
    "\n",
    "* Write down the **definition of the forward rate** compactly using both text and mathematical symbols.\n",
    "\n",
    "* What is the difference between `short rate` and `spot rate` ?\n",
    "\n",
    "* If the **constant short rate** is $\\,r\\,$ then what is the equivalent **quarterly compounded 1 year** rate ?"
   ]
  },
  {
   "cell_type": "markdown",
   "id": "0ecc759e",
   "metadata": {},
   "source": [
    "### Feb-20\n",
    "\n",
    "* Please write down the **definition of the discount factor** in 1 or 2 sentences using both text (human words) and mathematical symbols.\n",
    "\n",
    "* What is the difference between `spot` and `instantaneous` ?\n",
    "\n",
    "* If you know the 3M$\\rightarrow$6M and the 6M$\\rightarrow$1Y forward rates, and the simple rate for 1Y, then what is the 3M discount factor ?"
   ]
  }
 ],
 "metadata": {
  "kernelspec": {
   "display_name": "Python 3 (ipykernel)",
   "language": "python",
   "name": "python3"
  },
  "language_info": {
   "codemirror_mode": {
    "name": "ipython",
    "version": 3
   },
   "file_extension": ".py",
   "mimetype": "text/x-python",
   "name": "python",
   "nbconvert_exporter": "python",
   "pygments_lexer": "ipython3",
   "version": "3.10.4"
  },
  "toc": {
   "base_numbering": 1,
   "nav_menu": {},
   "number_sections": true,
   "sideBar": true,
   "skip_h1_title": false,
   "title_cell": "Table of Contents",
   "title_sidebar": "Contents",
   "toc_cell": false,
   "toc_position": {
    "height": "calc(100% - 180px)",
    "left": "10px",
    "top": "150px",
    "width": "165px"
   },
   "toc_section_display": true,
   "toc_window_display": false
  }
 },
 "nbformat": 4,
 "nbformat_minor": 5
}
