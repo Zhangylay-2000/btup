{
 "cells": [
  {
   "cell_type": "markdown",
   "metadata": {},
   "source": [
    "## Exercises"
   ]
  },
  {
   "cell_type": "markdown",
   "metadata": {},
   "source": [
    "### Discounting, Present Value"
   ]
  },
  {
   "cell_type": "markdown",
   "metadata": {},
   "source": [
    "### Forward rates\n",
    "\n",
    "1. If the $\\,\\mathrm{3Y}\\,$ bond pays $\\,4\\%\\,$, and the $\\,\\mathrm{5Y}\\,$ bond pays $\\,4.5\\%\\,$, then is the $\\,\\mathrm{3Y}\\to\\mathrm{5Y}\\,$ forward rate $\\,0.5\\%\\,$?<br/>\n",
    "`Help:` use the definitions to calculate the forward rate.\n",
    "\n",
    "\n",
    "2. If $\\,N\\,$ and $\\,k\\,$ are positive integers, the simple rate is known for the tenors $\\,1\\,,\\,2\\,,\\,\\dots\\,N\\,,$\n",
    "<br/>and $\\,0\\le t\\le N-k\\,$, then what is the forward rate $\\,F\\left(\\,t,\\,t+k\\,\\right)\\,$ ?<br/>\n",
    "`Help:` with $\\,T=t+1\\,$ use the definitions to calculate first $\\,P\\left(\\,t,\\,T\\,\\right)\\,$,\n",
    "and then $\\,F\\left(\\,t,\\,t+1\\,\\right)\\,$.\n",
    "\n",
    "\n",
    "3. If the simple rate is a known differentiable $\\,L\\left(\\,t\\,\\right)\\,$ function, then what is the instantaneous forward rate ?<br/>`Help:` with $\\,T=t+dt\\,$ use the definitions to calculate first $\\,P\\left(\\,t,\\,T\\,\\right)\\,$, and then $\\,f\\left(\\,t\\,\\right)\\,$."
   ]
  },
  {
   "cell_type": "markdown",
   "metadata": {},
   "source": [
    "### Derivative pricing \n",
    "\n",
    "1. How does the price of a call option change, if the spot and the strike are multiplied by the same number ?\n",
    "\n",
    "\n",
    "2. Based on the price of the call option and the put-call parity, calculate the price of the put option with the same parameters.\n",
    "\n",
    "\n",
    "3. Calculate and plot the $\\,\\Delta\\,$ of a call option based on the Black-Scholes formula."
   ]
  },
  {
   "cell_type": "markdown",
   "metadata": {},
   "source": [
    "## Coding projects\n",
    "\n",
    "(B.A.M.)\n",
    "1. Find free data for property value by year. Calculate and plot the\n",
    "  * percent growth Year-On-Year\n",
    "  * yearly percent growth for entire duration.\n",
    "  \n",
    "(T.V.)\n",
    "\n",
    "(B.D.Z.)"
   ]
  }
 ],
 "metadata": {
  "kernelspec": {
   "display_name": "Python 3",
   "language": "python",
   "name": "python3"
  },
  "language_info": {
   "codemirror_mode": {
    "name": "ipython",
    "version": 3
   },
   "file_extension": ".py",
   "mimetype": "text/x-python",
   "name": "python",
   "nbconvert_exporter": "python",
   "pygments_lexer": "ipython3",
   "version": "3.8.5"
  },
  "toc": {
   "base_numbering": 1,
   "nav_menu": {},
   "number_sections": true,
   "sideBar": true,
   "skip_h1_title": false,
   "title_cell": "Table of Contents",
   "title_sidebar": "Contents",
   "toc_cell": false,
   "toc_position": {},
   "toc_section_display": true,
   "toc_window_display": true
  }
 },
 "nbformat": 4,
 "nbformat_minor": 4
}
