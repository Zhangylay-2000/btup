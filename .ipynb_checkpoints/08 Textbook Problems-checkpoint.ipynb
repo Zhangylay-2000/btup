{
 "cells": [
  {
   "cell_type": "markdown",
   "metadata": {},
   "source": [
    "## Exercises"
   ]
  },
  {
   "cell_type": "markdown",
   "metadata": {},
   "source": [
    "### Discounting, Present Value"
   ]
  },
  {
   "cell_type": "markdown",
   "metadata": {},
   "source": [
    "### Forward rates\n",
    "\n",
    "1. If the $\\,\\mathrm{3Y}\\,$ bond pays $\\,4\\%\\,$, and the $\\,\\mathrm{5Y}\\,$ bond pays $\\,4.5\\%\\,$, then is the $\\,\\mathrm{3Y}\\to\\mathrm{5Y}\\,$ forward rate $\\,0.5\\%\\,$?<br/>\n",
    "Please explain your answer with a calculation.\n",
    "  \n",
    "  \n",
    "2. If the simple rate is a known $\\,L\\left(\\,t\\,\\right)\\,$ function, then what is the instantaneous forward rate ?\n",
    "<br/>Help: with $\\,T=t+dt\\,$ use the definitions to calculate first $\\,P\\left(\\,t,\\,T\\,\\right)\\,$, and then $\\,f\\left(\\,t\\,\\right)\\,$."
   ]
  },
  {
   "cell_type": "markdown",
   "metadata": {},
   "source": [
    "### Derivative pricing "
   ]
  }
 ],
 "metadata": {
  "kernelspec": {
   "display_name": "Python 3",
   "language": "python",
   "name": "python3"
  },
  "language_info": {
   "codemirror_mode": {
    "name": "ipython",
    "version": 3
   },
   "file_extension": ".py",
   "mimetype": "text/x-python",
   "name": "python",
   "nbconvert_exporter": "python",
   "pygments_lexer": "ipython3",
   "version": "3.8.5"
  },
  "toc": {
   "base_numbering": 1,
   "nav_menu": {},
   "number_sections": true,
   "sideBar": true,
   "skip_h1_title": false,
   "title_cell": "Table of Contents",
   "title_sidebar": "Contents",
   "toc_cell": false,
   "toc_position": {},
   "toc_section_display": true,
   "toc_window_display": true
  }
 },
 "nbformat": 4,
 "nbformat_minor": 4
}
