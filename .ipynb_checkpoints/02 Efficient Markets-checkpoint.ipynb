{
 "cells": [
  {
   "cell_type": "markdown",
   "metadata": {},
   "source": [
    "## Before you start: Data download\n",
    "1. Please go to https://www.kaggle.com/tencars/392-crypto-currency-pairs-at-minute-resolution.\n",
    "2. Download into the current directory (the same directory as this .ipynb notebook file) the data files for ethbtc, btcusd and ethusd.<br/>Save these zipped files with the following names: ethbtc.csv.zip, btcusd.csv.zip and ethusd.csv.zip. "
   ]
  },
  {
   "cell_type": "markdown",
   "metadata": {},
   "source": [
    "## Arbitrage\n",
    "<b>Simple practical case</b><br/>\n",
    "Making profit by buying and selling the same thing.\n",
    "\n",
    "<b>Generalized theoretical definition</b><br/>\n",
    "Making profit by changing your portfolio one full circle along a closed directed path of portfolio change steps."
   ]
  },
  {
   "cell_type": "markdown",
   "metadata": {},
   "source": [
    "### Questions on Arbitrage\n",
    "(A) With minute-resolution [exchange rate data](https://www.kaggle.com/tencars/392-crypto-currency-pairs-at-minute-resolution) plot the time series \n",
    "$\\,A\\,(\\,t\\,)=\\displaystyle{\\frac{\\mathrm{ETH}\\,/\\,\\mathrm{BTC} \\cdot \\mathrm{BTC}\\,/\\,\\mathrm{USD}}{\\mathrm{ETH}\\,/\\,\\mathrm{USD}}}\\,$. <br/>\n",
    "(B) Plot also the total volume, $\\,V(\\,t\\,)\\,$, of the three pairs, and compare it to $\\,A\\,(\\,t\\,)\\,$."
   ]
  },
  {
   "cell_type": "markdown",
   "metadata": {},
   "source": [
    "#### Answer"
   ]
  },
  {
   "cell_type": "code",
   "execution_count": 1,
   "metadata": {},
   "outputs": [
    {
     "data": {
      "image/png": "[encoded data removed]",
      "text/plain": [
       "<Figure size 432x288 with 1 Axes>"
      ]
     },
     "metadata": {
      "needs_background": "light"
     },
     "output_type": "display_data"
    }
   ],
   "source": [
    "import pandas as pd\n",
    "import matplotlib.pyplot as plt\n",
    "import numpy as np\n",
    "\n",
    "# --- data: reading and transformations ---\n",
    "# FX (exchange rates): read three dataframes\n",
    "fx = {pair: pd.read_csv(pair + '.csv.zip') for pair in ('ethbtc', 'btcusd', 'ethusd')}\n",
    "\n",
    "# tag each data column name with the name of the currency pair\n",
    "def mapping(columns, tag):\n",
    "    return {col: col if col == 'time' else tag + '_' + col for col in columns}\n",
    "\n",
    "[df.rename(columns = mapping(df.columns, pair), inplace=True) for pair, df in fx.items()]\n",
    "\n",
    "# fxm (fx merged): merge dataframes based on the 'time' column\n",
    "fxm = fx['ethbtc'].merge(fx['btcusd'], on='time').merge(fx['ethusd'], on='time')\n",
    "\n",
    "# arbitrage opportunity testing\n",
    "A = fxm['ethbtc_close'] * fxm['btcusd_close'] / fxm['ethusd_close']\n",
    "\n",
    "# --- plotting ---\n",
    "my_fontsize = 14 # font size for the text of the current plot\n",
    "plt.axhline(0, c = 'gray', ls = 'dotted') # horizontal zero axis, dotted\n",
    "plt.plot(np.log10(A), '.', markersize = 3)\n",
    "plt.title(\"Log10 return of BTC > ETH > USD > BTC\\nexchange steps based on minute close values\", fontsize = my_fontsize)\n",
    "plt.xlabel('Time', fontsize = my_fontsize)\n",
    "ax = plt.gca() # gca: get current axes\n",
    "ax.set_xticks([0, len(fxm['time'])])\n",
    "ax.set_xticklabels(['2016-03-12','2020-06-07'], fontsize = my_fontsize)\n",
    "ax.set_yticks([-0.1, -0.05, 0, 0.05])\n",
    "ax.set_yticklabels([str(y) for y in [-0.1, -0.05, 0, 0.05]], fontsize = my_fontsize)\n",
    "plt.show()"
   ]
  },
  {
   "cell_type": "markdown",
   "metadata": {},
   "source": [
    "## Efficient market hypothesis (EMH)\n",
    "<b>Theoretical definition</b><br/>\n",
    "All information is instantaneously available to everyone, and from the this info everyone makes the same conclusions,<br/>\n",
    "therefore, in the long time limit there is no active trading strategy that has positive expected profit.\n",
    "\n",
    "<b>Practical definition</b><br/>\n",
    "The market has many well informed participants acting sufficiently quantitatively to remove arbitrage opportunities quickly.\n",
    "\n",
    "<b>Short form</b><br/>\n",
    "There's no free lunch."
   ]
  },
  {
   "cell_type": "markdown",
   "metadata": {},
   "source": [
    "### Testing the EMH by self-comparison"
   ]
  },
  {
   "cell_type": "markdown",
   "metadata": {},
   "source": [
    "#### Correlation with previous step \n",
    "CDF of asset 1-step corr"
   ]
  },
  {
   "cell_type": "markdown",
   "metadata": {},
   "source": [
    "#### Few previous steps\n",
    "Candlestick pattern significance"
   ]
  },
  {
   "cell_type": "markdown",
   "metadata": {},
   "source": [
    "#### Several previous steps\n",
    "Trend lines "
   ]
  },
  {
   "cell_type": "markdown",
   "metadata": {},
   "source": [
    "#### Many previous steps\n",
    "Long-term memory, ML"
   ]
  },
  {
   "cell_type": "markdown",
   "metadata": {},
   "source": [
    "### Testing the EMH among assets"
   ]
  },
  {
   "cell_type": "markdown",
   "metadata": {},
   "source": [
    "#### Correlation with previous values\n",
    "CDF of n-step corr values for n = 1, 5, 20 (business days)"
   ]
  },
  {
   "cell_type": "markdown",
   "metadata": {},
   "source": [
    "## Modern Portfolio Theory (MPT)\n",
    "also called: Markowitz Portfolio Theory\n",
    "\n",
    "algebraic derivation"
   ]
  },
  {
   "cell_type": "markdown",
   "metadata": {},
   "source": [
    "## Capital Asset Pricing Model (CAPM)"
   ]
  },
  {
   "cell_type": "markdown",
   "metadata": {},
   "source": [
    "## Suggested further items\n",
    "Investopedia - Efficient Market Hypothesis - https://www.investopedia.com/terms/e/efficientmarkethypothesis.asp"
   ]
  }
 ],
 "metadata": {
  "kernelspec": {
   "display_name": "Python 3",
   "language": "python",
   "name": "python3"
  },
  "language_info": {
   "codemirror_mode": {
    "name": "ipython",
    "version": 3
   },
   "file_extension": ".py",
   "mimetype": "text/x-python",
   "name": "python",
   "nbconvert_exporter": "python",
   "pygments_lexer": "ipython3",
   "version": "3.8.3"
  },
  "toc": {
   "base_numbering": 1,
   "nav_menu": {},
   "number_sections": true,
   "sideBar": true,
   "skip_h1_title": false,
   "title_cell": "Table of Contents",
   "title_sidebar": "Contents",
   "toc_cell": false,
   "toc_position": {},
   "toc_section_display": true,
   "toc_window_display": true
  }
 },
 "nbformat": 4,
 "nbformat_minor": 4
}
