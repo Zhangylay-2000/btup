{
 "cells": [
  {
   "cell_type": "markdown",
   "metadata": {},
   "source": [
    "## Arbitrage"
   ]
  },
  {
   "cell_type": "markdown",
   "metadata": {},
   "source": [
    "### Definition\n",
    "<b>Simple practical case</b><br/>\n",
    "Making profit by buying and selling the same thing.\n",
    "\n",
    "<b>Generalized theoretical definition</b><br/>\n",
    "Making profit by changing your portfolio one full circle along a closed directed path of portfolio change steps."
   ]
  },
  {
   "cell_type": "markdown",
   "metadata": {},
   "source": [
    "### Download cryptocurrency exchange rates\n",
    "1. Please go to https://www.kaggle.com/tencars/392-crypto-currency-pairs-at-minute-resolution.\n",
    "2. Download into the current directory (the same directory as this .ipynb notebook file) the data files for ethbtc, btcusd and ethusd.<br/>Save these zipped files with the following names: ethbtc.csv.zip, btcusd.csv.zip and ethusd.csv.zip. "
   ]
  },
  {
   "cell_type": "markdown",
   "metadata": {},
   "source": [
    "### Question on Arbitrage\n",
    "Without fees and expenses, what is the expected relative amount one can make by exchanging three currencies in a row ?\n",
    "\n",
    "Let's denote the BTC vs USD exchange rate by $\\,\\mathrm{BTC}\\,/\\,\\mathrm{USD}\\,$.\n",
    "\n",
    "With the minute-resolution exchange rate data that you downloaded plot the time series \n",
    "$\\,\\log_{10}A\\,(\\,t\\,)=\\displaystyle{\\frac{\\mathrm{ETH}\\,/\\,\\mathrm{BTC} \\cdot \\mathrm{BTC}\\,/\\,\\mathrm{USD}}{\\mathrm{ETH}\\,/\\,\\mathrm{USD}}}\\,$.\n",
    "\n",
    "In a perfect world what would you expect this number to be ?"
   ]
  },
  {
   "cell_type": "markdown",
   "metadata": {},
   "source": [
    "#### Answer"
   ]
  },
  {
   "cell_type": "code",
   "execution_count": 36,
   "metadata": {},
   "outputs": [],
   "source": [
    "import pandas as pd\n",
    "import matplotlib.pyplot as plt\n",
    "import numpy as np\n",
    "\n",
    "# --- data: reading and transformations ---\n",
    "# FX (exchange rates): read three dataframes\n",
    "fx = {pair: pd.read_csv(pair + '.csv.zip') for pair in ('ethbtc', 'btcusd', 'ethusd')}\n",
    "\n",
    "# tag each data column name with the name of the currency pair\n",
    "def column_name_mapping(columns, tag):\n",
    "    return {col: col if col == 'time' else tag + '_' + col for col in columns}\n",
    "\n",
    "[df.rename(columns = column_name_mapping(df.columns, pair), inplace=True) for pair, df in fx.items()]\n",
    "\n",
    "# fxm (fx merged): merge dataframes based on the 'time' column\n",
    "fxm = fx['ethbtc'].merge(fx['btcusd'], on='time').merge(fx['ethusd'], on='time')\n",
    "\n",
    "# arbitrage opportunity testing\n",
    "A = fxm['ethbtc_close'] * fxm['btcusd_close'] / fxm['ethusd_close']"
   ]
  },
  {
   "cell_type": "code",
   "execution_count": 45,
   "metadata": {},
   "outputs": [
    {
     "data": {
      "image/png": "[encoded data removed]",
      "text/plain": [
       "<Figure size 504x360 with 1 Axes>"
      ]
     },
     "metadata": {
      "needs_background": "light"
     },
     "output_type": "display_data"
    }
   ],
   "source": [
    "# --- plotting ---\n",
    "my_fontsize = 14  # font size for the text of the current plot\n",
    "yticks = [-0.1, -0.05, 0, 0.05]\n",
    "\n",
    "plt.plot(np.log10(A), 'g.', markersize=3)\n",
    "plt.title(\"Log10 return of BTC > ETH > USD > BTC\\nexchange steps based on minute close rates\", fontsize=my_fontsize)\n",
    "plt.xlabel('Time', fontsize=my_fontsize)\n",
    "ax = plt.gca()\n",
    "ax.set_xticks([0, len(fxm['time'])])\n",
    "ax.set_xticklabels(['2016-03-12','2020-06-07'], fontsize = my_fontsize)\n",
    "ax.set_yticks(yticks)\n",
    "ax.set_yticklabels([str(_).replace('-', '- ') for _ in yticks], fontsize = my_fontsize)\n",
    "plt.axhline(0, c='r', ls='dotted')  # horizontal zero axis, dotted\n",
    "\n",
    "fig = plt.gcf()\n",
    "fig.set_size_inches([7, 5])\n",
    "plt.show()"
   ]
  },
  {
   "cell_type": "markdown",
   "metadata": {},
   "source": [
    "## Efficient market hypothesis (EMH)\n",
    "<b>Theoretical definition</b><br/>\n",
    "All information is instantaneously available to everyone, and from this information everyone makes the same conclusions.<br/>Therefore, in the long time limit there is no active trading strategy that has positive expected profit above the risk-free rate.\n",
    "\n",
    "<b>Practical definition</b><br/>\n",
    "Arbitrage opportunities are removed quickly, because the market has many well-informed participants who act quite rationally."
   ]
  },
  {
   "cell_type": "markdown",
   "metadata": {},
   "source": [
    "## Modern Portfolio Theory (MPT)\n",
    "* also called: Markowitz Portfolio Theory\n",
    "\n",
    "* definitions\n",
    "* algebraic derivation\n",
    "  * Lagrange multiplier\n",
    "  * derivation\n",
    "  * plot result\n",
    "\n",
    "* compare to data"
   ]
  },
  {
   "cell_type": "markdown",
   "metadata": {},
   "source": [
    "## Capital Asset Pricing Model (CAPM)\n",
    "\n",
    "* definitions\n",
    "* compare to MPT\n",
    "\n",
    "* compare to data"
   ]
  },
  {
   "cell_type": "markdown",
   "metadata": {},
   "source": [
    "## Suggested further items\n",
    "Investopedia - Efficient Market Hypothesis - https://www.investopedia.com/terms/e/efficientmarkethypothesis.asp"
   ]
  }
 ],
 "metadata": {
  "kernelspec": {
   "display_name": "Python 3",
   "language": "python",
   "name": "python3"
  },
  "language_info": {
   "codemirror_mode": {
    "name": "ipython",
    "version": 3
   },
   "file_extension": ".py",
   "mimetype": "text/x-python",
   "name": "python",
   "nbconvert_exporter": "python",
   "pygments_lexer": "ipython3",
   "version": "3.8.3"
  },
  "toc": {
   "base_numbering": 1,
   "nav_menu": {},
   "number_sections": true,
   "sideBar": true,
   "skip_h1_title": false,
   "title_cell": "Table of Contents",
   "title_sidebar": "Contents",
   "toc_cell": false,
   "toc_position": {},
   "toc_section_display": true,
   "toc_window_display": true
  }
 },
 "nbformat": 4,
 "nbformat_minor": 4
}
