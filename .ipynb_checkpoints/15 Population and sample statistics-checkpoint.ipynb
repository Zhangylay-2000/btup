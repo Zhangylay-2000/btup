{
 "cells": [
  {
   "cell_type": "markdown",
   "metadata": {},
   "source": [
    "todo: Binom visualize, Poisson, Normal, Lognormal\n",
    "\n",
    "todo: include examples\n",
    "\n",
    "todo: Chi-squared, Student’s t-distribution, F-distribution\n",
    "\n",
    "todo: ref Miller\n",
    "\n",
    "todo: CLT proof"
   ]
  },
  {
   "cell_type": "markdown",
   "metadata": {},
   "source": [
    "# Introduction"
   ]
  },
  {
   "cell_type": "markdown",
   "metadata": {},
   "source": [
    "## From Uniform to Poisson"
   ]
  },
  {
   "cell_type": "markdown",
   "metadata": {},
   "source": [
    "###### Question\n",
    "What is the simplest possible distribution?\n",
    "\n",
    "### Uniform distribution\n",
    "For the <u>continuous</u> random variable $\\,x\\,$ the probability density function is\n",
    "\n",
    "$\\displaystyle{\n",
    "  p\\,\\left(\\,x\\,\\right)=\\begin{cases}\n",
    "    \\frac{1}{b\\,-\\,a}, & \\text{if $a\\lt x\\lt b$}\\,,\\\\\n",
    "    0 & \\text{otherwise}\\,.\n",
    "  \\end{cases}\n",
    "}$"
   ]
  },
  {
   "cell_type": "markdown",
   "metadata": {},
   "source": [
    "###### Question\n",
    "\n",
    "With $\\,a=0\\,$ and $\\,b=1\\,$ what is the probability for the uniformly distributed random variable to be above a selected threshold ?\n",
    "\n",
    "###### Answer\n",
    "\n",
    "If the threshold is $\\,0\\le p\\le 1\\,$, then the probability for the variable to be above this threshold is $\\,1-p\\,$.\n",
    "\n",
    "### Bernoulli distribution\n",
    "For the <u>discrete</u> random variable $\\,X\\,$ the parameter $\\,0<p<1\\,$ defines the following probabilities:\n",
    "\n",
    "$\\displaystyle{P\\left(\\,X=1\\,\\right)=p \\,\\,\\,\\, \\mathrm{and} \\,\\,\\,\\, P\\left(\\,X=0\\,\\right)=1-p}\\,$."
   ]
  },
  {
   "cell_type": "markdown",
   "metadata": {},
   "source": [
    "###### Question\n",
    "\n",
    "What is the distribution of the sum of $\\,n\\,$ Bernoulli distributed random variables ?\n",
    "\n",
    "### Binomial distribution\n",
    "For the <u>discrete</u> random variable $\\,X\\,$\n",
    "the parameters $\\,0<p<1\\,$ and $\\,n=0,\\,1,\\,\\dots\\,$ define this\n",
    "probability of the value $\\,0\\le k\\le n\\,$:\n",
    "\n",
    "$(1)\\,\\,\\,\\displaystyle{P_{Binom}\\left(\\,X=k\\,\\right)=\\left(n\\atop k\\right)p^{\\,k}\\,\\left(1-p\\right)^{\\,n-k}}\\,$."
   ]
  },
  {
   "cell_type": "markdown",
   "metadata": {},
   "source": [
    "###### Question\n",
    "\n",
    "How does the binomial distribution look in the $\\,n\\to\\infty\\,,\\,\\,p\\,n=\\lambda=\\mathrm{const.}>0\\,$ limit ?\n",
    "\n",
    "###### Answer\n",
    "\n",
    "With $\\,p=\\lambda\\,\\mathit{/}\\,n\\,$ the above $\\,(1)\\,$ is equivalent to the following:\n",
    "\n",
    "$(2)\\,\\,\\,\\displaystyle{P_{Binom}\\left(\\,X=k\\,\\right)=\n",
    "\\left(n\\atop k\\right)\\,\\,\\lambda^{\\,k}\\,\\,n^{\\,-k}\\,\\left(1-\\frac{\\lambda}{n}\\right)^{n}\\left(1-\\frac{\\lambda}{n}\\right)^{-k}}\\,$.\n",
    "\n",
    "For any fixed $\\,k\\,$ and $\\,\\lambda\\,$ on the right hand side of $\\,(2)\\,$<br/>\n",
    ". the second term is the constant $\\,\\color{red}{\\lambda^{\\,k}}\\,$,<br/>\n",
    ". the fourth term converges to $\\,\\color{red}{e^{\\,-\\lambda}}\\,$,<br/>\n",
    ". and the last term converges to $\\,\\color{red}{1}\\,$.\n",
    "\n",
    "The product of the first and the third terms of $\\,(2)\\,$ is\n",
    "\n",
    "$(3)\\,\\,\\,\\displaystyle{\\left(n\\atop k\\right)\\,n^{\\,-k}=\n",
    "\\frac{n!}{k!\\,\\left(n-k\\right)!\\,\\,n^{\\,k}}=\n",
    "\\frac{1}{k!}\\,\\frac{\\left(n-k+1\\right)\\,\\left(n-k+2\\right)\\,\\cdots\\,\\left(n-1\\right)\\,n}{n^{\\,k}}=\n",
    "\\color{red}{\\frac{1}{k!}}\\prod_{i=0}^{k-1}\\frac{n-i}{n}}\\,$.\n",
    "\n",
    "At the last step of $\\,(3)\\,$ the product is\n",
    "\n",
    "$(4)\\,\\,\\,\\displaystyle{\\prod_{i=0}^{k-1}\\frac{n-i}{n}\n",
    "=\\prod_{i=0}^{k-1}\\left(1-\\frac{i}{n}\\right)\n",
    ">\\left(1-\\frac{k}{n}\\right)^k\n",
    "}\\,$.\n",
    "\n",
    "If $\\,n\\to\\infty\\,$, then for any fixed $\\,k\\,$ the last expression in $\\,(4)\\,$ converges to $\\,\\color{red}{1}\\,$.\n",
    "<br/>The product is below $\\,1\\,$ and its lower bound converges to $\\,1\\,$, so the product converges to $\\,1\\,$ as well.\n",
    "\n",
    "In summary, if $\\,k\\,$ and $\\,\\lambda\\,$ are fixed, then \n",
    "$-$ according to $\\,(2)\\,$, $\\,(3)\\,$ and $\\,(4)\\,$ $-$<br/>\n",
    "in the $\\,n\\to\\infty\\,$ limit the binomial distribution converges to \n",
    "$\\,\\color{red}{\\lambda^{\\,k}\\,e^{\\,-\\lambda}\\,1\\,\\frac{1}{k!}\\,1}\\,$, which is shown in $\\,(5)\\,$.\n",
    "\n",
    "### Poisson distribution\n",
    "For the <u>discrete</u> random variable $\\,X\\,$ the parameter $\\,0<\\lambda\\,$ defines the following probability of the value $\\,k\\ge 0\\,$:\n",
    "\n",
    "$(5)\\,\\,\\,\\displaystyle{P\\left(\\,X=k\\,\\right)=e^{-\\lambda}\\,\\frac{\\lambda^k}{k!}}\\,$."
   ]
  },
  {
   "cell_type": "markdown",
   "metadata": {},
   "source": [
    "## Central Limit Theorem (CLT)"
   ]
  },
  {
   "cell_type": "markdown",
   "metadata": {},
   "source": [
    "## From Gauss to F"
   ]
  }
 ],
 "metadata": {
  "kernelspec": {
   "display_name": "Python 3",
   "language": "python",
   "name": "python3"
  },
  "language_info": {
   "codemirror_mode": {
    "name": "ipython",
    "version": 3
   },
   "file_extension": ".py",
   "mimetype": "text/x-python",
   "name": "python",
   "nbconvert_exporter": "python",
   "pygments_lexer": "ipython3",
   "version": "3.9.5"
  },
  "toc": {
   "base_numbering": 1,
   "nav_menu": {},
   "number_sections": true,
   "sideBar": true,
   "skip_h1_title": false,
   "title_cell": "Table of Contents",
   "title_sidebar": "Contents",
   "toc_cell": false,
   "toc_position": {},
   "toc_section_display": true,
   "toc_window_display": true
  }
 },
 "nbformat": 4,
 "nbformat_minor": 4
}
