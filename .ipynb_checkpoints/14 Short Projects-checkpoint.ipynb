{
 "cells": [
  {
   "cell_type": "markdown",
   "metadata": {},
   "source": [
    "## Coding projects"
   ]
  },
  {
   "cell_type": "markdown",
   "metadata": {},
   "source": [
    "### B.A.M. − Commodities value − Apr 20\n",
    "Please calculate the difference between the 3-month USD Treasury Constant Maturity Rate (https://fred.stlouisfed.org/series/DGS3MO) and the annualized return over the same 3-month periods for home values in 2 or 3 selected US geographical locations (https://www.zillow.com/research/data/). Please compare the high and low values of these difference curves to changes in the economy."
   ]
  },
  {
   "cell_type": "markdown",
   "metadata": {},
   "source": [
    "### B.B. − American option pricing − Apr 13\n",
    "\n",
    "1. Assume that you know the drift and volatility of a stock.\n",
    "\n",
    "2. For the next year (250 business days), generate a path of the stock.\n",
    "\n",
    "3. Write a function that uses the drift, the volatility, and $\\,100\\,$ such paths,<br/>and outputs the expected value of an American call option on this stock."
   ]
  },
  {
   "cell_type": "markdown",
   "metadata": {},
   "source": [
    "### F.I. − Am and Eu call options − Apr 13\n",
    "\n",
    "#### Definitions\n",
    "\n",
    "`Intrinsic value:` Payoff if you exercised the option right now with the conditions listed in the contract for the exercise date.\n",
    "\n",
    "`Extrinsic value:` Current market price minus the intrinsic value. Its two major contributors are time value and (implied) volatility.<br/>\n",
    "Note: do not confuse the time value of money (discounting) and time value (option valuation).\n",
    "\n",
    "###### Comments to the definitions\n",
    "\n",
    "`Intrinsic value:` It is calculated at a selected time point before the exercise date, or maturity date, with the conditions written down in the contract for the exercise date. Please think about the meaning of applying the conditions meant for the exercise date to an earlier date.\n",
    "\n",
    "`Extrinsic value:` if from the current date to the exercise date we keep using the contractual conditions agreed upon for the exercise date, then how does the intrinsic value change from now until maturity.\n",
    "\n",
    "###### Example\n",
    "\n",
    "Consider a European call option a non-dividend paying stock. \n",
    "<br/>\n",
    "The strike of the option is $\\,50\\,$, the stock's current value is $\\,53\\,$, and the market price of the option is $\\,4\\,$.\n",
    "<br/>\n",
    "The intrinsic value of the option is $\\,53-50=3\\,$.\n",
    "<br/>\n",
    "The extrinsic value of the option is $\\,4-3=1\\,$."
   ]
  },
  {
   "cell_type": "markdown",
   "metadata": {},
   "source": [
    "### F.G. − Shifted autocorrelations\n",
    "\n",
    "1. Calculate and plot the shifted autocorrelation (shift = 1, 2, 3, ...) of MSFT with daily, monthly, and yearly log returns.\n",
    "\n",
    "2. Calculate the same also for TSLA.\n",
    "\n",
    "3. Plot the similarities and differences among the results for these two stocks."
   ]
  },
  {
   "cell_type": "markdown",
   "metadata": {},
   "source": [
    "### G.A. − Investment performance measures\n",
    "\n",
    "Comparing investment performance measures."
   ]
  },
  {
   "cell_type": "markdown",
   "metadata": {},
   "source": [
    "### K.V. − Apr 27\n",
    "\n",
    "MC simulation for put-call pricing."
   ]
  },
  {
   "cell_type": "markdown",
   "metadata": {},
   "source": [
    "### L.Gy. − May 11\n",
    "\n",
    "Limitations of the Efficient Market Hypothesis"
   ]
  },
  {
   "cell_type": "markdown",
   "metadata": {},
   "source": [
    "### P.D. − Butterfly option − Apr 27\n",
    "\n",
    "Pricing a `long butterfly option` with the binomial tree model:\n",
    "* coding the price calculation with the binomial tree model\n",
    "* plotting the price of the option as a function of the time to maturity, $\\,T\\,$,\n",
    "* plotting $\\,\\Theta\\,$ as a function of $\\,T\\,$."
   ]
  },
  {
   "cell_type": "markdown",
   "metadata": {},
   "source": [
    "### T.A. − ? Risk\n",
    "\n",
    "**− discussing currently**"
   ]
  },
  {
   "cell_type": "markdown",
   "metadata": {},
   "source": [
    "### T.M. − Trinomial tree − Apr 27\n",
    "\n",
    "Pricing a European and an American put option with the trinomial tree model."
   ]
  },
  {
   "cell_type": "markdown",
   "metadata": {},
   "source": [
    "## Reading projects"
   ]
  },
  {
   "cell_type": "markdown",
   "metadata": {},
   "source": [
    "### A.B. − Apr 20\n",
    "\n",
    "Greeks"
   ]
  },
  {
   "cell_type": "markdown",
   "metadata": {},
   "source": [
    "### B.D.Z. − VaR\n",
    "\n",
    "Dowd Ch 2.2 Value at Risk and 2.3 Coherent Risk Measures"
   ]
  },
  {
   "cell_type": "markdown",
   "metadata": {},
   "source": [
    "### T.Á. − RiskMetrics − Apr 20\n",
    "The RiskMetrics method - Allen Chapter 2.2.4"
   ]
  },
  {
   "cell_type": "markdown",
   "metadata": {},
   "source": [
    "### T.V. − FVA − May 04\n",
    "\n",
    "FVA with brief introduction to CVA / DVA / FVA."
   ]
  }
 ],
 "metadata": {
  "kernelspec": {
   "display_name": "Python 3",
   "language": "python",
   "name": "python3"
  },
  "language_info": {
   "codemirror_mode": {
    "name": "ipython",
    "version": 3
   },
   "file_extension": ".py",
   "mimetype": "text/x-python",
   "name": "python",
   "nbconvert_exporter": "python",
   "pygments_lexer": "ipython3",
   "version": "3.8.5"
  },
  "toc": {
   "base_numbering": 1,
   "nav_menu": {},
   "number_sections": true,
   "sideBar": true,
   "skip_h1_title": false,
   "title_cell": "Table of Contents",
   "title_sidebar": "Contents",
   "toc_cell": false,
   "toc_position": {},
   "toc_section_display": true,
   "toc_window_display": true
  }
 },
 "nbformat": 4,
 "nbformat_minor": 4
}
