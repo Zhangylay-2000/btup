{
 "cells": [
  {
   "cell_type": "markdown",
   "metadata": {},
   "source": [
    "Binomial Tree Models\n",
    "\n",
    "1. Cox Ross Rubinstein (1979)\n",
    " \n",
    ". coin flipping analogy\n",
    "\n",
    ". variables\n",
    "\n",
    ". connecting the variables\n",
    "\n",
    ". limits of applicability\n",
    "\n",
    ". code 1-step, 2-step\n",
    "\n",
    ". concept for n-step, code\n",
    "\n",
    ". normalization\n",
    "\n",
    ". results\n",
    "\n",
    ". basic check with put-call parity\n",
    "\n",
    "2. Black Derman Toy (1990)\n",
    "\n",
    ". related case, rates also change"
   ]
  }
 ],
 "metadata": {
  "kernelspec": {
   "display_name": "Python 3",
   "language": "python",
   "name": "python3"
  },
  "language_info": {
   "codemirror_mode": {
    "name": "ipython",
    "version": 3
   },
   "file_extension": ".py",
   "mimetype": "text/x-python",
   "name": "python",
   "nbconvert_exporter": "python",
   "pygments_lexer": "ipython3",
   "version": "3.8.5"
  },
  "toc": {
   "base_numbering": 1,
   "nav_menu": {},
   "number_sections": true,
   "sideBar": true,
   "skip_h1_title": false,
   "title_cell": "Table of Contents",
   "title_sidebar": "Contents",
   "toc_cell": false,
   "toc_position": {},
   "toc_section_display": true,
   "toc_window_display": false
  }
 },
 "nbformat": 4,
 "nbformat_minor": 4
}
