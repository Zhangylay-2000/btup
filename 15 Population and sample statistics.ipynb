{
 "cells": [
  {
   "cell_type": "markdown",
   "metadata": {},
   "source": [
    "TODO: Complete intro, Chi-squared, Student’s t-distribution, F-distributions."
   ]
  },
  {
   "cell_type": "markdown",
   "metadata": {},
   "source": [
    "# Introduction"
   ]
  },
  {
   "cell_type": "markdown",
   "metadata": {},
   "source": [
    "## Basic distributions\n",
    "### Uniform distribution\n",
    "For the <u>continuous</u> random variable $\\,x\\,$ the probability density function is\n",
    "\n",
    "$\\displaystyle{\n",
    "  p\\,\\left(\\,x\\,\\right)=\\begin{cases}\n",
    "    \\frac{1}{b\\,-\\,a}, & \\text{if $a\\lt x\\lt b$}\\,,\\\\\n",
    "    0 & \\text{otherwise}\\,.\n",
    "  \\end{cases}\n",
    "}$\n",
    "\n",
    "###### Question\n",
    "\n",
    "With $\\,a=0\\,$ and $\\,b=1\\,$ what is the probability for the uniformly distributed random variable to be above a selected threshold?"
   ]
  },
  {
   "cell_type": "markdown",
   "metadata": {},
   "source": [
    "### Bernoulli distribution\n",
    "For the <u>discrete</u> random variable $\\,X\\,$ the parameter $\\,0<p<1\\,$ sets the following probabilities:\n",
    "\n",
    "$\\displaystyle{P\\left(\\,X=1\\,\\right)=p \\,\\,\\,\\, \\mathrm{and} \\,\\,\\,\\, P\\left(\\,X=0\\,\\right)=1-p}\\,$ . \n",
    "\n",
    "###### Question\n",
    "\n",
    "What is the distribution the sum of $\\,n\\,$ Bernoulli distributed random variables?"
   ]
  },
  {
   "cell_type": "markdown",
   "metadata": {},
   "source": [
    "### Binomial distribution\n"
   ]
  }
 ],
 "metadata": {
  "kernelspec": {
   "display_name": "Python 3",
   "language": "python",
   "name": "python3"
  },
  "language_info": {
   "codemirror_mode": {
    "name": "ipython",
    "version": 3
   },
   "file_extension": ".py",
   "mimetype": "text/x-python",
   "name": "python",
   "nbconvert_exporter": "python",
   "pygments_lexer": "ipython3",
   "version": "3.8.5"
  },
  "toc": {
   "base_numbering": 1,
   "nav_menu": {},
   "number_sections": true,
   "sideBar": true,
   "skip_h1_title": false,
   "title_cell": "Table of Contents",
   "title_sidebar": "Contents",
   "toc_cell": false,
   "toc_position": {},
   "toc_section_display": true,
   "toc_window_display": true
  }
 },
 "nbformat": 4,
 "nbformat_minor": 4
}
