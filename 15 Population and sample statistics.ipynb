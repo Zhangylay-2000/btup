{
 "cells": [
  {
   "cell_type": "markdown",
   "metadata": {},
   "source": [
    "todo: Binom visualize, Poisson, Normal, Lognormal\n",
    "\n",
    "todo: Chi-squared, Student’s t-distribution, F-distribution\n",
    "\n",
    "todo: ref Miller"
   ]
  },
  {
   "cell_type": "markdown",
   "metadata": {},
   "source": [
    "# Introduction"
   ]
  },
  {
   "cell_type": "markdown",
   "metadata": {},
   "source": [
    "## Distributions"
   ]
  },
  {
   "cell_type": "markdown",
   "metadata": {},
   "source": [
    "###### Question\n",
    "What is the simplest possible distribution?\n",
    "\n",
    "### Uniform distribution\n",
    "For the <u>continuous</u> random variable $\\,x\\,$ the probability density function is\n",
    "\n",
    "$\\displaystyle{\n",
    "  p\\,\\left(\\,x\\,\\right)=\\begin{cases}\n",
    "    \\frac{1}{b\\,-\\,a}, & \\text{if $a\\lt x\\lt b$}\\,,\\\\\n",
    "    0 & \\text{otherwise}\\,.\n",
    "  \\end{cases}\n",
    "}$"
   ]
  },
  {
   "cell_type": "markdown",
   "metadata": {},
   "source": [
    "###### Question\n",
    "\n",
    "With $\\,a=0\\,$ and $\\,b=1\\,$ what is the probability for the uniformly distributed random variable to be above a selected threshold?\n",
    "\n",
    "### Bernoulli distribution\n",
    "For the <u>discrete</u> random variable $\\,X\\,$ the parameter $\\,0<p<1\\,$ sets the following probabilities:\n",
    "\n",
    "$\\displaystyle{P\\left(\\,X=1\\,\\right)=p \\,\\,\\,\\, \\mathrm{and} \\,\\,\\,\\, P\\left(\\,X=0\\,\\right)=1-p}\\,$."
   ]
  },
  {
   "cell_type": "markdown",
   "metadata": {},
   "source": [
    "###### Question\n",
    "\n",
    "What is the distribution of the sum of $\\,n\\,$ Bernoulli distributed random variables?\n",
    "\n",
    "### Binomial distribution\n",
    "For the <u>discrete</u> random variable $\\,X\\,$ with the parameters $\\,0<p<1\\,$ and $\\,n=0,\\,1,\\,\\dots\\,$, the probability of the value $\\,0\\le k\\le n\\,$ is\n",
    "\n",
    "$\\displaystyle{P\\left(\\,X=k\\,\\right)=\\left(n\\atop k\\right)p^{\\,k}\\,\\left(1-p\\right)^{\\,n-k}}\\,$."
   ]
  }
 ],
 "metadata": {
  "kernelspec": {
   "display_name": "Python 3",
   "language": "python",
   "name": "python3"
  },
  "language_info": {
   "codemirror_mode": {
    "name": "ipython",
    "version": 3
   },
   "file_extension": ".py",
   "mimetype": "text/x-python",
   "name": "python",
   "nbconvert_exporter": "python",
   "pygments_lexer": "ipython3",
   "version": "3.8.5"
  },
  "toc": {
   "base_numbering": 1,
   "nav_menu": {},
   "number_sections": true,
   "sideBar": true,
   "skip_h1_title": false,
   "title_cell": "Table of Contents",
   "title_sidebar": "Contents",
   "toc_cell": false,
   "toc_position": {},
   "toc_section_display": true,
   "toc_window_display": true
  }
 },
 "nbformat": 4,
 "nbformat_minor": 4
}
